{
  "cells": [
    {
      "cell_type": "markdown",
      "id": "T6BeY23EjU0L",
      "metadata": {
        "id": "T6BeY23EjU0L"
      },
      "source": [
        "# Summer School on Biomedical Imaging with Deep Learning"
      ]
    },
    {
      "cell_type": "markdown",
      "id": "cgm9viPTP_dN",
      "metadata": {
        "id": "cgm9viPTP_dN"
      },
      "source": [
        "[![Open In Colab](https://colab.research.google.com/assets/colab-badge.svg)](https://colab.research.google.com/github/albarqounilab/BILD-Summer-School/blob/main/notebooks/day2/segmentation.ipynb)"
      ]
    },
    {
      "cell_type": "markdown",
      "id": "xY9NKCq8cO48",
      "metadata": {
        "id": "xY9NKCq8cO48"
      },
      "source": [
        "![alt_text](https://raw.githubusercontent.com/albarqounilab/BILD-Summer-School/refs/heads/main/images/helpers/notebook-banner.png)\n",
        "\n",
        "BILD 2025 is organized under the umbrella of the [Strategic Arab-German Network for Affordable and Democratized AI in Healthcare (SANAD)](https://albarqouni.github.io/funded/sanad/), uniting academic excellence and technological innovation across borders. This year’s edition is organized by the [Albarqouni Lab](https://albarqouni.github.io/) at the [University Hospital Bonn](https://www.ukbonn.de/) and the [University of Bonn](https://www.uni-bonn.de/en). We are proud to partner with leading institutions in the region—Lebanese American University, University of Tunis El Manar, and Duhok Polytechnic University — to deliver a truly international learning experience. Over five intensive days in Tunis, you will explore cutting-edge deep-learning techniques for medical imaging through expert lectures, hands-on labs, and collaborative case studies. Engage with peers and faculty from Germany, Lebanon, Iraq, and Tunisia as you develop practical skills in building and deploying AI models for real-world healthcare challenges. We look forward to an inspiring week of interdisciplinary exchange and the shared commitment to advancing affordable, life-saving AI in medicine.\n"
      ]
    },
    {
      "cell_type": "markdown",
      "id": "94feda68-7bfb-4d40-9eac-d15a4b301a17",
      "metadata": {
        "id": "94feda68-7bfb-4d40-9eac-d15a4b301a17"
      },
      "source": [
        "# Introduction to PyTorch\n",
        "## Introduction\n",
        "\n",
        "Welcome to our PyTorch tutorial for the Deep Learning course! The following notebook is meant to give a short introduction to PyTorch basics, and get you setup for writing your own neural networks. PyTorch is an open source machine learning framework that allows you to write your own neural networks and optimize them efficiently. However, PyTorch is not the only framework of its kind. Alternatives to PyTorch include TensorFlow, JAX and Caffe.\n",
        "\n",
        "\n",
        "We will use a set of standard libraries that are often used in machine learning projects. If you are running this notebook on Google Colab, all libraries should be pre-installed."
      ]
    },
    {
      "cell_type": "code",
      "execution_count": 2,
      "id": "c52ec87c",
      "metadata": {
        "colab": {
          "base_uri": "https://localhost:8080/"
        },
        "id": "c52ec87c",
        "outputId": "9d736119-2da4-4a22-df5f-33677479a1f6"
      },
      "outputs": [
        {
          "output_type": "stream",
          "name": "stderr",
          "text": [
            "/tmp/ipython-input-2271311397.py:11: DeprecationWarning: `set_matplotlib_formats` is deprecated since IPython 7.23, directly use `matplotlib_inline.backend_inline.set_matplotlib_formats()`\n",
            "  set_matplotlib_formats('svg', 'pdf') # For export\n"
          ]
        }
      ],
      "source": [
        "#@title Import Standard libraries\n",
        "import os\n",
        "import math\n",
        "import numpy as np\n",
        "import time\n",
        "\n",
        "## Imports for plotting\n",
        "import matplotlib.pyplot as plt\n",
        "%matplotlib inline\n",
        "from IPython.display import set_matplotlib_formats\n",
        "set_matplotlib_formats('svg', 'pdf') # For export\n",
        "from matplotlib.colors import to_rgba\n",
        "import seaborn as sns\n",
        "sns.set()\n",
        "\n",
        "## Progress bar\n",
        "from tqdm.notebook import tqdm"
      ]
    },
    {
      "cell_type": "markdown",
      "source": [
        "#The Basics of PyTorch\n",
        "\n",
        "We will start with reviewing the very basic concepts of PyTorch.\n",
        "\n",
        "So, let's start with importing PyTorch. The package is called `torch`, based on its original framework [Torch](http://torch.ch/). As a first step, we can check its version:"
      ],
      "metadata": {
        "id": "NDfeFjlu6Nc_"
      },
      "id": "NDfeFjlu6Nc_"
    },
    {
      "cell_type": "code",
      "execution_count": 4,
      "id": "76602e45",
      "metadata": {
        "id": "76602e45",
        "colab": {
          "base_uri": "https://localhost:8080/"
        },
        "outputId": "926ddea9-bd8c-46d4-eecf-af842b0a26e9"
      },
      "outputs": [
        {
          "output_type": "stream",
          "name": "stdout",
          "text": [
            "Using torch 2.6.0+cu124\n"
          ]
        }
      ],
      "source": [
        "import torch\n",
        "print(\"Using torch\", torch.__version__)"
      ]
    },
    {
      "cell_type": "markdown",
      "id": "6AfkQ7thVW4I",
      "metadata": {
        "id": "6AfkQ7thVW4I"
      },
      "source": [
        "As in every machine learning framework, PyTorch provides functions that are stochastic like generating random numbers. However, a very good practice is to setup your code to be reproducible with the exact same random numbers. This is why we set a seed below."
      ]
    },
    {
      "cell_type": "code",
      "execution_count": 4,
      "id": "sRqnHFtU1NwJ",
      "metadata": {
        "colab": {
          "base_uri": "https://localhost:8080/"
        },
        "id": "sRqnHFtU1NwJ",
        "outputId": "6e0c51da-3d1c-45cc-e149-dbc261175a58"
      },
      "outputs": [
        {
          "output_type": "execute_result",
          "data": {
            "text/plain": [
              "<torch._C.Generator at 0x7ef2d03d2fb0>"
            ]
          },
          "metadata": {},
          "execution_count": 4
        }
      ],
      "source": [
        "torch.manual_seed(42) # Setting the seed"
      ]
    },
    {
      "cell_type": "markdown",
      "source": [
        "### Tensors\n",
        "\n",
        "Tensors are the PyTorch equivalent to Numpy arrays, with the addition to also have support for GPU acceleration (more on that later).\n",
        "The name \"tensor\" is a generalization of concepts you already know. For instance, a vector is a 1-D tensor, and a matrix a 2-D tensor. When working with neural networks, we will use tensors of various shapes and number of dimensions.\n",
        "\n",
        "Most common functions you know from numpy can be used on tensors as well. Actually, since numpy arrays are so similar to tensors, we can convert most tensors to numpy arrays (and back) but we don't need it too often.\n",
        "\n",
        "#### Initialization\n",
        "\n",
        "Let's first start by looking at different ways of creating a tensor. There are many possible options, the simplest one is to call `torch.Tensor` passing the desired shape as input argument:"
      ],
      "metadata": {
        "id": "mrsAEY4O9hLT"
      },
      "id": "mrsAEY4O9hLT"
    },
    {
      "cell_type": "code",
      "execution_count": 5,
      "id": "TPeYNXhS5L76",
      "metadata": {
        "colab": {
          "base_uri": "https://localhost:8080/"
        },
        "id": "TPeYNXhS5L76",
        "outputId": "eb9a29d7-8872-4454-e0f9-5d17f0c5a85e"
      },
      "outputs": [
        {
          "output_type": "stream",
          "name": "stdout",
          "text": [
            "tensor([[[-2.9626e+33,  1.8999e-24,  4.0286e-15,  1.4862e-30],\n",
            "         [-4.5018e+31,  1.7383e-30,  4.1601e-31,  9.7002e-35],\n",
            "         [ 2.2046e-38, -1.7585e+29,  1.6890e-30, -6.3122e+32]],\n",
            "\n",
            "        [[ 7.2702e-27,  9.9381e-28,  1.0528e-21,  3.8713e+26],\n",
            "         [ 2.1633e-23,  2.3472e-03, -3.2309e+12,  3.2029e-36],\n",
            "         [-4.6973e-34,  4.7771e-25,  1.8176e-33,  4.1662e-25]]])\n"
          ]
        }
      ],
      "source": [
        "x = torch.Tensor(2, 3, 4)\n",
        "print(x)"
      ]
    },
    {
      "cell_type": "markdown",
      "id": "QqWn1V2m4Fwn",
      "metadata": {
        "id": "QqWn1V2m4Fwn"
      },
      "source": [
        "The function `torch.Tensor` allocates memory for the desired tensor, but reuses any values that have already been in the memory. To directly assign values to the tensor during initialization, there are many alternatives including:\n",
        "\n",
        "* `torch.zeros`: Creates a tensor filled with zeros\n",
        "* `torch.ones`: Creates a tensor filled with ones\n",
        "* `torch.rand`: Creates a tensor with random values uniformly sampled between 0 and 1\n",
        "* `torch.randn`: Creates a tensor with random values sampled from a normal distribution with mean 0 and variance 1\n",
        "* `torch.arange`: Creates a tensor containing the values $N,N+1,N+2,...,M$\n",
        "* `torch.Tensor` (input list): Creates a tensor from the list elements you provide"
      ]
    },
    {
      "cell_type": "code",
      "execution_count": 6,
      "id": "WbNTBQ36h1mr",
      "metadata": {
        "colab": {
          "base_uri": "https://localhost:8080/"
        },
        "id": "WbNTBQ36h1mr",
        "outputId": "8c050df6-d6df-44f5-af25-a6e4a834b421"
      },
      "outputs": [
        {
          "output_type": "stream",
          "name": "stdout",
          "text": [
            "tensor([[1., 2.],\n",
            "        [3., 4.]])\n"
          ]
        }
      ],
      "source": [
        "# Create a tensor from a (nested) list\n",
        "x = torch.Tensor([[1, 2], [3, 4]])\n",
        "print(x)"
      ]
    },
    {
      "cell_type": "code",
      "source": [
        "# Create a tensor with random values between 0 and 1 with the shape [2, 3, 4]\n",
        "x = torch.rand(2, 3, 4)\n",
        "print(x)"
      ],
      "metadata": {
        "id": "FY8SWJXy-VO9",
        "outputId": "dfccc434-3ecf-4a08-8c6a-644924333e4c",
        "colab": {
          "base_uri": "https://localhost:8080/"
        }
      },
      "id": "FY8SWJXy-VO9",
      "execution_count": 7,
      "outputs": [
        {
          "output_type": "stream",
          "name": "stdout",
          "text": [
            "tensor([[[0.8823, 0.9150, 0.3829, 0.9593],\n",
            "         [0.3904, 0.6009, 0.2566, 0.7936],\n",
            "         [0.9408, 0.1332, 0.9346, 0.5936]],\n",
            "\n",
            "        [[0.8694, 0.5677, 0.7411, 0.4294],\n",
            "         [0.8854, 0.5739, 0.2666, 0.6274],\n",
            "         [0.2696, 0.4414, 0.2969, 0.8317]]])\n"
          ]
        }
      ]
    },
    {
      "cell_type": "markdown",
      "id": "d5c2e929-8054-4e6c-bbb8-f7c9cef7f0c2",
      "metadata": {
        "id": "d5c2e929-8054-4e6c-bbb8-f7c9cef7f0c2"
      },
      "source": [
        "You can obtain the shape of a tensor in the same way as in numpy (`x.shape`), or using the `.size` method:"
      ]
    },
    {
      "cell_type": "code",
      "execution_count": 8,
      "id": "69b97c5d-9375-4aa7-a81f-f567357be11a",
      "metadata": {
        "colab": {
          "base_uri": "https://localhost:8080/"
        },
        "collapsed": true,
        "id": "69b97c5d-9375-4aa7-a81f-f567357be11a",
        "outputId": "7bc94a8a-7bd6-4165-fdb9-db181a2a7511"
      },
      "outputs": [
        {
          "output_type": "stream",
          "name": "stdout",
          "text": [
            "Shape: torch.Size([2, 3, 4])\n",
            "Size: torch.Size([2, 3, 4])\n",
            "Size: 2 3 4\n"
          ]
        }
      ],
      "source": [
        "shape = x.shape\n",
        "print(\"Shape:\", x.shape)\n",
        "\n",
        "size = x.size()\n",
        "print(\"Size:\", size)\n",
        "\n",
        "dim1, dim2, dim3 = x.size()\n",
        "print(\"Size:\", dim1, dim2, dim3)"
      ]
    },
    {
      "cell_type": "markdown",
      "source": [
        "#### Tensor to Numpy, and Numpy to Tensor\n",
        "\n",
        "Tensors can be converted to numpy arrays, and numpy arrays back to tensors. To transform a numpy array into a tensor, we can use the function `torch.from_numpy`:"
      ],
      "metadata": {
        "id": "DJ-irOxK-ngH"
      },
      "id": "DJ-irOxK-ngH"
    },
    {
      "cell_type": "code",
      "source": [
        "np_arr = np.array([[1, 2], [3, 4]])\n",
        "tensor = torch.from_numpy(np_arr)\n",
        "\n",
        "print(\"Numpy array:\", np_arr)\n",
        "print(\"PyTorch tensor:\", tensor)"
      ],
      "metadata": {
        "id": "LOS3anaB-nFQ",
        "outputId": "c991136b-b08f-48f7-da2c-adb34d4ae27b",
        "colab": {
          "base_uri": "https://localhost:8080/"
        }
      },
      "id": "LOS3anaB-nFQ",
      "execution_count": 9,
      "outputs": [
        {
          "output_type": "stream",
          "name": "stdout",
          "text": [
            "Numpy array: [[1 2]\n",
            " [3 4]]\n",
            "PyTorch tensor: tensor([[1, 2],\n",
            "        [3, 4]])\n"
          ]
        }
      ]
    },
    {
      "cell_type": "markdown",
      "source": [
        "To transform a PyTorch tensor back to a numpy array, we can use the function `.numpy()` on tensors:"
      ],
      "metadata": {
        "id": "mfLgLG2P-wb8"
      },
      "id": "mfLgLG2P-wb8"
    },
    {
      "cell_type": "code",
      "source": [
        "tensor = torch.arange(4)\n",
        "np_arr = tensor.numpy()\n",
        "\n",
        "print(\"PyTorch tensor:\", tensor)\n",
        "print(\"Numpy array:\", np_arr)"
      ],
      "metadata": {
        "id": "YrKiLj2k-xef",
        "outputId": "282d09d2-97ab-49c4-9e98-2a2ddd8c6220",
        "colab": {
          "base_uri": "https://localhost:8080/"
        }
      },
      "id": "YrKiLj2k-xef",
      "execution_count": 10,
      "outputs": [
        {
          "output_type": "stream",
          "name": "stdout",
          "text": [
            "PyTorch tensor: tensor([0, 1, 2, 3])\n",
            "Numpy array: [0 1 2 3]\n"
          ]
        }
      ]
    },
    {
      "cell_type": "markdown",
      "source": [
        "*The* conversion of tensors to numpy require the tensor to be on the CPU, and not the GPU (more on GPU support in a later section). In case you have a tensor on GPU, you need to call `.cpu()` on the tensor beforehand. Hence, you get a line like `np_arr = tensor.cpu().numpy()`."
      ],
      "metadata": {
        "id": "Mso1vvBI-7nn"
      },
      "id": "Mso1vvBI-7nn"
    },
    {
      "cell_type": "markdown",
      "source": [
        "#### Operations\n",
        "\n",
        "Most operations that exist in numpy, also exist in PyTorch. A full list of operations can be found in the [PyTorch documentation](https://pytorch.org/docs/stable/tensors.html#), but we will review the most important ones here.\n",
        "\n",
        "The simplest operation is to add two tensors:"
      ],
      "metadata": {
        "id": "UqjdsfqU_Fh-"
      },
      "id": "UqjdsfqU_Fh-"
    },
    {
      "cell_type": "code",
      "source": [
        "x1 = torch.rand(2, 3)\n",
        "x2 = torch.rand(2, 3)\n",
        "y = x1 + x2\n",
        "\n",
        "print(\"X1\", x1)\n",
        "print(\"X2\", x2)\n",
        "print(\"Y\", y)"
      ],
      "metadata": {
        "id": "iMc5LCGk_IWF",
        "outputId": "ae8f10d5-c825-4163-cd53-1f38e43107a8",
        "colab": {
          "base_uri": "https://localhost:8080/"
        }
      },
      "id": "iMc5LCGk_IWF",
      "execution_count": 11,
      "outputs": [
        {
          "output_type": "stream",
          "name": "stdout",
          "text": [
            "X1 tensor([[0.1053, 0.2695, 0.3588],\n",
            "        [0.1994, 0.5472, 0.0062]])\n",
            "X2 tensor([[0.9516, 0.0753, 0.8860],\n",
            "        [0.5832, 0.3376, 0.8090]])\n",
            "Y tensor([[1.0569, 0.3448, 1.2448],\n",
            "        [0.7826, 0.8848, 0.8151]])\n"
          ]
        }
      ]
    },
    {
      "cell_type": "markdown",
      "source": [
        "Calling `x1 + x2` creates a new tensor containing the sum of the two inputs. However, we can also use in-place operations that are applied directly on the memory of a tensor. We therefore change the values of `x2` without the chance to re-accessing the values of `x2` before the operation. An example is shown below:"
      ],
      "metadata": {
        "id": "sWmFAvLK_Ppk"
      },
      "id": "sWmFAvLK_Ppk"
    },
    {
      "cell_type": "code",
      "source": [
        "x1 = torch.rand(2, 3)\n",
        "x2 = torch.rand(2, 3)\n",
        "print(\"X1 (before)\", x1)\n",
        "print(\"X2 (before)\", x2)\n",
        "\n",
        "x2.add_(x1)\n",
        "print(\"X1 (after)\", x1)\n",
        "print(\"X2 (after)\", x2)"
      ],
      "metadata": {
        "id": "aAqKtPY0_Spz",
        "outputId": "01da5b23-911f-4c63-8c04-8a9150ad37a6",
        "colab": {
          "base_uri": "https://localhost:8080/"
        }
      },
      "id": "aAqKtPY0_Spz",
      "execution_count": 12,
      "outputs": [
        {
          "output_type": "stream",
          "name": "stdout",
          "text": [
            "X1 (before) tensor([[0.5779, 0.9040, 0.5547],\n",
            "        [0.3423, 0.6343, 0.3644]])\n",
            "X2 (before) tensor([[0.7104, 0.9464, 0.7890],\n",
            "        [0.2814, 0.7886, 0.5895]])\n",
            "X1 (after) tensor([[0.5779, 0.9040, 0.5547],\n",
            "        [0.3423, 0.6343, 0.3644]])\n",
            "X2 (after) tensor([[1.2884, 1.8504, 1.3437],\n",
            "        [0.6237, 1.4230, 0.9539]])\n"
          ]
        }
      ]
    },
    {
      "cell_type": "markdown",
      "source": [
        "Another common operation aims at changing the shape of a tensor. A tensor of size (2,3) can be re-organized to any other shape with the same number of elements (e.g. a tensor of size (6), or (3,2), ...). In PyTorch, this operation is called `view`:"
      ],
      "metadata": {
        "id": "yuOcDNRg_ywk"
      },
      "id": "yuOcDNRg_ywk"
    },
    {
      "cell_type": "code",
      "source": [
        "x = torch.arange(6)\n",
        "print(\"X\", x)"
      ],
      "metadata": {
        "id": "sDsRSZWa_1Zj",
        "outputId": "2fb4ee20-c1ba-453a-f3a7-f3a63102eaaf",
        "colab": {
          "base_uri": "https://localhost:8080/"
        }
      },
      "id": "sDsRSZWa_1Zj",
      "execution_count": 13,
      "outputs": [
        {
          "output_type": "stream",
          "name": "stdout",
          "text": [
            "X tensor([0, 1, 2, 3, 4, 5])\n"
          ]
        }
      ]
    },
    {
      "cell_type": "code",
      "source": [
        "x = x.view(2, 3)\n",
        "print(\"X\", x)"
      ],
      "metadata": {
        "id": "irG-RWBk_4cL",
        "outputId": "4498d976-7790-431d-8f40-772161979b71",
        "colab": {
          "base_uri": "https://localhost:8080/"
        }
      },
      "id": "irG-RWBk_4cL",
      "execution_count": 14,
      "outputs": [
        {
          "output_type": "stream",
          "name": "stdout",
          "text": [
            "X tensor([[0, 1, 2],\n",
            "        [3, 4, 5]])\n"
          ]
        }
      ]
    },
    {
      "cell_type": "code",
      "source": [
        "x = x.permute(1, 0) # Swapping dimension 0 and 1\n",
        "print(\"X\", x)"
      ],
      "metadata": {
        "id": "R2K6uNaJ_68z",
        "outputId": "9112ef0e-453f-4777-b469-c4c1c742ac54",
        "colab": {
          "base_uri": "https://localhost:8080/"
        }
      },
      "id": "R2K6uNaJ_68z",
      "execution_count": 15,
      "outputs": [
        {
          "output_type": "stream",
          "name": "stdout",
          "text": [
            "X tensor([[0, 3],\n",
            "        [1, 4],\n",
            "        [2, 5]])\n"
          ]
        }
      ]
    },
    {
      "cell_type": "markdown",
      "source": [
        "Other commonly used operations include matrix multiplications, which are essential for neural networks. Quite often, we have an input vector $\\mathbf{x}$, which is transformed using a learned weight matrix $\\mathbf{W}$. There are multiple ways and functions to perform matrix multiplication, some of which we list below:\n",
        "\n",
        "* `torch.matmul`: Performs the matrix product over two tensors, where the specific behavior depends on the dimensions. If both inputs are matrices (2-dimensional tensors), it performs the standard matrix product. For higher dimensional inputs, the function supports broadcasting (for details see the [documentation](https://pytorch.org/docs/stable/generated/torch.matmul.html?highlight=matmul#torch.matmul)). Can also be written as `a @ b`, similar to numpy.\n",
        "* `torch.mm`: Performs the matrix product over two matrices, but doesn't support broadcasting (see [documentation](https://pytorch.org/docs/stable/generated/torch.mm.html?highlight=torch%20mm#torch.mm))\n",
        "* `torch.bmm`: Performs the matrix product with a support batch dimension. If the first tensor $T$ is of shape ($b\\times n\\times m$), and the second tensor $R$ ($b\\times m\\times p$), the output $O$ is of shape ($b\\times n\\times p$), and has been calculated by performing $b$ matrix multiplications of the submatrices of $T$ and $R$: $O_i = T_i @ R_i$\n",
        "* `torch.einsum`: Performs matrix multiplications and more (i.e. sums of products) using the Einstein summation convention. Explanation of the Einstein sum can be found in assignment 1.\n",
        "\n",
        "Usually, we use `torch.matmul` or `torch.bmm`. We can try a matrix multiplication with `torch.matmul` below."
      ],
      "metadata": {
        "id": "9cV3G63SAFK2"
      },
      "id": "9cV3G63SAFK2"
    },
    {
      "cell_type": "code",
      "source": [
        "x = torch.arange(6)\n",
        "x = x.view(2, 3)\n",
        "print(\"X\", x)"
      ],
      "metadata": {
        "id": "Zr1ScKtPAxPy",
        "outputId": "9a4866b5-b859-4204-d365-23ddc51cf24a",
        "colab": {
          "base_uri": "https://localhost:8080/"
        }
      },
      "id": "Zr1ScKtPAxPy",
      "execution_count": 16,
      "outputs": [
        {
          "output_type": "stream",
          "name": "stdout",
          "text": [
            "X tensor([[0, 1, 2],\n",
            "        [3, 4, 5]])\n"
          ]
        }
      ]
    },
    {
      "cell_type": "code",
      "source": [
        "W = torch.arange(9).view(3, 3) # We can also stack multiple operations in a single line\n",
        "print(\"W\", W)"
      ],
      "metadata": {
        "id": "IC_o3TTdA0An",
        "outputId": "a1c241eb-fd31-4b82-aace-3ebce273e2f2",
        "colab": {
          "base_uri": "https://localhost:8080/"
        }
      },
      "id": "IC_o3TTdA0An",
      "execution_count": 17,
      "outputs": [
        {
          "output_type": "stream",
          "name": "stdout",
          "text": [
            "W tensor([[0, 1, 2],\n",
            "        [3, 4, 5],\n",
            "        [6, 7, 8]])\n"
          ]
        }
      ]
    },
    {
      "cell_type": "code",
      "source": [
        "h = torch.matmul(x, W) # Verify the result by calculating it by hand too!\n",
        "print(\"h\", h)"
      ],
      "metadata": {
        "id": "YgV6kVHSA5S8",
        "outputId": "dd8016eb-c8b7-4cfc-82ad-cade978e82a0",
        "colab": {
          "base_uri": "https://localhost:8080/"
        }
      },
      "id": "YgV6kVHSA5S8",
      "execution_count": 18,
      "outputs": [
        {
          "output_type": "stream",
          "name": "stdout",
          "text": [
            "h tensor([[15, 18, 21],\n",
            "        [42, 54, 66]])\n"
          ]
        }
      ]
    },
    {
      "cell_type": "markdown",
      "source": [
        "#### Indexing\n",
        "\n",
        "We often have the situation where we need to select a part of a tensor. Indexing works just like in numpy, so let's try it:"
      ],
      "metadata": {
        "id": "gB2RxgMhBTQR"
      },
      "id": "gB2RxgMhBTQR"
    },
    {
      "cell_type": "code",
      "source": [
        "x = torch.arange(12).view(3, 4)\n",
        "print(\"X\", x)"
      ],
      "metadata": {
        "id": "YycdsUG9BUEE",
        "outputId": "516ba47d-7e38-4162-dc41-d371b0144751",
        "colab": {
          "base_uri": "https://localhost:8080/"
        }
      },
      "id": "YycdsUG9BUEE",
      "execution_count": 19,
      "outputs": [
        {
          "output_type": "stream",
          "name": "stdout",
          "text": [
            "X tensor([[ 0,  1,  2,  3],\n",
            "        [ 4,  5,  6,  7],\n",
            "        [ 8,  9, 10, 11]])\n"
          ]
        }
      ]
    },
    {
      "cell_type": "code",
      "source": [
        "print(x[:, 1])   # Second column"
      ],
      "metadata": {
        "id": "kKhbFEjCBZ2R",
        "outputId": "88c4aa8c-2c08-4e92-c465-f41ec8b72d3e",
        "colab": {
          "base_uri": "https://localhost:8080/"
        }
      },
      "id": "kKhbFEjCBZ2R",
      "execution_count": 20,
      "outputs": [
        {
          "output_type": "stream",
          "name": "stdout",
          "text": [
            "tensor([1, 5, 9])\n"
          ]
        }
      ]
    },
    {
      "cell_type": "code",
      "source": [
        "print(x[0])      # First row"
      ],
      "metadata": {
        "id": "d4jHxs8VBecR",
        "outputId": "ed0a3eb9-d903-4e6a-fd28-fc88ec807f37",
        "colab": {
          "base_uri": "https://localhost:8080/"
        }
      },
      "id": "d4jHxs8VBecR",
      "execution_count": 21,
      "outputs": [
        {
          "output_type": "stream",
          "name": "stdout",
          "text": [
            "tensor([0, 1, 2, 3])\n"
          ]
        }
      ]
    },
    {
      "cell_type": "code",
      "source": [
        "print(x[:2, -1]) # First two rows, last column"
      ],
      "metadata": {
        "id": "UwM-ElI2BhIP",
        "outputId": "49a2f006-a95f-4988-c3dd-15a386b92b7b",
        "colab": {
          "base_uri": "https://localhost:8080/"
        }
      },
      "id": "UwM-ElI2BhIP",
      "execution_count": 22,
      "outputs": [
        {
          "output_type": "stream",
          "name": "stdout",
          "text": [
            "tensor([3, 7])\n"
          ]
        }
      ]
    },
    {
      "cell_type": "code",
      "source": [
        "print(x[1:3, :]) # Middle two rows"
      ],
      "metadata": {
        "id": "iZxULZTpBkHT",
        "outputId": "2fb3d33b-78d2-4dca-db56-9771c4c71451",
        "colab": {
          "base_uri": "https://localhost:8080/"
        }
      },
      "id": "iZxULZTpBkHT",
      "execution_count": 23,
      "outputs": [
        {
          "output_type": "stream",
          "name": "stdout",
          "text": [
            "tensor([[ 4,  5,  6,  7],\n",
            "        [ 8,  9, 10, 11]])\n"
          ]
        }
      ]
    },
    {
      "cell_type": "markdown",
      "source": [
        "### Dynamic Computation Graph and Backpropagation\n",
        "\n",
        "One of the main reasons for using PyTorch in Deep Learning projects is that we can automatically get **gradients/derivatives** of functions that we define. We will mainly use PyTorch for implementing neural networks, and they are just fancy functions. If we use weight matrices in our function that we want to learn, then those are called the **parameters** or simply the **weights**.\n",
        "\n",
        "If our neural network would output a single scalar value, we would talk about taking the **derivative**, but you will see that quite often we will have **multiple** output variables (\"values\"); in that case we talk about **gradients**. It's a more general term.\n",
        "\n",
        "Given an input $\\mathbf{x}$, we define our function by **manipulating** that input, usually by matrix-multiplications with weight matrices and additions with so-called bias vectors. As we manipulate our input, we are automatically creating a **computational graph**. This graph shows how to arrive at our output from our input.\n",
        "PyTorch is a **define-by-run** framework; this means that we can just do our manipulations, and PyTorch will keep track of that graph for us. Thus, we create a dynamic computation graph along the way.\n",
        "\n",
        "So, to recap: the only thing we have to do is to compute the **output**, and then we can ask PyTorch to automatically get the **gradients**.\n",
        "\n",
        "The first thing we have to do is to specify which tensors require gradients. By default, when we create a tensor, it does not require gradients."
      ],
      "metadata": {
        "id": "0vD1xca6CIpF"
      },
      "id": "0vD1xca6CIpF"
    },
    {
      "cell_type": "code",
      "source": [
        "x = torch.ones((3,))\n",
        "print(x.requires_grad)"
      ],
      "metadata": {
        "id": "w4_ohXurCM3j",
        "outputId": "90d4a728-4ee8-4de0-97ac-a8c54148e85b",
        "colab": {
          "base_uri": "https://localhost:8080/"
        }
      },
      "id": "w4_ohXurCM3j",
      "execution_count": 24,
      "outputs": [
        {
          "output_type": "stream",
          "name": "stdout",
          "text": [
            "False\n"
          ]
        }
      ]
    },
    {
      "cell_type": "markdown",
      "source": [
        "We can change this for an existing tensor using the function `requires_grad_()` (underscore indicating that this is a in-place operation). Alternatively, when creating a tensor, you can pass the argument `requires_grad=True` to most initializers we have seen above."
      ],
      "metadata": {
        "id": "XNkPYihMRB19"
      },
      "id": "XNkPYihMRB19"
    },
    {
      "cell_type": "code",
      "source": [
        "x.requires_grad_(True)\n",
        "print(x.requires_grad)"
      ],
      "metadata": {
        "id": "d3d_MFWkRC6h",
        "outputId": "d1e1d3b2-2f09-4f90-ce31-8578628bd336",
        "colab": {
          "base_uri": "https://localhost:8080/"
        }
      },
      "id": "d3d_MFWkRC6h",
      "execution_count": 25,
      "outputs": [
        {
          "output_type": "stream",
          "name": "stdout",
          "text": [
            "True\n"
          ]
        }
      ]
    },
    {
      "cell_type": "markdown",
      "source": [
        "### GPU support\n",
        "\n",
        "A crucial feature of PyTorch is the support of GPUs, short for Graphics Processing Unit. A GPU can perform many thousands of small operations in parallel, making it very well suitable for performing large matrix operations in neural networks. When comparing GPUs to CPUs, we can list the following main differences (credit: [Kevin Krewell, 2009](https://blogs.nvidia.com/blog/2009/12/16/whats-the-difference-between-a-cpu-and-a-gpu/))\n",
        "\n",
        "![GPU vs CPU comparison](https://drive.google.com/uc?export=view&id=1PxpJgELgB1aEZrdDY6lkeok8nTNtYOW6)\n",
        "\n",
        "CPUs and GPUs have both different advantages and disadvantages, which is why many computers contain both components and use them for different tasks. In case you are not familiar with GPUs, you can read up more details in this [NVIDIA blog post](https://blogs.nvidia.com/blog/2009/12/16/whats-the-difference-between-a-cpu-and-a-gpu/) or [here](https://www.intel.com/content/www/us/en/products/docs/processors/what-is-a-gpu.html).\n",
        "\n",
        "GPUs can accelerate the training of your network up to a factor of $100$ which is essential for large neural networks. PyTorch implements a lot of functionality for supporting GPUs (mostly those of NVIDIA due to the libraries [CUDA](https://developer.nvidia.com/cuda-zone) and [cuDNN](https://developer.nvidia.com/cudnn)). First, let's check whether you have a GPU available:"
      ],
      "metadata": {
        "id": "6CkaeScARdQR"
      },
      "id": "6CkaeScARdQR"
    },
    {
      "cell_type": "code",
      "execution_count": 26,
      "id": "id6NrzIs6J3P",
      "metadata": {
        "colab": {
          "base_uri": "https://localhost:8080/"
        },
        "id": "id6NrzIs6J3P",
        "outputId": "1f21eadb-3a65-4022-b8de-d9b3a69be5a1"
      },
      "outputs": [
        {
          "output_type": "stream",
          "name": "stdout",
          "text": [
            "Is the GPU available? False\n"
          ]
        }
      ],
      "source": [
        "gpu_avail = torch.cuda.is_available()\n",
        "print(f\"Is the GPU available? {gpu_avail}\")"
      ]
    },
    {
      "cell_type": "markdown",
      "source": [
        "If you have a GPU on your computer but the command above returns False, make sure you have the correct CUDA-version installed. On Google Colab, make sure that you have selected a GPU in your runtime setup (in the menu, check under Runtime -> Change runtime type).\n",
        "\n",
        "By default, all tensors you create are stored on the CPU. We can push a tensor to the GPU by using the function .to(...), or .cuda(). However, it is often a good practice to define a device object in your code which points to the GPU if you have one, and otherwise to the CPU. Then, you can write your code with respect to this device object, and it allows you to run the same code on both a CPU-only system, and one with a GPU. Let's try it below. We can specify the device as follows:"
      ],
      "metadata": {
        "id": "cWSWr__UUBs4"
      },
      "id": "cWSWr__UUBs4"
    },
    {
      "cell_type": "code",
      "execution_count": 5,
      "id": "3DkzbLD5TU2z",
      "metadata": {
        "colab": {
          "base_uri": "https://localhost:8080/"
        },
        "id": "3DkzbLD5TU2z",
        "outputId": "74245ed3-d03f-406c-f643-5adbda60f903"
      },
      "outputs": [
        {
          "output_type": "stream",
          "name": "stdout",
          "text": [
            "Device cuda\n"
          ]
        }
      ],
      "source": [
        "device = torch.device(\"cuda\") if torch.cuda.is_available() else torch.device(\"cpu\")\n",
        "print(\"Device\", device)"
      ]
    },
    {
      "cell_type": "markdown",
      "source": [
        "Now let's create a tensor and push it to the device:"
      ],
      "metadata": {
        "id": "p8GZ-rRMVYN1"
      },
      "id": "p8GZ-rRMVYN1"
    },
    {
      "cell_type": "code",
      "source": [
        "x = torch.zeros(2, 3)\n",
        "x = x.to(device)\n",
        "print(\"X\", x)"
      ],
      "metadata": {
        "id": "Ln547-gEVbSB",
        "outputId": "ceb6bc00-176f-4691-a913-2bcb85bfbc91",
        "colab": {
          "base_uri": "https://localhost:8080/"
        }
      },
      "id": "Ln547-gEVbSB",
      "execution_count": 7,
      "outputs": [
        {
          "output_type": "stream",
          "name": "stdout",
          "text": [
            "X tensor([[0., 0., 0.],\n",
            "        [0., 0., 0.]], device='cuda:0')\n"
          ]
        }
      ]
    },
    {
      "cell_type": "markdown",
      "source": [
        "In case you have a GPU, you should now see the attribute `device='cuda:0'` being printed next to your tensor. The zero next to cuda indicates that this is the zero-th GPU device on your computer. PyTorch also supports multi-GPU systems, but this you will only need once you have very big networks to train (if interested, see the [PyTorch documentation](https://pytorch.org/docs/stable/distributed.html#distributed-basics)). We can also compare the runtime of a large matrix multiplication on the CPU with a operation on the GPU:"
      ],
      "metadata": {
        "id": "4cktxFPkVf6v"
      },
      "id": "4cktxFPkVf6v"
    },
    {
      "cell_type": "code",
      "source": [
        "x = torch.randn(5000, 5000)\n",
        "\n",
        "## CPU version\n",
        "start_time = time.time()\n",
        "_ = torch.matmul(x, x)\n",
        "end_time = time.time()\n",
        "print(f\"CPU time: {(end_time - start_time):6.5f}s\")\n",
        "\n",
        "## GPU version\n",
        "x = x.to(device)\n",
        "_ = torch.matmul(x, x)  # First operation to 'burn in' GPU\n",
        "# CUDA is asynchronous, so we need to use different timing functions\n",
        "start = torch.cuda.Event(enable_timing=True)\n",
        "end = torch.cuda.Event(enable_timing=True)\n",
        "start.record()\n",
        "_ = torch.matmul(x, x)\n",
        "end.record()\n",
        "torch.cuda.synchronize()  # Waits for everything to finish running on the GPU\n",
        "print(f\"GPU time: {0.001 * start.elapsed_time(end):6.5f}s\")  # Milliseconds to seconds"
      ],
      "metadata": {
        "id": "viJIWtoSUgrf",
        "outputId": "dd9f3d75-68e6-4432-abec-f386d0da694a",
        "colab": {
          "base_uri": "https://localhost:8080/"
        }
      },
      "id": "viJIWtoSUgrf",
      "execution_count": 6,
      "outputs": [
        {
          "output_type": "stream",
          "name": "stdout",
          "text": [
            "CPU time: 2.16336s\n",
            "GPU time: 0.07165s\n"
          ]
        }
      ]
    },
    {
      "cell_type": "markdown",
      "source": [
        "# Building Neural Networks with torch.nn\n",
        "\n",
        "PyTorch provides the torch.nn package to easily build neural networks using pre-defined layers and activation functions. Instead of managing tensors and gradients manually, torch.nn.Module helps organize layers and the forward pass."
      ],
      "metadata": {
        "id": "C2pdQFq1mQng"
      },
      "id": "C2pdQFq1mQng"
    },
    {
      "cell_type": "code",
      "source": [
        "import torch.nn as nn\n",
        "import torch.nn.functional as F\n",
        "\n",
        "class SimpleClassifier(nn.Module):\n",
        "    def __init__(self, num_inputs, num_hidden, num_outputs):\n",
        "        super().__init__()\n",
        "        self.linear1 = nn.Linear(num_inputs, num_hidden)\n",
        "        self.act_fn = nn.Tanh()\n",
        "        self.linear2 = nn.Linear(num_hidden, num_outputs)\n",
        "\n",
        "    def forward(self, x):\n",
        "        x = self.linear1(x)\n",
        "        x = self.act_fn(x)\n",
        "        x = self.linear2(x)\n",
        "        return x\n",
        "\n",
        "model = SimpleClassifier(num_inputs=2, num_hidden=4, num_outputs=1)\n",
        "print(model)"
      ],
      "metadata": {
        "id": "_v9EDcOGmQDR",
        "outputId": "11a27ca3-381b-4e31-e596-c4ad6ae4b71b",
        "colab": {
          "base_uri": "https://localhost:8080/"
        }
      },
      "id": "_v9EDcOGmQDR",
      "execution_count": 19,
      "outputs": [
        {
          "output_type": "stream",
          "name": "stdout",
          "text": [
            "SimpleClassifier(\n",
            "  (linear1): Linear(in_features=2, out_features=4, bias=True)\n",
            "  (act_fn): Tanh()\n",
            "  (linear2): Linear(in_features=4, out_features=1, bias=True)\n",
            ")\n"
          ]
        }
      ]
    },
    {
      "cell_type": "markdown",
      "source": [
        "# Dataset and DataLoader: Handling Data Efficiently\n",
        "\n",
        "PyTorch uses Dataset and DataLoader classes for flexible, efficient data management. Dataset provides access to data points and labels, and DataLoader batches and shuffles data automatically."
      ],
      "metadata": {
        "id": "vy0JYrfimiGc"
      },
      "id": "vy0JYrfimiGc"
    },
    {
      "cell_type": "code",
      "source": [
        "from torch.utils.data import Dataset, DataLoader\n",
        "\n",
        "class XORDataset(Dataset):\n",
        "    def __init__(self, size):\n",
        "        self.size = size\n",
        "        self.data = torch.randint(0, 2, (size, 2), dtype=torch.float32)\n",
        "        self.label = (self.data.sum(dim=1) == 1).long()\n",
        "\n",
        "    def __len__(self):\n",
        "        return self.size\n",
        "\n",
        "    def __getitem__(self, idx):\n",
        "        return self.data[idx], self.label[idx]\n",
        "\n",
        "dataset = XORDataset(size=200)\n",
        "data_loader = DataLoader(dataset, batch_size=8, shuffle=True)\n",
        "\n",
        "data_inputs, data_labels = next(iter(data_loader))\n",
        "print(data_inputs.shape, data_labels.shape)\n"
      ],
      "metadata": {
        "id": "JX2ylAyemses",
        "outputId": "00bf5f71-c208-46fc-bba6-09e592bd9605",
        "colab": {
          "base_uri": "https://localhost:8080/"
        }
      },
      "id": "JX2ylAyemses",
      "execution_count": 20,
      "outputs": [
        {
          "output_type": "stream",
          "name": "stdout",
          "text": [
            "torch.Size([8, 2]) torch.Size([8])\n"
          ]
        }
      ]
    },
    {
      "cell_type": "markdown",
      "source": [
        "# Loss and Optimizer: Training Essentials\n",
        "\n",
        "The loss function measures prediction error. PyTorch provides many loss modules like nn.BCEWithLogitsLoss for binary classification. Optimizers like SGD update model parameters using gradients."
      ],
      "metadata": {
        "id": "KUkWwexnmx0b"
      },
      "id": "KUkWwexnmx0b"
    },
    {
      "cell_type": "code",
      "source": [
        "import torch.optim as optim\n",
        "loss_module = nn.BCEWithLogitsLoss()\n",
        "optimizer = optim.SGD(model.parameters(), lr=0.1)"
      ],
      "metadata": {
        "id": "RGZALDPhm1YM"
      },
      "id": "RGZALDPhm1YM",
      "execution_count": 21,
      "outputs": []
    },
    {
      "cell_type": "markdown",
      "source": [
        "# Training Loop: Putting It All Together\n",
        "\n",
        "The training loop consists of loading batches, computing predictions, calculating loss, performing backpropagation, and updating parameters. Remember to zero gradients before backpropagation."
      ],
      "metadata": {
        "id": "vNmnqeVvm7G_"
      },
      "id": "vNmnqeVvm7G_"
    },
    {
      "cell_type": "code",
      "source": [
        "device = torch.device(\"cuda\" if torch.cuda.is_available() else \"cpu\")\n",
        "model.to(device)\n",
        "\n",
        "def train_model(model, optimizer, data_loader, loss_module, epochs=10):\n",
        "    model.train()\n",
        "    for epoch in range(epochs):\n",
        "        for inputs, labels in data_loader:\n",
        "            inputs, labels = inputs.to(device), labels.to(device).float()\n",
        "            preds = model(inputs).squeeze(1)\n",
        "            loss = loss_module(preds, labels)\n",
        "            optimizer.zero_grad()\n",
        "            loss.backward()\n",
        "            optimizer.step()\n",
        "\n",
        "train_model(model, optimizer, data_loader, loss_module)"
      ],
      "metadata": {
        "id": "ZrtGGOGFnBCx"
      },
      "id": "ZrtGGOGFnBCx",
      "execution_count": 22,
      "outputs": []
    },
    {
      "cell_type": "markdown",
      "source": [
        "# Saving and Loading Models\n",
        "\n",
        "After training, save model parameters with state_dict. Later, you can load them to recreate the model without retraining."
      ],
      "metadata": {
        "id": "Lm0bfBncnHSa"
      },
      "id": "Lm0bfBncnHSa"
    },
    {
      "cell_type": "code",
      "source": [
        "torch.save(model.state_dict(), \"model.pth\")\n",
        "\n",
        "loaded_model = SimpleClassifier(num_inputs=2, num_hidden=4, num_outputs=1)\n",
        "loaded_model.load_state_dict(torch.load(\"model.pth\"))"
      ],
      "metadata": {
        "id": "H70AX5hBnLaI",
        "outputId": "bf372717-91e9-49b3-8770-4de61a1026ae",
        "colab": {
          "base_uri": "https://localhost:8080/"
        }
      },
      "id": "H70AX5hBnLaI",
      "execution_count": 23,
      "outputs": [
        {
          "output_type": "execute_result",
          "data": {
            "text/plain": [
              "<All keys matched successfully>"
            ]
          },
          "metadata": {},
          "execution_count": 23
        }
      ]
    },
    {
      "cell_type": "markdown",
      "source": [
        "#  Evaluating the Model on a Test Set\n",
        "\n",
        "After training, evaluate the model on unseen data (test set). Use accuracy as a metric: the percentage of correct predictions out of all predictions. During evaluation, disable gradient tracking with torch.no_grad() for faster computation and set the model to evaluation mode with model.eval()."
      ],
      "metadata": {
        "id": "rlndLm0inXBF"
      },
      "id": "rlndLm0inXBF"
    },
    {
      "cell_type": "code",
      "source": [
        "test_dataset = XORDataset(size=500)\n",
        "test_data_loader = DataLoader(test_dataset, batch_size=128, shuffle=False)\n",
        "\n",
        "def eval_model(model, data_loader):\n",
        "    model.eval()\n",
        "    true_preds, total_preds = 0, 0\n",
        "    with torch.no_grad():\n",
        "        for inputs, labels in data_loader:\n",
        "            inputs, labels = inputs.to(device), labels.to(device)\n",
        "            preds = torch.sigmoid(model(inputs).squeeze(1))\n",
        "            pred_labels = (preds >= 0.5).long()\n",
        "            true_preds += (pred_labels == labels).sum().item()\n",
        "            total_preds += labels.size(0)\n",
        "    accuracy = true_preds / total_preds\n",
        "    print(f\"Model accuracy: {accuracy * 100:.2f}%\")\n",
        "\n",
        "eval_model(model, test_data_loader)"
      ],
      "metadata": {
        "id": "NNkrgHrTncUz",
        "outputId": "02d01fde-690a-46de-dca8-38c657caf060",
        "colab": {
          "base_uri": "https://localhost:8080/"
        }
      },
      "id": "NNkrgHrTncUz",
      "execution_count": 24,
      "outputs": [
        {
          "output_type": "stream",
          "name": "stdout",
          "text": [
            "Model accuracy: 74.60%\n"
          ]
        }
      ]
    },
    {
      "cell_type": "markdown",
      "source": [
        "# Visualizing the Model’s Decision Boundaries\n",
        "\n",
        "Visualize what the model has learned by plotting its predicted classes over a grid of input points. This shows the boundary between classes, helping understand model behavior."
      ],
      "metadata": {
        "id": "MBOwOfsDnkrG"
      },
      "id": "MBOwOfsDnkrG"
    },
    {
      "cell_type": "code",
      "source": [
        "import matplotlib.pyplot as plt\n",
        "from matplotlib.colors import to_rgba\n",
        "\n",
        "@torch.no_grad()\n",
        "def visualize_classification(model, data, labels):\n",
        "    model.to(device)\n",
        "    x_vals = torch.arange(-0.5, 1.5, 0.01, device=device)\n",
        "    xx1, xx2 = torch.meshgrid(x_vals, x_vals, indexing='ij')\n",
        "    grid_points = torch.stack([xx1, xx2], dim=-1).view(-1, 2)\n",
        "\n",
        "    preds = torch.sigmoid(model(grid_points)).cpu().numpy().reshape(xx1.shape)\n",
        "    data = data.cpu().numpy()\n",
        "    labels = labels.cpu().numpy()\n",
        "\n",
        "    plt.figure(figsize=(5,5))\n",
        "    plt.contourf(xx1.cpu(), xx2.cpu(), preds, levels=[0,0.5,1], alpha=0.3, colors=['blue','orange'])\n",
        "    plt.scatter(data[labels==0][:,0], data[labels==0][:,1], label='Class 0', edgecolor='k')\n",
        "    plt.scatter(data[labels==1][:,0], data[labels==1][:,1], label='Class 1', edgecolor='k')\n",
        "    plt.xlabel('x1')\n",
        "    plt.ylabel('x2')\n",
        "    plt.legend()\n",
        "    plt.title(\"Decision Boundaries\")\n",
        "    plt.show()\n",
        "\n",
        "visualize_classification(model, dataset.data, dataset.label)\n"
      ],
      "metadata": {
        "id": "gitiFfv1njBW",
        "outputId": "17456bce-b837-46e8-fd08-a7062ae2799f",
        "colab": {
          "base_uri": "https://localhost:8080/",
          "height": 478
        }
      },
      "id": "gitiFfv1njBW",
      "execution_count": 25,
      "outputs": [
        {
          "output_type": "display_data",
          "data": {
            "text/plain": [
              "<Figure size 500x500 with 1 Axes>"
            ],
            "image/svg+xml": "<?xml version=\"1.0\" encoding=\"utf-8\" standalone=\"no\"?>\n<!DOCTYPE svg PUBLIC \"-//W3C//DTD SVG 1.1//EN\"\n  \"http://www.w3.org/Graphics/SVG/1.1/DTD/svg11.dtd\">\n<svg xmlns:xlink=\"http://www.w3.org/1999/xlink\" width=\"352.223594pt\" height=\"342.477813pt\" viewBox=\"0 0 352.223594 342.477813\" xmlns=\"http://www.w3.org/2000/svg\" version=\"1.1\">\n <metadata>\n  <rdf:RDF xmlns:dc=\"http://purl.org/dc/elements/1.1/\" xmlns:cc=\"http://creativecommons.org/ns#\" xmlns:rdf=\"http://www.w3.org/1999/02/22-rdf-syntax-ns#\">\n   <cc:Work>\n    <dc:type rdf:resource=\"http://purl.org/dc/dcmitype/StillImage\"/>\n    <dc:date>2025-08-10T15:34:43.403465</dc:date>\n    <dc:format>image/svg+xml</dc:format>\n    <dc:creator>\n     <cc:Agent>\n      <dc:title>Matplotlib v3.10.0, https://matplotlib.org/</dc:title>\n     </cc:Agent>\n    </dc:creator>\n   </cc:Work>\n  </rdf:RDF>\n </metadata>\n <defs>\n  <style type=\"text/css\">*{stroke-linejoin: round; stroke-linecap: butt}</style>\n </defs>\n <g id=\"figure_1\">\n  <g id=\"patch_1\">\n   <path d=\"M 0 342.477813 \nL 352.223594 342.477813 \nL 352.223594 0 \nL 0 0 \nz\n\" style=\"fill: #ffffff\"/>\n  </g>\n  <g id=\"axes_1\">\n   <g id=\"patch_2\">\n    <path d=\"M 66.023594 299.518125 \nL 345.023594 299.518125 \nL 345.023594 22.318125 \nL 66.023594 22.318125 \nz\n\" style=\"fill: #eaeaf2\"/>\n   </g>\n   <g id=\"matplotlib.axis_1\">\n    <g id=\"xtick_1\">\n     <g id=\"line2d_1\">\n      <path d=\"M 66.023594 299.518125 \nL 66.023594 22.318125 \n\" clip-path=\"url(#pe963049d48)\" style=\"fill: none; stroke: #ffffff; stroke-linecap: round\"/>\n     </g>\n     <g id=\"text_1\">\n      <!-- −0.50 -->\n      <g style=\"fill: #262626\" transform=\"translate(49.168672 317.376406) scale(0.11 -0.11)\">\n       <defs>\n        <path id=\"DejaVuSans-2212\" d=\"M 678 2272 \nL 4684 2272 \nL 4684 1741 \nL 678 1741 \nL 678 2272 \nz\n\" transform=\"scale(0.015625)\"/>\n        <path id=\"DejaVuSans-30\" d=\"M 2034 4250 \nQ 1547 4250 1301 3770 \nQ 1056 3291 1056 2328 \nQ 1056 1369 1301 889 \nQ 1547 409 2034 409 \nQ 2525 409 2770 889 \nQ 3016 1369 3016 2328 \nQ 3016 3291 2770 3770 \nQ 2525 4250 2034 4250 \nz\nM 2034 4750 \nQ 2819 4750 3233 4129 \nQ 3647 3509 3647 2328 \nQ 3647 1150 3233 529 \nQ 2819 -91 2034 -91 \nQ 1250 -91 836 529 \nQ 422 1150 422 2328 \nQ 422 3509 836 4129 \nQ 1250 4750 2034 4750 \nz\n\" transform=\"scale(0.015625)\"/>\n        <path id=\"DejaVuSans-2e\" d=\"M 684 794 \nL 1344 794 \nL 1344 0 \nL 684 0 \nL 684 794 \nz\n\" transform=\"scale(0.015625)\"/>\n        <path id=\"DejaVuSans-35\" d=\"M 691 4666 \nL 3169 4666 \nL 3169 4134 \nL 1269 4134 \nL 1269 2991 \nQ 1406 3038 1543 3061 \nQ 1681 3084 1819 3084 \nQ 2600 3084 3056 2656 \nQ 3513 2228 3513 1497 \nQ 3513 744 3044 326 \nQ 2575 -91 1722 -91 \nQ 1428 -91 1123 -41 \nQ 819 9 494 109 \nL 494 744 \nQ 775 591 1075 516 \nQ 1375 441 1709 441 \nQ 2250 441 2565 725 \nQ 2881 1009 2881 1497 \nQ 2881 1984 2565 2268 \nQ 2250 2553 1709 2553 \nQ 1456 2553 1204 2497 \nQ 953 2441 691 2322 \nL 691 4666 \nz\n\" transform=\"scale(0.015625)\"/>\n       </defs>\n       <use xlink:href=\"#DejaVuSans-2212\"/>\n       <use xlink:href=\"#DejaVuSans-30\" transform=\"translate(83.789062 0)\"/>\n       <use xlink:href=\"#DejaVuSans-2e\" transform=\"translate(147.412109 0)\"/>\n       <use xlink:href=\"#DejaVuSans-35\" transform=\"translate(179.199219 0)\"/>\n       <use xlink:href=\"#DejaVuSans-30\" transform=\"translate(242.822266 0)\"/>\n      </g>\n     </g>\n    </g>\n    <g id=\"xtick_2\">\n     <g id=\"line2d_2\">\n      <path d=\"M 101.073845 299.518125 \nL 101.073845 22.318125 \n\" clip-path=\"url(#pe963049d48)\" style=\"fill: none; stroke: #ffffff; stroke-linecap: round\"/>\n     </g>\n     <g id=\"text_2\">\n      <!-- −0.25 -->\n      <g style=\"fill: #262626\" transform=\"translate(84.218923 317.376406) scale(0.11 -0.11)\">\n       <defs>\n        <path id=\"DejaVuSans-32\" d=\"M 1228 531 \nL 3431 531 \nL 3431 0 \nL 469 0 \nL 469 531 \nQ 828 903 1448 1529 \nQ 2069 2156 2228 2338 \nQ 2531 2678 2651 2914 \nQ 2772 3150 2772 3378 \nQ 2772 3750 2511 3984 \nQ 2250 4219 1831 4219 \nQ 1534 4219 1204 4116 \nQ 875 4013 500 3803 \nL 500 4441 \nQ 881 4594 1212 4672 \nQ 1544 4750 1819 4750 \nQ 2544 4750 2975 4387 \nQ 3406 4025 3406 3419 \nQ 3406 3131 3298 2873 \nQ 3191 2616 2906 2266 \nQ 2828 2175 2409 1742 \nQ 1991 1309 1228 531 \nz\n\" transform=\"scale(0.015625)\"/>\n       </defs>\n       <use xlink:href=\"#DejaVuSans-2212\"/>\n       <use xlink:href=\"#DejaVuSans-30\" transform=\"translate(83.789062 0)\"/>\n       <use xlink:href=\"#DejaVuSans-2e\" transform=\"translate(147.412109 0)\"/>\n       <use xlink:href=\"#DejaVuSans-32\" transform=\"translate(179.199219 0)\"/>\n       <use xlink:href=\"#DejaVuSans-35\" transform=\"translate(242.822266 0)\"/>\n      </g>\n     </g>\n    </g>\n    <g id=\"xtick_3\">\n     <g id=\"line2d_3\">\n      <path d=\"M 136.124096 299.518125 \nL 136.124096 22.318125 \n\" clip-path=\"url(#pe963049d48)\" style=\"fill: none; stroke: #ffffff; stroke-linecap: round\"/>\n     </g>\n     <g id=\"text_3\">\n      <!-- 0.00 -->\n      <g style=\"fill: #262626\" transform=\"translate(123.878002 317.376406) scale(0.11 -0.11)\">\n       <use xlink:href=\"#DejaVuSans-30\"/>\n       <use xlink:href=\"#DejaVuSans-2e\" transform=\"translate(63.623047 0)\"/>\n       <use xlink:href=\"#DejaVuSans-30\" transform=\"translate(95.410156 0)\"/>\n       <use xlink:href=\"#DejaVuSans-30\" transform=\"translate(159.033203 0)\"/>\n      </g>\n     </g>\n    </g>\n    <g id=\"xtick_4\">\n     <g id=\"line2d_4\">\n      <path d=\"M 171.174347 299.518125 \nL 171.174347 22.318125 \n\" clip-path=\"url(#pe963049d48)\" style=\"fill: none; stroke: #ffffff; stroke-linecap: round\"/>\n     </g>\n     <g id=\"text_4\">\n      <!-- 0.25 -->\n      <g style=\"fill: #262626\" transform=\"translate(158.928253 317.376406) scale(0.11 -0.11)\">\n       <use xlink:href=\"#DejaVuSans-30\"/>\n       <use xlink:href=\"#DejaVuSans-2e\" transform=\"translate(63.623047 0)\"/>\n       <use xlink:href=\"#DejaVuSans-32\" transform=\"translate(95.410156 0)\"/>\n       <use xlink:href=\"#DejaVuSans-35\" transform=\"translate(159.033203 0)\"/>\n      </g>\n     </g>\n    </g>\n    <g id=\"xtick_5\">\n     <g id=\"line2d_5\">\n      <path d=\"M 206.224598 299.518125 \nL 206.224598 22.318125 \n\" clip-path=\"url(#pe963049d48)\" style=\"fill: none; stroke: #ffffff; stroke-linecap: round\"/>\n     </g>\n     <g id=\"text_5\">\n      <!-- 0.50 -->\n      <g style=\"fill: #262626\" transform=\"translate(193.978504 317.376406) scale(0.11 -0.11)\">\n       <use xlink:href=\"#DejaVuSans-30\"/>\n       <use xlink:href=\"#DejaVuSans-2e\" transform=\"translate(63.623047 0)\"/>\n       <use xlink:href=\"#DejaVuSans-35\" transform=\"translate(95.410156 0)\"/>\n       <use xlink:href=\"#DejaVuSans-30\" transform=\"translate(159.033203 0)\"/>\n      </g>\n     </g>\n    </g>\n    <g id=\"xtick_6\">\n     <g id=\"line2d_6\">\n      <path d=\"M 241.274849 299.518125 \nL 241.274849 22.318125 \n\" clip-path=\"url(#pe963049d48)\" style=\"fill: none; stroke: #ffffff; stroke-linecap: round\"/>\n     </g>\n     <g id=\"text_6\">\n      <!-- 0.75 -->\n      <g style=\"fill: #262626\" transform=\"translate(229.028755 317.376406) scale(0.11 -0.11)\">\n       <defs>\n        <path id=\"DejaVuSans-37\" d=\"M 525 4666 \nL 3525 4666 \nL 3525 4397 \nL 1831 0 \nL 1172 0 \nL 2766 4134 \nL 525 4134 \nL 525 4666 \nz\n\" transform=\"scale(0.015625)\"/>\n       </defs>\n       <use xlink:href=\"#DejaVuSans-30\"/>\n       <use xlink:href=\"#DejaVuSans-2e\" transform=\"translate(63.623047 0)\"/>\n       <use xlink:href=\"#DejaVuSans-37\" transform=\"translate(95.410156 0)\"/>\n       <use xlink:href=\"#DejaVuSans-35\" transform=\"translate(159.033203 0)\"/>\n      </g>\n     </g>\n    </g>\n    <g id=\"xtick_7\">\n     <g id=\"line2d_7\">\n      <path d=\"M 276.3251 299.518125 \nL 276.3251 22.318125 \n\" clip-path=\"url(#pe963049d48)\" style=\"fill: none; stroke: #ffffff; stroke-linecap: round\"/>\n     </g>\n     <g id=\"text_7\">\n      <!-- 1.00 -->\n      <g style=\"fill: #262626\" transform=\"translate(264.079007 317.376406) scale(0.11 -0.11)\">\n       <defs>\n        <path id=\"DejaVuSans-31\" d=\"M 794 531 \nL 1825 531 \nL 1825 4091 \nL 703 3866 \nL 703 4441 \nL 1819 4666 \nL 2450 4666 \nL 2450 531 \nL 3481 531 \nL 3481 0 \nL 794 0 \nL 794 531 \nz\n\" transform=\"scale(0.015625)\"/>\n       </defs>\n       <use xlink:href=\"#DejaVuSans-31\"/>\n       <use xlink:href=\"#DejaVuSans-2e\" transform=\"translate(63.623047 0)\"/>\n       <use xlink:href=\"#DejaVuSans-30\" transform=\"translate(95.410156 0)\"/>\n       <use xlink:href=\"#DejaVuSans-30\" transform=\"translate(159.033203 0)\"/>\n      </g>\n     </g>\n    </g>\n    <g id=\"xtick_8\">\n     <g id=\"line2d_8\">\n      <path d=\"M 311.375351 299.518125 \nL 311.375351 22.318125 \n\" clip-path=\"url(#pe963049d48)\" style=\"fill: none; stroke: #ffffff; stroke-linecap: round\"/>\n     </g>\n     <g id=\"text_8\">\n      <!-- 1.25 -->\n      <g style=\"fill: #262626\" transform=\"translate(299.129258 317.376406) scale(0.11 -0.11)\">\n       <use xlink:href=\"#DejaVuSans-31\"/>\n       <use xlink:href=\"#DejaVuSans-2e\" transform=\"translate(63.623047 0)\"/>\n       <use xlink:href=\"#DejaVuSans-32\" transform=\"translate(95.410156 0)\"/>\n       <use xlink:href=\"#DejaVuSans-35\" transform=\"translate(159.033203 0)\"/>\n      </g>\n     </g>\n    </g>\n    <g id=\"text_9\">\n     <!-- x1 -->\n     <g style=\"fill: #262626\" transform=\"translate(198.154844 332.782188) scale(0.12 -0.12)\">\n      <defs>\n       <path id=\"DejaVuSans-78\" d=\"M 3513 3500 \nL 2247 1797 \nL 3578 0 \nL 2900 0 \nL 1881 1375 \nL 863 0 \nL 184 0 \nL 1544 1831 \nL 300 3500 \nL 978 3500 \nL 1906 2253 \nL 2834 3500 \nL 3513 3500 \nz\n\" transform=\"scale(0.015625)\"/>\n      </defs>\n      <use xlink:href=\"#DejaVuSans-78\"/>\n      <use xlink:href=\"#DejaVuSans-31\" transform=\"translate(59.179688 0)\"/>\n     </g>\n    </g>\n   </g>\n   <g id=\"matplotlib.axis_2\">\n    <g id=\"ytick_1\">\n     <g id=\"line2d_9\">\n      <path d=\"M 66.023594 299.518125 \nL 345.023594 299.518125 \n\" clip-path=\"url(#pe963049d48)\" style=\"fill: none; stroke: #ffffff; stroke-linecap: round\"/>\n     </g>\n     <g id=\"text_10\">\n      <!-- −0.50 -->\n      <g style=\"fill: #262626\" transform=\"translate(22.81375 303.697266) scale(0.11 -0.11)\">\n       <use xlink:href=\"#DejaVuSans-2212\"/>\n       <use xlink:href=\"#DejaVuSans-30\" transform=\"translate(83.789062 0)\"/>\n       <use xlink:href=\"#DejaVuSans-2e\" transform=\"translate(147.412109 0)\"/>\n       <use xlink:href=\"#DejaVuSans-35\" transform=\"translate(179.199219 0)\"/>\n       <use xlink:href=\"#DejaVuSans-30\" transform=\"translate(242.822266 0)\"/>\n      </g>\n     </g>\n    </g>\n    <g id=\"ytick_2\">\n     <g id=\"line2d_10\">\n      <path d=\"M 66.023594 264.694005 \nL 345.023594 264.694005 \n\" clip-path=\"url(#pe963049d48)\" style=\"fill: none; stroke: #ffffff; stroke-linecap: round\"/>\n     </g>\n     <g id=\"text_11\">\n      <!-- −0.25 -->\n      <g style=\"fill: #262626\" transform=\"translate(22.81375 268.873145) scale(0.11 -0.11)\">\n       <use xlink:href=\"#DejaVuSans-2212\"/>\n       <use xlink:href=\"#DejaVuSans-30\" transform=\"translate(83.789062 0)\"/>\n       <use xlink:href=\"#DejaVuSans-2e\" transform=\"translate(147.412109 0)\"/>\n       <use xlink:href=\"#DejaVuSans-32\" transform=\"translate(179.199219 0)\"/>\n       <use xlink:href=\"#DejaVuSans-35\" transform=\"translate(242.822266 0)\"/>\n      </g>\n     </g>\n    </g>\n    <g id=\"ytick_3\">\n     <g id=\"line2d_11\">\n      <path d=\"M 66.023594 229.869884 \nL 345.023594 229.869884 \n\" clip-path=\"url(#pe963049d48)\" style=\"fill: none; stroke: #ffffff; stroke-linecap: round\"/>\n     </g>\n     <g id=\"text_12\">\n      <!-- 0.00 -->\n      <g style=\"fill: #262626\" transform=\"translate(32.031406 234.049025) scale(0.11 -0.11)\">\n       <use xlink:href=\"#DejaVuSans-30\"/>\n       <use xlink:href=\"#DejaVuSans-2e\" transform=\"translate(63.623047 0)\"/>\n       <use xlink:href=\"#DejaVuSans-30\" transform=\"translate(95.410156 0)\"/>\n       <use xlink:href=\"#DejaVuSans-30\" transform=\"translate(159.033203 0)\"/>\n      </g>\n     </g>\n    </g>\n    <g id=\"ytick_4\">\n     <g id=\"line2d_12\">\n      <path d=\"M 66.023594 195.045764 \nL 345.023594 195.045764 \n\" clip-path=\"url(#pe963049d48)\" style=\"fill: none; stroke: #ffffff; stroke-linecap: round\"/>\n     </g>\n     <g id=\"text_13\">\n      <!-- 0.25 -->\n      <g style=\"fill: #262626\" transform=\"translate(32.031406 199.224904) scale(0.11 -0.11)\">\n       <use xlink:href=\"#DejaVuSans-30\"/>\n       <use xlink:href=\"#DejaVuSans-2e\" transform=\"translate(63.623047 0)\"/>\n       <use xlink:href=\"#DejaVuSans-32\" transform=\"translate(95.410156 0)\"/>\n       <use xlink:href=\"#DejaVuSans-35\" transform=\"translate(159.033203 0)\"/>\n      </g>\n     </g>\n    </g>\n    <g id=\"ytick_5\">\n     <g id=\"line2d_13\">\n      <path d=\"M 66.023594 160.221643 \nL 345.023594 160.221643 \n\" clip-path=\"url(#pe963049d48)\" style=\"fill: none; stroke: #ffffff; stroke-linecap: round\"/>\n     </g>\n     <g id=\"text_14\">\n      <!-- 0.50 -->\n      <g style=\"fill: #262626\" transform=\"translate(32.031406 164.400784) scale(0.11 -0.11)\">\n       <use xlink:href=\"#DejaVuSans-30\"/>\n       <use xlink:href=\"#DejaVuSans-2e\" transform=\"translate(63.623047 0)\"/>\n       <use xlink:href=\"#DejaVuSans-35\" transform=\"translate(95.410156 0)\"/>\n       <use xlink:href=\"#DejaVuSans-30\" transform=\"translate(159.033203 0)\"/>\n      </g>\n     </g>\n    </g>\n    <g id=\"ytick_6\">\n     <g id=\"line2d_14\">\n      <path d=\"M 66.023594 125.397523 \nL 345.023594 125.397523 \n\" clip-path=\"url(#pe963049d48)\" style=\"fill: none; stroke: #ffffff; stroke-linecap: round\"/>\n     </g>\n     <g id=\"text_15\">\n      <!-- 0.75 -->\n      <g style=\"fill: #262626\" transform=\"translate(32.031406 129.576663) scale(0.11 -0.11)\">\n       <use xlink:href=\"#DejaVuSans-30\"/>\n       <use xlink:href=\"#DejaVuSans-2e\" transform=\"translate(63.623047 0)\"/>\n       <use xlink:href=\"#DejaVuSans-37\" transform=\"translate(95.410156 0)\"/>\n       <use xlink:href=\"#DejaVuSans-35\" transform=\"translate(159.033203 0)\"/>\n      </g>\n     </g>\n    </g>\n    <g id=\"ytick_7\">\n     <g id=\"line2d_15\">\n      <path d=\"M 66.023594 90.573402 \nL 345.023594 90.573402 \n\" clip-path=\"url(#pe963049d48)\" style=\"fill: none; stroke: #ffffff; stroke-linecap: round\"/>\n     </g>\n     <g id=\"text_16\">\n      <!-- 1.00 -->\n      <g style=\"fill: #262626\" transform=\"translate(32.031406 94.752543) scale(0.11 -0.11)\">\n       <use xlink:href=\"#DejaVuSans-31\"/>\n       <use xlink:href=\"#DejaVuSans-2e\" transform=\"translate(63.623047 0)\"/>\n       <use xlink:href=\"#DejaVuSans-30\" transform=\"translate(95.410156 0)\"/>\n       <use xlink:href=\"#DejaVuSans-30\" transform=\"translate(159.033203 0)\"/>\n      </g>\n     </g>\n    </g>\n    <g id=\"ytick_8\">\n     <g id=\"line2d_16\">\n      <path d=\"M 66.023594 55.749282 \nL 345.023594 55.749282 \n\" clip-path=\"url(#pe963049d48)\" style=\"fill: none; stroke: #ffffff; stroke-linecap: round\"/>\n     </g>\n     <g id=\"text_17\">\n      <!-- 1.25 -->\n      <g style=\"fill: #262626\" transform=\"translate(32.031406 59.928423) scale(0.11 -0.11)\">\n       <use xlink:href=\"#DejaVuSans-31\"/>\n       <use xlink:href=\"#DejaVuSans-2e\" transform=\"translate(63.623047 0)\"/>\n       <use xlink:href=\"#DejaVuSans-32\" transform=\"translate(95.410156 0)\"/>\n       <use xlink:href=\"#DejaVuSans-35\" transform=\"translate(159.033203 0)\"/>\n      </g>\n     </g>\n    </g>\n    <g id=\"text_18\">\n     <!-- x2 -->\n     <g style=\"fill: #262626\" transform=\"translate(16.318125 168.286875) rotate(-90) scale(0.12 -0.12)\">\n      <use xlink:href=\"#DejaVuSans-78\"/>\n      <use xlink:href=\"#DejaVuSans-32\" transform=\"translate(59.179688 0)\"/>\n     </g>\n    </g>\n   </g>\n   <g id=\"QuadContourSet_1\">\n    <path d=\"M 66.023594 298.125162 \nL 66.023594 296.732194 \nL 66.023594 295.33923 \nL 66.023594 293.946267 \nL 66.023594 292.553299 \nL 66.023594 291.160336 \nL 66.023594 289.767372 \nL 66.023594 288.374409 \nL 66.023594 286.981441 \nL 66.023594 285.588478 \nL 66.023594 284.195514 \nL 66.023594 282.802547 \nL 66.023594 281.409583 \nL 66.023594 280.01662 \nL 66.023594 278.623652 \nL 66.023594 277.230688 \nL 66.023594 275.837725 \nL 66.023594 274.444757 \nL 66.023594 273.051794 \nL 66.023594 271.65883 \nL 66.023594 270.265863 \nL 66.023594 268.872899 \nL 66.023594 267.479936 \nL 66.023594 266.086968 \nL 66.023594 264.694005 \nL 66.023594 263.301041 \nL 66.023594 261.908076 \nL 66.023594 260.51511 \nL 66.023594 259.122146 \nL 66.023594 257.729181 \nL 66.023594 256.336217 \nL 66.023594 254.943252 \nL 66.023594 253.550286 \nL 66.023594 252.157323 \nL 66.023594 250.764357 \nL 66.023594 249.371394 \nL 66.023594 247.978428 \nL 66.023594 246.585463 \nL 66.023594 245.192498 \nL 66.023594 243.799534 \nL 66.023594 242.406569 \nL 66.023594 241.013604 \nL 66.023594 239.620639 \nL 66.023594 238.227674 \nL 66.023594 236.83471 \nL 66.023594 235.441745 \nL 66.023594 234.04878 \nL 66.023594 232.655815 \nL 66.023594 231.26285 \nL 66.023594 229.869886 \nL 66.023594 228.476921 \nL 66.023594 227.083956 \nL 66.023594 225.690991 \nL 66.023594 224.298027 \nL 66.023594 222.905061 \nL 66.023594 221.512097 \nL 66.023594 220.119132 \nL 66.023594 218.726168 \nL 66.023594 217.333202 \nL 66.023594 215.940238 \nL 66.023594 214.547273 \nL 66.023594 213.154308 \nL 66.023594 211.761344 \nL 66.023594 210.368379 \nL 66.023594 208.975413 \nL 66.023594 207.58245 \nL 66.023594 206.189484 \nL 66.023594 204.796521 \nL 66.023594 203.403555 \nL 66.023594 202.010589 \nL 66.023594 200.617626 \nL 66.023594 199.22466 \nL 66.023594 197.831695 \nL 66.023594 196.438731 \nL 66.023594 195.045766 \nL 66.023594 193.6528 \nL 66.023594 192.259837 \nL 66.023594 190.866873 \nL 66.023594 189.473906 \nL 66.023594 188.080942 \nL 66.023594 186.687979 \nL 66.023594 185.295011 \nL 66.023594 183.902047 \nL 66.023594 182.509084 \nL 66.023594 181.116116 \nL 66.023594 179.723153 \nL 66.023594 178.330189 \nL 66.023594 176.937222 \nL 66.023594 175.544258 \nL 66.023594 174.151295 \nL 66.023594 172.758331 \nL 66.023594 171.365364 \nL 66.023594 169.9724 \nL 66.023594 168.579437 \nL 66.023594 167.186469 \nL 66.023594 165.793506 \nL 66.023594 164.400542 \nL 66.023594 163.007574 \nL 66.023594 161.614611 \nL 66.023594 160.221647 \nL 66.023594 158.82868 \nL 66.023594 157.435716 \nL 66.023594 156.042753 \nL 66.023594 154.649789 \nL 66.023594 153.256826 \nL 66.023594 151.863854 \nL 66.023594 150.470891 \nL 66.023594 149.077927 \nL 66.023594 147.684964 \nL 66.023594 146.292 \nL 66.023594 144.899037 \nL 66.023594 143.506065 \nL 66.023594 142.113101 \nL 66.023594 140.720138 \nL 66.023594 139.327174 \nL 66.023594 137.934211 \nL 66.023594 136.541247 \nL 66.023594 135.148284 \nL 66.023594 133.755312 \nL 66.023594 132.362349 \nL 66.023594 130.969385 \nL 66.023594 129.576422 \nL 66.023594 128.183458 \nL 66.023594 126.790495 \nL 66.023594 125.397523 \nL 66.023594 124.004559 \nL 66.023594 122.611596 \nL 66.023594 121.218632 \nL 66.023594 119.825669 \nL 66.023594 118.432705 \nL 66.023594 117.039742 \nL 66.023594 115.64677 \nL 66.023594 114.253807 \nL 66.023594 112.860843 \nL 66.023594 111.46788 \nL 66.023594 110.074916 \nL 66.023594 108.681953 \nL 66.023594 107.288981 \nL 66.023594 105.896017 \nL 66.023594 104.503054 \nL 66.023594 103.11009 \nL 66.023594 101.717127 \nL 66.023594 100.324163 \nL 66.023594 98.9312 \nL 66.023594 97.538228 \nL 66.023594 96.145265 \nL 66.023594 94.752301 \nL 66.023594 93.359338 \nL 66.023594 91.966374 \nL 66.023594 90.573411 \nL 66.023594 89.180439 \nL 66.023594 87.787475 \nL 66.023594 86.394512 \nL 66.023594 85.001548 \nL 66.023594 83.608585 \nL 66.023594 82.215621 \nL 66.023594 80.822658 \nL 66.023594 79.429694 \nL 66.023594 78.036731 \nL 66.023594 76.643767 \nL 66.023594 75.250787 \nL 66.023594 73.857824 \nL 66.023594 72.46486 \nL 66.023594 71.071897 \nL 66.023594 69.678933 \nL 66.023594 68.28597 \nL 66.023594 66.893006 \nL 66.023594 65.500043 \nL 66.023594 64.107079 \nL 66.023594 62.714116 \nL 66.023594 61.321153 \nL 66.023594 59.928189 \nL 66.023594 58.535209 \nL 66.023594 57.142245 \nL 66.023594 55.749282 \nL 66.023594 54.356318 \nL 66.023594 52.963355 \nL 66.023594 51.570391 \nL 66.023594 50.177428 \nL 66.023594 48.784465 \nL 66.023594 47.391501 \nL 66.023594 45.998538 \nL 66.023594 44.605574 \nL 66.023594 43.212611 \nL 66.023594 41.819647 \nL 66.023594 40.426667 \nL 66.023594 39.033703 \nL 66.023594 37.64074 \nL 66.023594 36.247776 \nL 66.023594 34.854813 \nL 66.023594 33.46185 \nL 66.023594 32.068886 \nL 66.023594 30.675923 \nL 66.023594 29.282959 \nL 66.023594 27.889996 \nL 66.023594 26.497032 \nL 66.023594 25.104069 \nL 66.023594 23.711105 \nL 66.023594 22.318125 \nL 67.425602 22.318125 \nL 68.827615 22.318125 \nL 70.229624 22.318125 \nL 71.631633 22.318125 \nL 73.033646 22.318125 \nL 74.435654 22.318125 \nL 75.837663 22.318125 \nL 77.239672 22.318125 \nL 78.641685 22.318125 \nL 80.043693 22.318125 \nL 81.445702 22.318125 \nL 82.847715 22.318125 \nL 84.249724 22.318125 \nL 85.651732 22.318125 \nL 87.053745 22.318125 \nL 88.455754 22.318125 \nL 89.857763 22.318125 \nL 91.259776 22.318125 \nL 92.661784 22.318125 \nL 94.063793 22.318125 \nL 95.465806 22.318125 \nL 96.867815 22.318125 \nL 98.269823 22.318125 \nL 99.671836 22.318125 \nL 101.073845 22.318125 \nL 102.475854 22.318125 \nL 103.877864 22.318125 \nL 105.279875 22.318125 \nL 106.681884 22.318125 \nL 108.083895 22.318125 \nL 109.485903 22.318125 \nL 110.887914 22.318125 \nL 112.289925 22.318125 \nL 113.691934 22.318125 \nL 115.093944 22.318125 \nL 116.495953 22.318125 \nL 117.897964 22.318125 \nL 119.299975 22.318125 \nL 120.701984 22.318125 \nL 122.103994 22.318125 \nL 123.506004 22.318125 \nL 124.908014 22.318125 \nL 126.310025 22.318125 \nL 127.712034 22.318125 \nL 129.114044 22.318125 \nL 130.516054 22.318125 \nL 131.918064 22.318125 \nL 133.320074 22.318125 \nL 134.722084 22.318125 \nL 136.124094 22.318125 \nL 137.526104 22.318125 \nL 138.928114 22.318125 \nL 140.330124 22.318125 \nL 141.732134 22.318125 \nL 143.134145 22.318125 \nL 144.536154 22.318125 \nL 145.938164 22.318125 \nL 147.340174 22.318125 \nL 148.742185 22.318125 \nL 150.144194 22.318125 \nL 151.546204 22.318125 \nL 152.948215 22.318125 \nL 154.350224 22.318125 \nL 155.752235 22.318125 \nL 157.154245 22.318125 \nL 158.556254 22.318125 \nL 159.958265 22.318125 \nL 161.360274 22.318125 \nL 162.762284 22.318125 \nL 164.164295 22.318125 \nL 165.566304 22.318125 \nL 166.968315 22.318125 \nL 168.370325 22.318125 \nL 169.772334 22.318125 \nL 171.174345 22.318125 \nL 172.576356 22.318125 \nL 173.978364 22.318125 \nL 175.380373 22.318125 \nL 176.782386 22.318125 \nL 178.184395 22.318125 \nL 179.586403 22.318125 \nL 180.988416 22.318125 \nL 182.390425 22.318125 \nL 183.792434 22.318125 \nL 185.194447 22.318125 \nL 186.596455 22.318125 \nL 187.998464 22.318125 \nL 189.400477 22.318125 \nL 190.802486 22.318125 \nL 192.204494 22.318125 \nL 193.606503 22.318125 \nL 195.008516 22.318125 \nL 196.410525 22.318125 \nL 197.812533 22.318125 \nL 199.214546 22.318125 \nL 200.616555 22.318125 \nL 202.018564 22.318125 \nL 203.420577 22.318125 \nL 204.822585 22.318125 \nL 206.224594 22.318125 \nL 207.626607 22.318125 \nL 209.028616 22.318125 \nL 210.430624 22.318125 \nL 211.832633 22.318125 \nL 213.234642 22.318125 \nL 214.636659 22.318125 \nL 216.038667 22.318125 \nL 217.440676 22.318125 \nL 218.842685 22.318125 \nL 220.244694 22.318125 \nL 221.646702 22.318125 \nL 223.048719 22.318125 \nL 224.450728 22.318125 \nL 225.852737 22.318125 \nL 227.254745 22.318125 \nL 228.656754 22.318125 \nL 230.058763 22.318125 \nL 231.460772 22.318125 \nL 232.862789 22.318125 \nL 234.264797 22.318125 \nL 235.666806 22.318125 \nL 237.068815 22.318125 \nL 238.470823 22.318125 \nL 239.872832 22.318125 \nL 241.274849 22.318125 \nL 242.676858 22.318125 \nL 244.078867 22.318125 \nL 245.480875 22.318125 \nL 246.882884 22.318125 \nL 248.284893 22.318125 \nL 249.686901 22.318125 \nL 251.088918 22.318125 \nL 252.490927 22.318125 \nL 253.892936 22.318125 \nL 255.294945 22.318125 \nL 256.696953 22.318125 \nL 258.098962 22.318125 \nL 259.500979 22.318125 \nL 260.902988 22.318125 \nL 262.304997 22.318125 \nL 263.707005 22.318125 \nL 265.109014 22.318125 \nL 266.511023 22.318125 \nL 267.913031 22.318125 \nL 269.315048 22.318125 \nL 270.717057 22.318125 \nL 272.119066 22.318125 \nL 273.521075 22.318125 \nL 274.923083 22.318125 \nL 276.325092 22.318125 \nL 277.727109 22.318125 \nL 279.129118 22.318125 \nL 280.531126 22.318125 \nL 281.933135 22.318125 \nL 283.335144 22.318125 \nL 284.737153 22.318125 \nL 286.139161 22.318125 \nL 287.54117 22.318125 \nL 288.943179 22.318125 \nL 290.345187 22.318125 \nL 291.747213 22.318125 \nL 293.149221 22.318125 \nL 294.55123 22.318125 \nL 295.953239 22.318125 \nL 297.355248 22.318125 \nL 298.757256 22.318125 \nL 300.159265 22.318125 \nL 301.561274 22.318125 \nL 302.963282 22.318125 \nL 304.365291 22.318125 \nL 305.7673 22.318125 \nL 307.169309 22.318125 \nL 308.571334 22.318125 \nL 309.973343 22.318125 \nL 311.375351 22.318125 \nL 312.77736 22.318125 \nL 314.179369 22.318125 \nL 315.581377 22.318125 \nL 316.983386 22.318125 \nL 318.385395 22.318125 \nL 319.787404 22.318125 \nL 321.189412 22.318125 \nL 322.591421 22.318125 \nL 323.99343 22.318125 \nL 325.395438 22.318125 \nL 326.797464 22.318125 \nL 328.199473 22.318125 \nL 329.601481 22.318125 \nL 331.00349 22.318125 \nL 332.405499 22.318125 \nL 333.807507 22.318125 \nL 335.209516 22.318125 \nL 336.611525 22.318125 \nL 338.013534 22.318125 \nL 339.415542 22.318125 \nL 340.817551 22.318125 \nL 342.21956 22.318125 \nL 343.621568 22.318125 \nL 345.023594 22.318125 \nL 345.023594 23.711105 \nL 345.023594 25.104069 \nL 345.023594 26.497032 \nL 345.023594 27.889996 \nL 345.023594 29.282959 \nL 345.023594 30.675923 \nL 345.023594 32.068886 \nL 345.023594 33.46185 \nL 345.023594 34.854813 \nL 345.023594 36.247776 \nL 345.023594 37.64074 \nL 345.023594 39.033703 \nL 345.023594 40.426667 \nL 345.023594 41.819647 \nL 345.023594 43.212611 \nL 345.023594 44.605574 \nL 345.023594 45.998538 \nL 345.023594 47.391501 \nL 345.023594 48.784465 \nL 345.023594 50.177428 \nL 345.023594 51.570391 \nL 345.023594 52.963355 \nL 345.023594 54.356318 \nL 345.023594 55.749282 \nL 345.023594 57.142245 \nL 345.023594 58.535209 \nL 345.023594 59.928189 \nL 345.023594 61.321153 \nL 345.023594 62.714116 \nL 345.023594 64.107079 \nL 345.023594 65.500043 \nL 345.023594 66.893006 \nL 345.023594 68.28597 \nL 345.023594 69.678933 \nL 345.023594 71.071897 \nL 345.023594 72.46486 \nL 345.023594 73.857824 \nL 345.023594 75.250787 \nL 345.023594 76.643767 \nL 345.023594 78.036731 \nL 345.023594 79.429694 \nL 345.023594 80.822658 \nL 345.023594 82.215621 \nL 345.023594 83.608585 \nL 345.023594 85.001548 \nL 345.023594 86.394512 \nL 345.023594 87.787475 \nL 345.023594 89.180439 \nL 345.023594 90.573411 \nL 345.023594 91.966374 \nL 345.023594 92.799661 \nL 344.300082 93.359338 \nL 343.621568 93.883114 \nL 342.499387 94.752301 \nL 342.21956 94.968597 \nL 340.817551 96.055129 \nL 340.701415 96.145265 \nL 339.415542 97.141173 \nL 338.904643 97.538228 \nL 338.013534 98.229338 \nL 337.111646 98.9312 \nL 336.611525 99.319617 \nL 335.322475 100.324163 \nL 335.209516 100.412015 \nL 333.807507 101.504085 \nL 333.534728 101.717127 \nL 332.405499 102.597287 \nL 331.749861 103.11009 \nL 331.00349 103.692697 \nL 329.968936 104.503054 \nL 329.601481 104.790305 \nL 328.199473 105.890045 \nL 328.191866 105.896017 \nL 326.797464 106.988679 \nL 326.41556 107.288981 \nL 325.395438 108.089542 \nL 324.643223 108.681953 \nL 323.99343 109.192719 \nL 322.874997 110.074916 \nL 322.591421 110.29816 \nL 321.189412 111.405168 \nL 321.110115 111.46788 \nL 319.787404 112.511894 \nL 319.346873 112.860843 \nL 318.385395 113.620959 \nL 317.587743 114.253807 \nL 316.983386 114.732407 \nL 315.832835 115.64677 \nL 315.581377 115.846231 \nL 314.179369 116.961474 \nL 314.08116 117.039742 \nL 312.77736 118.076854 \nL 312.33161 118.432705 \nL 311.375351 119.194675 \nL 310.586285 119.825669 \nL 309.973343 120.314935 \nL 308.845278 121.218632 \nL 308.571334 121.437691 \nL 307.169309 122.562303 \nL 307.107962 122.611596 \nL 305.7673 123.686882 \nL 305.372647 124.004559 \nL 304.365291 124.81397 \nL 303.641698 125.397523 \nL 302.963282 125.943659 \nL 301.91508 126.790495 \nL 301.561274 127.075833 \nL 300.192806 128.183458 \nL 300.159265 128.210559 \nL 298.757256 129.345249 \nL 298.472591 129.576422 \nL 297.355248 130.482213 \nL 296.756481 130.969385 \nL 295.953239 131.621783 \nL 295.044805 132.362349 \nL 294.55123 132.764025 \nL 293.337587 133.755312 \nL 293.149221 133.908907 \nL 291.747213 135.055359 \nL 291.633843 135.148284 \nL 290.345187 136.202717 \nL 289.933011 136.541247 \nL 288.943179 137.352834 \nL 288.236725 137.934211 \nL 287.54117 138.505667 \nL 286.544897 139.327174 \nL 286.139161 139.661181 \nL 284.857562 140.720138 \nL 284.737153 140.819467 \nL 283.335144 141.978957 \nL 283.173412 142.113101 \nL 281.933135 143.140114 \nL 281.492834 143.506065 \nL 280.531126 144.304027 \nL 279.816714 144.899037 \nL 279.129118 145.470797 \nL 278.145182 146.292 \nL 277.727109 146.640365 \nL 276.478101 147.684964 \nL 276.325092 147.81273 \nL 274.923083 148.986932 \nL 274.814723 149.077927 \nL 273.521075 150.162506 \nL 273.154643 150.470891 \nL 272.119066 151.340997 \nL 271.499089 151.863854 \nL 270.717057 152.522333 \nL 269.848017 153.256826 \nL 269.315048 153.706565 \nL 268.201419 154.649789 \nL 267.913031 154.893679 \nL 266.559366 156.042753 \nL 266.511023 156.083726 \nL 265.109014 157.274823 \nL 264.920286 157.435716 \nL 263.707005 158.468437 \nL 263.285358 158.82868 \nL 262.304997 159.664978 \nL 261.654889 160.221647 \nL 260.902988 160.864475 \nL 260.028861 161.614611 \nL 259.500979 162.066922 \nL 258.407243 163.007574 \nL 258.098962 163.2723 \nL 256.790004 164.400542 \nL 256.696953 164.480626 \nL 255.294945 165.690756 \nL 255.176274 165.793506 \nL 253.892936 166.902952 \nL 253.566225 167.186469 \nL 252.490927 168.118162 \nL 251.96055 168.579437 \nL 251.088918 169.336349 \nL 250.359208 169.9724 \nL 249.686901 170.557518 \nL 248.762125 171.365364 \nL 248.284893 171.781638 \nL 247.169311 172.758331 \nL 246.882884 173.008728 \nL 245.580734 174.151295 \nL 245.480875 174.238785 \nL 244.078867 175.471005 \nL 243.995776 175.544258 \nL 242.676858 176.705237 \nL 242.414294 176.937222 \nL 241.274849 177.942434 \nL 240.836954 178.330189 \nL 239.872832 179.182616 \nL 239.263728 179.723153 \nL 238.470823 180.425751 \nL 237.69461 181.116116 \nL 237.068815 181.671845 \nL 236.129485 182.509084 \nL 235.666806 182.920867 \nL 234.568363 183.902047 \nL 234.264797 184.1728 \nL 233.011197 185.295011 \nL 232.862789 185.427665 \nL 231.460772 186.685359 \nL 231.457859 186.687979 \nL 230.058763 187.944566 \nL 229.907475 188.080942 \nL 228.656754 189.20663 \nL 228.360884 189.473906 \nL 227.254745 190.471603 \nL 226.818118 190.866873 \nL 225.852737 191.739469 \nL 225.279099 192.259837 \nL 224.450728 193.01012 \nL 223.743731 193.6528 \nL 223.048719 194.283625 \nL 222.212046 195.045766 \nL 221.646702 195.559947 \nL 220.683894 196.438731 \nL 220.244694 196.839 \nL 219.159291 197.831695 \nL 218.842685 198.120814 \nL 217.638181 199.22466 \nL 217.440676 199.405382 \nL 216.120501 200.617626 \nL 216.038667 200.692652 \nL 214.636659 201.982239 \nL 214.605931 202.010589 \nL 213.234642 203.273774 \nL 213.094254 203.403555 \nL 211.832633 204.567987 \nL 211.585886 204.796521 \nL 210.430624 205.864769 \nL 210.080686 206.189484 \nL 209.028616 207.16414 \nL 208.578653 207.58245 \nL 207.626607 208.466108 \nL 207.079767 208.975413 \nL 206.224594 209.77059 \nL 205.583893 210.368379 \nL 204.822585 211.077533 \nL 204.090975 211.761344 \nL 203.420577 212.386947 \nL 202.601038 213.154308 \nL 202.018564 213.698788 \nL 201.11392 214.547273 \nL 200.616555 215.012997 \nL 199.629605 215.940238 \nL 199.214546 216.329546 \nL 198.14803 217.333202 \nL 197.812533 217.648397 \nL 196.669102 218.726168 \nL 196.410525 218.969498 \nL 195.192824 220.119132 \nL 195.008516 220.292844 \nL 193.71909 221.512097 \nL 193.606503 221.61838 \nL 192.247836 222.905061 \nL 192.204494 222.946037 \nL 190.802486 224.275525 \nL 190.778828 224.298027 \nL 189.400477 225.60674 \nL 189.312026 225.690991 \nL 187.998464 226.939981 \nL 187.847527 227.083956 \nL 186.596455 228.275177 \nL 186.385241 228.476921 \nL 185.194447 229.612308 \nL 184.925155 229.869886 \nL 183.792434 230.951379 \nL 183.467209 231.26285 \nL 182.390425 232.29224 \nL 182.011285 232.655815 \nL 180.988416 233.634894 \nL 180.557344 234.04878 \nL 179.586403 234.979338 \nL 179.105365 235.441745 \nL 178.184395 236.325428 \nL 177.655236 236.83471 \nL 176.782386 237.6732 \nL 176.206894 238.227674 \nL 175.380373 239.022561 \nL 174.760311 239.620639 \nL 173.978364 240.373458 \nL 173.31537 241.013604 \nL 172.576356 241.725824 \nL 171.87205 242.406569 \nL 171.174345 243.079666 \nL 170.430276 243.799534 \nL 169.772334 244.434874 \nL 168.989978 245.192498 \nL 168.370325 245.791431 \nL 167.5511 246.585463 \nL 166.968315 247.149264 \nL 166.11359 247.978428 \nL 165.566304 248.508333 \nL 164.677402 249.371394 \nL 164.164295 249.86861 \nL 163.242415 250.764357 \nL 162.762284 251.229985 \nL 161.808626 252.157323 \nL 161.360274 252.592461 \nL 160.375946 253.550286 \nL 159.958265 253.955936 \nL 158.944319 254.943252 \nL 158.556254 255.320387 \nL 157.513706 256.336217 \nL 157.154245 256.685775 \nL 156.084026 257.729181 \nL 155.752235 258.05202 \nL 154.655204 259.122146 \nL 154.350224 259.41907 \nL 153.22726 260.51511 \nL 152.948215 260.786916 \nL 151.800024 261.908076 \nL 151.546204 262.155436 \nL 150.373552 263.301041 \nL 150.144194 263.524658 \nL 148.947724 264.694005 \nL 148.742185 264.894477 \nL 147.522469 266.086968 \nL 147.340174 266.264842 \nL 146.097786 267.479936 \nL 145.938164 267.635735 \nL 144.673596 268.872899 \nL 144.536154 269.007092 \nL 143.249852 270.265863 \nL 143.134145 270.378865 \nL 141.826498 271.65883 \nL 141.732134 271.75101 \nL 140.403499 273.051794 \nL 140.330124 273.123484 \nL 138.98074 274.444757 \nL 138.928114 274.496183 \nL 137.558278 275.837725 \nL 137.526104 275.86917 \nL 136.135955 277.230688 \nL 136.124094 277.242281 \nL 134.722084 278.615505 \nL 134.713785 278.623652 \nL 133.320074 279.98873 \nL 133.29166 280.01662 \nL 131.918064 281.361972 \nL 131.869556 281.409583 \nL 130.516054 282.735235 \nL 130.447471 282.802547 \nL 129.114044 284.108492 \nL 129.025368 284.195514 \nL 127.712034 285.481641 \nL 127.603156 285.588478 \nL 126.310025 286.854632 \nL 126.180775 286.981441 \nL 124.908014 288.227524 \nL 124.758272 288.374409 \nL 123.506004 289.600162 \nL 123.335508 289.767372 \nL 122.103994 290.972605 \nL 121.912528 291.160336 \nL 120.701984 292.34474 \nL 120.489215 292.553299 \nL 119.299975 293.716565 \nL 119.06557 293.946267 \nL 117.897964 295.088047 \nL 117.641562 295.33923 \nL 116.495953 296.459115 \nL 116.217095 296.732194 \nL 115.093944 297.829778 \nL 114.792202 298.125162 \nL 113.691934 299.199987 \nL 113.36681 299.518125 \nL 112.289925 299.518125 \nL 110.887914 299.518125 \nL 109.485903 299.518125 \nL 108.083895 299.518125 \nL 106.681884 299.518125 \nL 105.279875 299.518125 \nL 103.877864 299.518125 \nL 102.475854 299.518125 \nL 101.073845 299.518125 \nL 99.671836 299.518125 \nL 98.269823 299.518125 \nL 96.867815 299.518125 \nL 95.465806 299.518125 \nL 94.063793 299.518125 \nL 92.661784 299.518125 \nL 91.259776 299.518125 \nL 89.857763 299.518125 \nL 88.455754 299.518125 \nL 87.053745 299.518125 \nL 85.651732 299.518125 \nL 84.249724 299.518125 \nL 82.847715 299.518125 \nL 81.445702 299.518125 \nL 80.043693 299.518125 \nL 78.641685 299.518125 \nL 77.239672 299.518125 \nL 75.837663 299.518125 \nL 74.435654 299.518125 \nL 73.033646 299.518125 \nL 71.631633 299.518125 \nL 70.229624 299.518125 \nL 68.827615 299.518125 \nL 67.425602 299.518125 \nL 66.023594 299.518125 \nz\n\" clip-path=\"url(#pe963049d48)\" style=\"fill: #0000ff; fill-opacity: 0.3\"/>\n    <path d=\"M 113.691934 299.199987 \nL 114.792202 298.125162 \nL 115.093944 297.829778 \nL 116.217095 296.732194 \nL 116.495953 296.459115 \nL 117.641562 295.33923 \nL 117.897964 295.088047 \nL 119.06557 293.946267 \nL 119.299975 293.716565 \nL 120.489215 292.553299 \nL 120.701984 292.34474 \nL 121.912528 291.160336 \nL 122.103994 290.972605 \nL 123.335508 289.767372 \nL 123.506004 289.600162 \nL 124.758272 288.374409 \nL 124.908014 288.227524 \nL 126.180775 286.981441 \nL 126.310025 286.854632 \nL 127.603156 285.588478 \nL 127.712034 285.481641 \nL 129.025368 284.195514 \nL 129.114044 284.108492 \nL 130.447471 282.802547 \nL 130.516054 282.735235 \nL 131.869556 281.409583 \nL 131.918064 281.361972 \nL 133.29166 280.01662 \nL 133.320074 279.98873 \nL 134.713785 278.623652 \nL 134.722084 278.615505 \nL 136.124094 277.242281 \nL 136.135955 277.230688 \nL 137.526104 275.86917 \nL 137.558278 275.837725 \nL 138.928114 274.496183 \nL 138.98074 274.444757 \nL 140.330124 273.123484 \nL 140.403499 273.051794 \nL 141.732134 271.75101 \nL 141.826498 271.65883 \nL 143.134145 270.378865 \nL 143.249852 270.265863 \nL 144.536154 269.007092 \nL 144.673596 268.872899 \nL 145.938164 267.635735 \nL 146.097786 267.479936 \nL 147.340174 266.264842 \nL 147.522469 266.086968 \nL 148.742185 264.894477 \nL 148.947724 264.694005 \nL 150.144194 263.524658 \nL 150.373552 263.301041 \nL 151.546204 262.155436 \nL 151.800024 261.908076 \nL 152.948215 260.786916 \nL 153.22726 260.51511 \nL 154.350224 259.41907 \nL 154.655204 259.122146 \nL 155.752235 258.05202 \nL 156.084026 257.729181 \nL 157.154245 256.685775 \nL 157.513706 256.336217 \nL 158.556254 255.320387 \nL 158.944319 254.943252 \nL 159.958265 253.955936 \nL 160.375946 253.550286 \nL 161.360274 252.592461 \nL 161.808626 252.157323 \nL 162.762284 251.229985 \nL 163.242415 250.764357 \nL 164.164295 249.86861 \nL 164.677402 249.371394 \nL 165.566304 248.508333 \nL 166.11359 247.978428 \nL 166.968315 247.149264 \nL 167.5511 246.585463 \nL 168.370325 245.791431 \nL 168.989978 245.192498 \nL 169.772334 244.434874 \nL 170.430276 243.799534 \nL 171.174345 243.079666 \nL 171.87205 242.406569 \nL 172.576356 241.725824 \nL 173.31537 241.013604 \nL 173.978364 240.373458 \nL 174.760311 239.620639 \nL 175.380373 239.022561 \nL 176.206894 238.227674 \nL 176.782386 237.6732 \nL 177.655236 236.83471 \nL 178.184395 236.325428 \nL 179.105365 235.441745 \nL 179.586403 234.979338 \nL 180.557344 234.04878 \nL 180.988416 233.634894 \nL 182.011285 232.655815 \nL 182.390425 232.29224 \nL 183.467209 231.26285 \nL 183.792434 230.951379 \nL 184.925155 229.869886 \nL 185.194447 229.612308 \nL 186.385241 228.476921 \nL 186.596455 228.275177 \nL 187.847527 227.083956 \nL 187.998464 226.939981 \nL 189.312026 225.690991 \nL 189.400477 225.60674 \nL 190.778828 224.298027 \nL 190.802486 224.275525 \nL 192.204494 222.946037 \nL 192.247836 222.905061 \nL 193.606503 221.61838 \nL 193.71909 221.512097 \nL 195.008516 220.292844 \nL 195.192824 220.119132 \nL 196.410525 218.969498 \nL 196.669102 218.726168 \nL 197.812533 217.648397 \nL 198.14803 217.333202 \nL 199.214546 216.329546 \nL 199.629605 215.940238 \nL 200.616555 215.012997 \nL 201.11392 214.547273 \nL 202.018564 213.698788 \nL 202.601038 213.154308 \nL 203.420577 212.386947 \nL 204.090975 211.761344 \nL 204.822585 211.077533 \nL 205.583893 210.368379 \nL 206.224594 209.77059 \nL 207.079767 208.975413 \nL 207.626607 208.466108 \nL 208.578653 207.58245 \nL 209.028616 207.16414 \nL 210.080686 206.189484 \nL 210.430624 205.864769 \nL 211.585886 204.796521 \nL 211.832633 204.567987 \nL 213.094254 203.403555 \nL 213.234642 203.273774 \nL 214.605931 202.010589 \nL 214.636659 201.982239 \nL 216.038667 200.692652 \nL 216.120501 200.617626 \nL 217.440676 199.405382 \nL 217.638181 199.22466 \nL 218.842685 198.120814 \nL 219.159291 197.831695 \nL 220.244694 196.839 \nL 220.683894 196.438731 \nL 221.646702 195.559947 \nL 222.212046 195.045766 \nL 223.048719 194.283625 \nL 223.743731 193.6528 \nL 224.450728 193.01012 \nL 225.279099 192.259837 \nL 225.852737 191.739469 \nL 226.818118 190.866873 \nL 227.254745 190.471603 \nL 228.360884 189.473906 \nL 228.656754 189.20663 \nL 229.907475 188.080942 \nL 230.058763 187.944566 \nL 231.457859 186.687979 \nL 231.460772 186.685359 \nL 232.862789 185.427665 \nL 233.011197 185.295011 \nL 234.264797 184.1728 \nL 234.568363 183.902047 \nL 235.666806 182.920867 \nL 236.129485 182.509084 \nL 237.068815 181.671845 \nL 237.69461 181.116116 \nL 238.470823 180.425751 \nL 239.263728 179.723153 \nL 239.872832 179.182616 \nL 240.836954 178.330189 \nL 241.274849 177.942434 \nL 242.414294 176.937222 \nL 242.676858 176.705237 \nL 243.995776 175.544258 \nL 244.078867 175.471005 \nL 245.480875 174.238785 \nL 245.580734 174.151295 \nL 246.882884 173.008728 \nL 247.169311 172.758331 \nL 248.284893 171.781638 \nL 248.762125 171.365364 \nL 249.686901 170.557518 \nL 250.359208 169.9724 \nL 251.088918 169.336349 \nL 251.96055 168.579437 \nL 252.490927 168.118162 \nL 253.566225 167.186469 \nL 253.892936 166.902952 \nL 255.176274 165.793506 \nL 255.294945 165.690756 \nL 256.696953 164.480626 \nL 256.790004 164.400542 \nL 258.098962 163.2723 \nL 258.407243 163.007574 \nL 259.500979 162.066922 \nL 260.028861 161.614611 \nL 260.902988 160.864475 \nL 261.654889 160.221647 \nL 262.304997 159.664978 \nL 263.285358 158.82868 \nL 263.707005 158.468437 \nL 264.920286 157.435716 \nL 265.109014 157.274823 \nL 266.511023 156.083726 \nL 266.559366 156.042753 \nL 267.913031 154.893679 \nL 268.201419 154.649789 \nL 269.315048 153.706565 \nL 269.848017 153.256826 \nL 270.717057 152.522333 \nL 271.499089 151.863854 \nL 272.119066 151.340997 \nL 273.154643 150.470891 \nL 273.521075 150.162506 \nL 274.814723 149.077927 \nL 274.923083 148.986932 \nL 276.325092 147.81273 \nL 276.478101 147.684964 \nL 277.727109 146.640365 \nL 278.145182 146.292 \nL 279.129118 145.470797 \nL 279.816714 144.899037 \nL 280.531126 144.304027 \nL 281.492834 143.506065 \nL 281.933135 143.140114 \nL 283.173412 142.113101 \nL 283.335144 141.978957 \nL 284.737153 140.819467 \nL 284.857562 140.720138 \nL 286.139161 139.661181 \nL 286.544897 139.327174 \nL 287.54117 138.505667 \nL 288.236725 137.934211 \nL 288.943179 137.352834 \nL 289.933011 136.541247 \nL 290.345187 136.202717 \nL 291.633843 135.148284 \nL 291.747213 135.055359 \nL 293.149221 133.908907 \nL 293.337587 133.755312 \nL 294.55123 132.764025 \nL 295.044805 132.362349 \nL 295.953239 131.621783 \nL 296.756481 130.969385 \nL 297.355248 130.482213 \nL 298.472591 129.576422 \nL 298.757256 129.345249 \nL 300.159265 128.210559 \nL 300.192806 128.183458 \nL 301.561274 127.075833 \nL 301.91508 126.790495 \nL 302.963282 125.943659 \nL 303.641698 125.397523 \nL 304.365291 124.81397 \nL 305.372647 124.004559 \nL 305.7673 123.686882 \nL 307.107962 122.611596 \nL 307.169309 122.562303 \nL 308.571334 121.437691 \nL 308.845278 121.218632 \nL 309.973343 120.314935 \nL 310.586285 119.825669 \nL 311.375351 119.194675 \nL 312.33161 118.432705 \nL 312.77736 118.076854 \nL 314.08116 117.039742 \nL 314.179369 116.961474 \nL 315.581377 115.846231 \nL 315.832835 115.64677 \nL 316.983386 114.732407 \nL 317.587743 114.253807 \nL 318.385395 113.620959 \nL 319.346873 112.860843 \nL 319.787404 112.511894 \nL 321.110115 111.46788 \nL 321.189412 111.405168 \nL 322.591421 110.29816 \nL 322.874997 110.074916 \nL 323.99343 109.192719 \nL 324.643223 108.681953 \nL 325.395438 108.089542 \nL 326.41556 107.288981 \nL 326.797464 106.988679 \nL 328.191866 105.896017 \nL 328.199473 105.890045 \nL 329.601481 104.790305 \nL 329.968936 104.503054 \nL 331.00349 103.692697 \nL 331.749861 103.11009 \nL 332.405499 102.597287 \nL 333.534728 101.717127 \nL 333.807507 101.504085 \nL 335.209516 100.412015 \nL 335.322475 100.324163 \nL 336.611525 99.319617 \nL 337.111646 98.9312 \nL 338.013534 98.229338 \nL 338.904643 97.538228 \nL 339.415542 97.141173 \nL 340.701415 96.145265 \nL 340.817551 96.055129 \nL 342.21956 94.968597 \nL 342.499387 94.752301 \nL 343.621568 93.883114 \nL 344.300082 93.359338 \nL 345.023594 92.799661 \nL 345.023594 93.359338 \nL 345.023594 94.752301 \nL 345.023594 96.145265 \nL 345.023594 97.538228 \nL 345.023594 98.9312 \nL 345.023594 100.324163 \nL 345.023594 101.717127 \nL 345.023594 103.11009 \nL 345.023594 104.503054 \nL 345.023594 105.896017 \nL 345.023594 107.288981 \nL 345.023594 108.681953 \nL 345.023594 110.074916 \nL 345.023594 111.46788 \nL 345.023594 112.860843 \nL 345.023594 114.253807 \nL 345.023594 115.64677 \nL 345.023594 117.039742 \nL 345.023594 118.432705 \nL 345.023594 119.825669 \nL 345.023594 121.218632 \nL 345.023594 122.611596 \nL 345.023594 124.004559 \nL 345.023594 125.397523 \nL 345.023594 126.790495 \nL 345.023594 128.183458 \nL 345.023594 129.576422 \nL 345.023594 130.969385 \nL 345.023594 132.362349 \nL 345.023594 133.755312 \nL 345.023594 135.148284 \nL 345.023594 136.541247 \nL 345.023594 137.934211 \nL 345.023594 139.327174 \nL 345.023594 140.720138 \nL 345.023594 142.113101 \nL 345.023594 143.506065 \nL 345.023594 144.899037 \nL 345.023594 146.292 \nL 345.023594 147.684964 \nL 345.023594 149.077927 \nL 345.023594 150.470891 \nL 345.023594 151.863854 \nL 345.023594 153.256826 \nL 345.023594 154.649789 \nL 345.023594 156.042753 \nL 345.023594 157.435716 \nL 345.023594 158.82868 \nL 345.023594 160.221647 \nL 345.023594 161.614611 \nL 345.023594 163.007574 \nL 345.023594 164.400542 \nL 345.023594 165.793506 \nL 345.023594 167.186469 \nL 345.023594 168.579437 \nL 345.023594 169.9724 \nL 345.023594 171.365364 \nL 345.023594 172.758331 \nL 345.023594 174.151295 \nL 345.023594 175.544258 \nL 345.023594 176.937222 \nL 345.023594 178.330189 \nL 345.023594 179.723153 \nL 345.023594 181.116116 \nL 345.023594 182.509084 \nL 345.023594 183.902047 \nL 345.023594 185.295011 \nL 345.023594 186.687979 \nL 345.023594 188.080942 \nL 345.023594 189.473906 \nL 345.023594 190.866873 \nL 345.023594 192.259837 \nL 345.023594 193.6528 \nL 345.023594 195.045766 \nL 345.023594 196.438731 \nL 345.023594 197.831695 \nL 345.023594 199.22466 \nL 345.023594 200.617626 \nL 345.023594 202.010589 \nL 345.023594 203.403555 \nL 345.023594 204.796521 \nL 345.023594 206.189484 \nL 345.023594 207.58245 \nL 345.023594 208.975413 \nL 345.023594 210.368379 \nL 345.023594 211.761344 \nL 345.023594 213.154308 \nL 345.023594 214.547273 \nL 345.023594 215.940238 \nL 345.023594 217.333202 \nL 345.023594 218.726168 \nL 345.023594 220.119132 \nL 345.023594 221.512097 \nL 345.023594 222.905061 \nL 345.023594 224.298027 \nL 345.023594 225.690991 \nL 345.023594 227.083956 \nL 345.023594 228.476921 \nL 345.023594 229.869886 \nL 345.023594 231.26285 \nL 345.023594 232.655815 \nL 345.023594 234.04878 \nL 345.023594 235.441745 \nL 345.023594 236.83471 \nL 345.023594 238.227674 \nL 345.023594 239.620639 \nL 345.023594 241.013604 \nL 345.023594 242.406569 \nL 345.023594 243.799534 \nL 345.023594 245.192498 \nL 345.023594 246.585463 \nL 345.023594 247.978428 \nL 345.023594 249.371394 \nL 345.023594 250.764357 \nL 345.023594 252.157323 \nL 345.023594 253.550286 \nL 345.023594 254.943252 \nL 345.023594 256.336217 \nL 345.023594 257.729181 \nL 345.023594 259.122146 \nL 345.023594 260.51511 \nL 345.023594 261.908076 \nL 345.023594 263.301041 \nL 345.023594 264.694005 \nL 345.023594 266.086968 \nL 345.023594 267.479936 \nL 345.023594 268.872899 \nL 345.023594 270.265863 \nL 345.023594 271.65883 \nL 345.023594 273.051794 \nL 345.023594 274.444757 \nL 345.023594 275.837725 \nL 345.023594 277.230688 \nL 345.023594 278.623652 \nL 345.023594 280.01662 \nL 345.023594 281.409583 \nL 345.023594 282.802547 \nL 345.023594 284.195514 \nL 345.023594 285.588478 \nL 345.023594 286.981441 \nL 345.023594 288.374409 \nL 345.023594 289.767372 \nL 345.023594 291.160336 \nL 345.023594 292.553299 \nL 345.023594 293.946267 \nL 345.023594 295.33923 \nL 345.023594 296.732194 \nL 345.023594 298.125162 \nL 345.023594 299.518125 \nL 343.621568 299.518125 \nL 342.21956 299.518125 \nL 340.817551 299.518125 \nL 339.415542 299.518125 \nL 338.013534 299.518125 \nL 336.611525 299.518125 \nL 335.209516 299.518125 \nL 333.807507 299.518125 \nL 332.405499 299.518125 \nL 331.00349 299.518125 \nL 329.601481 299.518125 \nL 328.199473 299.518125 \nL 326.797464 299.518125 \nL 325.395438 299.518125 \nL 323.99343 299.518125 \nL 322.591421 299.518125 \nL 321.189412 299.518125 \nL 319.787404 299.518125 \nL 318.385395 299.518125 \nL 316.983386 299.518125 \nL 315.581377 299.518125 \nL 314.179369 299.518125 \nL 312.77736 299.518125 \nL 311.375351 299.518125 \nL 309.973343 299.518125 \nL 308.571334 299.518125 \nL 307.169309 299.518125 \nL 305.7673 299.518125 \nL 304.365291 299.518125 \nL 302.963282 299.518125 \nL 301.561274 299.518125 \nL 300.159265 299.518125 \nL 298.757256 299.518125 \nL 297.355248 299.518125 \nL 295.953239 299.518125 \nL 294.55123 299.518125 \nL 293.149221 299.518125 \nL 291.747213 299.518125 \nL 290.345187 299.518125 \nL 288.943179 299.518125 \nL 287.54117 299.518125 \nL 286.139161 299.518125 \nL 284.737153 299.518125 \nL 283.335144 299.518125 \nL 281.933135 299.518125 \nL 280.531126 299.518125 \nL 279.129118 299.518125 \nL 277.727109 299.518125 \nL 276.325092 299.518125 \nL 274.923083 299.518125 \nL 273.521075 299.518125 \nL 272.119066 299.518125 \nL 270.717057 299.518125 \nL 269.315048 299.518125 \nL 267.913031 299.518125 \nL 266.511023 299.518125 \nL 265.109014 299.518125 \nL 263.707005 299.518125 \nL 262.304997 299.518125 \nL 260.902988 299.518125 \nL 259.500979 299.518125 \nL 258.098962 299.518125 \nL 256.696953 299.518125 \nL 255.294945 299.518125 \nL 253.892936 299.518125 \nL 252.490927 299.518125 \nL 251.088918 299.518125 \nL 249.686901 299.518125 \nL 248.284893 299.518125 \nL 246.882884 299.518125 \nL 245.480875 299.518125 \nL 244.078867 299.518125 \nL 242.676858 299.518125 \nL 241.274849 299.518125 \nL 239.872832 299.518125 \nL 238.470823 299.518125 \nL 237.068815 299.518125 \nL 235.666806 299.518125 \nL 234.264797 299.518125 \nL 232.862789 299.518125 \nL 231.460772 299.518125 \nL 230.058763 299.518125 \nL 228.656754 299.518125 \nL 227.254745 299.518125 \nL 225.852737 299.518125 \nL 224.450728 299.518125 \nL 223.048719 299.518125 \nL 221.646702 299.518125 \nL 220.244694 299.518125 \nL 218.842685 299.518125 \nL 217.440676 299.518125 \nL 216.038667 299.518125 \nL 214.636659 299.518125 \nL 213.234642 299.518125 \nL 211.832633 299.518125 \nL 210.430624 299.518125 \nL 209.028616 299.518125 \nL 207.626607 299.518125 \nL 206.224594 299.518125 \nL 204.822585 299.518125 \nL 203.420577 299.518125 \nL 202.018564 299.518125 \nL 200.616555 299.518125 \nL 199.214546 299.518125 \nL 197.812533 299.518125 \nL 196.410525 299.518125 \nL 195.008516 299.518125 \nL 193.606503 299.518125 \nL 192.204494 299.518125 \nL 190.802486 299.518125 \nL 189.400477 299.518125 \nL 187.998464 299.518125 \nL 186.596455 299.518125 \nL 185.194447 299.518125 \nL 183.792434 299.518125 \nL 182.390425 299.518125 \nL 180.988416 299.518125 \nL 179.586403 299.518125 \nL 178.184395 299.518125 \nL 176.782386 299.518125 \nL 175.380373 299.518125 \nL 173.978364 299.518125 \nL 172.576356 299.518125 \nL 171.174345 299.518125 \nL 169.772334 299.518125 \nL 168.370325 299.518125 \nL 166.968315 299.518125 \nL 165.566304 299.518125 \nL 164.164295 299.518125 \nL 162.762284 299.518125 \nL 161.360274 299.518125 \nL 159.958265 299.518125 \nL 158.556254 299.518125 \nL 157.154245 299.518125 \nL 155.752235 299.518125 \nL 154.350224 299.518125 \nL 152.948215 299.518125 \nL 151.546204 299.518125 \nL 150.144194 299.518125 \nL 148.742185 299.518125 \nL 147.340174 299.518125 \nL 145.938164 299.518125 \nL 144.536154 299.518125 \nL 143.134145 299.518125 \nL 141.732134 299.518125 \nL 140.330124 299.518125 \nL 138.928114 299.518125 \nL 137.526104 299.518125 \nL 136.124094 299.518125 \nL 134.722084 299.518125 \nL 133.320074 299.518125 \nL 131.918064 299.518125 \nL 130.516054 299.518125 \nL 129.114044 299.518125 \nL 127.712034 299.518125 \nL 126.310025 299.518125 \nL 124.908014 299.518125 \nL 123.506004 299.518125 \nL 122.103994 299.518125 \nL 120.701984 299.518125 \nL 119.299975 299.518125 \nL 117.897964 299.518125 \nL 116.495953 299.518125 \nL 115.093944 299.518125 \nL 113.691934 299.518125 \nL 113.36681 299.518125 \nz\n\" clip-path=\"url(#pe963049d48)\" style=\"fill: #ffa500; fill-opacity: 0.3\"/>\n   </g>\n   <g id=\"PathCollection_1\">\n    <defs>\n     <path id=\"m97b6ea1f04\" d=\"M 0 3 \nC 0.795609 3 1.55874 2.683901 2.12132 2.12132 \nC 2.683901 1.55874 3 0.795609 3 0 \nC 3 -0.795609 2.683901 -1.55874 2.12132 -2.12132 \nC 1.55874 -2.683901 0.795609 -3 0 -3 \nC -0.795609 -3 -1.55874 -2.683901 -2.12132 -2.12132 \nC -2.683901 -1.55874 -3 -0.795609 -3 0 \nC -3 0.795609 -2.683901 1.55874 -2.12132 2.12132 \nC -1.55874 2.683901 -0.795609 3 0 3 \nz\n\" style=\"stroke: #1a1a1a\"/>\n    </defs>\n    <g clip-path=\"url(#pe963049d48)\">\n     <use xlink:href=\"#m97b6ea1f04\" x=\"136.124096\" y=\"229.869884\" style=\"fill: #4c72b0; stroke: #1a1a1a\"/>\n     <use xlink:href=\"#m97b6ea1f04\" x=\"136.124096\" y=\"229.869884\" style=\"fill: #4c72b0; stroke: #1a1a1a\"/>\n     <use xlink:href=\"#m97b6ea1f04\" x=\"136.124096\" y=\"229.869884\" style=\"fill: #4c72b0; stroke: #1a1a1a\"/>\n     <use xlink:href=\"#m97b6ea1f04\" x=\"136.124096\" y=\"229.869884\" style=\"fill: #4c72b0; stroke: #1a1a1a\"/>\n     <use xlink:href=\"#m97b6ea1f04\" x=\"136.124096\" y=\"229.869884\" style=\"fill: #4c72b0; stroke: #1a1a1a\"/>\n     <use xlink:href=\"#m97b6ea1f04\" x=\"276.3251\" y=\"90.573402\" style=\"fill: #4c72b0; stroke: #1a1a1a\"/>\n     <use xlink:href=\"#m97b6ea1f04\" x=\"136.124096\" y=\"229.869884\" style=\"fill: #4c72b0; stroke: #1a1a1a\"/>\n     <use xlink:href=\"#m97b6ea1f04\" x=\"276.3251\" y=\"90.573402\" style=\"fill: #4c72b0; stroke: #1a1a1a\"/>\n     <use xlink:href=\"#m97b6ea1f04\" x=\"276.3251\" y=\"90.573402\" style=\"fill: #4c72b0; stroke: #1a1a1a\"/>\n     <use xlink:href=\"#m97b6ea1f04\" x=\"276.3251\" y=\"90.573402\" style=\"fill: #4c72b0; stroke: #1a1a1a\"/>\n     <use xlink:href=\"#m97b6ea1f04\" x=\"136.124096\" y=\"229.869884\" style=\"fill: #4c72b0; stroke: #1a1a1a\"/>\n     <use xlink:href=\"#m97b6ea1f04\" x=\"276.3251\" y=\"90.573402\" style=\"fill: #4c72b0; stroke: #1a1a1a\"/>\n     <use xlink:href=\"#m97b6ea1f04\" x=\"276.3251\" y=\"90.573402\" style=\"fill: #4c72b0; stroke: #1a1a1a\"/>\n     <use xlink:href=\"#m97b6ea1f04\" x=\"136.124096\" y=\"229.869884\" style=\"fill: #4c72b0; stroke: #1a1a1a\"/>\n     <use xlink:href=\"#m97b6ea1f04\" x=\"276.3251\" y=\"90.573402\" style=\"fill: #4c72b0; stroke: #1a1a1a\"/>\n     <use xlink:href=\"#m97b6ea1f04\" x=\"276.3251\" y=\"90.573402\" style=\"fill: #4c72b0; stroke: #1a1a1a\"/>\n     <use xlink:href=\"#m97b6ea1f04\" x=\"136.124096\" y=\"229.869884\" style=\"fill: #4c72b0; stroke: #1a1a1a\"/>\n     <use xlink:href=\"#m97b6ea1f04\" x=\"136.124096\" y=\"229.869884\" style=\"fill: #4c72b0; stroke: #1a1a1a\"/>\n     <use xlink:href=\"#m97b6ea1f04\" x=\"276.3251\" y=\"90.573402\" style=\"fill: #4c72b0; stroke: #1a1a1a\"/>\n     <use xlink:href=\"#m97b6ea1f04\" x=\"276.3251\" y=\"90.573402\" style=\"fill: #4c72b0; stroke: #1a1a1a\"/>\n     <use xlink:href=\"#m97b6ea1f04\" x=\"136.124096\" y=\"229.869884\" style=\"fill: #4c72b0; stroke: #1a1a1a\"/>\n     <use xlink:href=\"#m97b6ea1f04\" x=\"276.3251\" y=\"90.573402\" style=\"fill: #4c72b0; stroke: #1a1a1a\"/>\n     <use xlink:href=\"#m97b6ea1f04\" x=\"276.3251\" y=\"90.573402\" style=\"fill: #4c72b0; stroke: #1a1a1a\"/>\n     <use xlink:href=\"#m97b6ea1f04\" x=\"136.124096\" y=\"229.869884\" style=\"fill: #4c72b0; stroke: #1a1a1a\"/>\n     <use xlink:href=\"#m97b6ea1f04\" x=\"136.124096\" y=\"229.869884\" style=\"fill: #4c72b0; stroke: #1a1a1a\"/>\n     <use xlink:href=\"#m97b6ea1f04\" x=\"136.124096\" y=\"229.869884\" style=\"fill: #4c72b0; stroke: #1a1a1a\"/>\n     <use xlink:href=\"#m97b6ea1f04\" x=\"276.3251\" y=\"90.573402\" style=\"fill: #4c72b0; stroke: #1a1a1a\"/>\n     <use xlink:href=\"#m97b6ea1f04\" x=\"276.3251\" y=\"90.573402\" style=\"fill: #4c72b0; stroke: #1a1a1a\"/>\n     <use xlink:href=\"#m97b6ea1f04\" x=\"136.124096\" y=\"229.869884\" style=\"fill: #4c72b0; stroke: #1a1a1a\"/>\n     <use xlink:href=\"#m97b6ea1f04\" x=\"276.3251\" y=\"90.573402\" style=\"fill: #4c72b0; stroke: #1a1a1a\"/>\n     <use xlink:href=\"#m97b6ea1f04\" x=\"136.124096\" y=\"229.869884\" style=\"fill: #4c72b0; stroke: #1a1a1a\"/>\n     <use xlink:href=\"#m97b6ea1f04\" x=\"276.3251\" y=\"90.573402\" style=\"fill: #4c72b0; stroke: #1a1a1a\"/>\n     <use xlink:href=\"#m97b6ea1f04\" x=\"136.124096\" y=\"229.869884\" style=\"fill: #4c72b0; stroke: #1a1a1a\"/>\n     <use xlink:href=\"#m97b6ea1f04\" x=\"276.3251\" y=\"90.573402\" style=\"fill: #4c72b0; stroke: #1a1a1a\"/>\n     <use xlink:href=\"#m97b6ea1f04\" x=\"276.3251\" y=\"90.573402\" style=\"fill: #4c72b0; stroke: #1a1a1a\"/>\n     <use xlink:href=\"#m97b6ea1f04\" x=\"276.3251\" y=\"90.573402\" style=\"fill: #4c72b0; stroke: #1a1a1a\"/>\n     <use xlink:href=\"#m97b6ea1f04\" x=\"136.124096\" y=\"229.869884\" style=\"fill: #4c72b0; stroke: #1a1a1a\"/>\n     <use xlink:href=\"#m97b6ea1f04\" x=\"136.124096\" y=\"229.869884\" style=\"fill: #4c72b0; stroke: #1a1a1a\"/>\n     <use xlink:href=\"#m97b6ea1f04\" x=\"276.3251\" y=\"90.573402\" style=\"fill: #4c72b0; stroke: #1a1a1a\"/>\n     <use xlink:href=\"#m97b6ea1f04\" x=\"276.3251\" y=\"90.573402\" style=\"fill: #4c72b0; stroke: #1a1a1a\"/>\n     <use xlink:href=\"#m97b6ea1f04\" x=\"276.3251\" y=\"90.573402\" style=\"fill: #4c72b0; stroke: #1a1a1a\"/>\n     <use xlink:href=\"#m97b6ea1f04\" x=\"136.124096\" y=\"229.869884\" style=\"fill: #4c72b0; stroke: #1a1a1a\"/>\n     <use xlink:href=\"#m97b6ea1f04\" x=\"136.124096\" y=\"229.869884\" style=\"fill: #4c72b0; stroke: #1a1a1a\"/>\n     <use xlink:href=\"#m97b6ea1f04\" x=\"276.3251\" y=\"90.573402\" style=\"fill: #4c72b0; stroke: #1a1a1a\"/>\n     <use xlink:href=\"#m97b6ea1f04\" x=\"276.3251\" y=\"90.573402\" style=\"fill: #4c72b0; stroke: #1a1a1a\"/>\n     <use xlink:href=\"#m97b6ea1f04\" x=\"276.3251\" y=\"90.573402\" style=\"fill: #4c72b0; stroke: #1a1a1a\"/>\n     <use xlink:href=\"#m97b6ea1f04\" x=\"276.3251\" y=\"90.573402\" style=\"fill: #4c72b0; stroke: #1a1a1a\"/>\n     <use xlink:href=\"#m97b6ea1f04\" x=\"276.3251\" y=\"90.573402\" style=\"fill: #4c72b0; stroke: #1a1a1a\"/>\n     <use xlink:href=\"#m97b6ea1f04\" x=\"276.3251\" y=\"90.573402\" style=\"fill: #4c72b0; stroke: #1a1a1a\"/>\n     <use xlink:href=\"#m97b6ea1f04\" x=\"276.3251\" y=\"90.573402\" style=\"fill: #4c72b0; stroke: #1a1a1a\"/>\n     <use xlink:href=\"#m97b6ea1f04\" x=\"136.124096\" y=\"229.869884\" style=\"fill: #4c72b0; stroke: #1a1a1a\"/>\n     <use xlink:href=\"#m97b6ea1f04\" x=\"276.3251\" y=\"90.573402\" style=\"fill: #4c72b0; stroke: #1a1a1a\"/>\n     <use xlink:href=\"#m97b6ea1f04\" x=\"276.3251\" y=\"90.573402\" style=\"fill: #4c72b0; stroke: #1a1a1a\"/>\n     <use xlink:href=\"#m97b6ea1f04\" x=\"136.124096\" y=\"229.869884\" style=\"fill: #4c72b0; stroke: #1a1a1a\"/>\n     <use xlink:href=\"#m97b6ea1f04\" x=\"276.3251\" y=\"90.573402\" style=\"fill: #4c72b0; stroke: #1a1a1a\"/>\n     <use xlink:href=\"#m97b6ea1f04\" x=\"276.3251\" y=\"90.573402\" style=\"fill: #4c72b0; stroke: #1a1a1a\"/>\n     <use xlink:href=\"#m97b6ea1f04\" x=\"136.124096\" y=\"229.869884\" style=\"fill: #4c72b0; stroke: #1a1a1a\"/>\n     <use xlink:href=\"#m97b6ea1f04\" x=\"276.3251\" y=\"90.573402\" style=\"fill: #4c72b0; stroke: #1a1a1a\"/>\n     <use xlink:href=\"#m97b6ea1f04\" x=\"276.3251\" y=\"90.573402\" style=\"fill: #4c72b0; stroke: #1a1a1a\"/>\n     <use xlink:href=\"#m97b6ea1f04\" x=\"136.124096\" y=\"229.869884\" style=\"fill: #4c72b0; stroke: #1a1a1a\"/>\n     <use xlink:href=\"#m97b6ea1f04\" x=\"276.3251\" y=\"90.573402\" style=\"fill: #4c72b0; stroke: #1a1a1a\"/>\n     <use xlink:href=\"#m97b6ea1f04\" x=\"276.3251\" y=\"90.573402\" style=\"fill: #4c72b0; stroke: #1a1a1a\"/>\n     <use xlink:href=\"#m97b6ea1f04\" x=\"276.3251\" y=\"90.573402\" style=\"fill: #4c72b0; stroke: #1a1a1a\"/>\n     <use xlink:href=\"#m97b6ea1f04\" x=\"136.124096\" y=\"229.869884\" style=\"fill: #4c72b0; stroke: #1a1a1a\"/>\n     <use xlink:href=\"#m97b6ea1f04\" x=\"136.124096\" y=\"229.869884\" style=\"fill: #4c72b0; stroke: #1a1a1a\"/>\n     <use xlink:href=\"#m97b6ea1f04\" x=\"276.3251\" y=\"90.573402\" style=\"fill: #4c72b0; stroke: #1a1a1a\"/>\n     <use xlink:href=\"#m97b6ea1f04\" x=\"276.3251\" y=\"90.573402\" style=\"fill: #4c72b0; stroke: #1a1a1a\"/>\n     <use xlink:href=\"#m97b6ea1f04\" x=\"136.124096\" y=\"229.869884\" style=\"fill: #4c72b0; stroke: #1a1a1a\"/>\n     <use xlink:href=\"#m97b6ea1f04\" x=\"276.3251\" y=\"90.573402\" style=\"fill: #4c72b0; stroke: #1a1a1a\"/>\n     <use xlink:href=\"#m97b6ea1f04\" x=\"276.3251\" y=\"90.573402\" style=\"fill: #4c72b0; stroke: #1a1a1a\"/>\n     <use xlink:href=\"#m97b6ea1f04\" x=\"136.124096\" y=\"229.869884\" style=\"fill: #4c72b0; stroke: #1a1a1a\"/>\n     <use xlink:href=\"#m97b6ea1f04\" x=\"276.3251\" y=\"90.573402\" style=\"fill: #4c72b0; stroke: #1a1a1a\"/>\n     <use xlink:href=\"#m97b6ea1f04\" x=\"276.3251\" y=\"90.573402\" style=\"fill: #4c72b0; stroke: #1a1a1a\"/>\n     <use xlink:href=\"#m97b6ea1f04\" x=\"136.124096\" y=\"229.869884\" style=\"fill: #4c72b0; stroke: #1a1a1a\"/>\n     <use xlink:href=\"#m97b6ea1f04\" x=\"136.124096\" y=\"229.869884\" style=\"fill: #4c72b0; stroke: #1a1a1a\"/>\n     <use xlink:href=\"#m97b6ea1f04\" x=\"276.3251\" y=\"90.573402\" style=\"fill: #4c72b0; stroke: #1a1a1a\"/>\n     <use xlink:href=\"#m97b6ea1f04\" x=\"276.3251\" y=\"90.573402\" style=\"fill: #4c72b0; stroke: #1a1a1a\"/>\n     <use xlink:href=\"#m97b6ea1f04\" x=\"276.3251\" y=\"90.573402\" style=\"fill: #4c72b0; stroke: #1a1a1a\"/>\n     <use xlink:href=\"#m97b6ea1f04\" x=\"276.3251\" y=\"90.573402\" style=\"fill: #4c72b0; stroke: #1a1a1a\"/>\n     <use xlink:href=\"#m97b6ea1f04\" x=\"276.3251\" y=\"90.573402\" style=\"fill: #4c72b0; stroke: #1a1a1a\"/>\n     <use xlink:href=\"#m97b6ea1f04\" x=\"136.124096\" y=\"229.869884\" style=\"fill: #4c72b0; stroke: #1a1a1a\"/>\n     <use xlink:href=\"#m97b6ea1f04\" x=\"136.124096\" y=\"229.869884\" style=\"fill: #4c72b0; stroke: #1a1a1a\"/>\n     <use xlink:href=\"#m97b6ea1f04\" x=\"276.3251\" y=\"90.573402\" style=\"fill: #4c72b0; stroke: #1a1a1a\"/>\n     <use xlink:href=\"#m97b6ea1f04\" x=\"136.124096\" y=\"229.869884\" style=\"fill: #4c72b0; stroke: #1a1a1a\"/>\n     <use xlink:href=\"#m97b6ea1f04\" x=\"136.124096\" y=\"229.869884\" style=\"fill: #4c72b0; stroke: #1a1a1a\"/>\n     <use xlink:href=\"#m97b6ea1f04\" x=\"276.3251\" y=\"90.573402\" style=\"fill: #4c72b0; stroke: #1a1a1a\"/>\n     <use xlink:href=\"#m97b6ea1f04\" x=\"136.124096\" y=\"229.869884\" style=\"fill: #4c72b0; stroke: #1a1a1a\"/>\n     <use xlink:href=\"#m97b6ea1f04\" x=\"276.3251\" y=\"90.573402\" style=\"fill: #4c72b0; stroke: #1a1a1a\"/>\n     <use xlink:href=\"#m97b6ea1f04\" x=\"276.3251\" y=\"90.573402\" style=\"fill: #4c72b0; stroke: #1a1a1a\"/>\n     <use xlink:href=\"#m97b6ea1f04\" x=\"276.3251\" y=\"90.573402\" style=\"fill: #4c72b0; stroke: #1a1a1a\"/>\n     <use xlink:href=\"#m97b6ea1f04\" x=\"136.124096\" y=\"229.869884\" style=\"fill: #4c72b0; stroke: #1a1a1a\"/>\n     <use xlink:href=\"#m97b6ea1f04\" x=\"136.124096\" y=\"229.869884\" style=\"fill: #4c72b0; stroke: #1a1a1a\"/>\n     <use xlink:href=\"#m97b6ea1f04\" x=\"136.124096\" y=\"229.869884\" style=\"fill: #4c72b0; stroke: #1a1a1a\"/>\n     <use xlink:href=\"#m97b6ea1f04\" x=\"136.124096\" y=\"229.869884\" style=\"fill: #4c72b0; stroke: #1a1a1a\"/>\n     <use xlink:href=\"#m97b6ea1f04\" x=\"276.3251\" y=\"90.573402\" style=\"fill: #4c72b0; stroke: #1a1a1a\"/>\n     <use xlink:href=\"#m97b6ea1f04\" x=\"136.124096\" y=\"229.869884\" style=\"fill: #4c72b0; stroke: #1a1a1a\"/>\n     <use xlink:href=\"#m97b6ea1f04\" x=\"136.124096\" y=\"229.869884\" style=\"fill: #4c72b0; stroke: #1a1a1a\"/>\n     <use xlink:href=\"#m97b6ea1f04\" x=\"136.124096\" y=\"229.869884\" style=\"fill: #4c72b0; stroke: #1a1a1a\"/>\n     <use xlink:href=\"#m97b6ea1f04\" x=\"136.124096\" y=\"229.869884\" style=\"fill: #4c72b0; stroke: #1a1a1a\"/>\n     <use xlink:href=\"#m97b6ea1f04\" x=\"136.124096\" y=\"229.869884\" style=\"fill: #4c72b0; stroke: #1a1a1a\"/>\n     <use xlink:href=\"#m97b6ea1f04\" x=\"136.124096\" y=\"229.869884\" style=\"fill: #4c72b0; stroke: #1a1a1a\"/>\n     <use xlink:href=\"#m97b6ea1f04\" x=\"136.124096\" y=\"229.869884\" style=\"fill: #4c72b0; stroke: #1a1a1a\"/>\n    </g>\n   </g>\n   <g id=\"PathCollection_2\">\n    <defs>\n     <path id=\"m492616ae22\" d=\"M 0 3 \nC 0.795609 3 1.55874 2.683901 2.12132 2.12132 \nC 2.683901 1.55874 3 0.795609 3 0 \nC 3 -0.795609 2.683901 -1.55874 2.12132 -2.12132 \nC 1.55874 -2.683901 0.795609 -3 0 -3 \nC -0.795609 -3 -1.55874 -2.683901 -2.12132 -2.12132 \nC -2.683901 -1.55874 -3 -0.795609 -3 0 \nC -3 0.795609 -2.683901 1.55874 -2.12132 2.12132 \nC -1.55874 2.683901 -0.795609 3 0 3 \nz\n\" style=\"stroke: #1a1a1a\"/>\n    </defs>\n    <g clip-path=\"url(#pe963049d48)\">\n     <use xlink:href=\"#m492616ae22\" x=\"276.3251\" y=\"229.869884\" style=\"fill: #dd8452; stroke: #1a1a1a\"/>\n     <use xlink:href=\"#m492616ae22\" x=\"276.3251\" y=\"229.869884\" style=\"fill: #dd8452; stroke: #1a1a1a\"/>\n     <use xlink:href=\"#m492616ae22\" x=\"136.124096\" y=\"90.573402\" style=\"fill: #dd8452; stroke: #1a1a1a\"/>\n     <use xlink:href=\"#m492616ae22\" x=\"136.124096\" y=\"90.573402\" style=\"fill: #dd8452; stroke: #1a1a1a\"/>\n     <use xlink:href=\"#m492616ae22\" x=\"276.3251\" y=\"229.869884\" style=\"fill: #dd8452; stroke: #1a1a1a\"/>\n     <use xlink:href=\"#m492616ae22\" x=\"276.3251\" y=\"229.869884\" style=\"fill: #dd8452; stroke: #1a1a1a\"/>\n     <use xlink:href=\"#m492616ae22\" x=\"136.124096\" y=\"90.573402\" style=\"fill: #dd8452; stroke: #1a1a1a\"/>\n     <use xlink:href=\"#m492616ae22\" x=\"136.124096\" y=\"90.573402\" style=\"fill: #dd8452; stroke: #1a1a1a\"/>\n     <use xlink:href=\"#m492616ae22\" x=\"276.3251\" y=\"229.869884\" style=\"fill: #dd8452; stroke: #1a1a1a\"/>\n     <use xlink:href=\"#m492616ae22\" x=\"136.124096\" y=\"90.573402\" style=\"fill: #dd8452; stroke: #1a1a1a\"/>\n     <use xlink:href=\"#m492616ae22\" x=\"276.3251\" y=\"229.869884\" style=\"fill: #dd8452; stroke: #1a1a1a\"/>\n     <use xlink:href=\"#m492616ae22\" x=\"276.3251\" y=\"229.869884\" style=\"fill: #dd8452; stroke: #1a1a1a\"/>\n     <use xlink:href=\"#m492616ae22\" x=\"276.3251\" y=\"229.869884\" style=\"fill: #dd8452; stroke: #1a1a1a\"/>\n     <use xlink:href=\"#m492616ae22\" x=\"136.124096\" y=\"90.573402\" style=\"fill: #dd8452; stroke: #1a1a1a\"/>\n     <use xlink:href=\"#m492616ae22\" x=\"136.124096\" y=\"90.573402\" style=\"fill: #dd8452; stroke: #1a1a1a\"/>\n     <use xlink:href=\"#m492616ae22\" x=\"136.124096\" y=\"90.573402\" style=\"fill: #dd8452; stroke: #1a1a1a\"/>\n     <use xlink:href=\"#m492616ae22\" x=\"136.124096\" y=\"90.573402\" style=\"fill: #dd8452; stroke: #1a1a1a\"/>\n     <use xlink:href=\"#m492616ae22\" x=\"276.3251\" y=\"229.869884\" style=\"fill: #dd8452; stroke: #1a1a1a\"/>\n     <use xlink:href=\"#m492616ae22\" x=\"136.124096\" y=\"90.573402\" style=\"fill: #dd8452; stroke: #1a1a1a\"/>\n     <use xlink:href=\"#m492616ae22\" x=\"136.124096\" y=\"90.573402\" style=\"fill: #dd8452; stroke: #1a1a1a\"/>\n     <use xlink:href=\"#m492616ae22\" x=\"276.3251\" y=\"229.869884\" style=\"fill: #dd8452; stroke: #1a1a1a\"/>\n     <use xlink:href=\"#m492616ae22\" x=\"276.3251\" y=\"229.869884\" style=\"fill: #dd8452; stroke: #1a1a1a\"/>\n     <use xlink:href=\"#m492616ae22\" x=\"276.3251\" y=\"229.869884\" style=\"fill: #dd8452; stroke: #1a1a1a\"/>\n     <use xlink:href=\"#m492616ae22\" x=\"136.124096\" y=\"90.573402\" style=\"fill: #dd8452; stroke: #1a1a1a\"/>\n     <use xlink:href=\"#m492616ae22\" x=\"276.3251\" y=\"229.869884\" style=\"fill: #dd8452; stroke: #1a1a1a\"/>\n     <use xlink:href=\"#m492616ae22\" x=\"136.124096\" y=\"90.573402\" style=\"fill: #dd8452; stroke: #1a1a1a\"/>\n     <use xlink:href=\"#m492616ae22\" x=\"276.3251\" y=\"229.869884\" style=\"fill: #dd8452; stroke: #1a1a1a\"/>\n     <use xlink:href=\"#m492616ae22\" x=\"136.124096\" y=\"90.573402\" style=\"fill: #dd8452; stroke: #1a1a1a\"/>\n     <use xlink:href=\"#m492616ae22\" x=\"276.3251\" y=\"229.869884\" style=\"fill: #dd8452; stroke: #1a1a1a\"/>\n     <use xlink:href=\"#m492616ae22\" x=\"276.3251\" y=\"229.869884\" style=\"fill: #dd8452; stroke: #1a1a1a\"/>\n     <use xlink:href=\"#m492616ae22\" x=\"136.124096\" y=\"90.573402\" style=\"fill: #dd8452; stroke: #1a1a1a\"/>\n     <use xlink:href=\"#m492616ae22\" x=\"136.124096\" y=\"90.573402\" style=\"fill: #dd8452; stroke: #1a1a1a\"/>\n     <use xlink:href=\"#m492616ae22\" x=\"276.3251\" y=\"229.869884\" style=\"fill: #dd8452; stroke: #1a1a1a\"/>\n     <use xlink:href=\"#m492616ae22\" x=\"276.3251\" y=\"229.869884\" style=\"fill: #dd8452; stroke: #1a1a1a\"/>\n     <use xlink:href=\"#m492616ae22\" x=\"136.124096\" y=\"90.573402\" style=\"fill: #dd8452; stroke: #1a1a1a\"/>\n     <use xlink:href=\"#m492616ae22\" x=\"136.124096\" y=\"90.573402\" style=\"fill: #dd8452; stroke: #1a1a1a\"/>\n     <use xlink:href=\"#m492616ae22\" x=\"136.124096\" y=\"90.573402\" style=\"fill: #dd8452; stroke: #1a1a1a\"/>\n     <use xlink:href=\"#m492616ae22\" x=\"276.3251\" y=\"229.869884\" style=\"fill: #dd8452; stroke: #1a1a1a\"/>\n     <use xlink:href=\"#m492616ae22\" x=\"136.124096\" y=\"90.573402\" style=\"fill: #dd8452; stroke: #1a1a1a\"/>\n     <use xlink:href=\"#m492616ae22\" x=\"276.3251\" y=\"229.869884\" style=\"fill: #dd8452; stroke: #1a1a1a\"/>\n     <use xlink:href=\"#m492616ae22\" x=\"136.124096\" y=\"90.573402\" style=\"fill: #dd8452; stroke: #1a1a1a\"/>\n     <use xlink:href=\"#m492616ae22\" x=\"276.3251\" y=\"229.869884\" style=\"fill: #dd8452; stroke: #1a1a1a\"/>\n     <use xlink:href=\"#m492616ae22\" x=\"276.3251\" y=\"229.869884\" style=\"fill: #dd8452; stroke: #1a1a1a\"/>\n     <use xlink:href=\"#m492616ae22\" x=\"276.3251\" y=\"229.869884\" style=\"fill: #dd8452; stroke: #1a1a1a\"/>\n     <use xlink:href=\"#m492616ae22\" x=\"276.3251\" y=\"229.869884\" style=\"fill: #dd8452; stroke: #1a1a1a\"/>\n     <use xlink:href=\"#m492616ae22\" x=\"136.124096\" y=\"90.573402\" style=\"fill: #dd8452; stroke: #1a1a1a\"/>\n     <use xlink:href=\"#m492616ae22\" x=\"276.3251\" y=\"229.869884\" style=\"fill: #dd8452; stroke: #1a1a1a\"/>\n     <use xlink:href=\"#m492616ae22\" x=\"276.3251\" y=\"229.869884\" style=\"fill: #dd8452; stroke: #1a1a1a\"/>\n     <use xlink:href=\"#m492616ae22\" x=\"136.124096\" y=\"90.573402\" style=\"fill: #dd8452; stroke: #1a1a1a\"/>\n     <use xlink:href=\"#m492616ae22\" x=\"276.3251\" y=\"229.869884\" style=\"fill: #dd8452; stroke: #1a1a1a\"/>\n     <use xlink:href=\"#m492616ae22\" x=\"276.3251\" y=\"229.869884\" style=\"fill: #dd8452; stroke: #1a1a1a\"/>\n     <use xlink:href=\"#m492616ae22\" x=\"276.3251\" y=\"229.869884\" style=\"fill: #dd8452; stroke: #1a1a1a\"/>\n     <use xlink:href=\"#m492616ae22\" x=\"136.124096\" y=\"90.573402\" style=\"fill: #dd8452; stroke: #1a1a1a\"/>\n     <use xlink:href=\"#m492616ae22\" x=\"276.3251\" y=\"229.869884\" style=\"fill: #dd8452; stroke: #1a1a1a\"/>\n     <use xlink:href=\"#m492616ae22\" x=\"276.3251\" y=\"229.869884\" style=\"fill: #dd8452; stroke: #1a1a1a\"/>\n     <use xlink:href=\"#m492616ae22\" x=\"136.124096\" y=\"90.573402\" style=\"fill: #dd8452; stroke: #1a1a1a\"/>\n     <use xlink:href=\"#m492616ae22\" x=\"136.124096\" y=\"90.573402\" style=\"fill: #dd8452; stroke: #1a1a1a\"/>\n     <use xlink:href=\"#m492616ae22\" x=\"276.3251\" y=\"229.869884\" style=\"fill: #dd8452; stroke: #1a1a1a\"/>\n     <use xlink:href=\"#m492616ae22\" x=\"136.124096\" y=\"90.573402\" style=\"fill: #dd8452; stroke: #1a1a1a\"/>\n     <use xlink:href=\"#m492616ae22\" x=\"276.3251\" y=\"229.869884\" style=\"fill: #dd8452; stroke: #1a1a1a\"/>\n     <use xlink:href=\"#m492616ae22\" x=\"276.3251\" y=\"229.869884\" style=\"fill: #dd8452; stroke: #1a1a1a\"/>\n     <use xlink:href=\"#m492616ae22\" x=\"136.124096\" y=\"90.573402\" style=\"fill: #dd8452; stroke: #1a1a1a\"/>\n     <use xlink:href=\"#m492616ae22\" x=\"276.3251\" y=\"229.869884\" style=\"fill: #dd8452; stroke: #1a1a1a\"/>\n     <use xlink:href=\"#m492616ae22\" x=\"276.3251\" y=\"229.869884\" style=\"fill: #dd8452; stroke: #1a1a1a\"/>\n     <use xlink:href=\"#m492616ae22\" x=\"276.3251\" y=\"229.869884\" style=\"fill: #dd8452; stroke: #1a1a1a\"/>\n     <use xlink:href=\"#m492616ae22\" x=\"136.124096\" y=\"90.573402\" style=\"fill: #dd8452; stroke: #1a1a1a\"/>\n     <use xlink:href=\"#m492616ae22\" x=\"276.3251\" y=\"229.869884\" style=\"fill: #dd8452; stroke: #1a1a1a\"/>\n     <use xlink:href=\"#m492616ae22\" x=\"136.124096\" y=\"90.573402\" style=\"fill: #dd8452; stroke: #1a1a1a\"/>\n     <use xlink:href=\"#m492616ae22\" x=\"276.3251\" y=\"229.869884\" style=\"fill: #dd8452; stroke: #1a1a1a\"/>\n     <use xlink:href=\"#m492616ae22\" x=\"276.3251\" y=\"229.869884\" style=\"fill: #dd8452; stroke: #1a1a1a\"/>\n     <use xlink:href=\"#m492616ae22\" x=\"136.124096\" y=\"90.573402\" style=\"fill: #dd8452; stroke: #1a1a1a\"/>\n     <use xlink:href=\"#m492616ae22\" x=\"276.3251\" y=\"229.869884\" style=\"fill: #dd8452; stroke: #1a1a1a\"/>\n     <use xlink:href=\"#m492616ae22\" x=\"136.124096\" y=\"90.573402\" style=\"fill: #dd8452; stroke: #1a1a1a\"/>\n     <use xlink:href=\"#m492616ae22\" x=\"136.124096\" y=\"90.573402\" style=\"fill: #dd8452; stroke: #1a1a1a\"/>\n     <use xlink:href=\"#m492616ae22\" x=\"136.124096\" y=\"90.573402\" style=\"fill: #dd8452; stroke: #1a1a1a\"/>\n     <use xlink:href=\"#m492616ae22\" x=\"276.3251\" y=\"229.869884\" style=\"fill: #dd8452; stroke: #1a1a1a\"/>\n     <use xlink:href=\"#m492616ae22\" x=\"276.3251\" y=\"229.869884\" style=\"fill: #dd8452; stroke: #1a1a1a\"/>\n     <use xlink:href=\"#m492616ae22\" x=\"276.3251\" y=\"229.869884\" style=\"fill: #dd8452; stroke: #1a1a1a\"/>\n     <use xlink:href=\"#m492616ae22\" x=\"276.3251\" y=\"229.869884\" style=\"fill: #dd8452; stroke: #1a1a1a\"/>\n     <use xlink:href=\"#m492616ae22\" x=\"276.3251\" y=\"229.869884\" style=\"fill: #dd8452; stroke: #1a1a1a\"/>\n     <use xlink:href=\"#m492616ae22\" x=\"136.124096\" y=\"90.573402\" style=\"fill: #dd8452; stroke: #1a1a1a\"/>\n     <use xlink:href=\"#m492616ae22\" x=\"136.124096\" y=\"90.573402\" style=\"fill: #dd8452; stroke: #1a1a1a\"/>\n     <use xlink:href=\"#m492616ae22\" x=\"136.124096\" y=\"90.573402\" style=\"fill: #dd8452; stroke: #1a1a1a\"/>\n     <use xlink:href=\"#m492616ae22\" x=\"276.3251\" y=\"229.869884\" style=\"fill: #dd8452; stroke: #1a1a1a\"/>\n     <use xlink:href=\"#m492616ae22\" x=\"276.3251\" y=\"229.869884\" style=\"fill: #dd8452; stroke: #1a1a1a\"/>\n     <use xlink:href=\"#m492616ae22\" x=\"136.124096\" y=\"90.573402\" style=\"fill: #dd8452; stroke: #1a1a1a\"/>\n     <use xlink:href=\"#m492616ae22\" x=\"136.124096\" y=\"90.573402\" style=\"fill: #dd8452; stroke: #1a1a1a\"/>\n     <use xlink:href=\"#m492616ae22\" x=\"136.124096\" y=\"90.573402\" style=\"fill: #dd8452; stroke: #1a1a1a\"/>\n     <use xlink:href=\"#m492616ae22\" x=\"276.3251\" y=\"229.869884\" style=\"fill: #dd8452; stroke: #1a1a1a\"/>\n     <use xlink:href=\"#m492616ae22\" x=\"136.124096\" y=\"90.573402\" style=\"fill: #dd8452; stroke: #1a1a1a\"/>\n     <use xlink:href=\"#m492616ae22\" x=\"276.3251\" y=\"229.869884\" style=\"fill: #dd8452; stroke: #1a1a1a\"/>\n     <use xlink:href=\"#m492616ae22\" x=\"276.3251\" y=\"229.869884\" style=\"fill: #dd8452; stroke: #1a1a1a\"/>\n     <use xlink:href=\"#m492616ae22\" x=\"276.3251\" y=\"229.869884\" style=\"fill: #dd8452; stroke: #1a1a1a\"/>\n     <use xlink:href=\"#m492616ae22\" x=\"276.3251\" y=\"229.869884\" style=\"fill: #dd8452; stroke: #1a1a1a\"/>\n     <use xlink:href=\"#m492616ae22\" x=\"136.124096\" y=\"90.573402\" style=\"fill: #dd8452; stroke: #1a1a1a\"/>\n     <use xlink:href=\"#m492616ae22\" x=\"276.3251\" y=\"229.869884\" style=\"fill: #dd8452; stroke: #1a1a1a\"/>\n     <use xlink:href=\"#m492616ae22\" x=\"136.124096\" y=\"90.573402\" style=\"fill: #dd8452; stroke: #1a1a1a\"/>\n     <use xlink:href=\"#m492616ae22\" x=\"276.3251\" y=\"229.869884\" style=\"fill: #dd8452; stroke: #1a1a1a\"/>\n    </g>\n   </g>\n   <g id=\"patch_3\">\n    <path d=\"M 66.023594 299.518125 \nL 66.023594 22.318125 \n\" style=\"fill: none; stroke: #ffffff; stroke-width: 1.25; stroke-linejoin: miter; stroke-linecap: square\"/>\n   </g>\n   <g id=\"patch_4\">\n    <path d=\"M 345.023594 299.518125 \nL 345.023594 22.318125 \n\" style=\"fill: none; stroke: #ffffff; stroke-width: 1.25; stroke-linejoin: miter; stroke-linecap: square\"/>\n   </g>\n   <g id=\"patch_5\">\n    <path d=\"M 66.023594 299.518125 \nL 345.023594 299.518125 \n\" style=\"fill: none; stroke: #ffffff; stroke-width: 1.25; stroke-linejoin: miter; stroke-linecap: square\"/>\n   </g>\n   <g id=\"patch_6\">\n    <path d=\"M 66.023594 22.318125 \nL 345.023594 22.318125 \n\" style=\"fill: none; stroke: #ffffff; stroke-width: 1.25; stroke-linejoin: miter; stroke-linecap: square\"/>\n   </g>\n   <g id=\"text_19\">\n    <!-- Decision Boundaries -->\n    <g style=\"fill: #262626\" transform=\"translate(144.242969 16.318125) scale(0.12 -0.12)\">\n     <defs>\n      <path id=\"DejaVuSans-44\" d=\"M 1259 4147 \nL 1259 519 \nL 2022 519 \nQ 2988 519 3436 956 \nQ 3884 1394 3884 2338 \nQ 3884 3275 3436 3711 \nQ 2988 4147 2022 4147 \nL 1259 4147 \nz\nM 628 4666 \nL 1925 4666 \nQ 3281 4666 3915 4102 \nQ 4550 3538 4550 2338 \nQ 4550 1131 3912 565 \nQ 3275 0 1925 0 \nL 628 0 \nL 628 4666 \nz\n\" transform=\"scale(0.015625)\"/>\n      <path id=\"DejaVuSans-65\" d=\"M 3597 1894 \nL 3597 1613 \nL 953 1613 \nQ 991 1019 1311 708 \nQ 1631 397 2203 397 \nQ 2534 397 2845 478 \nQ 3156 559 3463 722 \nL 3463 178 \nQ 3153 47 2828 -22 \nQ 2503 -91 2169 -91 \nQ 1331 -91 842 396 \nQ 353 884 353 1716 \nQ 353 2575 817 3079 \nQ 1281 3584 2069 3584 \nQ 2775 3584 3186 3129 \nQ 3597 2675 3597 1894 \nz\nM 3022 2063 \nQ 3016 2534 2758 2815 \nQ 2500 3097 2075 3097 \nQ 1594 3097 1305 2825 \nQ 1016 2553 972 2059 \nL 3022 2063 \nz\n\" transform=\"scale(0.015625)\"/>\n      <path id=\"DejaVuSans-63\" d=\"M 3122 3366 \nL 3122 2828 \nQ 2878 2963 2633 3030 \nQ 2388 3097 2138 3097 \nQ 1578 3097 1268 2742 \nQ 959 2388 959 1747 \nQ 959 1106 1268 751 \nQ 1578 397 2138 397 \nQ 2388 397 2633 464 \nQ 2878 531 3122 666 \nL 3122 134 \nQ 2881 22 2623 -34 \nQ 2366 -91 2075 -91 \nQ 1284 -91 818 406 \nQ 353 903 353 1747 \nQ 353 2603 823 3093 \nQ 1294 3584 2113 3584 \nQ 2378 3584 2631 3529 \nQ 2884 3475 3122 3366 \nz\n\" transform=\"scale(0.015625)\"/>\n      <path id=\"DejaVuSans-69\" d=\"M 603 3500 \nL 1178 3500 \nL 1178 0 \nL 603 0 \nL 603 3500 \nz\nM 603 4863 \nL 1178 4863 \nL 1178 4134 \nL 603 4134 \nL 603 4863 \nz\n\" transform=\"scale(0.015625)\"/>\n      <path id=\"DejaVuSans-73\" d=\"M 2834 3397 \nL 2834 2853 \nQ 2591 2978 2328 3040 \nQ 2066 3103 1784 3103 \nQ 1356 3103 1142 2972 \nQ 928 2841 928 2578 \nQ 928 2378 1081 2264 \nQ 1234 2150 1697 2047 \nL 1894 2003 \nQ 2506 1872 2764 1633 \nQ 3022 1394 3022 966 \nQ 3022 478 2636 193 \nQ 2250 -91 1575 -91 \nQ 1294 -91 989 -36 \nQ 684 19 347 128 \nL 347 722 \nQ 666 556 975 473 \nQ 1284 391 1588 391 \nQ 1994 391 2212 530 \nQ 2431 669 2431 922 \nQ 2431 1156 2273 1281 \nQ 2116 1406 1581 1522 \nL 1381 1569 \nQ 847 1681 609 1914 \nQ 372 2147 372 2553 \nQ 372 3047 722 3315 \nQ 1072 3584 1716 3584 \nQ 2034 3584 2315 3537 \nQ 2597 3491 2834 3397 \nz\n\" transform=\"scale(0.015625)\"/>\n      <path id=\"DejaVuSans-6f\" d=\"M 1959 3097 \nQ 1497 3097 1228 2736 \nQ 959 2375 959 1747 \nQ 959 1119 1226 758 \nQ 1494 397 1959 397 \nQ 2419 397 2687 759 \nQ 2956 1122 2956 1747 \nQ 2956 2369 2687 2733 \nQ 2419 3097 1959 3097 \nz\nM 1959 3584 \nQ 2709 3584 3137 3096 \nQ 3566 2609 3566 1747 \nQ 3566 888 3137 398 \nQ 2709 -91 1959 -91 \nQ 1206 -91 779 398 \nQ 353 888 353 1747 \nQ 353 2609 779 3096 \nQ 1206 3584 1959 3584 \nz\n\" transform=\"scale(0.015625)\"/>\n      <path id=\"DejaVuSans-6e\" d=\"M 3513 2113 \nL 3513 0 \nL 2938 0 \nL 2938 2094 \nQ 2938 2591 2744 2837 \nQ 2550 3084 2163 3084 \nQ 1697 3084 1428 2787 \nQ 1159 2491 1159 1978 \nL 1159 0 \nL 581 0 \nL 581 3500 \nL 1159 3500 \nL 1159 2956 \nQ 1366 3272 1645 3428 \nQ 1925 3584 2291 3584 \nQ 2894 3584 3203 3211 \nQ 3513 2838 3513 2113 \nz\n\" transform=\"scale(0.015625)\"/>\n      <path id=\"DejaVuSans-20\" transform=\"scale(0.015625)\"/>\n      <path id=\"DejaVuSans-42\" d=\"M 1259 2228 \nL 1259 519 \nL 2272 519 \nQ 2781 519 3026 730 \nQ 3272 941 3272 1375 \nQ 3272 1813 3026 2020 \nQ 2781 2228 2272 2228 \nL 1259 2228 \nz\nM 1259 4147 \nL 1259 2741 \nL 2194 2741 \nQ 2656 2741 2882 2914 \nQ 3109 3088 3109 3444 \nQ 3109 3797 2882 3972 \nQ 2656 4147 2194 4147 \nL 1259 4147 \nz\nM 628 4666 \nL 2241 4666 \nQ 2963 4666 3353 4366 \nQ 3744 4066 3744 3513 \nQ 3744 3084 3544 2831 \nQ 3344 2578 2956 2516 \nQ 3422 2416 3680 2098 \nQ 3938 1781 3938 1306 \nQ 3938 681 3513 340 \nQ 3088 0 2303 0 \nL 628 0 \nL 628 4666 \nz\n\" transform=\"scale(0.015625)\"/>\n      <path id=\"DejaVuSans-75\" d=\"M 544 1381 \nL 544 3500 \nL 1119 3500 \nL 1119 1403 \nQ 1119 906 1312 657 \nQ 1506 409 1894 409 \nQ 2359 409 2629 706 \nQ 2900 1003 2900 1516 \nL 2900 3500 \nL 3475 3500 \nL 3475 0 \nL 2900 0 \nL 2900 538 \nQ 2691 219 2414 64 \nQ 2138 -91 1772 -91 \nQ 1169 -91 856 284 \nQ 544 659 544 1381 \nz\nM 1991 3584 \nL 1991 3584 \nz\n\" transform=\"scale(0.015625)\"/>\n      <path id=\"DejaVuSans-64\" d=\"M 2906 2969 \nL 2906 4863 \nL 3481 4863 \nL 3481 0 \nL 2906 0 \nL 2906 525 \nQ 2725 213 2448 61 \nQ 2172 -91 1784 -91 \nQ 1150 -91 751 415 \nQ 353 922 353 1747 \nQ 353 2572 751 3078 \nQ 1150 3584 1784 3584 \nQ 2172 3584 2448 3432 \nQ 2725 3281 2906 2969 \nz\nM 947 1747 \nQ 947 1113 1208 752 \nQ 1469 391 1925 391 \nQ 2381 391 2643 752 \nQ 2906 1113 2906 1747 \nQ 2906 2381 2643 2742 \nQ 2381 3103 1925 3103 \nQ 1469 3103 1208 2742 \nQ 947 2381 947 1747 \nz\n\" transform=\"scale(0.015625)\"/>\n      <path id=\"DejaVuSans-61\" d=\"M 2194 1759 \nQ 1497 1759 1228 1600 \nQ 959 1441 959 1056 \nQ 959 750 1161 570 \nQ 1363 391 1709 391 \nQ 2188 391 2477 730 \nQ 2766 1069 2766 1631 \nL 2766 1759 \nL 2194 1759 \nz\nM 3341 1997 \nL 3341 0 \nL 2766 0 \nL 2766 531 \nQ 2569 213 2275 61 \nQ 1981 -91 1556 -91 \nQ 1019 -91 701 211 \nQ 384 513 384 1019 \nQ 384 1609 779 1909 \nQ 1175 2209 1959 2209 \nL 2766 2209 \nL 2766 2266 \nQ 2766 2663 2505 2880 \nQ 2244 3097 1772 3097 \nQ 1472 3097 1187 3025 \nQ 903 2953 641 2809 \nL 641 3341 \nQ 956 3463 1253 3523 \nQ 1550 3584 1831 3584 \nQ 2591 3584 2966 3190 \nQ 3341 2797 3341 1997 \nz\n\" transform=\"scale(0.015625)\"/>\n      <path id=\"DejaVuSans-72\" d=\"M 2631 2963 \nQ 2534 3019 2420 3045 \nQ 2306 3072 2169 3072 \nQ 1681 3072 1420 2755 \nQ 1159 2438 1159 1844 \nL 1159 0 \nL 581 0 \nL 581 3500 \nL 1159 3500 \nL 1159 2956 \nQ 1341 3275 1631 3429 \nQ 1922 3584 2338 3584 \nQ 2397 3584 2469 3576 \nQ 2541 3569 2628 3553 \nL 2631 2963 \nz\n\" transform=\"scale(0.015625)\"/>\n     </defs>\n     <use xlink:href=\"#DejaVuSans-44\"/>\n     <use xlink:href=\"#DejaVuSans-65\" transform=\"translate(77.001953 0)\"/>\n     <use xlink:href=\"#DejaVuSans-63\" transform=\"translate(138.525391 0)\"/>\n     <use xlink:href=\"#DejaVuSans-69\" transform=\"translate(193.505859 0)\"/>\n     <use xlink:href=\"#DejaVuSans-73\" transform=\"translate(221.289062 0)\"/>\n     <use xlink:href=\"#DejaVuSans-69\" transform=\"translate(273.388672 0)\"/>\n     <use xlink:href=\"#DejaVuSans-6f\" transform=\"translate(301.171875 0)\"/>\n     <use xlink:href=\"#DejaVuSans-6e\" transform=\"translate(362.353516 0)\"/>\n     <use xlink:href=\"#DejaVuSans-20\" transform=\"translate(425.732422 0)\"/>\n     <use xlink:href=\"#DejaVuSans-42\" transform=\"translate(457.519531 0)\"/>\n     <use xlink:href=\"#DejaVuSans-6f\" transform=\"translate(526.123047 0)\"/>\n     <use xlink:href=\"#DejaVuSans-75\" transform=\"translate(587.304688 0)\"/>\n     <use xlink:href=\"#DejaVuSans-6e\" transform=\"translate(650.683594 0)\"/>\n     <use xlink:href=\"#DejaVuSans-64\" transform=\"translate(714.0625 0)\"/>\n     <use xlink:href=\"#DejaVuSans-61\" transform=\"translate(777.539062 0)\"/>\n     <use xlink:href=\"#DejaVuSans-72\" transform=\"translate(838.818359 0)\"/>\n     <use xlink:href=\"#DejaVuSans-69\" transform=\"translate(879.931641 0)\"/>\n     <use xlink:href=\"#DejaVuSans-65\" transform=\"translate(907.714844 0)\"/>\n     <use xlink:href=\"#DejaVuSans-73\" transform=\"translate(969.238281 0)\"/>\n    </g>\n   </g>\n   <g id=\"legend_1\">\n    <g id=\"patch_7\">\n     <path d=\"M 262.690312 63.41 \nL 337.323594 63.41 \nQ 339.523594 63.41 339.523594 61.21 \nL 339.523594 30.018125 \nQ 339.523594 27.818125 337.323594 27.818125 \nL 262.690312 27.818125 \nQ 260.490312 27.818125 260.490312 30.018125 \nL 260.490312 61.21 \nQ 260.490312 63.41 262.690312 63.41 \nz\n\" style=\"fill: #eaeaf2; opacity: 0.8; stroke: #cccccc; stroke-linejoin: miter\"/>\n    </g>\n    <g id=\"PathCollection_3\">\n     <g>\n      <use xlink:href=\"#m97b6ea1f04\" x=\"275.890312\" y=\"37.688906\" style=\"fill: #4c72b0; stroke: #1a1a1a\"/>\n     </g>\n    </g>\n    <g id=\"text_20\">\n     <!-- Class 0 -->\n     <g style=\"fill: #262626\" transform=\"translate(295.690312 40.576406) scale(0.11 -0.11)\">\n      <defs>\n       <path id=\"DejaVuSans-43\" d=\"M 4122 4306 \nL 4122 3641 \nQ 3803 3938 3442 4084 \nQ 3081 4231 2675 4231 \nQ 1875 4231 1450 3742 \nQ 1025 3253 1025 2328 \nQ 1025 1406 1450 917 \nQ 1875 428 2675 428 \nQ 3081 428 3442 575 \nQ 3803 722 4122 1019 \nL 4122 359 \nQ 3791 134 3420 21 \nQ 3050 -91 2638 -91 \nQ 1578 -91 968 557 \nQ 359 1206 359 2328 \nQ 359 3453 968 4101 \nQ 1578 4750 2638 4750 \nQ 3056 4750 3426 4639 \nQ 3797 4528 4122 4306 \nz\n\" transform=\"scale(0.015625)\"/>\n       <path id=\"DejaVuSans-6c\" d=\"M 603 4863 \nL 1178 4863 \nL 1178 0 \nL 603 0 \nL 603 4863 \nz\n\" transform=\"scale(0.015625)\"/>\n      </defs>\n      <use xlink:href=\"#DejaVuSans-43\"/>\n      <use xlink:href=\"#DejaVuSans-6c\" transform=\"translate(69.824219 0)\"/>\n      <use xlink:href=\"#DejaVuSans-61\" transform=\"translate(97.607422 0)\"/>\n      <use xlink:href=\"#DejaVuSans-73\" transform=\"translate(158.886719 0)\"/>\n      <use xlink:href=\"#DejaVuSans-73\" transform=\"translate(210.986328 0)\"/>\n      <use xlink:href=\"#DejaVuSans-20\" transform=\"translate(263.085938 0)\"/>\n      <use xlink:href=\"#DejaVuSans-30\" transform=\"translate(294.873047 0)\"/>\n     </g>\n    </g>\n    <g id=\"PathCollection_4\">\n     <g>\n      <use xlink:href=\"#m492616ae22\" x=\"275.890312\" y=\"53.834844\" style=\"fill: #dd8452; stroke: #1a1a1a\"/>\n     </g>\n    </g>\n    <g id=\"text_21\">\n     <!-- Class 1 -->\n     <g style=\"fill: #262626\" transform=\"translate(295.690312 56.722344) scale(0.11 -0.11)\">\n      <use xlink:href=\"#DejaVuSans-43\"/>\n      <use xlink:href=\"#DejaVuSans-6c\" transform=\"translate(69.824219 0)\"/>\n      <use xlink:href=\"#DejaVuSans-61\" transform=\"translate(97.607422 0)\"/>\n      <use xlink:href=\"#DejaVuSans-73\" transform=\"translate(158.886719 0)\"/>\n      <use xlink:href=\"#DejaVuSans-73\" transform=\"translate(210.986328 0)\"/>\n      <use xlink:href=\"#DejaVuSans-20\" transform=\"translate(263.085938 0)\"/>\n      <use xlink:href=\"#DejaVuSans-31\" transform=\"translate(294.873047 0)\"/>\n     </g>\n    </g>\n   </g>\n  </g>\n </g>\n <defs>\n  <clipPath id=\"pe963049d48\">\n   <rect x=\"66.023594\" y=\"22.318125\" width=\"279\" height=\"277.2\"/>\n  </clipPath>\n </defs>\n</svg>\n",
            "application/pdf": "[encoded data removed]"
          },
          "metadata": {}
        }
      ]
    },
    {
      "cell_type": "markdown",
      "source": [
        "#Working with Medical Images in PyTorch (DICOM Example)\n",
        "##Introduction to DICOM\n",
        "\n",
        "\n",
        "DICOM (Digital Imaging and Communications in Medicine) is the standard file format used to store and transmit medical imaging data like CT scans, MRI, and X-rays. Unlike typical image formats such as JPEG or PNG, DICOM files contain both the image pixels and essential metadata — including patient details, acquisition parameters, and device info.\n",
        "\n",
        "In this section, you will learn how to:\n",
        "\n",
        "- Load and inspect a DICOM medical image\n",
        "\n",
        "- Convert the image into a PyTorch tensor suitable for deep learning\n",
        "\n",
        "- Preprocess the image (normalization and resizing) for a neural network\n",
        "\n",
        "- Understand key DICOM metadata\n",
        "\n",
        "- Prepare the data for use in GPU-based PyTorch models"
      ],
      "metadata": {
        "id": "7NbdylAhfsfu"
      },
      "id": "7NbdylAhfsfu"
    },
    {
      "cell_type": "markdown",
      "source": [
        "## Download and Inspect Dataset"
      ],
      "metadata": {
        "id": "QPhlWuDhpjw9"
      },
      "id": "QPhlWuDhpjw9"
    },
    {
      "cell_type": "code",
      "source": [
        "DATA_PATH = './'\n",
        "\n",
        "# Download example dataset (Brain MRI DICOM files)\n",
        "!curl https://uni-bonn.sciebo.de/s/s1t8QUZ02MF1Qoh/download --output {DATA_PATH}/data.zip\n",
        "!unzip -q {DATA_PATH}/data.zip -d {DATA_PATH}\n",
        "\n",
        "import os\n",
        "\n",
        "# List first few files in dataset folder to verify\n",
        "for root, dirs, files in os.walk(DATA_PATH):\n",
        "    for file in files[:5]:\n",
        "        print(os.path.join(root, file))\n"
      ],
      "metadata": {
        "id": "vJ_n4Ddhf0WD",
        "outputId": "6b7f178a-5540-4555-9370-227ee048607b",
        "colab": {
          "base_uri": "https://localhost:8080/"
        }
      },
      "id": "vJ_n4Ddhf0WD",
      "execution_count": 28,
      "outputs": [
        {
          "output_type": "stream",
          "name": "stdout",
          "text": [
            "  % Total    % Received % Xferd  Average Speed   Time    Time     Time  Current\n",
            "                                 Dload  Upload   Total   Spent    Left  Speed\n",
            "100 1730M  100 1730M    0     0  96.6M      0  0:00:17  0:00:17 --:--:--  128M\n",
            "replace ./data/ReportsDATASET.csv? [y]es, [n]o, [A]ll, [N]one, [r]ename: ./data.zip\n",
            "./model.pth\n",
            "./.config/active_config\n",
            "./.config/.last_survey_prompt.yaml\n",
            "./.config/.last_update_check.json\n",
            "./.config/.last_opt_in_prompt.yaml\n",
            "./.config/gce\n",
            "./.config/configurations/config_default\n",
            "./.config/logs/2025.08.07/13.42.07.355819.log\n",
            "./.config/logs/2025.08.07/13.42.26.351069.log\n",
            "./.config/logs/2025.08.07/13.42.17.248935.log\n",
            "./.config/logs/2025.08.07/13.41.46.739789.log\n",
            "./.config/logs/2025.08.07/13.42.25.647837.log\n",
            "./data/ReportsDATASET.csv\n",
            "./data/ReMIND/LICENSE\n",
            "./data/ReMIND/ReMIND_metadata.csv\n",
            "./data/ReMIND/sub-001/.DS_Store\n",
            "./data/ReMIND/sub-001/seg/ReMIND-001-preop-SEG-tumor-MR-3D_SAG_T2_SPACE.nrrd\n",
            "./data/ReMIND/sub-001/seg/ReMIND-001-preop-SEG-ventricles-MR-3D_AX_T1_postcontrast.nrrd\n",
            "./data/ReMIND/sub-001/seg/ReMIND-001-preop-SEG-cerebrum-MR-3D_AX_T1_postcontrast.nrrd\n",
            "./data/ReMIND/sub-001/anat/.DS_Store\n",
            "./data/ReMIND/sub-001/anat/T1w/1-192.dcm\n",
            "./data/ReMIND/sub-001/anat/T1w/1-096.dcm\n",
            "./data/ReMIND/sub-001/anat/T1w/1-042.dcm\n",
            "./data/ReMIND/sub-001/anat/T1w/1-186.dcm\n",
            "./data/ReMIND/sub-001/anat/T1w/1-033.dcm\n",
            "./data/ReMIND/sub-036/.DS_Store\n",
            "./data/ReMIND/sub-036/seg/ReMIND-036-preop-SEG-tumor-MR-3D_AX_T1_postcontrast.nrrd\n",
            "./data/ReMIND/sub-036/seg/ReMIND-036-preop-SEG-cerebrum-MR-3D_AX_T1_postcontrast.nrrd\n",
            "./data/ReMIND/sub-036/anat/T1w/1-096.dcm\n",
            "./data/ReMIND/sub-036/anat/T1w/1-042.dcm\n",
            "./data/ReMIND/sub-036/anat/T1w/1-033.dcm\n",
            "./data/ReMIND/sub-036/anat/T1w/1-009.dcm\n",
            "./data/ReMIND/sub-036/anat/T1w/1-100.dcm\n",
            "./data/ReMIND/sub-108/.DS_Store\n",
            "./data/ReMIND/sub-108/seg/ReMIND-108-preop-SEG-tumor-MR-2D_AX_T2_FLAIR.nrrd\n",
            "./data/ReMIND/sub-108/seg/ReMIND-108-preop-SEG-cerebrum-MR-3D_AX_T1_postcontrast.nrrd\n",
            "./data/ReMIND/sub-108/seg/ReMIND-108-preop-SEG-ventricles-MR-3D_AX_T1_postcontrast.nrrd\n",
            "./data/ReMIND/sub-108/anat/T1w/1-096.dcm\n",
            "./data/ReMIND/sub-108/anat/T1w/1-042.dcm\n",
            "./data/ReMIND/sub-108/anat/T1w/1-033.dcm\n",
            "./data/ReMIND/sub-108/anat/T1w/1-009.dcm\n",
            "./data/ReMIND/sub-108/anat/T1w/1-100.dcm\n",
            "./data/ReMIND/sub-062/.DS_Store\n",
            "./data/ReMIND/sub-062/seg/ReMIND-062-preop-SEG-ventricles-MR-3D_AX_T1_postcontrast.nrrd\n",
            "./data/ReMIND/sub-062/seg/ReMIND-062-preop-SEG-previous_resection_cavity-MR-3D_AX_T1_postcontrast.nrrd\n",
            "./data/ReMIND/sub-062/seg/ReMIND-062-intraop-SEG-tumor_residual-MR-3D_SAG_T2_FLAIR-r.nrrd\n",
            "./data/ReMIND/sub-062/seg/ReMIND-062-preop-SEG-cerebrum-MR-3D_AX_T1_postcontrast.nrrd\n",
            "./data/ReMIND/sub-062/seg/ReMIND-062-preop-SEG-tumor-MR-3D_AX_T1_postcontrast.nrrd\n",
            "./data/ReMIND/sub-062/anat/T1w/1-192.dcm\n",
            "./data/ReMIND/sub-062/anat/T1w/1-096.dcm\n",
            "./data/ReMIND/sub-062/anat/T1w/1-042.dcm\n",
            "./data/ReMIND/sub-062/anat/T1w/1-186.dcm\n",
            "./data/ReMIND/sub-062/anat/T1w/1-033.dcm\n",
            "./data/ReMIND/sub-064/.DS_Store\n",
            "./data/ReMIND/sub-064/seg/ReMIND-064-preop-SEG-previous_resection_cavity-MR-3D_AX_T1_postcontrast.nrrd\n",
            "./data/ReMIND/sub-064/seg/ReMIND-064-preop-SEG-cerebrum-MR-3D_AX_T1_postcontrast.nrrd\n",
            "./data/ReMIND/sub-064/seg/ReMIND-064-preop-SEG-tumor-MR-3D_AX_T1_postcontrast.nrrd\n",
            "./data/ReMIND/sub-064/anat/T1w/1-192.dcm\n",
            "./data/ReMIND/sub-064/anat/T1w/1-096.dcm\n",
            "./data/ReMIND/sub-064/anat/T1w/1-042.dcm\n",
            "./data/ReMIND/sub-064/anat/T1w/1-186.dcm\n",
            "./data/ReMIND/sub-064/anat/T1w/1-033.dcm\n",
            "./data/ReMIND/sub-049/.DS_Store\n",
            "./data/ReMIND/sub-049/seg/ReMIND-049-preop-SEG-cerebrum-MR-3D_AX_T1_postcontrast.nrrd\n",
            "./data/ReMIND/sub-049/seg/ReMIND-049-preop-SEG-tumor-MR-3D_AX_T2_SPACE.nrrd\n",
            "./data/ReMIND/sub-049/anat/T1w/1-192.dcm\n",
            "./data/ReMIND/sub-049/anat/T1w/1-096.dcm\n",
            "./data/ReMIND/sub-049/anat/T1w/1-042.dcm\n",
            "./data/ReMIND/sub-049/anat/T1w/1-186.dcm\n",
            "./data/ReMIND/sub-049/anat/T1w/1-033.dcm\n",
            "./data/ReMIND/sub-054/.DS_Store\n",
            "./data/ReMIND/sub-054/seg/ReMIND-054-preop-SEG-ventricles-MR-3D_AX_T1_postcontrast.nrrd\n",
            "./data/ReMIND/sub-054/seg/ReMIND-054-intraop-SEG-tumor_residual-MR-2D_AX_T2_BLADE.nrrd\n",
            "./data/ReMIND/sub-054/seg/ReMIND-054-preop-SEG-tumor-MR-3D_AX_T2_SPACE.nrrd\n",
            "./data/ReMIND/sub-054/seg/ReMIND-054-preop-SEG-cerebrum-MR-3D_AX_T1_postcontrast.nrrd\n",
            "./data/ReMIND/sub-054/anat/T1w/1-192.dcm\n",
            "./data/ReMIND/sub-054/anat/T1w/1-096.dcm\n",
            "./data/ReMIND/sub-054/anat/T1w/1-042.dcm\n",
            "./data/ReMIND/sub-054/anat/T1w/1-186.dcm\n",
            "./data/ReMIND/sub-054/anat/T1w/1-033.dcm\n",
            "./data/ReMIND/sub-031/.DS_Store\n",
            "./data/ReMIND/sub-031/seg/ReMIND-031-preop-SEG-tumor-MR-3D_AX_T1_postcontrast.nrrd\n",
            "./data/ReMIND/sub-031/seg/ReMIND-031-intraop-SEG-tumor_residual-MR-3D_SAG_T2_SPACE.nrrd\n",
            "./data/ReMIND/sub-031/anat/T1w/1-192.dcm\n",
            "./data/ReMIND/sub-031/anat/T1w/1-096.dcm\n",
            "./data/ReMIND/sub-031/anat/T1w/1-042.dcm\n",
            "./data/ReMIND/sub-031/anat/T1w/1-186.dcm\n",
            "./data/ReMIND/sub-031/anat/T1w/1-033.dcm\n",
            "./data/ReMIND/sub-085/seg/ReMIND-085-preop-SEG-tumor-MR-3D_AX_T2_SPACE.nrrd\n",
            "./data/ReMIND/sub-085/seg/ReMIND-085-preop-SEG-tumor-MR-2D_AX_T2_FLAIR.nrrd\n",
            "./data/ReMIND/sub-085/anat/T1w/1-096.dcm\n",
            "./data/ReMIND/sub-085/anat/T1w/1-042.dcm\n",
            "./data/ReMIND/sub-085/anat/T1w/1-033.dcm\n",
            "./data/ReMIND/sub-085/anat/T1w/1-009.dcm\n",
            "./data/ReMIND/sub-085/anat/T1w/1-100.dcm\n",
            "./data/ReMIND/sub-010/.DS_Store\n",
            "./data/ReMIND/sub-010/seg/ReMIND-010-preop-SEG-ventricles-MR-3D_AX_T1_postcontrast.nrrd\n",
            "./data/ReMIND/sub-010/seg/ReMIND-010-preop-SEG-tumor-MR-3D_AX_T1_postcontrast.nrrd\n",
            "./data/ReMIND/sub-010/seg/ReMIND-010-preop-SEG-cerebrum-MR-3D_AX_T1_postcontrast.nrrd\n",
            "./data/ReMIND/sub-010/anat/T1w/1-096.dcm\n",
            "./data/ReMIND/sub-010/anat/T1w/1-042.dcm\n",
            "./data/ReMIND/sub-010/anat/T1w/1-033.dcm\n",
            "./data/ReMIND/sub-010/anat/T1w/1-009.dcm\n",
            "./data/ReMIND/sub-010/anat/T1w/1-100.dcm\n",
            "./data/ReMIND/sub-086/.DS_Store\n",
            "./data/ReMIND/sub-086/seg/ReMIND-086-preop-SEG-tumor-MR-3D_AX_T1_postcontrast.nrrd\n",
            "./data/ReMIND/sub-086/seg/ReMIND-086-preop-SEG-cerebrum-MR-3D_AX_T1_postcontrast.nrrd\n",
            "./data/ReMIND/sub-086/seg/ReMIND-086-preop-SEG-ventricles-MR-3D_AX_T1_postcontrast.nrrd\n",
            "./data/ReMIND/sub-086/seg/ReMIND-086-intraop-SEG-tumor_residual-MR-3D_AX_T1_postcontrast.nrrd\n",
            "./data/ReMIND/sub-086/anat/T1w/1-192.dcm\n",
            "./data/ReMIND/sub-086/anat/T1w/1-096.dcm\n",
            "./data/ReMIND/sub-086/anat/T1w/1-042.dcm\n",
            "./data/ReMIND/sub-086/anat/T1w/1-186.dcm\n",
            "./data/ReMIND/sub-086/anat/T1w/1-033.dcm\n",
            "./data/ReMIND/sub-015/.DS_Store\n",
            "./data/ReMIND/sub-015/seg/ReMIND-015-preop-SEG-cerebrum-MR-3D_AX_T1_postcontrast.nrrd\n",
            "./data/ReMIND/sub-015/seg/ReMIND-015-intraop-SEG-tumor_residual-MR-3D_AX_T1_postcontrast.nrrd\n",
            "./data/ReMIND/sub-015/seg/ReMIND-015-preop-SEG-tumor-MR-3D_AX_T1_postcontrast.nrrd\n",
            "./data/ReMIND/sub-015/anat/T1w/1-192.dcm\n",
            "./data/ReMIND/sub-015/anat/T1w/1-096.dcm\n",
            "./data/ReMIND/sub-015/anat/T1w/1-042.dcm\n",
            "./data/ReMIND/sub-015/anat/T1w/1-186.dcm\n",
            "./data/ReMIND/sub-015/anat/T1w/1-033.dcm\n",
            "./data/ReMIND/sub-076/.DS_Store\n",
            "./data/ReMIND/sub-076/seg/ReMIND-076-intraop-SEG-tumor_residual-MR-3D_SAG_T2_FLAIR.nrrd\n",
            "./data/ReMIND/sub-076/seg/ReMIND-076-preop-SEG-tumor-MR-3D_SAG_T2_FLAIR.nrrd\n",
            "./data/ReMIND/sub-076/seg/ReMIND-076-preop-SEG-ventricles-MR-3D_AX_T1_postcontrast.nrrd\n",
            "./data/ReMIND/sub-076/seg/ReMIND-076-preop-SEG-cerebrum-MR-3D_AX_T1_postcontrast.nrrd\n",
            "./data/ReMIND/sub-076/seg/ReMIND-076-preop-SEG-tumor_target-MR-3D_SAG_T2_FLAIR.nrrd\n",
            "./data/ReMIND/sub-076/anat/T1w/1-192.dcm\n",
            "./data/ReMIND/sub-076/anat/T1w/1-096.dcm\n",
            "./data/ReMIND/sub-076/anat/T1w/1-042.dcm\n",
            "./data/ReMIND/sub-076/anat/T1w/1-186.dcm\n",
            "./data/ReMIND/sub-076/anat/T1w/1-033.dcm\n",
            "./data/ReMIND/sub-082/.DS_Store\n",
            "./data/ReMIND/sub-082/seg/ReMIND-082-preop-SEG-tumor-MR-3D_AX_T1_postcontrast.nrrd\n",
            "./data/ReMIND/sub-082/anat/T1w/1-096.dcm\n",
            "./data/ReMIND/sub-082/anat/T1w/1-042.dcm\n",
            "./data/ReMIND/sub-082/anat/T1w/1-033.dcm\n",
            "./data/ReMIND/sub-082/anat/T1w/1-009.dcm\n",
            "./data/ReMIND/sub-082/anat/T1w/1-100.dcm\n",
            "./data/ReMIND/sub-019/.DS_Store\n",
            "./data/ReMIND/sub-019/seg/ReMIND-019-preop-SEG-cerebrum-MR-3D_AX_T1_postcontrast.nrrd\n",
            "./data/ReMIND/sub-019/seg/ReMIND-019-preop-SEG-tumor-MR-2D_AX_T2_BLADE.nrrd\n",
            "./data/ReMIND/sub-019/seg/ReMIND-019-intraop-SEG-tumor_residual-MR-2D_AX_T2_BLADE.nrrd\n",
            "./data/ReMIND/sub-019/seg/ReMIND-019-preop-SEG-ventricles-MR-3D_AX_T1_postcontrast.nrrd\n",
            "./data/ReMIND/sub-019/anat/T1w/1-192.dcm\n",
            "./data/ReMIND/sub-019/anat/T1w/1-096.dcm\n",
            "./data/ReMIND/sub-019/anat/T1w/1-042.dcm\n",
            "./data/ReMIND/sub-019/anat/T1w/1-186.dcm\n",
            "./data/ReMIND/sub-019/anat/T1w/1-033.dcm\n",
            "./data/ReMIND/sub-097/.DS_Store\n",
            "./data/ReMIND/sub-097/seg/ReMIND-097-preop-SEG-cerebrum-MR-3D_AX_T1_postcontrast.nrrd\n",
            "./data/ReMIND/sub-097/seg/ReMIND-097-preop-SEG-tumor-MR-3D_AX_T1_postcontrast.nrrd\n",
            "./data/ReMIND/sub-097/seg/ReMIND-097-preop-SEG-tumor-MR-2D_AX_T2_BLADE.nrrd\n",
            "./data/ReMIND/sub-097/seg/ReMIND-097-preop-SEG-ventricles-MR-3D_AX_T1_postcontrast.nrrd\n",
            "./data/ReMIND/sub-097/seg/ReMIND-097-intraop-SEG-tumor_residual-MR-2D_AX_T2_BLADE.nrrd\n",
            "./data/ReMIND/sub-097/anat/T1w/1-192.dcm\n",
            "./data/ReMIND/sub-097/anat/T1w/1-096.dcm\n",
            "./data/ReMIND/sub-097/anat/T1w/1-042.dcm\n",
            "./data/ReMIND/sub-097/anat/T1w/1-186.dcm\n",
            "./data/ReMIND/sub-097/anat/T1w/1-033.dcm\n",
            "./data/ReMIND/sub-027/.DS_Store\n",
            "./data/ReMIND/sub-027/seg/ReMIND-027-preop-SEG-tumor-MR-3D_AX_T2_SPACE-r.nrrd\n",
            "./data/ReMIND/sub-027/seg/ReMIND-027-intraop-SEG-tumor_residual-MR-2D_AX_T2_BLADE.nrrd\n",
            "./data/ReMIND/sub-027/seg/ReMIND-027-preop-SEG-ventricles-MR-3D_AX_T1_postcontrast.nrrd\n",
            "./data/ReMIND/sub-027/seg/ReMIND-027-preop-SEG-cerebrum-MR-3D_AX_T1_postcontrast.nrrd\n",
            "./data/ReMIND/sub-027/anat/T1w/1-096.dcm\n",
            "./data/ReMIND/sub-027/anat/T1w/1-042.dcm\n",
            "./data/ReMIND/sub-027/anat/T1w/1-033.dcm\n",
            "./data/ReMIND/sub-027/anat/T1w/1-009.dcm\n",
            "./data/ReMIND/sub-027/anat/T1w/1-100.dcm\n",
            "./data/ReMIND/sub-046/.DS_Store\n",
            "./data/ReMIND/sub-046/seg/ReMIND-046-preop-SEG-cerebrum-MR-3D_AX_T1_postcontrast.nrrd\n",
            "./data/ReMIND/sub-046/seg/ReMIND-046-intraop-SEG-tumor_residual-MR-3D_SAG_T2_FLAIR.nrrd\n",
            "./data/ReMIND/sub-046/seg/ReMIND-046-preop-SEG-previous_resection_cavity-MR-3D_AX_T1_postcontrast.nrrd\n",
            "./data/ReMIND/sub-046/seg/ReMIND-046-preop-SEG-tumor-MR-2D_AX_T2_FLAIR.nrrd\n",
            "./data/ReMIND/sub-046/seg/ReMIND-046-preop-SEG-ventricles-MR-3D_AX_T1_postcontrast.nrrd\n",
            "./data/ReMIND/sub-046/anat/T1w/1-192.dcm\n",
            "./data/ReMIND/sub-046/anat/T1w/1-096.dcm\n",
            "./data/ReMIND/sub-046/anat/T1w/1-042.dcm\n",
            "./data/ReMIND/sub-046/anat/T1w/1-186.dcm\n",
            "./data/ReMIND/sub-046/anat/T1w/1-033.dcm\n",
            "./data/ReMIND/sub-107/.DS_Store\n",
            "./data/ReMIND/sub-107/seg/ReMIND-107-preop-SEG-ventricles-MR-3D_AX_T1_postcontrast-r.nrrd\n",
            "./data/ReMIND/sub-107/seg/ReMIND-107-preop-SEG-cerebrum-MR-3D_AX_T1_postcontrast-r.nrrd\n",
            "./data/ReMIND/sub-107/seg/ReMIND-107-intraop-SEG-tumor-MR-3D_AX_T1_postcontrast-r.nrrd\n",
            "./data/ReMIND/sub-107/seg/ReMIND-107-preop-SEG-tumor-MR-3D_AX_T1_postcontrast-r.nrrd\n",
            "./data/ReMIND/sub-107/anat/T1w/1-192.dcm\n",
            "./data/ReMIND/sub-107/anat/T1w/1-096.dcm\n",
            "./data/ReMIND/sub-107/anat/T1w/1-042.dcm\n",
            "./data/ReMIND/sub-107/anat/T1w/1-186.dcm\n",
            "./data/ReMIND/sub-107/anat/T1w/1-033.dcm\n",
            "./data/ReMIND/sub-068/.DS_Store\n",
            "./data/ReMIND/sub-068/seg/ReMIND-068-preop-SEG-ventricles-MR-3D_AX_T1_postcontrast.nrrd\n",
            "./data/ReMIND/sub-068/seg/ReMIND-068-preop-SEG-cerebrum-MR-3D_AX_T1_postcontrast.nrrd\n",
            "./data/ReMIND/sub-068/seg/ReMIND-068-intraop-SEG-tumor_residual-MR-3D_AX_T1_postcontrast.nrrd\n",
            "./data/ReMIND/sub-068/seg/ReMIND-068-preop-SEG-previous_resection_cavity-MR-3D_AX_T1_postcontrast.nrrd\n",
            "./data/ReMIND/sub-068/seg/ReMIND-068-preop-SEG-tumor-MR-3D_AX_T1_postcontrast.nrrd\n",
            "./data/ReMIND/sub-068/anat/T1w/1-096.dcm\n",
            "./data/ReMIND/sub-068/anat/T1w/1-042.dcm\n",
            "./data/ReMIND/sub-068/anat/T1w/1-033.dcm\n",
            "./data/ReMIND/sub-068/anat/T1w/1-009.dcm\n",
            "./data/ReMIND/sub-068/anat/T1w/1-100.dcm\n",
            "./data/ReMIND/sub-069/.DS_Store\n",
            "./data/ReMIND/sub-069/seg/ReMIND-069-preop-SEG-tumor-MR-3D_COR_T2_FLAIR.nrrd\n",
            "./data/ReMIND/sub-069/seg/ReMIND-069-preop-SEG-cerebrum-MR-3D_AX_T1_postcontrast.nrrd\n",
            "./data/ReMIND/sub-069/anat/T1w/1-096.dcm\n",
            "./data/ReMIND/sub-069/anat/T1w/1-042.dcm\n",
            "./data/ReMIND/sub-069/anat/T1w/1-033.dcm\n",
            "./data/ReMIND/sub-069/anat/T1w/1-009.dcm\n",
            "./data/ReMIND/sub-069/anat/T1w/1-100.dcm\n",
            "./data/ReMIND/sub-058/.DS_Store\n",
            "./data/ReMIND/sub-058/seg/ReMIND-058-preop-SEG-tumor-MR-3D_SAG_T2.nrrd\n",
            "./data/ReMIND/sub-058/seg/ReMIND-058-preop-SEG-cerebrum-MR-3D_AX_T1_postcontrast.nrrd\n",
            "./data/ReMIND/sub-058/anat/T1w/1-096.dcm\n",
            "./data/ReMIND/sub-058/anat/T1w/1-042.dcm\n",
            "./data/ReMIND/sub-058/anat/T1w/1-033.dcm\n",
            "./data/ReMIND/sub-058/anat/T1w/1-009.dcm\n",
            "./data/ReMIND/sub-058/anat/T1w/1-100.dcm\n",
            "./data/ReMIND/sub-059/.DS_Store\n",
            "./data/ReMIND/sub-059/seg/ReMIND-059-preop-SEG-cerebrum-MR-3D_AX_T1_postcontrast.nrrd\n",
            "./data/ReMIND/sub-059/seg/ReMIND-059-preop-SEG-tumor-MR-3D_AX_T1_postcontrast.nrrd\n",
            "./data/ReMIND/sub-059/anat/T1w/1-096.dcm\n",
            "./data/ReMIND/sub-059/anat/T1w/1-042.dcm\n",
            "./data/ReMIND/sub-059/anat/T1w/1-033.dcm\n",
            "./data/ReMIND/sub-059/anat/T1w/1-009.dcm\n",
            "./data/ReMIND/sub-059/anat/T1w/1-100.dcm\n",
            "./data/ReMIND/sub-092/.DS_Store\n",
            "./data/ReMIND/sub-092/seg/ReMIND-092-preop-SEG-ventricles-MR-2D_AX_T2_FLAIR.nrrd\n",
            "./data/ReMIND/sub-092/seg/ReMIND-092-preop-SEG-previous_resection_cavity-MR-3D_SAG_T1_postcontrast.nrrd\n",
            "./data/ReMIND/sub-092/seg/ReMIND-092-preop-SEG-cerebrum-MR-2D_AX_T2_FLAIR.nrrd\n",
            "./data/ReMIND/sub-092/seg/ReMIND-092-preop-SEG-tumor-MR-2D_AX_T2_FLAIR.nrrd\n",
            "./data/ReMIND/sub-092/seg/ReMIND-092-preop-SEG-tumor-MR-3D_SAG_T1_postcontrast.nrrd\n",
            "./data/ReMIND/sub-092/anat/T1w/1-192.dcm\n",
            "./data/ReMIND/sub-092/anat/T1w/1-223.dcm\n",
            "./data/ReMIND/sub-092/anat/T1w/1-096.dcm\n",
            "./data/ReMIND/sub-092/anat/T1w/1-268.dcm\n",
            "./data/ReMIND/sub-092/anat/T1w/1-042.dcm\n",
            "./data/ReMIND/sub-035/.DS_Store\n",
            "./data/ReMIND/sub-035/seg/ReMIND-035-preop-SEG-tumor-MR-3D_AX_T1_postcontrast.nrrd\n",
            "./data/ReMIND/sub-035/seg/ReMIND-035-preop-SEG-cerebrum-MR-3D_AX_T1_postcontrast.nrrd\n",
            "./data/ReMIND/sub-035/anat/T1w/1-096.dcm\n",
            "./data/ReMIND/sub-035/anat/T1w/1-042.dcm\n",
            "./data/ReMIND/sub-035/anat/T1w/1-033.dcm\n",
            "./data/ReMIND/sub-035/anat/T1w/1-009.dcm\n",
            "./data/ReMIND/sub-035/anat/T1w/1-100.dcm\n",
            "./data/ReMIND/sub-043/.DS_Store\n",
            "./data/ReMIND/sub-043/seg/ReMIND-043-preop-SEG-cerebrum-MR-3D_AX_T1_postcontrast.nrrd\n",
            "./data/ReMIND/sub-043/seg/ReMIND-043-preop-SEG-ventricles-MR-3D_AX_T1_postcontrast.nrrd\n",
            "./data/ReMIND/sub-043/seg/ReMIND-043-intraop-SEG-tumor-MR-3D_AX_T1_postcontrast.nrrd\n",
            "./data/ReMIND/sub-043/seg/ReMIND-043-preop-SEG-tumor-MR-3D_AX_T1_postcontrast.nrrd\n",
            "./data/ReMIND/sub-043/anat/T1w/1-192.dcm\n",
            "./data/ReMIND/sub-043/anat/T1w/1-096.dcm\n",
            "./data/ReMIND/sub-043/anat/T1w/1-042.dcm\n",
            "./data/ReMIND/sub-043/anat/T1w/1-186.dcm\n",
            "./data/ReMIND/sub-043/anat/T1w/1-033.dcm\n",
            "./data/ReMIND/sub-112/.DS_Store\n",
            "./data/ReMIND/sub-112/seg/ReMIND-112-preop-SEG-ventricles-MR-3D_AX_T1_postcontrast-r.nrrd\n",
            "./data/ReMIND/sub-112/seg/ReMIND-112-preop-SEG-cerebrum-MR-3D_AX_T1_postcontrast-r.nrrd\n",
            "./data/ReMIND/sub-112/seg/ReMIND-112-preop-SEG-tumor-MR-3D_AX_T1_postcontrast-r.nrrd\n",
            "./data/ReMIND/sub-112/anat/T1w/1-192.dcm\n",
            "./data/ReMIND/sub-112/anat/T1w/1-096.dcm\n",
            "./data/ReMIND/sub-112/anat/T1w/1-042.dcm\n",
            "./data/ReMIND/sub-112/anat/T1w/1-186.dcm\n",
            "./data/ReMIND/sub-112/anat/T1w/1-033.dcm\n",
            "./data/ReMIND/sub-101/seg/ReMIND-101-preop-SEG-tumor-MR-2D_AX_T2.nrrd\n",
            "./data/ReMIND/sub-101/seg/ReMIND-101-intraop-SEG-tumor_residual-MR-2D_AX_T2_BLADE.nrrd\n",
            "./data/ReMIND/sub-101/anat/T1w/1-192.dcm\n",
            "./data/ReMIND/sub-101/anat/T1w/1-096.dcm\n",
            "./data/ReMIND/sub-101/anat/T1w/1-042.dcm\n",
            "./data/ReMIND/sub-101/anat/T1w/1-186.dcm\n",
            "./data/ReMIND/sub-101/anat/T1w/1-033.dcm\n",
            "./data/ReMIND/sub-073/.DS_Store\n",
            "./data/ReMIND/sub-073/seg/ReMIND-073-preop-SEG-previous_resection_cavity-MR-3D_AX_T1_postcontrast.nrrd\n",
            "./data/ReMIND/sub-073/seg/ReMIND-073-intraop-SEG-tumor_residual-MR-3D_AX_T1_postcontrast.nrrd\n",
            "./data/ReMIND/sub-073/seg/ReMIND-073-preop-SEG-ventricles-MR-3D_AX_T1_postcontrast.nrrd\n",
            "./data/ReMIND/sub-073/seg/ReMIND-073-preop-SEG-cerebrum-MR-3D_AX_T1_postcontrast.nrrd\n",
            "./data/ReMIND/sub-073/seg/ReMIND-073-preop-SEG-tumor-MR-3D_AX_T1_postcontrast.nrrd\n",
            "./data/ReMIND/sub-073/anat/T1w/1-192.dcm\n",
            "./data/ReMIND/sub-073/anat/T1w/1-096.dcm\n",
            "./data/ReMIND/sub-073/anat/T1w/1-042.dcm\n",
            "./data/ReMIND/sub-073/anat/T1w/1-186.dcm\n",
            "./data/ReMIND/sub-073/anat/T1w/1-033.dcm\n",
            "./data/ReMIND/sub-018/.DS_Store\n",
            "./data/ReMIND/sub-018/seg/ReMIND-018-preop-SEG-previous_resection_cavity-MR-3D_AX_T1_postcontrast.nrrd\n",
            "./data/ReMIND/sub-018/seg/ReMIND-018-preop-SEG-cerebrum-MR-3D_AX_T1_postcontrast.nrrd\n",
            "./data/ReMIND/sub-018/seg/ReMIND-018-preop-SEG-tumor-MR-3D_AX_T1_postcontrast.nrrd\n",
            "./data/ReMIND/sub-018/anat/T1w/1-192.dcm\n",
            "./data/ReMIND/sub-018/anat/T1w/1-096.dcm\n",
            "./data/ReMIND/sub-018/anat/T1w/1-042.dcm\n",
            "./data/ReMIND/sub-018/anat/T1w/1-186.dcm\n",
            "./data/ReMIND/sub-018/anat/T1w/1-033.dcm\n",
            "./data/ReMIND/sub-104/.DS_Store\n",
            "./data/ReMIND/sub-104/seg/ReMIND-104-preop-SEG-ventricles-MR-3D_AX_T1_postcontrast.nrrd\n",
            "./data/ReMIND/sub-104/seg/ReMIND-104-preop-SEG-tumor-MR-3D_AX_T1_postcontrast.nrrd\n",
            "./data/ReMIND/sub-104/seg/ReMIND-104-preop-SEG-cerebrum-MR-3D_AX_T1_postcontrast.nrrd\n",
            "./data/ReMIND/sub-104/anat/T1w/1-192.dcm\n",
            "./data/ReMIND/sub-104/anat/T1w/1-096.dcm\n",
            "./data/ReMIND/sub-104/anat/T1w/1-042.dcm\n",
            "./data/ReMIND/sub-104/anat/T1w/1-186.dcm\n",
            "./data/ReMIND/sub-104/anat/T1w/1-033.dcm\n",
            "./data/ReMIND/sub-028/.DS_Store\n",
            "./data/ReMIND/sub-028/seg/ReMIND-028-preop-SEG-tumor-MR-3D_AX_T1_postcontrast.nrrd\n",
            "./data/ReMIND/sub-028/anat/T1w/1-192.dcm\n",
            "./data/ReMIND/sub-028/anat/T1w/1-096.dcm\n",
            "./data/ReMIND/sub-028/anat/T1w/1-042.dcm\n",
            "./data/ReMIND/sub-028/anat/T1w/1-186.dcm\n",
            "./data/ReMIND/sub-028/anat/T1w/1-033.dcm\n",
            "./data/ReMIND/sub-048/.DS_Store\n",
            "./data/ReMIND/sub-048/seg/ReMIND-048-preop-SEG-tumor-MR-2D_AX_T2_FLAIR.nrrd\n",
            "./data/ReMIND/sub-048/seg/ReMIND-048-intraop-SEG-tumor_residual-MR-3D_SAG_T2_FLAIR.nrrd\n",
            "./data/ReMIND/sub-048/seg/ReMIND-048-preop-SEG-cerebrum-MR-3D_AX_T1_postcontrast.nrrd\n",
            "./data/ReMIND/sub-048/seg/ReMIND-048-preop-SEG-previous_resection_cavity-MR-3D_AX_T1_postcontrast.nrrd\n",
            "./data/ReMIND/sub-048/anat/T1w/1-096.dcm\n",
            "./data/ReMIND/sub-048/anat/T1w/1-042.dcm\n",
            "./data/ReMIND/sub-048/anat/T1w/1-033.dcm\n",
            "./data/ReMIND/sub-048/anat/T1w/1-009.dcm\n",
            "./data/ReMIND/sub-048/anat/T1w/1-100.dcm\n",
            "./data/ReMIND/sub-045/.DS_Store\n",
            "./data/ReMIND/sub-045/seg/ReMIND-045-preop-SEG-tumor-MR-3D_AX_T2_SPACE.nrrd\n",
            "./data/ReMIND/sub-045/seg/ReMIND-045-preop-SEG-tumor-MR-3D_AX_T1_postcontrast.nrrd\n",
            "./data/ReMIND/sub-045/seg/ReMIND-045-preop-SEG-cerebrum-MR-3D_AX_T1_postcontrast.nrrd\n",
            "./data/ReMIND/sub-045/anat/T1w/1-096.dcm\n",
            "./data/ReMIND/sub-045/anat/T1w/1-042.dcm\n",
            "./data/ReMIND/sub-045/anat/T1w/1-033.dcm\n",
            "./data/ReMIND/sub-045/anat/T1w/1-009.dcm\n",
            "./data/ReMIND/sub-045/anat/T1w/1-100.dcm\n",
            "./data/ReMIND/sub-093/.DS_Store\n",
            "./data/ReMIND/sub-093/seg/ReMIND-093-intraop-SEG-tumor_residual-MR-3D_AX_T1_postcontrast.nrrd\n",
            "./data/ReMIND/sub-093/seg/ReMIND-093-preop-SEG-tumor-MR-3D_AX_T1_postcontrast.nrrd\n",
            "./data/ReMIND/sub-093/anat/T1w/1-192.dcm\n",
            "./data/ReMIND/sub-093/anat/T1w/1-096.dcm\n",
            "./data/ReMIND/sub-093/anat/T1w/1-042.dcm\n",
            "./data/ReMIND/sub-093/anat/T1w/1-186.dcm\n",
            "./data/ReMIND/sub-093/anat/T1w/1-033.dcm\n",
            "./data/ReMIND/sub-105/.DS_Store\n",
            "./data/ReMIND/sub-105/seg/ReMIND-105-preop-SEG-tumor-MR-3D_AX_T1_postcontrast.nrrd\n",
            "./data/ReMIND/sub-105/seg/ReMIND-105-preop-SEG-cerebrum-MR-3D_AX_T1_postcontrast.nrrd\n",
            "./data/ReMIND/sub-105/anat/T1w/1-192.dcm\n",
            "./data/ReMIND/sub-105/anat/T1w/1-096.dcm\n",
            "./data/ReMIND/sub-105/anat/T1w/1-042.dcm\n",
            "./data/ReMIND/sub-105/anat/T1w/1-186.dcm\n",
            "./data/ReMIND/sub-105/anat/T1w/1-033.dcm\n",
            "./data/ReMIND/sub-008/.DS_Store\n",
            "./data/ReMIND/sub-008/seg/ReMIND-008-preop-SEG-tumor-MR-3D_AX_T1_postcontrast.nrrd\n",
            "./data/ReMIND/sub-008/seg/ReMIND-008-preop-SEG-ventricles-MR-3D_AX_T1_postcontrast.nrrd\n",
            "./data/ReMIND/sub-008/seg/ReMIND-008-preop-SEG-previous_resection_cavity-MR-3D_AX_T1_postcontrast.nrrd\n",
            "./data/ReMIND/sub-008/seg/ReMIND-008-preop-SEG-cerebrum-MR-3D_AX_T1_postcontrast.nrrd\n",
            "./data/ReMIND/sub-008/seg/ReMIND-008-intraop-SEG-tumor_residual-MR-3D_AX_T1_postcontrast.nrrd\n",
            "./data/ReMIND/sub-008/anat/T1w/1-192.dcm\n",
            "./data/ReMIND/sub-008/anat/T1w/1-223.dcm\n",
            "./data/ReMIND/sub-008/anat/T1w/1-303.dcm\n",
            "./data/ReMIND/sub-008/anat/T1w/1-096.dcm\n",
            "./data/ReMIND/sub-008/anat/T1w/1-268.dcm\n",
            "./data/ReMIND/sub-079/.DS_Store\n",
            "./data/ReMIND/sub-079/seg/ReMIND-079-preop-SEG-cerebrum-MR-3D_AX_T1_postcontrast.nrrd\n",
            "./data/ReMIND/sub-079/seg/ReMIND-079-preop-SEG-tumor-MR-3D_AX_T1_postcontrast.nrrd\n",
            "./data/ReMIND/sub-079/anat/T1w/1-192.dcm\n",
            "./data/ReMIND/sub-079/anat/T1w/1-096.dcm\n",
            "./data/ReMIND/sub-079/anat/T1w/1-042.dcm\n",
            "./data/ReMIND/sub-079/anat/T1w/1-186.dcm\n",
            "./data/ReMIND/sub-079/anat/T1w/1-033.dcm\n",
            "./data/ReMIND/sub-080/.DS_Store\n",
            "./data/ReMIND/sub-080/seg/ReMIND-080-preop-SEG-tumor-MR-3D_AX_T2_SPACE.nrrd\n",
            "./data/ReMIND/sub-080/seg/ReMIND-080-preop-SEG-cerebrum-MR-3D_AX_T1_postcontrast.nrrd\n",
            "./data/ReMIND/sub-080/anat/T1w/1-096.dcm\n",
            "./data/ReMIND/sub-080/anat/T1w/1-042.dcm\n",
            "./data/ReMIND/sub-080/anat/T1w/1-033.dcm\n",
            "./data/ReMIND/sub-080/anat/T1w/1-009.dcm\n",
            "./data/ReMIND/sub-080/anat/T1w/1-100.dcm\n",
            "./data/ReMIND/sub-020/.DS_Store\n",
            "./data/ReMIND/sub-020/seg/ReMIND-020-preop-SEG-cerebrum-MR-3D_AX_T1_postcontrast.nrrd\n",
            "./data/ReMIND/sub-020/seg/ReMIND-020-preop-SEG-tumor-MR-3D_AX_T1_postcontrast.nrrd\n",
            "./data/ReMIND/sub-020/seg/ReMIND-020-preop-SEG-ventricles-MR-3D_AX_T1_postcontrast.nrrd\n",
            "./data/ReMIND/sub-020/anat/T1w/1-192.dcm\n",
            "./data/ReMIND/sub-020/anat/T1w/1-096.dcm\n",
            "./data/ReMIND/sub-020/anat/T1w/1-042.dcm\n",
            "./data/ReMIND/sub-020/anat/T1w/1-186.dcm\n",
            "./data/ReMIND/sub-020/anat/T1w/1-033.dcm\n",
            "./data/ReMIND/sub-007/.DS_Store\n",
            "./data/ReMIND/sub-007/seg/ReMIND-007-intraop-SEG-tumor_residual-MR-3D_SAG_T2_FLAIR.nrrd\n",
            "./data/ReMIND/sub-007/seg/ReMIND-007-preop-SEG-ventricles-MR-3D_AX_T1_postcontrast.nrrd\n",
            "./data/ReMIND/sub-007/seg/ReMIND-007-preop-SEG-cerebrum-MR-3D_AX_T1_postcontrast.nrrd\n",
            "./data/ReMIND/sub-007/seg/ReMIND-007-preop-SEG-tumor-MR-3D_AX_T1_postcontrast.nrrd\n",
            "./data/ReMIND/sub-007/anat/T1w/1-192.dcm\n",
            "./data/ReMIND/sub-007/anat/T1w/1-096.dcm\n",
            "./data/ReMIND/sub-007/anat/T1w/1-042.dcm\n",
            "./data/ReMIND/sub-007/anat/T1w/1-186.dcm\n",
            "./data/ReMIND/sub-007/anat/T1w/1-033.dcm\n",
            "./data/ReMIND/sub-052/.DS_Store\n",
            "./data/ReMIND/sub-052/seg/ReMIND-052-preop-SEG-cerebrum-MR-3D_AX_T1_postcontrast.nrrd\n",
            "./data/ReMIND/sub-052/seg/ReMIND-052-preop-SEG-tumor-MR-3D_AX_T1_postcontrast.nrrd\n",
            "./data/ReMIND/sub-052/anat/T1w/1-192.dcm\n",
            "./data/ReMIND/sub-052/anat/T1w/1-096.dcm\n",
            "./data/ReMIND/sub-052/anat/T1w/1-042.dcm\n",
            "./data/ReMIND/sub-052/anat/T1w/1-186.dcm\n",
            "./data/ReMIND/sub-052/anat/T1w/1-033.dcm\n",
            "./data/ReMIND/sub-075/.DS_Store\n",
            "./data/ReMIND/sub-075/seg/ReMIND-075-preop-SEG-ventricles-MR-3D_AX_T1_postcontrast-r.nrrd\n",
            "./data/ReMIND/sub-075/seg/ReMIND-075-preop-SEG-cerebrum-MR-3D_AX_T1_postcontrast-r.nrrd\n",
            "./data/ReMIND/sub-075/seg/ReMIND-075-preop-SEG-tumor-MR-3D_AX_T1_postcontrast-r.nrrd\n",
            "./data/ReMIND/sub-075/anat/T1w/1-192.dcm\n",
            "./data/ReMIND/sub-075/anat/T1w/1-096.dcm\n",
            "./data/ReMIND/sub-075/anat/T1w/1-042.dcm\n",
            "./data/ReMIND/sub-075/anat/T1w/1-186.dcm\n",
            "./data/ReMIND/sub-075/anat/T1w/1-033.dcm\n",
            "./data/ReMIND/sub-083/.DS_Store\n",
            "./data/ReMIND/sub-083/seg/ReMIND-083-intraop-SEG-tumor_residual-MR-3D_AX_T1_postcontrast.nrrd\n",
            "./data/ReMIND/sub-083/seg/ReMIND-083-preop-SEG-tumor-MR-3D_AX_T1_postcontrast.nrrd\n",
            "./data/ReMIND/sub-083/seg/ReMIND-083-preop-SEG-previous_resection_cavity-MR-3D_AX_T1_postcontrast.nrrd\n",
            "./data/ReMIND/sub-083/anat/T1w/1-192.dcm\n",
            "./data/ReMIND/sub-083/anat/T1w/1-096.dcm\n",
            "./data/ReMIND/sub-083/anat/T1w/1-042.dcm\n",
            "./data/ReMIND/sub-083/anat/T1w/1-186.dcm\n",
            "./data/ReMIND/sub-083/anat/T1w/1-033.dcm\n",
            "./data/ReMIND/sub-111/seg/ReMIND-111-preop-SEG-tumor-MR-2D_AX_T2_FLAIR.nrrd\n",
            "./data/ReMIND/sub-111/anat/T1w/1-096.dcm\n",
            "./data/ReMIND/sub-111/anat/T1w/1-042.dcm\n",
            "./data/ReMIND/sub-111/anat/T1w/1-033.dcm\n",
            "./data/ReMIND/sub-111/anat/T1w/1-009.dcm\n",
            "./data/ReMIND/sub-111/anat/T1w/1-100.dcm\n",
            "./data/ReMIND/sub-017/.DS_Store\n",
            "./data/ReMIND/sub-017/seg/ReMIND-017-preop-SEG-cerebrum-MR-3D_AX_T1_postcontrast.nrrd\n",
            "./data/ReMIND/sub-017/seg/ReMIND-017-preop-SEG-previous_resection_cavity-MR-3D_AX_T1_postcontrast.nrrd\n",
            "./data/ReMIND/sub-017/seg/ReMIND-017-preop-SEG-tumor-MR-3D_AX_T1_postcontrast.nrrd\n",
            "./data/ReMIND/sub-017/seg/ReMIND-017-preop-SEG-ventricles-MR-3D_AX_T1_postcontrast.nrrd\n",
            "./data/ReMIND/sub-017/anat/T1w/1-096.dcm\n",
            "./data/ReMIND/sub-017/anat/T1w/1-042.dcm\n",
            "./data/ReMIND/sub-017/anat/T1w/1-033.dcm\n",
            "./data/ReMIND/sub-017/anat/T1w/1-009.dcm\n",
            "./data/ReMIND/sub-017/anat/T1w/1-100.dcm\n",
            "./data/ReMIND/sub-066/.DS_Store\n",
            "./data/ReMIND/sub-066/seg/ReMIND-066-intraop-SEG-tumor_residual-MR-3D_SAG_T2_FLAIR.nrrd\n",
            "./data/ReMIND/sub-066/seg/ReMIND-066-preop-SEG-ventricles-MR-3D_AX_T1_postcontrast.nrrd\n",
            "./data/ReMIND/sub-066/seg/ReMIND-066-preop-SEG-tumor-MR-3D_SAG_T1_MP2RAGE.nrrd\n",
            "./data/ReMIND/sub-066/seg/ReMIND-066-preop-SEG-tumor-MR-3D_AX_T2_SPACE.nrrd\n",
            "./data/ReMIND/sub-066/seg/ReMIND-066-preop-SEG-cerebrum-MR-3D_AX_T1_postcontrast.nrrd\n",
            "./data/ReMIND/sub-066/anat/T1w/1-192.dcm\n",
            "./data/ReMIND/sub-066/anat/T1w/1-096.dcm\n",
            "./data/ReMIND/sub-066/anat/T1w/1-042.dcm\n",
            "./data/ReMIND/sub-066/anat/T1w/1-186.dcm\n",
            "./data/ReMIND/sub-066/anat/T1w/1-033.dcm\n",
            "./data/ReMIND/sub-003/.DS_Store\n",
            "./data/ReMIND/sub-003/seg/ReMIND-003-preop-SEG-cerebrum-MR-3D_AX_T1_postcontrast.nrrd\n",
            "./data/ReMIND/sub-003/seg/ReMIND-003-intraop-SEG-tumor_residual-MR-3D_SAG_T2_FLAIR.nrrd\n",
            "./data/ReMIND/sub-003/seg/ReMIND-003-preop-SEG-ventricles-MR-3D_AX_T1_postcontrast.nrrd\n",
            "./data/ReMIND/sub-003/seg/ReMIND-003-preop-SEG-tumor-MR-3D_AX_T2_SPACE-r.nrrd\n",
            "./data/ReMIND/sub-003/anat/T1w/1-096.dcm\n",
            "./data/ReMIND/sub-003/anat/T1w/1-042.dcm\n",
            "./data/ReMIND/sub-003/anat/T1w/1-033.dcm\n",
            "./data/ReMIND/sub-003/anat/T1w/1-009.dcm\n",
            "./data/ReMIND/sub-003/anat/T1w/1-100.dcm\n",
            "./data/ReMIND/sub-114/seg/ReMIND-114-preop-SEG-tumor-MR-3D_AX_T2_SPACE.nrrd\n",
            "./data/ReMIND/sub-114/anat/T1w/1-192.dcm\n",
            "./data/ReMIND/sub-114/anat/T1w/1-096.dcm\n",
            "./data/ReMIND/sub-114/anat/T1w/1-042.dcm\n",
            "./data/ReMIND/sub-114/anat/T1w/1-186.dcm\n",
            "./data/ReMIND/sub-114/anat/T1w/1-033.dcm\n",
            "./data/ReMIND/sub-022/.DS_Store\n",
            "./data/ReMIND/sub-022/seg/ReMIND-022-preop-SEG-previous_resection_cavity-MR-3D_AX_T1_postcontrast.nrrd\n",
            "./data/ReMIND/sub-022/seg/ReMIND-022-preop-SEG-tumor-MR-3D_AX_T1_postcontrast.nrrd\n",
            "./data/ReMIND/sub-022/anat/T1w/1-096.dcm\n",
            "./data/ReMIND/sub-022/anat/T1w/1-042.dcm\n",
            "./data/ReMIND/sub-022/anat/T1w/1-033.dcm\n",
            "./data/ReMIND/sub-022/anat/T1w/1-009.dcm\n",
            "./data/ReMIND/sub-022/anat/T1w/1-100.dcm\n",
            "./data/ReMIND/sub-110/.DS_Store\n",
            "./data/ReMIND/sub-110/seg/ReMIND-110-intraop-SEG-tumor_residual-MR-3D_SAG_T2_FLAIR.nrrd\n",
            "./data/ReMIND/sub-110/seg/ReMIND-110-preop-SEG-cerebrum-MR-3D_AX_T1_postcontrast.nrrd\n",
            "./data/ReMIND/sub-110/seg/ReMIND-110-preop-SEG-tumor-MR-3D_AX_T1_postcontrast.nrrd\n",
            "./data/ReMIND/sub-110/anat/T1w/1-096.dcm\n",
            "./data/ReMIND/sub-110/anat/T1w/1-042.dcm\n",
            "./data/ReMIND/sub-110/anat/T1w/1-033.dcm\n",
            "./data/ReMIND/sub-110/anat/T1w/1-009.dcm\n",
            "./data/ReMIND/sub-110/anat/T1w/1-100.dcm\n",
            "./data/ReMIND/sub-057/.DS_Store\n",
            "./data/ReMIND/sub-057/seg/ReMIND-057-preop-SEG-cerebrum-MR-3D_AX_T1_postcontrast.nrrd\n",
            "./data/ReMIND/sub-057/seg/ReMIND-057-preop-SEG-ventricles-MR-3D_AX_T1_postcontrast.nrrd\n",
            "./data/ReMIND/sub-057/seg/ReMIND-057-intraop-SEG-tumor_residual-MR-3D_AX_T1_postcontrast.nrrd\n",
            "./data/ReMIND/sub-057/seg/ReMIND-057-preop-SEG-tumor-MR-3D_AX_T1_postcontrast.nrrd\n",
            "./data/ReMIND/sub-057/seg/ReMIND-057-preop-SEG-previous_resection_cavity-MR-3D_AX_T1_postcontrast.nrrd\n",
            "./data/ReMIND/sub-057/anat/T1w/1-192.dcm\n",
            "./data/ReMIND/sub-057/anat/T1w/1-096.dcm\n",
            "./data/ReMIND/sub-057/anat/T1w/1-042.dcm\n",
            "./data/ReMIND/sub-057/anat/T1w/1-186.dcm\n",
            "./data/ReMIND/sub-057/anat/T1w/1-033.dcm\n",
            "./data/ReMIND/sub-095/.DS_Store\n",
            "./data/ReMIND/sub-095/seg/ReMIND-095-intraop-SEG-tumor_residual-MR-2D_AX_T2_BLADE.nrrd\n",
            "./data/ReMIND/sub-095/seg/ReMIND-095-preop-SEG-tumor-MR-3D_AX_T2_SPACE-r.nrrd\n",
            "./data/ReMIND/sub-095/seg/ReMIND-095-preop-SEG-cerebrum-MR-3D_COR_T1_postcontrast.nrrd\n",
            "./data/ReMIND/sub-095/seg/ReMIND-095-preop-SEG-ventricles-MR-3D_COR_T1_postcontrast.nrrd\n",
            "./data/ReMIND/sub-095/anat/T1w/1-192.dcm\n",
            "./data/ReMIND/sub-095/anat/T1w/1-096.dcm\n",
            "./data/ReMIND/sub-095/anat/T1w/1-042.dcm\n",
            "./data/ReMIND/sub-095/anat/T1w/1-186.dcm\n",
            "./data/ReMIND/sub-095/anat/T1w/1-033.dcm\n",
            "./data/ReMIND/sub-063/.DS_Store\n",
            "./data/ReMIND/sub-063/seg/ReMIND-063-preop-SEG-tumor-MR-3D_AX_T1_postcontrast.nrrd\n",
            "./data/ReMIND/sub-063/seg/ReMIND-063-intraop-SEG-tumor_residual-MR-2D_AX_T2_BLADE.nrrd\n",
            "./data/ReMIND/sub-063/seg/ReMIND-063-preop-SEG-cerebrum-MR-3D_AX_T1_postcontrast.nrrd\n",
            "./data/ReMIND/sub-063/anat/T1w/1-192.dcm\n",
            "./data/ReMIND/sub-063/anat/T1w/1-096.dcm\n",
            "./data/ReMIND/sub-063/anat/T1w/1-042.dcm\n",
            "./data/ReMIND/sub-063/anat/T1w/1-186.dcm\n",
            "./data/ReMIND/sub-063/anat/T1w/1-033.dcm\n",
            "./data/ReMIND/sub-053/seg/ReMIND-053-intraop-SEG-tumor_residual-MR-2D_AX_T2_BLADE.nrrd\n",
            "./data/ReMIND/sub-053/seg/ReMIND-053-preop-SEG-tumor-MR-2D_AX_T2_BLADE.nrrd\n",
            "./data/ReMIND/sub-053/anat/T1w/1-096.dcm\n",
            "./data/ReMIND/sub-053/anat/T1w/1-042.dcm\n",
            "./data/ReMIND/sub-053/anat/T1w/1-033.dcm\n",
            "./data/ReMIND/sub-053/anat/T1w/1-009.dcm\n",
            "./data/ReMIND/sub-053/anat/T1w/1-100.dcm\n",
            "./data/ReMIND/sub-061/.DS_Store\n",
            "./data/ReMIND/sub-061/seg/ReMIND-061-preop-SEG-cerebrum-MR-3D_AX_T1_postcontrast.nrrd\n",
            "./data/ReMIND/sub-061/seg/ReMIND-061-preop-SEG-tumor-MR-3D_AX_T1_postcontrast.nrrd\n",
            "./data/ReMIND/sub-061/seg/ReMIND-061-preop-SEG-ventricles-MR-3D_AX_T1_postcontrast.nrrd\n",
            "./data/ReMIND/sub-061/anat/T1w/1-096.dcm\n",
            "./data/ReMIND/sub-061/anat/T1w/1-042.dcm\n",
            "./data/ReMIND/sub-061/anat/T1w/1-033.dcm\n",
            "./data/ReMIND/sub-061/anat/T1w/1-009.dcm\n",
            "./data/ReMIND/sub-061/anat/T1w/1-100.dcm\n",
            "./data/ReMIND/sub-034/.DS_Store\n",
            "./data/ReMIND/sub-034/seg/ReMIND-034-preop-SEG-tumor-MR-3D_AX_T1_postcontrast.nrrd\n",
            "./data/ReMIND/sub-034/seg/ReMIND-034-intraop-SEG-tumor_residual-MR-3D_AX_T1_postcontrast.nrrd\n",
            "./data/ReMIND/sub-034/anat/T1w/1-192.dcm\n",
            "./data/ReMIND/sub-034/anat/T1w/1-096.dcm\n",
            "./data/ReMIND/sub-034/anat/T1w/1-042.dcm\n",
            "./data/ReMIND/sub-034/anat/T1w/1-186.dcm\n",
            "./data/ReMIND/sub-034/anat/T1w/1-033.dcm\n",
            "./data/ReMIND/sub-102/.DS_Store\n",
            "./data/ReMIND/sub-102/seg/ReMIND-102-preop-SEG-tumor-MR-3D_AX_T1_postcontrast.nrrd\n",
            "./data/ReMIND/sub-102/seg/ReMIND-102-preop-SEG-previous_resection_cavity-MR-3D_AX_T1_postcontrast.nrrd\n",
            "./data/ReMIND/sub-102/seg/ReMIND-102-preop-SEG-cerebrum-MR-3D_AX_T1_postcontrast.nrrd\n",
            "./data/ReMIND/sub-102/seg/ReMIND-102-preop-SEG-ventricles-MR-3D_AX_T1_postcontrast.nrrd\n",
            "./data/ReMIND/sub-102/seg/ReMIND-102-intraop-SEG-tumor_residual-MR-3D_AX_T1_postcontrast.nrrd\n",
            "./data/ReMIND/sub-102/anat/T1w/1-192.dcm\n",
            "./data/ReMIND/sub-102/anat/T1w/1-096.dcm\n",
            "./data/ReMIND/sub-102/anat/T1w/1-042.dcm\n",
            "./data/ReMIND/sub-102/anat/T1w/1-186.dcm\n",
            "./data/ReMIND/sub-102/anat/T1w/1-033.dcm\n",
            "./data/ReMIND/sub-071/.DS_Store\n",
            "./data/ReMIND/sub-071/seg/ReMIND-071-preop-SEG-tumor-MR-3D_AX_T1_postcontrast.nrrd\n",
            "./data/ReMIND/sub-071/seg/ReMIND-071-preop-SEG-cerebrum-MR-3D_AX_T1_postcontrast.nrrd\n",
            "./data/ReMIND/sub-071/seg/ReMIND-071-intraop-SEG-tumor_residual-MR-3D_AX_T1_postcontrast.nrrd\n",
            "./data/ReMIND/sub-071/anat/T1w/1-096.dcm\n",
            "./data/ReMIND/sub-071/anat/T1w/1-042.dcm\n",
            "./data/ReMIND/sub-071/anat/T1w/1-033.dcm\n",
            "./data/ReMIND/sub-071/anat/T1w/1-009.dcm\n",
            "./data/ReMIND/sub-071/anat/T1w/1-100.dcm\n",
            "./data/ReMIND/sub-016/.DS_Store\n",
            "./data/ReMIND/sub-016/seg/ReMIND-016-preop-SEG-cerebrum-MR-3D_AX_T1_postcontrast.nrrd\n",
            "./data/ReMIND/sub-016/seg/ReMIND-016-preop-SEG-tumor-MR-3D_AX_T1_postcontrast.nrrd\n",
            "./data/ReMIND/sub-016/anat/T1w/1-192.dcm\n",
            "./data/ReMIND/sub-016/anat/T1w/1-096.dcm\n",
            "./data/ReMIND/sub-016/anat/T1w/1-042.dcm\n",
            "./data/ReMIND/sub-016/anat/T1w/1-186.dcm\n",
            "./data/ReMIND/sub-016/anat/T1w/1-033.dcm\n",
            "./data/ReMIND/sub-090/.DS_Store\n",
            "./data/ReMIND/sub-090/seg/ReMIND-090-preop-SEG-tumor-MR-3D_AX_T1_postcontrast.nrrd\n",
            "./data/ReMIND/sub-090/anat/T1w/1-192.dcm\n",
            "./data/ReMIND/sub-090/anat/T1w/1-096.dcm\n",
            "./data/ReMIND/sub-090/anat/T1w/1-042.dcm\n",
            "./data/ReMIND/sub-090/anat/T1w/1-186.dcm\n",
            "./data/ReMIND/sub-090/anat/T1w/1-033.dcm\n",
            "./data/ReMIND/sub-078/.DS_Store\n",
            "./data/ReMIND/sub-078/seg/ReMIND-078-preop-SEG-cerebrum-MR-3D_AX_T1_postcontrast.nrrd\n",
            "./data/ReMIND/sub-078/seg/ReMIND-078-preop-SEG-tumor-MR-2D_AX_T2_FLAIR.nrrd\n",
            "./data/ReMIND/sub-078/seg/ReMIND-078-preop-SEG-tumor-MR-3D_AX_T1_postcontrast.nrrd\n",
            "./data/ReMIND/sub-078/seg/ReMIND-078-intraop-SEG-tumor_residual-MR-3D_AX_T1_postcontrast.nrrd\n",
            "./data/ReMIND/sub-078/anat/T1w/1-096.dcm\n",
            "./data/ReMIND/sub-078/anat/T1w/1-042.dcm\n",
            "./data/ReMIND/sub-078/anat/T1w/1-033.dcm\n",
            "./data/ReMIND/sub-078/anat/T1w/1-009.dcm\n",
            "./data/ReMIND/sub-078/anat/T1w/1-100.dcm\n",
            "./data/ReMIND/sub-070/.DS_Store\n",
            "./data/ReMIND/sub-070/seg/ReMIND-070-preop-SEG-previous_resection_cavity-MR-3D_AX_T1_postcontrast.nrrd\n",
            "./data/ReMIND/sub-070/seg/ReMIND-070-intraop-SEG-tumor_residual-MR-3D_AX_T1_postcontrast.nrrd\n",
            "./data/ReMIND/sub-070/seg/ReMIND-070-preop-SEG-ventricles-MR-3D_AX_T1_postcontrast.nrrd\n",
            "./data/ReMIND/sub-070/seg/ReMIND-070-preop-SEG-tumor-MR-3D_AX_T1_postcontrast.nrrd\n",
            "./data/ReMIND/sub-070/seg/ReMIND-070-preop-SEG-cerebrum-MR-3D_AX_T1_postcontrast.nrrd\n",
            "./data/ReMIND/sub-070/anat/T1w/1-192.dcm\n",
            "./data/ReMIND/sub-070/anat/T1w/1-096.dcm\n",
            "./data/ReMIND/sub-070/anat/T1w/1-042.dcm\n",
            "./data/ReMIND/sub-070/anat/T1w/1-186.dcm\n",
            "./data/ReMIND/sub-070/anat/T1w/1-033.dcm\n",
            "./data/ReMIND/sub-081/.DS_Store\n",
            "./data/ReMIND/sub-081/seg/ReMIND-081-preop-SEG-cerebrum-MR-3D_AX_T1_postcontrast.nrrd\n",
            "./data/ReMIND/sub-081/seg/ReMIND-081-intraop-SEG-tumor_residual-MR-3D_AX_T2_SPACE.nrrd\n",
            "./data/ReMIND/sub-081/seg/ReMIND-081-preop-SEG-tumor-MR-3D_AX_T1_postcontrast.nrrd\n",
            "./data/ReMIND/sub-081/anat/T1w/1-192.dcm\n",
            "./data/ReMIND/sub-081/anat/T1w/1-096.dcm\n",
            "./data/ReMIND/sub-081/anat/T1w/1-042.dcm\n",
            "./data/ReMIND/sub-081/anat/T1w/1-186.dcm\n",
            "./data/ReMIND/sub-081/anat/T1w/1-033.dcm\n",
            "./data/ReMIND/sub-047/.DS_Store\n",
            "./data/ReMIND/sub-047/seg/ReMIND-047-preop-SEG-tumor-MR-3D_AX_T1_postcontrast.nrrd\n",
            "./data/ReMIND/sub-047/seg/ReMIND-047-preop-SEG-cerebrum-MR-3D_AX_T1_postcontrast.nrrd\n",
            "./data/ReMIND/sub-047/anat/T1w/1-096.dcm\n",
            "./data/ReMIND/sub-047/anat/T1w/1-042.dcm\n",
            "./data/ReMIND/sub-047/anat/T1w/1-033.dcm\n",
            "./data/ReMIND/sub-047/anat/T1w/1-009.dcm\n",
            "./data/ReMIND/sub-047/anat/T1w/1-100.dcm\n",
            "./data/ReMIND/sub-077/.DS_Store\n",
            "./data/ReMIND/sub-077/seg/ReMIND-077-preop-SEG-tumor-MR-3D_SAG_T2_FLAIR.nrrd\n",
            "./data/ReMIND/sub-077/seg/ReMIND-077-preop-SEG-previous_resection_cavity-MR-3D_AX_T1_postcontrast.nrrd\n",
            "./data/ReMIND/sub-077/seg/ReMIND-077-preop-SEG-tumor-MR-3D_AX_T1_postcontrast.nrrd\n",
            "./data/ReMIND/sub-077/seg/ReMIND-077-preop-SEG-cerebrum-MR-3D_AX_T1_postcontrast.nrrd\n",
            "./data/ReMIND/sub-077/seg/ReMIND-077-preop-SEG-tumor_target-MR-3D_SAG_T2_FLAIR.nrrd\n",
            "./data/ReMIND/sub-077/anat/T1w/1-192.dcm\n",
            "./data/ReMIND/sub-077/anat/T1w/1-096.dcm\n",
            "./data/ReMIND/sub-077/anat/T1w/1-042.dcm\n",
            "./data/ReMIND/sub-077/anat/T1w/1-186.dcm\n",
            "./data/ReMIND/sub-077/anat/T1w/1-033.dcm\n",
            "./data/ReMIND/sub-055/.DS_Store\n",
            "./data/ReMIND/sub-055/seg/ReMIND-055-preop-SEG-tumor-MR-3D_AX_T1_postcontrast.nrrd\n",
            "./data/ReMIND/sub-055/seg/ReMIND-055-preop-SEG-tumor-MR-2D_AX_T2_FLAIR.nrrd\n",
            "./data/ReMIND/sub-055/anat/T1w/1-192.dcm\n",
            "./data/ReMIND/sub-055/anat/T1w/1-096.dcm\n",
            "./data/ReMIND/sub-055/anat/T1w/1-042.dcm\n",
            "./data/ReMIND/sub-055/anat/T1w/1-186.dcm\n",
            "./data/ReMIND/sub-055/anat/T1w/1-033.dcm\n",
            "./data/ReMIND/sub-030/.DS_Store\n",
            "./data/ReMIND/sub-030/seg/ReMIND-030-preop-SEG-tumor-MR-3D_AX_T1_postcontrast.nrrd\n",
            "./data/ReMIND/sub-030/seg/ReMIND-030-preop-SEG-cerebrum-MR-3D_AX_T1_postcontrast.nrrd\n",
            "./data/ReMIND/sub-030/anat/T1w/1-192.dcm\n",
            "./data/ReMIND/sub-030/anat/T1w/1-096.dcm\n",
            "./data/ReMIND/sub-030/anat/T1w/1-042.dcm\n",
            "./data/ReMIND/sub-030/anat/T1w/1-186.dcm\n",
            "./data/ReMIND/sub-030/anat/T1w/1-033.dcm\n",
            "./data/ReMIND/sub-060/.DS_Store\n",
            "./data/ReMIND/sub-060/seg/ReMIND-060-preop-SEG-previous_resection_cavity-MR-3D_AX_T1_postcontrast.nrrd\n",
            "./data/ReMIND/sub-060/seg/ReMIND-060-preop-SEG-ventricles-MR-3D_AX_T1_postcontrast.nrrd\n",
            "./data/ReMIND/sub-060/seg/ReMIND-060-intraop-SEG-tumor_residual-MR-3D_AX_T1_postcontrast.nrrd\n",
            "./data/ReMIND/sub-060/seg/ReMIND-060-preop-SEG-tumor-MR-2D_AX_T2.nrrd\n",
            "./data/ReMIND/sub-060/seg/ReMIND-060-preop-SEG-cerebrum-MR-3D_AX_T1_postcontrast.nrrd\n",
            "./data/ReMIND/sub-060/anat/T1w/1-192.dcm\n",
            "./data/ReMIND/sub-060/anat/T1w/1-096.dcm\n",
            "./data/ReMIND/sub-060/anat/T1w/1-042.dcm\n",
            "./data/ReMIND/sub-060/anat/T1w/1-186.dcm\n",
            "./data/ReMIND/sub-060/anat/T1w/1-033.dcm\n",
            "./data/ReMIND/sub-009/.DS_Store\n",
            "./data/ReMIND/sub-009/seg/ReMIND-009-preop-SEG-previous_resection_cavity-MR-3D_AX_T1_postcontrast.nrrd\n",
            "./data/ReMIND/sub-009/seg/ReMIND-009-preop-SEG-cerebrum-MR-3D_AX_T1_postcontrast.nrrd\n",
            "./data/ReMIND/sub-009/seg/ReMIND-009-preop-SEG-tumor-MR-2D_AX_T2_BLADE.nrrd\n",
            "./data/ReMIND/sub-009/seg/ReMIND-009-preop-SEG-ventricles-MR-3D_AX_T1_postcontrast.nrrd\n",
            "./data/ReMIND/sub-009/seg/ReMIND-009-intraop-SEG-tumor_residual-MR-2D_AX_T2_BLADE.nrrd\n",
            "./data/ReMIND/sub-009/anat/T1w/1-096.dcm\n",
            "./data/ReMIND/sub-009/anat/T1w/1-042.dcm\n",
            "./data/ReMIND/sub-009/anat/T1w/1-033.dcm\n",
            "./data/ReMIND/sub-009/anat/T1w/1-009.dcm\n",
            "./data/ReMIND/sub-009/anat/T1w/1-100.dcm\n",
            "./data/ReMIND/sub-021/.DS_Store\n",
            "./data/ReMIND/sub-021/seg/ReMIND-021-preop-SEG-previous_resection_cavity-MR-3D_AX_T1_postcontrast.nrrd\n",
            "./data/ReMIND/sub-021/seg/ReMIND-021-preop-SEG-ventricles-MR-3D_AX_T1_postcontrast.nrrd\n",
            "./data/ReMIND/sub-021/seg/ReMIND-021-preop-SEG-cerebrum-MR-3D_AX_T1_postcontrast.nrrd\n",
            "./data/ReMIND/sub-021/seg/ReMIND-021-preop-SEG-tumor-MR-3D_AX_T2_SPACE.nrrd\n",
            "./data/ReMIND/sub-021/seg/ReMIND-021-intraop-SEG-tumor_residual-MR-3D_SAG_T2_FLAIR.nrrd\n",
            "./data/ReMIND/sub-021/anat/T1w/1-192.dcm\n",
            "./data/ReMIND/sub-021/anat/T1w/1-096.dcm\n",
            "./data/ReMIND/sub-021/anat/T1w/1-042.dcm\n",
            "./data/ReMIND/sub-021/anat/T1w/1-186.dcm\n",
            "./data/ReMIND/sub-021/anat/T1w/1-033.dcm\n",
            "./data/ReMIND/sub-006/.DS_Store\n",
            "./data/ReMIND/sub-006/seg/ReMIND-006-preop-SEG-ventricles-MR-3D_AX_T1_postcontrast.nrrd\n",
            "./data/ReMIND/sub-006/seg/ReMIND-006-preop-SEG-cerebrum-MR-3D_AX_T1_postcontrast.nrrd\n",
            "./data/ReMIND/sub-006/seg/ReMIND-006-preop-SEG-tumor-MR-3D_AX_T2_SPACE-r.nrrd\n",
            "./data/ReMIND/sub-006/seg/ReMIND-006-intraop-SEG-tumor_residual-MR-3D_SAG_T2_FLAIR-r.nrrd\n",
            "./data/ReMIND/sub-006/anat/T1w/1-192.dcm\n",
            "./data/ReMIND/sub-006/anat/T1w/1-096.dcm\n",
            "./data/ReMIND/sub-006/anat/T1w/1-042.dcm\n",
            "./data/ReMIND/sub-006/anat/T1w/1-186.dcm\n",
            "./data/ReMIND/sub-006/anat/T1w/1-033.dcm\n",
            "./data/ReMIND/sub-026/.DS_Store\n",
            "./data/ReMIND/sub-026/seg/ReMIND-026-intraop-SEG-tumor_residual-MR-3D_SAG_T2_FLAIR.nrrd\n",
            "./data/ReMIND/sub-026/seg/ReMIND-026-preop-SEG-cerebrum-MR-3D_AX_T1_postcontrast.nrrd\n",
            "./data/ReMIND/sub-026/seg/ReMIND-026-preop-SEG-ventricles-MR-3D_AX_T1_postcontrast.nrrd\n",
            "./data/ReMIND/sub-026/seg/ReMIND-026-preop-SEG-tumor-MR-3D_SAG_T2_FLAIR.nrrd\n",
            "./data/ReMIND/sub-026/anat/T1w/1-096.dcm\n",
            "./data/ReMIND/sub-026/anat/T1w/1-042.dcm\n",
            "./data/ReMIND/sub-026/anat/T1w/1-033.dcm\n",
            "./data/ReMIND/sub-026/anat/T1w/1-009.dcm\n",
            "./data/ReMIND/sub-026/anat/T1w/1-100.dcm\n",
            "./data/ReMIND/sub-038/.DS_Store\n",
            "./data/ReMIND/sub-038/seg/ReMIND-038-preop-SEG-tumor-MR-3D_AX_T1_postcontrast.nrrd\n",
            "./data/ReMIND/sub-038/seg/ReMIND-038-intraop-SEG-tumor_residual-MR-3D_SAG_T2_FLAIR.nrrd\n",
            "./data/ReMIND/sub-038/seg/ReMIND-038-preop-SEG-cerebrum-MR-3D_AX_T1_postcontrast.nrrd\n",
            "./data/ReMIND/sub-038/anat/T1w/1-192.dcm\n",
            "./data/ReMIND/sub-038/anat/T1w/1-096.dcm\n",
            "./data/ReMIND/sub-038/anat/T1w/1-042.dcm\n",
            "./data/ReMIND/sub-038/anat/T1w/1-186.dcm\n",
            "./data/ReMIND/sub-038/anat/T1w/1-033.dcm\n",
            "./data/ReMIND/sub-002/.DS_Store\n",
            "./data/ReMIND/sub-002/seg/ReMIND-002-intraop-SEG-tumor_residual-MR-2D_AX_T2_BLADE.nrrd\n",
            "./data/ReMIND/sub-002/seg/ReMIND-002-preop-SEG-tumor-MR-3D_AX_T1_postcontrast.nrrd\n",
            "./data/ReMIND/sub-002/seg/ReMIND-002-preop-SEG-tumor-MR-3D_AX_T2_SPACE.nrrd\n",
            "./data/ReMIND/sub-002/seg/ReMIND-002-preop-SEG-cerebrum-MR-3D_AX_T1_postcontrast.nrrd\n",
            "./data/ReMIND/sub-002/anat/.DS_Store\n",
            "./data/ReMIND/sub-002/anat/T1w/1-192.dcm\n",
            "./data/ReMIND/sub-002/anat/T1w/1-096.dcm\n",
            "./data/ReMIND/sub-002/anat/T1w/1-042.dcm\n",
            "./data/ReMIND/sub-002/anat/T1w/1-186.dcm\n",
            "./data/ReMIND/sub-002/anat/T1w/1-033.dcm\n",
            "./data/ReMIND/sub-088/.DS_Store\n",
            "./data/ReMIND/sub-088/seg/ReMIND-088-preop-SEG-cerebrum-MR-3D_AX_T1_postcontrast.nrrd\n",
            "./data/ReMIND/sub-088/seg/ReMIND-088-preop-SEG-tumor-MR-3D_AX_T2.nrrd\n",
            "./data/ReMIND/sub-088/anat/T1w/1-192.dcm\n",
            "./data/ReMIND/sub-088/anat/T1w/1-223.dcm\n",
            "./data/ReMIND/sub-088/anat/T1w/1-303.dcm\n",
            "./data/ReMIND/sub-088/anat/T1w/1-096.dcm\n",
            "./data/ReMIND/sub-088/anat/T1w/1-268.dcm\n",
            "./data/ReMIND/sub-029/.DS_Store\n",
            "./data/ReMIND/sub-029/seg/ReMIND-029-intraop-SEG-tumor_residual-MR-3D_AX_T1_postcontrast.nrrd\n",
            "./data/ReMIND/sub-029/seg/ReMIND-029-preop-SEG-tumor-MR-3D_AX_T1_postcontrast.nrrd\n",
            "./data/ReMIND/sub-029/anat/T1w/1-096.dcm\n",
            "./data/ReMIND/sub-029/anat/T1w/1-042.dcm\n",
            "./data/ReMIND/sub-029/anat/T1w/1-033.dcm\n",
            "./data/ReMIND/sub-029/anat/T1w/1-009.dcm\n",
            "./data/ReMIND/sub-029/anat/T1w/1-100.dcm\n",
            "./data/ReMIND/sub-072/.DS_Store\n",
            "./data/ReMIND/sub-072/seg/ReMIND-072-preop-SEG-tumor-MR-3D_AX_T1_postcontrast.nrrd\n",
            "./data/ReMIND/sub-072/seg/ReMIND-072-preop-SEG-cerebrum-MR-3D_AX_T1_postcontrast.nrrd\n",
            "./data/ReMIND/sub-072/seg/ReMIND-072-preop-SEG-ventricles-MR-3D_AX_T1_postcontrast.nrrd\n",
            "./data/ReMIND/sub-072/anat/T1w/1-192.dcm\n",
            "./data/ReMIND/sub-072/anat/T1w/1-096.dcm\n",
            "./data/ReMIND/sub-072/anat/T1w/1-042.dcm\n",
            "./data/ReMIND/sub-072/anat/T1w/1-186.dcm\n",
            "./data/ReMIND/sub-072/anat/T1w/1-033.dcm\n",
            "./data/ReMIND/sub-109/.DS_Store\n",
            "./data/ReMIND/sub-109/seg/ReMIND-109-preop-SEG-tumor-MR-3D_AX_T1_postcontrast.nrrd\n",
            "./data/ReMIND/sub-109/anat/T1w/1-192.dcm\n",
            "./data/ReMIND/sub-109/anat/T1w/1-223.dcm\n",
            "./data/ReMIND/sub-109/anat/T1w/1-303.dcm\n",
            "./data/ReMIND/sub-109/anat/T1w/1-096.dcm\n",
            "./data/ReMIND/sub-109/anat/T1w/1-268.dcm\n",
            "./data/ReMIND/sub-098/.DS_Store\n",
            "./data/ReMIND/sub-098/seg/ReMIND-098-preop-SEG-cerebrum-MR-3D_AX_T1_postcontrast.nrrd\n",
            "./data/ReMIND/sub-098/seg/ReMIND-098-preop-SEG-tumor-MR-2D_AX_T2_FLAIR.nrrd\n",
            "./data/ReMIND/sub-098/seg/ReMIND-098-intraop-SEG-tumor_residual-MR-3D_SAG_T2_FLAIR.nrrd\n",
            "./data/ReMIND/sub-098/anat/T1w/1-192.dcm\n",
            "./data/ReMIND/sub-098/anat/T1w/1-096.dcm\n",
            "./data/ReMIND/sub-098/anat/T1w/1-042.dcm\n",
            "./data/ReMIND/sub-098/anat/T1w/1-186.dcm\n",
            "./data/ReMIND/sub-098/anat/T1w/1-033.dcm\n",
            "./data/ReMIND/sub-067/.DS_Store\n",
            "./data/ReMIND/sub-067/seg/ReMIND-067-preop-SEG-cerebrum-MR-3D_AX_T1_postcontrast.nrrd\n",
            "./data/ReMIND/sub-067/seg/ReMIND-067-preop-SEG-ventricles-MR-3D_AX_T1_postcontrast.nrrd\n",
            "./data/ReMIND/sub-067/seg/ReMIND-067-preop-SEG-tumor-MR-3D_AX_T2_SPACE-r.nrrd\n",
            "./data/ReMIND/sub-067/seg/ReMIND-067-preop-SEG-tumor-MR-3D_AX_T1_postcontrast.nrrd\n",
            "./data/ReMIND/sub-067/anat/T1w/1-192.dcm\n",
            "./data/ReMIND/sub-067/anat/T1w/1-096.dcm\n",
            "./data/ReMIND/sub-067/anat/T1w/1-042.dcm\n",
            "./data/ReMIND/sub-067/anat/T1w/1-186.dcm\n",
            "./data/ReMIND/sub-067/anat/T1w/1-033.dcm\n",
            "./data/ReMIND/sub-094/.DS_Store\n",
            "./data/ReMIND/sub-094/seg/ReMIND-094-preop-SEG-tumor-MR-3D_AX_T2_FLAIR.nrrd\n",
            "./data/ReMIND/sub-094/seg/ReMIND-094-preop-SEG-cerebrum-MR-3D_AX_T1_postcontrast.nrrd\n",
            "./data/ReMIND/sub-094/seg/ReMIND-094-intraop-SEG-tumor_residual-MR-3D_AX_T1_precontrast.nrrd\n",
            "./data/ReMIND/sub-094/anat/T1w/1-096.dcm\n",
            "./data/ReMIND/sub-094/anat/T1w/1-042.dcm\n",
            "./data/ReMIND/sub-094/anat/T1w/1-033.dcm\n",
            "./data/ReMIND/sub-094/anat/T1w/1-009.dcm\n",
            "./data/ReMIND/sub-094/anat/T1w/1-100.dcm\n",
            "./data/ReMIND/sub-014/.DS_Store\n",
            "./data/ReMIND/sub-014/seg/ReMIND-014-preop-SEG-tumor-MR-3D_AX_T1_postcontrast.nrrd\n",
            "./data/ReMIND/sub-014/anat/T1w/1-192.dcm\n",
            "./data/ReMIND/sub-014/anat/T1w/1-096.dcm\n",
            "./data/ReMIND/sub-014/anat/T1w/1-042.dcm\n",
            "./data/ReMIND/sub-014/anat/T1w/1-186.dcm\n",
            "./data/ReMIND/sub-014/anat/T1w/1-033.dcm\n",
            "./data/ReMIND/sub-004/.DS_Store\n",
            "./data/ReMIND/sub-004/seg/ReMIND-004-preop-SEG-tumor-MR-3D_AX_T1_postcontrast.nrrd\n",
            "./data/ReMIND/sub-004/seg/ReMIND-004-preop-SEG-tumor-MR-3D_AX_T2_SPACE.nrrd\n",
            "./data/ReMIND/sub-004/seg/ReMIND-004-preop-SEG-ventricles-MR-3D_AX_T1_postcontrast.nrrd\n",
            "./data/ReMIND/sub-004/seg/ReMIND-004-preop-SEG-cerebrum-MR-3D_AX_T1_postcontrast.nrrd\n",
            "./data/ReMIND/sub-004/anat/T1w/1-192.dcm\n",
            "./data/ReMIND/sub-004/anat/T1w/1-096.dcm\n",
            "./data/ReMIND/sub-004/anat/T1w/1-042.dcm\n",
            "./data/ReMIND/sub-004/anat/T1w/1-186.dcm\n",
            "./data/ReMIND/sub-004/anat/T1w/1-033.dcm\n",
            "./data/ReMIND/sub-044/.DS_Store\n",
            "./data/ReMIND/sub-044/seg/ReMIND-044-intraop-SEG-tumor_residual-MR-2D_AX_T2_BLADE.nrrd\n",
            "./data/ReMIND/sub-044/seg/ReMIND-044-preop-SEG-tumor-MR-3D_AX_T1_MP2RAGE.nrrd\n",
            "./data/ReMIND/sub-044/seg/ReMIND-044-preop-SEG-cerebrum-MR-3D_AX_T1_postcontrast.nrrd\n",
            "./data/ReMIND/sub-044/anat/T1w/1-192.dcm\n",
            "./data/ReMIND/sub-044/anat/T1w/1-096.dcm\n",
            "./data/ReMIND/sub-044/anat/T1w/1-042.dcm\n",
            "./data/ReMIND/sub-044/anat/T1w/1-186.dcm\n",
            "./data/ReMIND/sub-044/anat/T1w/1-033.dcm\n",
            "./data/ReMIND/sub-051/.DS_Store\n",
            "./data/ReMIND/sub-051/seg/ReMIND-051-preop-SEG-ventricles-MR-3D_AX_T1_postcontrast.nrrd\n",
            "./data/ReMIND/sub-051/seg/ReMIND-051-preop-SEG-tumor-MR-3D_AX_T2_SPACE.nrrd\n",
            "./data/ReMIND/sub-051/seg/ReMIND-051-preop-SEG-cerebrum-MR-3D_AX_T1_postcontrast.nrrd\n",
            "./data/ReMIND/sub-051/seg/ReMIND-051-preop-SEG-previous_resection_cavity-MR-3D_AX_T1_postcontrast.nrrd\n",
            "./data/ReMIND/sub-051/anat/T1w/1-096.dcm\n",
            "./data/ReMIND/sub-051/anat/T1w/1-042.dcm\n",
            "./data/ReMIND/sub-051/anat/T1w/1-033.dcm\n",
            "./data/ReMIND/sub-051/anat/T1w/1-009.dcm\n",
            "./data/ReMIND/sub-051/anat/T1w/1-100.dcm\n",
            "./data/ReMIND/sub-103/.DS_Store\n",
            "./data/ReMIND/sub-103/seg/ReMIND-103-preop-SEG-cerebrum-MR-3D_AX_T1_postcontrast.nrrd\n",
            "./data/ReMIND/sub-103/seg/ReMIND-103-preop-SEG-tumor-MR-3D_AX_T1_postcontrast.nrrd\n",
            "./data/ReMIND/sub-103/seg/ReMIND-103-preop-SEG-ventricles-MR-3D_AX_T1_postcontrast.nrrd\n",
            "./data/ReMIND/sub-103/anat/T1w/1-096.dcm\n",
            "./data/ReMIND/sub-103/anat/T1w/1-042.dcm\n",
            "./data/ReMIND/sub-103/anat/T1w/1-033.dcm\n",
            "./data/ReMIND/sub-103/anat/T1w/1-009.dcm\n",
            "./data/ReMIND/sub-103/anat/T1w/1-100.dcm\n",
            "./data/ReMIND/sub-024/.DS_Store\n",
            "./data/ReMIND/sub-024/seg/ReMIND-024-preop-SEG-cerebrum-MR-3D_AX_T1_postcontrast.nrrd\n",
            "./data/ReMIND/sub-024/seg/ReMIND-024-preop-SEG-ventricles-MR-3D_AX_T1_postcontrast.nrrd\n",
            "./data/ReMIND/sub-024/seg/ReMIND-024-preop-SEG-tumor-MR-3D_AX_T2_SPACE.nrrd\n",
            "./data/ReMIND/sub-024/anat/T1w/1-192.dcm\n",
            "./data/ReMIND/sub-024/anat/T1w/1-223.dcm\n",
            "./data/ReMIND/sub-024/anat/T1w/1-303.dcm\n",
            "./data/ReMIND/sub-024/anat/T1w/1-096.dcm\n",
            "./data/ReMIND/sub-024/anat/T1w/1-268.dcm\n",
            "./data/ReMIND/sub-041/.DS_Store\n",
            "./data/ReMIND/sub-041/seg/ReMIND-041-preop-SEG-cerebrum-MR-3D_AX_T1_postcontrast.nrrd\n",
            "./data/ReMIND/sub-041/seg/ReMIND-041-preop-SEG-ventricles-MR-3D_AX_T1_postcontrast.nrrd\n",
            "./data/ReMIND/sub-041/seg/ReMIND-041-preop-SEG-tumor-MR-3D_AX_T2_SPACE.nrrd\n",
            "./data/ReMIND/sub-041/anat/T1w/1-192.dcm\n",
            "./data/ReMIND/sub-041/anat/T1w/1-096.dcm\n",
            "./data/ReMIND/sub-041/anat/T1w/1-042.dcm\n",
            "./data/ReMIND/sub-041/anat/T1w/1-186.dcm\n",
            "./data/ReMIND/sub-041/anat/T1w/1-033.dcm\n",
            "./data/ReMIND/sub-039/.DS_Store\n",
            "./data/ReMIND/sub-039/seg/ReMIND-039-preop-SEG-tumor-MR-3D_AX_T2_SPACE-r.nrrd\n",
            "./data/ReMIND/sub-039/seg/ReMIND-039-preop-SEG-ventricles-MR-3D_AX_T1_postcontrast.nrrd\n",
            "./data/ReMIND/sub-039/seg/ReMIND-039-intraop-SEG-tumor_residual-MR-2D_AX_T2_BLADE-r.nrrd\n",
            "./data/ReMIND/sub-039/anat/T1w/1-192.dcm\n",
            "./data/ReMIND/sub-039/anat/T1w/1-096.dcm\n",
            "./data/ReMIND/sub-039/anat/T1w/1-042.dcm\n",
            "./data/ReMIND/sub-039/anat/T1w/1-186.dcm\n",
            "./data/ReMIND/sub-039/anat/T1w/1-033.dcm\n",
            "./data/ReMIND/sub-113/.DS_Store\n",
            "./data/ReMIND/sub-113/seg/ReMIND-025-preop-SEG-tumor-MR-3D_AX_T1_postcontrast.nrrd\n",
            "./data/ReMIND/sub-113/seg/ReMIND-049-preop-SEG-cerebrum-MR-3D_AX_T1_postcontrast.nrrd\n",
            "./data/ReMIND/sub-113/seg/ReMIND-063-preop-SEG-tumor-MR-3D_AX_T1_postcontrast.nrrd\n",
            "./data/ReMIND/sub-113/seg/ReMIND-064-preop-SEG-previous_resection_cavity-MR-3D_AX_T1_postcontrast.nrrd\n",
            "./data/ReMIND/sub-113/seg/ReMIND-054-preop-SEG-ventricles-MR-3D_AX_T1_postcontrast.nrrd\n",
            "./data/ReMIND/sub-113/anat/T1w/1-096.dcm\n",
            "./data/ReMIND/sub-113/anat/T1w/1-042.dcm\n",
            "./data/ReMIND/sub-113/anat/T1w/1-033.dcm\n",
            "./data/ReMIND/sub-113/anat/T1w/1-009.dcm\n",
            "./data/ReMIND/sub-113/anat/T1w/1-100.dcm\n",
            "./data/ReMIND/sub-089/.DS_Store\n",
            "./data/ReMIND/sub-089/seg/ReMIND-089-preop-SEG-ventricles-MR-3D_AX_T1_postcontrast.nrrd\n",
            "./data/ReMIND/sub-089/seg/ReMIND-089-preop-SEG-tumor-MR-3D_AX_T1_postcontrast.nrrd\n",
            "./data/ReMIND/sub-089/seg/ReMIND-089-preop-SEG-cerebrum-MR-3D_AX_T1_postcontrast.nrrd\n",
            "./data/ReMIND/sub-089/anat/T1w/1-192.dcm\n",
            "./data/ReMIND/sub-089/anat/T1w/1-096.dcm\n",
            "./data/ReMIND/sub-089/anat/T1w/1-042.dcm\n",
            "./data/ReMIND/sub-089/anat/T1w/1-186.dcm\n",
            "./data/ReMIND/sub-089/anat/T1w/1-033.dcm\n",
            "./data/ReMIND/sub-100/.DS_Store\n",
            "./data/ReMIND/sub-100/seg/ReMIND-100-preop-SEG-cerebrum-MR-3D_AX_T1_postcontrast.nrrd\n",
            "./data/ReMIND/sub-100/seg/ReMIND-100-preop-SEG-tumor_target-MR-3D_SAG_T2_SPACE.nrrd\n",
            "./data/ReMIND/sub-100/seg/ReMIND-100-preop-SEG-tumor-MR-3D_SAG_T2_SPACE.nrrd\n",
            "./data/ReMIND/sub-100/anat/T1w/1-192.dcm\n",
            "./data/ReMIND/sub-100/anat/T1w/1-096.dcm\n",
            "./data/ReMIND/sub-100/anat/T1w/1-042.dcm\n",
            "./data/ReMIND/sub-100/anat/T1w/1-186.dcm\n",
            "./data/ReMIND/sub-100/anat/T1w/1-033.dcm\n",
            "./data/ReMIND/sub-074/.DS_Store\n",
            "./data/ReMIND/sub-074/seg/ReMIND-074-preop-SEG-cerebrum-MR-3D_AX_T1_postcontrast.nrrd\n",
            "./data/ReMIND/sub-074/seg/ReMIND-074-intraop-SEG-tumor_residual-MR-2D_AX_T2_FLAIR.nrrd\n",
            "./data/ReMIND/sub-074/seg/ReMIND-074-preop-SEG-tumor-MR-3D_AX_T2_SPACE.nrrd\n",
            "./data/ReMIND/sub-074/seg/ReMIND-074-preop-SEG-tumor-MR-3D_AX_T1_postcontrast.nrrd\n",
            "./data/ReMIND/sub-074/seg/ReMIND-074-preop-SEG-ventricles-MR-3D_AX_T1_postcontrast.nrrd\n",
            "./data/ReMIND/sub-074/anat/T1w/1-096.dcm\n",
            "./data/ReMIND/sub-074/anat/T1w/1-042.dcm\n",
            "./data/ReMIND/sub-074/anat/T1w/1-033.dcm\n",
            "./data/ReMIND/sub-074/anat/T1w/1-009.dcm\n",
            "./data/ReMIND/sub-074/anat/T1w/1-100.dcm\n",
            "./data/ReMIND/sub-037/.DS_Store\n",
            "./data/ReMIND/sub-037/seg/ReMIND-037-preop-SEG-cerebrum-MR-3D_AX_T1_postcontrast.nrrd\n",
            "./data/ReMIND/sub-037/seg/ReMIND-037-intraop-SEG-tumor_residual-MR-3D_AX_T1_postcontrast-r.nrrd\n",
            "./data/ReMIND/sub-037/seg/ReMIND-037-preop-SEG-ventricles-MR-3D_AX_T1_postcontrast.nrrd\n",
            "./data/ReMIND/sub-037/seg/ReMIND-037-preop-SEG-tumor-MR-3D_AX_T1_postcontrast.nrrd\n",
            "./data/ReMIND/sub-037/anat/T1w/1-096.dcm\n",
            "./data/ReMIND/sub-037/anat/T1w/1-042.dcm\n",
            "./data/ReMIND/sub-037/anat/T1w/1-033.dcm\n",
            "./data/ReMIND/sub-037/anat/T1w/1-009.dcm\n",
            "./data/ReMIND/sub-037/anat/T1w/1-100.dcm\n",
            "./data/ReMIND/sub-023/.DS_Store\n",
            "./data/ReMIND/sub-023/seg/ReMIND-023-preop-SEG-tumor-MR-3D_SAG_T1_MP2RAGE-r.nrrd\n",
            "./data/ReMIND/sub-023/seg/ReMIND-023-intraop-SEG-tumor_residual-MR-3D_AX_T1_MP2RAGE-r.nrrd\n",
            "./data/ReMIND/sub-023/seg/ReMIND-023-preop-SEG-cerebrum-MR-3D_AX_T1_postcontrast.nrrd\n",
            "./data/ReMIND/sub-023/anat/T1w/1-192.dcm\n",
            "./data/ReMIND/sub-023/anat/T1w/1-096.dcm\n",
            "./data/ReMIND/sub-023/anat/T1w/1-042.dcm\n",
            "./data/ReMIND/sub-023/anat/T1w/1-186.dcm\n",
            "./data/ReMIND/sub-023/anat/T1w/1-033.dcm\n",
            "./data/ReMIND/sub-056/.DS_Store\n",
            "./data/ReMIND/sub-056/seg/ReMIND-056-preop-SEG-cerebrum-MR-3D_AX_T1_postcontrast.nrrd\n",
            "./data/ReMIND/sub-056/seg/ReMIND-056-preop-SEG-tumor-MR-3D_AX_T2_SPACE.nrrd\n",
            "./data/ReMIND/sub-056/seg/ReMIND-056-preop-SEG-ventricles-MR-3D_AX_T1_postcontrast.nrrd\n",
            "./data/ReMIND/sub-056/anat/T1w/1-192.dcm\n",
            "./data/ReMIND/sub-056/anat/T1w/1-096.dcm\n",
            "./data/ReMIND/sub-056/anat/T1w/1-042.dcm\n",
            "./data/ReMIND/sub-056/anat/T1w/1-186.dcm\n",
            "./data/ReMIND/sub-056/anat/T1w/1-033.dcm\n",
            "./data/ReMIND/sub-042/seg/ReMIND-042-intraop-SEG-tumor_residual-MR-2D_AX_T2_FLAIR.nrrd\n",
            "./data/ReMIND/sub-042/seg/ReMIND-042-preop-SEG-tumor-MR-2D_AX_T2_FLAIR.nrrd\n",
            "./data/ReMIND/sub-042/anat/T1w/1-096.dcm\n",
            "./data/ReMIND/sub-042/anat/T1w/1-042.dcm\n",
            "./data/ReMIND/sub-042/anat/T1w/1-033.dcm\n",
            "./data/ReMIND/sub-042/anat/T1w/1-009.dcm\n",
            "./data/ReMIND/sub-042/anat/T1w/1-100.dcm\n",
            "./data/ReMIND/sub-013/.DS_Store\n",
            "./data/ReMIND/sub-013/seg/ReMIND-013-preop-SEG-cerebrum-MR-3D_AX_T1_postcontrast.nrrd\n",
            "./data/ReMIND/sub-013/seg/ReMIND-013-intraop-SEG-tumor_residual-MR-3D_AX_T1_MP2RAGE.nrrd\n",
            "./data/ReMIND/sub-013/seg/ReMIND-013-preop-SEG-tumor-MR-3D_AX_T1_postcontrast.nrrd\n",
            "./data/ReMIND/sub-013/seg/ReMIND-013-preop-SEG-ventricles-MR-3D_AX_T1_postcontrast.nrrd\n",
            "./data/ReMIND/sub-013/anat/T1w/1-192.dcm\n",
            "./data/ReMIND/sub-013/anat/T1w/1-096.dcm\n",
            "./data/ReMIND/sub-013/anat/T1w/1-042.dcm\n",
            "./data/ReMIND/sub-013/anat/T1w/1-186.dcm\n",
            "./data/ReMIND/sub-013/anat/T1w/1-033.dcm\n",
            "./data/ReMIND/sub-025/.DS_Store\n",
            "./data/ReMIND/sub-025/seg/ReMIND-025-preop-SEG-tumor-MR-3D_AX_T1_postcontrast.nrrd\n",
            "./data/ReMIND/sub-025/seg/ReMIND-025-preop-SEG-cerebrum-MR-3D_AX_T1_postcontrast.nrrd\n",
            "./data/ReMIND/sub-025/seg/ReMIND-025-intraop-SEG-tumor_residual-MR-3D_AX_T1_precontrast.nrrd\n",
            "./data/ReMIND/sub-025/seg/ReMIND-025-preop-SEG-ventricles-MR-3D_AX_T1_postcontrast.nrrd\n",
            "./data/ReMIND/sub-025/anat/T1w/1-192.dcm\n",
            "./data/ReMIND/sub-025/anat/T1w/1-096.dcm\n",
            "./data/ReMIND/sub-025/anat/T1w/1-042.dcm\n",
            "./data/ReMIND/sub-025/anat/T1w/1-186.dcm\n",
            "./data/ReMIND/sub-025/anat/T1w/1-033.dcm\n",
            "./data/ReMIND/sub-084/.DS_Store\n",
            "./data/ReMIND/sub-084/seg/ReMIND-084-preop-SEG-tumor-MR-3D_AX_T1_postcontrast.nrrd\n",
            "./data/ReMIND/sub-084/anat/T1w/1-192.dcm\n",
            "./data/ReMIND/sub-084/anat/T1w/1-096.dcm\n",
            "./data/ReMIND/sub-084/anat/T1w/1-042.dcm\n",
            "./data/ReMIND/sub-084/anat/T1w/1-186.dcm\n",
            "./data/ReMIND/sub-084/anat/T1w/1-033.dcm\n",
            "./data/ReMIND/sub-106/.DS_Store\n",
            "./data/ReMIND/sub-106/seg/ReMIND-106-preop-SEG-ventricles-MR-3D_AX_T1_postcontrast.nrrd\n",
            "./data/ReMIND/sub-106/seg/ReMIND-106-intraop-SEG-tumor_residual-MR-3D_SAG_T2_FLAIR.nrrd\n",
            "./data/ReMIND/sub-106/seg/ReMIND-106-preop-SEG-previous_resection_cavity-MR-3D_AX_T1_postcontrast.nrrd\n",
            "./data/ReMIND/sub-106/seg/ReMIND-106-preop-SEG-cerebrum-MR-3D_AX_T1_postcontrast.nrrd\n",
            "./data/ReMIND/sub-106/seg/ReMIND-106-preop-SEG-tumor-MR-3D_AX_T2_SPACE.nrrd\n",
            "./data/ReMIND/sub-106/anat/T1w/1-192.dcm\n",
            "./data/ReMIND/sub-106/anat/T1w/1-096.dcm\n",
            "./data/ReMIND/sub-106/anat/T1w/1-042.dcm\n",
            "./data/ReMIND/sub-106/anat/T1w/1-186.dcm\n",
            "./data/ReMIND/sub-106/anat/T1w/1-033.dcm\n",
            "./data/ReMIND/sub-099/.DS_Store\n",
            "./data/ReMIND/sub-099/seg/ReMIND-099-intraop-SEG-tumor_residual-MR-3D_AX_T1_postcontrast-r.nrrd\n",
            "./data/ReMIND/sub-099/seg/ReMIND-099-preop-SEG-ventricles-MR-3D_AX_T1_postcontrast-r.nrrd\n",
            "./data/ReMIND/sub-099/seg/ReMIND-099-preop-SEG-tumor-MR-3D_AX_T1_postcontrast-r.nrrd\n",
            "./data/ReMIND/sub-099/seg/ReMIND-099-preop-SEG-cerebrum-MR-3D_AX_T1_postcontrast-r.nrrd\n",
            "./data/ReMIND/sub-099/anat/T1w/1-192.dcm\n",
            "./data/ReMIND/sub-099/anat/T1w/1-096.dcm\n",
            "./data/ReMIND/sub-099/anat/T1w/1-042.dcm\n",
            "./data/ReMIND/sub-099/anat/T1w/1-186.dcm\n",
            "./data/ReMIND/sub-099/anat/T1w/1-033.dcm\n",
            "./data/ReMIND/sub-011/seg/ReMIND-011-intraop-SEG-tumor_residual-MR-2D_AX_T2_BLADE.nrrd\n",
            "./data/ReMIND/sub-011/seg/ReMIND-011-preop-SEG-tumor-MR-2D_AX_T2_BLADE.nrrd\n",
            "./data/ReMIND/sub-011/anat/T1w/1-192.dcm\n",
            "./data/ReMIND/sub-011/anat/T1w/1-096.dcm\n",
            "./data/ReMIND/sub-011/anat/T1w/1-042.dcm\n",
            "./data/ReMIND/sub-011/anat/T1w/1-186.dcm\n",
            "./data/ReMIND/sub-011/anat/T1w/1-033.dcm\n",
            "./data/ReMIND/sub-050/.DS_Store\n",
            "./data/ReMIND/sub-050/seg/ReMIND-050-preop-SEG-cerebrum-MR-3D_AX_T1_postcontrast.nrrd\n",
            "./data/ReMIND/sub-050/seg/ReMIND-050-preop-SEG-tumor-MR-3D_AX_T1_postcontrast.nrrd\n",
            "./data/ReMIND/sub-050/anat/T1w/1-192.dcm\n",
            "./data/ReMIND/sub-050/anat/T1w/1-096.dcm\n",
            "./data/ReMIND/sub-050/anat/T1w/1-042.dcm\n",
            "./data/ReMIND/sub-050/anat/T1w/1-186.dcm\n",
            "./data/ReMIND/sub-050/anat/T1w/1-033.dcm\n",
            "./__MACOSX/data/._ReportsDATASET.csv\n",
            "./__MACOSX/data/._ReMIND\n",
            "./__MACOSX/data/ReMIND/._ReMIND_metadata.csv\n",
            "./__MACOSX/data/ReMIND/._LICENSE\n",
            "./__MACOSX/data/ReMIND/sub-001/._.DS_Store\n",
            "./__MACOSX/data/ReMIND/sub-001/anat/._.DS_Store\n",
            "./__MACOSX/data/ReMIND/sub-001/anat/T1w/._1-080.dcm\n",
            "./__MACOSX/data/ReMIND/sub-001/anat/T1w/._1-134.dcm\n",
            "./__MACOSX/data/ReMIND/sub-001/anat/T1w/._1-187.dcm\n",
            "./__MACOSX/data/ReMIND/sub-001/anat/T1w/._1-102.dcm\n",
            "./__MACOSX/data/ReMIND/sub-001/anat/T1w/._1-109.dcm\n",
            "./__MACOSX/data/ReMIND/sub-036/._.DS_Store\n",
            "./__MACOSX/data/ReMIND/sub-036/anat/T1w/._1-080.dcm\n",
            "./__MACOSX/data/ReMIND/sub-036/anat/T1w/._1-134.dcm\n",
            "./__MACOSX/data/ReMIND/sub-036/anat/T1w/._1-102.dcm\n",
            "./__MACOSX/data/ReMIND/sub-036/anat/T1w/._1-109.dcm\n",
            "./__MACOSX/data/ReMIND/sub-036/anat/T1w/._1-098.dcm\n",
            "./__MACOSX/data/ReMIND/sub-108/._.DS_Store\n",
            "./__MACOSX/data/ReMIND/sub-108/anat/T1w/._1-080.dcm\n",
            "./__MACOSX/data/ReMIND/sub-108/anat/T1w/._1-134.dcm\n",
            "./__MACOSX/data/ReMIND/sub-108/anat/T1w/._1-102.dcm\n",
            "./__MACOSX/data/ReMIND/sub-108/anat/T1w/._1-109.dcm\n",
            "./__MACOSX/data/ReMIND/sub-108/anat/T1w/._1-098.dcm\n",
            "./__MACOSX/data/ReMIND/sub-062/._.DS_Store\n",
            "./__MACOSX/data/ReMIND/sub-062/anat/T1w/._1-080.dcm\n",
            "./__MACOSX/data/ReMIND/sub-062/anat/T1w/._1-134.dcm\n",
            "./__MACOSX/data/ReMIND/sub-062/anat/T1w/._1-187.dcm\n",
            "./__MACOSX/data/ReMIND/sub-062/anat/T1w/._1-102.dcm\n",
            "./__MACOSX/data/ReMIND/sub-062/anat/T1w/._1-109.dcm\n",
            "./__MACOSX/data/ReMIND/sub-064/._.DS_Store\n",
            "./__MACOSX/data/ReMIND/sub-064/anat/T1w/._1-080.dcm\n",
            "./__MACOSX/data/ReMIND/sub-064/anat/T1w/._1-134.dcm\n",
            "./__MACOSX/data/ReMIND/sub-064/anat/T1w/._1-187.dcm\n",
            "./__MACOSX/data/ReMIND/sub-064/anat/T1w/._1-102.dcm\n",
            "./__MACOSX/data/ReMIND/sub-064/anat/T1w/._1-109.dcm\n",
            "./__MACOSX/data/ReMIND/sub-049/._.DS_Store\n",
            "./__MACOSX/data/ReMIND/sub-049/anat/T1w/._1-080.dcm\n",
            "./__MACOSX/data/ReMIND/sub-049/anat/T1w/._1-134.dcm\n",
            "./__MACOSX/data/ReMIND/sub-049/anat/T1w/._1-187.dcm\n",
            "./__MACOSX/data/ReMIND/sub-049/anat/T1w/._1-102.dcm\n",
            "./__MACOSX/data/ReMIND/sub-049/anat/T1w/._1-109.dcm\n",
            "./__MACOSX/data/ReMIND/sub-054/._.DS_Store\n",
            "./__MACOSX/data/ReMIND/sub-054/anat/T1w/._1-080.dcm\n",
            "./__MACOSX/data/ReMIND/sub-054/anat/T1w/._1-134.dcm\n",
            "./__MACOSX/data/ReMIND/sub-054/anat/T1w/._1-187.dcm\n",
            "./__MACOSX/data/ReMIND/sub-054/anat/T1w/._1-102.dcm\n",
            "./__MACOSX/data/ReMIND/sub-054/anat/T1w/._1-109.dcm\n",
            "./__MACOSX/data/ReMIND/sub-031/._.DS_Store\n",
            "./__MACOSX/data/ReMIND/sub-031/anat/T1w/._1-080.dcm\n",
            "./__MACOSX/data/ReMIND/sub-031/anat/T1w/._1-134.dcm\n",
            "./__MACOSX/data/ReMIND/sub-031/anat/T1w/._1-187.dcm\n",
            "./__MACOSX/data/ReMIND/sub-031/anat/T1w/._1-102.dcm\n",
            "./__MACOSX/data/ReMIND/sub-031/anat/T1w/._1-109.dcm\n",
            "./__MACOSX/data/ReMIND/sub-085/anat/T1w/._1-080.dcm\n",
            "./__MACOSX/data/ReMIND/sub-085/anat/T1w/._1-134.dcm\n",
            "./__MACOSX/data/ReMIND/sub-085/anat/T1w/._1-102.dcm\n",
            "./__MACOSX/data/ReMIND/sub-085/anat/T1w/._1-109.dcm\n",
            "./__MACOSX/data/ReMIND/sub-085/anat/T1w/._1-098.dcm\n",
            "./__MACOSX/data/ReMIND/sub-010/._.DS_Store\n",
            "./__MACOSX/data/ReMIND/sub-010/anat/T1w/._1-080.dcm\n",
            "./__MACOSX/data/ReMIND/sub-010/anat/T1w/._1-134.dcm\n",
            "./__MACOSX/data/ReMIND/sub-010/anat/T1w/._1-102.dcm\n",
            "./__MACOSX/data/ReMIND/sub-010/anat/T1w/._1-109.dcm\n",
            "./__MACOSX/data/ReMIND/sub-010/anat/T1w/._1-098.dcm\n",
            "./__MACOSX/data/ReMIND/sub-086/._.DS_Store\n",
            "./__MACOSX/data/ReMIND/sub-086/anat/T1w/._1-080.dcm\n",
            "./__MACOSX/data/ReMIND/sub-086/anat/T1w/._1-134.dcm\n",
            "./__MACOSX/data/ReMIND/sub-086/anat/T1w/._1-187.dcm\n",
            "./__MACOSX/data/ReMIND/sub-086/anat/T1w/._1-102.dcm\n",
            "./__MACOSX/data/ReMIND/sub-086/anat/T1w/._1-109.dcm\n",
            "./__MACOSX/data/ReMIND/sub-015/._.DS_Store\n",
            "./__MACOSX/data/ReMIND/sub-015/anat/T1w/._1-080.dcm\n",
            "./__MACOSX/data/ReMIND/sub-015/anat/T1w/._1-134.dcm\n",
            "./__MACOSX/data/ReMIND/sub-015/anat/T1w/._1-187.dcm\n",
            "./__MACOSX/data/ReMIND/sub-015/anat/T1w/._1-102.dcm\n",
            "./__MACOSX/data/ReMIND/sub-015/anat/T1w/._1-109.dcm\n",
            "./__MACOSX/data/ReMIND/sub-076/._.DS_Store\n",
            "./__MACOSX/data/ReMIND/sub-076/anat/T1w/._1-080.dcm\n",
            "./__MACOSX/data/ReMIND/sub-076/anat/T1w/._1-134.dcm\n",
            "./__MACOSX/data/ReMIND/sub-076/anat/T1w/._1-187.dcm\n",
            "./__MACOSX/data/ReMIND/sub-076/anat/T1w/._1-102.dcm\n",
            "./__MACOSX/data/ReMIND/sub-076/anat/T1w/._1-109.dcm\n",
            "./__MACOSX/data/ReMIND/sub-082/._.DS_Store\n",
            "./__MACOSX/data/ReMIND/sub-082/anat/T1w/._1-080.dcm\n",
            "./__MACOSX/data/ReMIND/sub-082/anat/T1w/._1-134.dcm\n",
            "./__MACOSX/data/ReMIND/sub-082/anat/T1w/._1-102.dcm\n",
            "./__MACOSX/data/ReMIND/sub-082/anat/T1w/._1-109.dcm\n",
            "./__MACOSX/data/ReMIND/sub-082/anat/T1w/._1-098.dcm\n",
            "./__MACOSX/data/ReMIND/sub-019/._.DS_Store\n",
            "./__MACOSX/data/ReMIND/sub-019/anat/T1w/._1-080.dcm\n",
            "./__MACOSX/data/ReMIND/sub-019/anat/T1w/._1-134.dcm\n",
            "./__MACOSX/data/ReMIND/sub-019/anat/T1w/._1-187.dcm\n",
            "./__MACOSX/data/ReMIND/sub-019/anat/T1w/._1-102.dcm\n",
            "./__MACOSX/data/ReMIND/sub-019/anat/T1w/._1-109.dcm\n",
            "./__MACOSX/data/ReMIND/sub-097/._.DS_Store\n",
            "./__MACOSX/data/ReMIND/sub-097/anat/T1w/._1-080.dcm\n",
            "./__MACOSX/data/ReMIND/sub-097/anat/T1w/._1-134.dcm\n",
            "./__MACOSX/data/ReMIND/sub-097/anat/T1w/._1-187.dcm\n",
            "./__MACOSX/data/ReMIND/sub-097/anat/T1w/._1-102.dcm\n",
            "./__MACOSX/data/ReMIND/sub-097/anat/T1w/._1-109.dcm\n",
            "./__MACOSX/data/ReMIND/sub-027/._.DS_Store\n",
            "./__MACOSX/data/ReMIND/sub-027/anat/T1w/._1-080.dcm\n",
            "./__MACOSX/data/ReMIND/sub-027/anat/T1w/._1-134.dcm\n",
            "./__MACOSX/data/ReMIND/sub-027/anat/T1w/._1-102.dcm\n",
            "./__MACOSX/data/ReMIND/sub-027/anat/T1w/._1-109.dcm\n",
            "./__MACOSX/data/ReMIND/sub-027/anat/T1w/._1-098.dcm\n",
            "./__MACOSX/data/ReMIND/sub-046/._.DS_Store\n",
            "./__MACOSX/data/ReMIND/sub-046/anat/T1w/._1-080.dcm\n",
            "./__MACOSX/data/ReMIND/sub-046/anat/T1w/._1-134.dcm\n",
            "./__MACOSX/data/ReMIND/sub-046/anat/T1w/._1-187.dcm\n",
            "./__MACOSX/data/ReMIND/sub-046/anat/T1w/._1-102.dcm\n",
            "./__MACOSX/data/ReMIND/sub-046/anat/T1w/._1-109.dcm\n",
            "./__MACOSX/data/ReMIND/sub-107/._.DS_Store\n",
            "./__MACOSX/data/ReMIND/sub-107/anat/T1w/._1-080.dcm\n",
            "./__MACOSX/data/ReMIND/sub-107/anat/T1w/._1-134.dcm\n",
            "./__MACOSX/data/ReMIND/sub-107/anat/T1w/._1-187.dcm\n",
            "./__MACOSX/data/ReMIND/sub-107/anat/T1w/._1-102.dcm\n",
            "./__MACOSX/data/ReMIND/sub-107/anat/T1w/._1-109.dcm\n",
            "./__MACOSX/data/ReMIND/sub-068/._.DS_Store\n",
            "./__MACOSX/data/ReMIND/sub-068/anat/T1w/._1-080.dcm\n",
            "./__MACOSX/data/ReMIND/sub-068/anat/T1w/._1-134.dcm\n",
            "./__MACOSX/data/ReMIND/sub-068/anat/T1w/._1-102.dcm\n",
            "./__MACOSX/data/ReMIND/sub-068/anat/T1w/._1-109.dcm\n",
            "./__MACOSX/data/ReMIND/sub-068/anat/T1w/._1-098.dcm\n",
            "./__MACOSX/data/ReMIND/sub-069/._.DS_Store\n",
            "./__MACOSX/data/ReMIND/sub-069/anat/T1w/._1-080.dcm\n",
            "./__MACOSX/data/ReMIND/sub-069/anat/T1w/._1-134.dcm\n",
            "./__MACOSX/data/ReMIND/sub-069/anat/T1w/._1-102.dcm\n",
            "./__MACOSX/data/ReMIND/sub-069/anat/T1w/._1-109.dcm\n",
            "./__MACOSX/data/ReMIND/sub-069/anat/T1w/._1-098.dcm\n",
            "./__MACOSX/data/ReMIND/sub-058/._.DS_Store\n",
            "./__MACOSX/data/ReMIND/sub-058/anat/T1w/._1-080.dcm\n",
            "./__MACOSX/data/ReMIND/sub-058/anat/T1w/._1-134.dcm\n",
            "./__MACOSX/data/ReMIND/sub-058/anat/T1w/._1-102.dcm\n",
            "./__MACOSX/data/ReMIND/sub-058/anat/T1w/._1-109.dcm\n",
            "./__MACOSX/data/ReMIND/sub-058/anat/T1w/._1-098.dcm\n",
            "./__MACOSX/data/ReMIND/sub-059/._.DS_Store\n",
            "./__MACOSX/data/ReMIND/sub-059/anat/T1w/._1-080.dcm\n",
            "./__MACOSX/data/ReMIND/sub-059/anat/T1w/._1-134.dcm\n",
            "./__MACOSX/data/ReMIND/sub-059/anat/T1w/._1-102.dcm\n",
            "./__MACOSX/data/ReMIND/sub-059/anat/T1w/._1-109.dcm\n",
            "./__MACOSX/data/ReMIND/sub-059/anat/T1w/._1-098.dcm\n",
            "./__MACOSX/data/ReMIND/sub-092/._.DS_Store\n",
            "./__MACOSX/data/ReMIND/sub-092/anat/T1w/._1-201.dcm\n",
            "./__MACOSX/data/ReMIND/sub-092/anat/T1w/._1-080.dcm\n",
            "./__MACOSX/data/ReMIND/sub-092/anat/T1w/._1-134.dcm\n",
            "./__MACOSX/data/ReMIND/sub-092/anat/T1w/._1-187.dcm\n",
            "./__MACOSX/data/ReMIND/sub-092/anat/T1w/._1-102.dcm\n",
            "./__MACOSX/data/ReMIND/sub-035/._.DS_Store\n",
            "./__MACOSX/data/ReMIND/sub-035/anat/T1w/._1-080.dcm\n",
            "./__MACOSX/data/ReMIND/sub-035/anat/T1w/._1-134.dcm\n",
            "./__MACOSX/data/ReMIND/sub-035/anat/T1w/._1-102.dcm\n",
            "./__MACOSX/data/ReMIND/sub-035/anat/T1w/._1-109.dcm\n",
            "./__MACOSX/data/ReMIND/sub-035/anat/T1w/._1-098.dcm\n",
            "./__MACOSX/data/ReMIND/sub-043/._.DS_Store\n",
            "./__MACOSX/data/ReMIND/sub-043/anat/T1w/._1-201.dcm\n",
            "./__MACOSX/data/ReMIND/sub-043/anat/T1w/._1-080.dcm\n",
            "./__MACOSX/data/ReMIND/sub-043/anat/T1w/._1-134.dcm\n",
            "./__MACOSX/data/ReMIND/sub-043/anat/T1w/._1-187.dcm\n",
            "./__MACOSX/data/ReMIND/sub-043/anat/T1w/._1-102.dcm\n",
            "./__MACOSX/data/ReMIND/sub-112/._.DS_Store\n",
            "./__MACOSX/data/ReMIND/sub-112/anat/T1w/._1-080.dcm\n",
            "./__MACOSX/data/ReMIND/sub-112/anat/T1w/._1-134.dcm\n",
            "./__MACOSX/data/ReMIND/sub-112/anat/T1w/._1-187.dcm\n",
            "./__MACOSX/data/ReMIND/sub-112/anat/T1w/._1-102.dcm\n",
            "./__MACOSX/data/ReMIND/sub-112/anat/T1w/._1-109.dcm\n",
            "./__MACOSX/data/ReMIND/sub-101/anat/T1w/._1-080.dcm\n",
            "./__MACOSX/data/ReMIND/sub-101/anat/T1w/._1-134.dcm\n",
            "./__MACOSX/data/ReMIND/sub-101/anat/T1w/._1-187.dcm\n",
            "./__MACOSX/data/ReMIND/sub-101/anat/T1w/._1-102.dcm\n",
            "./__MACOSX/data/ReMIND/sub-101/anat/T1w/._1-109.dcm\n",
            "./__MACOSX/data/ReMIND/sub-073/._.DS_Store\n",
            "./__MACOSX/data/ReMIND/sub-073/anat/T1w/._1-080.dcm\n",
            "./__MACOSX/data/ReMIND/sub-073/anat/T1w/._1-134.dcm\n",
            "./__MACOSX/data/ReMIND/sub-073/anat/T1w/._1-187.dcm\n",
            "./__MACOSX/data/ReMIND/sub-073/anat/T1w/._1-102.dcm\n",
            "./__MACOSX/data/ReMIND/sub-073/anat/T1w/._1-109.dcm\n",
            "./__MACOSX/data/ReMIND/sub-018/._.DS_Store\n",
            "./__MACOSX/data/ReMIND/sub-018/anat/T1w/._1-080.dcm\n",
            "./__MACOSX/data/ReMIND/sub-018/anat/T1w/._1-134.dcm\n",
            "./__MACOSX/data/ReMIND/sub-018/anat/T1w/._1-187.dcm\n",
            "./__MACOSX/data/ReMIND/sub-018/anat/T1w/._1-102.dcm\n",
            "./__MACOSX/data/ReMIND/sub-018/anat/T1w/._1-109.dcm\n",
            "./__MACOSX/data/ReMIND/sub-104/._.DS_Store\n",
            "./__MACOSX/data/ReMIND/sub-104/anat/T1w/._1-080.dcm\n",
            "./__MACOSX/data/ReMIND/sub-104/anat/T1w/._1-134.dcm\n",
            "./__MACOSX/data/ReMIND/sub-104/anat/T1w/._1-187.dcm\n",
            "./__MACOSX/data/ReMIND/sub-104/anat/T1w/._1-102.dcm\n",
            "./__MACOSX/data/ReMIND/sub-104/anat/T1w/._1-109.dcm\n",
            "./__MACOSX/data/ReMIND/sub-028/._.DS_Store\n",
            "./__MACOSX/data/ReMIND/sub-028/anat/T1w/._1-201.dcm\n",
            "./__MACOSX/data/ReMIND/sub-028/anat/T1w/._1-080.dcm\n",
            "./__MACOSX/data/ReMIND/sub-028/anat/T1w/._1-134.dcm\n",
            "./__MACOSX/data/ReMIND/sub-028/anat/T1w/._1-187.dcm\n",
            "./__MACOSX/data/ReMIND/sub-028/anat/T1w/._1-102.dcm\n",
            "./__MACOSX/data/ReMIND/sub-048/._.DS_Store\n",
            "./__MACOSX/data/ReMIND/sub-048/anat/T1w/._1-080.dcm\n",
            "./__MACOSX/data/ReMIND/sub-048/anat/T1w/._1-134.dcm\n",
            "./__MACOSX/data/ReMIND/sub-048/anat/T1w/._1-102.dcm\n",
            "./__MACOSX/data/ReMIND/sub-048/anat/T1w/._1-109.dcm\n",
            "./__MACOSX/data/ReMIND/sub-048/anat/T1w/._1-098.dcm\n",
            "./__MACOSX/data/ReMIND/sub-045/._.DS_Store\n",
            "./__MACOSX/data/ReMIND/sub-045/anat/T1w/._1-080.dcm\n",
            "./__MACOSX/data/ReMIND/sub-045/anat/T1w/._1-134.dcm\n",
            "./__MACOSX/data/ReMIND/sub-045/anat/T1w/._1-102.dcm\n",
            "./__MACOSX/data/ReMIND/sub-045/anat/T1w/._1-109.dcm\n",
            "./__MACOSX/data/ReMIND/sub-045/anat/T1w/._1-098.dcm\n",
            "./__MACOSX/data/ReMIND/sub-093/._.DS_Store\n",
            "./__MACOSX/data/ReMIND/sub-093/anat/T1w/._1-080.dcm\n",
            "./__MACOSX/data/ReMIND/sub-093/anat/T1w/._1-134.dcm\n",
            "./__MACOSX/data/ReMIND/sub-093/anat/T1w/._1-187.dcm\n",
            "./__MACOSX/data/ReMIND/sub-093/anat/T1w/._1-102.dcm\n",
            "./__MACOSX/data/ReMIND/sub-093/anat/T1w/._1-109.dcm\n",
            "./__MACOSX/data/ReMIND/sub-105/._.DS_Store\n",
            "./__MACOSX/data/ReMIND/sub-105/anat/T1w/._1-080.dcm\n",
            "./__MACOSX/data/ReMIND/sub-105/anat/T1w/._1-134.dcm\n",
            "./__MACOSX/data/ReMIND/sub-105/anat/T1w/._1-187.dcm\n",
            "./__MACOSX/data/ReMIND/sub-105/anat/T1w/._1-102.dcm\n",
            "./__MACOSX/data/ReMIND/sub-105/anat/T1w/._1-109.dcm\n",
            "./__MACOSX/data/ReMIND/sub-008/._.DS_Store\n",
            "./__MACOSX/data/ReMIND/sub-008/anat/T1w/._1-201.dcm\n",
            "./__MACOSX/data/ReMIND/sub-008/anat/T1w/._1-080.dcm\n",
            "./__MACOSX/data/ReMIND/sub-008/anat/T1w/._1-134.dcm\n",
            "./__MACOSX/data/ReMIND/sub-008/anat/T1w/._1-187.dcm\n",
            "./__MACOSX/data/ReMIND/sub-008/anat/T1w/._1-102.dcm\n",
            "./__MACOSX/data/ReMIND/sub-079/._.DS_Store\n",
            "./__MACOSX/data/ReMIND/sub-079/anat/T1w/._1-080.dcm\n",
            "./__MACOSX/data/ReMIND/sub-079/anat/T1w/._1-134.dcm\n",
            "./__MACOSX/data/ReMIND/sub-079/anat/T1w/._1-187.dcm\n",
            "./__MACOSX/data/ReMIND/sub-079/anat/T1w/._1-102.dcm\n",
            "./__MACOSX/data/ReMIND/sub-079/anat/T1w/._1-109.dcm\n",
            "./__MACOSX/data/ReMIND/sub-080/._.DS_Store\n",
            "./__MACOSX/data/ReMIND/sub-080/anat/T1w/._1-080.dcm\n",
            "./__MACOSX/data/ReMIND/sub-080/anat/T1w/._1-134.dcm\n",
            "./__MACOSX/data/ReMIND/sub-080/anat/T1w/._1-102.dcm\n",
            "./__MACOSX/data/ReMIND/sub-080/anat/T1w/._1-109.dcm\n",
            "./__MACOSX/data/ReMIND/sub-080/anat/T1w/._1-098.dcm\n",
            "./__MACOSX/data/ReMIND/sub-020/._.DS_Store\n",
            "./__MACOSX/data/ReMIND/sub-020/anat/T1w/._1-080.dcm\n",
            "./__MACOSX/data/ReMIND/sub-020/anat/T1w/._1-134.dcm\n",
            "./__MACOSX/data/ReMIND/sub-020/anat/T1w/._1-187.dcm\n",
            "./__MACOSX/data/ReMIND/sub-020/anat/T1w/._1-102.dcm\n",
            "./__MACOSX/data/ReMIND/sub-020/anat/T1w/._1-109.dcm\n",
            "./__MACOSX/data/ReMIND/sub-007/._.DS_Store\n",
            "./__MACOSX/data/ReMIND/sub-007/anat/T1w/._1-080.dcm\n",
            "./__MACOSX/data/ReMIND/sub-007/anat/T1w/._1-134.dcm\n",
            "./__MACOSX/data/ReMIND/sub-007/anat/T1w/._1-187.dcm\n",
            "./__MACOSX/data/ReMIND/sub-007/anat/T1w/._1-102.dcm\n",
            "./__MACOSX/data/ReMIND/sub-007/anat/T1w/._1-109.dcm\n",
            "./__MACOSX/data/ReMIND/sub-052/._.DS_Store\n",
            "./__MACOSX/data/ReMIND/sub-052/anat/T1w/._1-080.dcm\n",
            "./__MACOSX/data/ReMIND/sub-052/anat/T1w/._1-134.dcm\n",
            "./__MACOSX/data/ReMIND/sub-052/anat/T1w/._1-187.dcm\n",
            "./__MACOSX/data/ReMIND/sub-052/anat/T1w/._1-102.dcm\n",
            "./__MACOSX/data/ReMIND/sub-052/anat/T1w/._1-109.dcm\n",
            "./__MACOSX/data/ReMIND/sub-075/._.DS_Store\n",
            "./__MACOSX/data/ReMIND/sub-075/anat/T1w/._1-080.dcm\n",
            "./__MACOSX/data/ReMIND/sub-075/anat/T1w/._1-134.dcm\n",
            "./__MACOSX/data/ReMIND/sub-075/anat/T1w/._1-187.dcm\n",
            "./__MACOSX/data/ReMIND/sub-075/anat/T1w/._1-102.dcm\n",
            "./__MACOSX/data/ReMIND/sub-075/anat/T1w/._1-109.dcm\n",
            "./__MACOSX/data/ReMIND/sub-083/._.DS_Store\n",
            "./__MACOSX/data/ReMIND/sub-083/anat/T1w/._1-201.dcm\n",
            "./__MACOSX/data/ReMIND/sub-083/anat/T1w/._1-080.dcm\n",
            "./__MACOSX/data/ReMIND/sub-083/anat/T1w/._1-134.dcm\n",
            "./__MACOSX/data/ReMIND/sub-083/anat/T1w/._1-187.dcm\n",
            "./__MACOSX/data/ReMIND/sub-083/anat/T1w/._1-102.dcm\n",
            "./__MACOSX/data/ReMIND/sub-111/anat/T1w/._1-080.dcm\n",
            "./__MACOSX/data/ReMIND/sub-111/anat/T1w/._1-134.dcm\n",
            "./__MACOSX/data/ReMIND/sub-111/anat/T1w/._1-102.dcm\n",
            "./__MACOSX/data/ReMIND/sub-111/anat/T1w/._1-109.dcm\n",
            "./__MACOSX/data/ReMIND/sub-111/anat/T1w/._1-098.dcm\n",
            "./__MACOSX/data/ReMIND/sub-017/._.DS_Store\n",
            "./__MACOSX/data/ReMIND/sub-017/anat/T1w/._1-080.dcm\n",
            "./__MACOSX/data/ReMIND/sub-017/anat/T1w/._1-134.dcm\n",
            "./__MACOSX/data/ReMIND/sub-017/anat/T1w/._1-102.dcm\n",
            "./__MACOSX/data/ReMIND/sub-017/anat/T1w/._1-109.dcm\n",
            "./__MACOSX/data/ReMIND/sub-017/anat/T1w/._1-098.dcm\n",
            "./__MACOSX/data/ReMIND/sub-066/._.DS_Store\n",
            "./__MACOSX/data/ReMIND/sub-066/anat/T1w/._1-201.dcm\n",
            "./__MACOSX/data/ReMIND/sub-066/anat/T1w/._1-080.dcm\n",
            "./__MACOSX/data/ReMIND/sub-066/anat/T1w/._1-134.dcm\n",
            "./__MACOSX/data/ReMIND/sub-066/anat/T1w/._1-187.dcm\n",
            "./__MACOSX/data/ReMIND/sub-066/anat/T1w/._1-102.dcm\n",
            "./__MACOSX/data/ReMIND/sub-003/._.DS_Store\n",
            "./__MACOSX/data/ReMIND/sub-003/anat/T1w/._1-080.dcm\n",
            "./__MACOSX/data/ReMIND/sub-003/anat/T1w/._1-134.dcm\n",
            "./__MACOSX/data/ReMIND/sub-003/anat/T1w/._1-102.dcm\n",
            "./__MACOSX/data/ReMIND/sub-003/anat/T1w/._1-109.dcm\n",
            "./__MACOSX/data/ReMIND/sub-003/anat/T1w/._1-098.dcm\n",
            "./__MACOSX/data/ReMIND/sub-114/anat/T1w/._1-080.dcm\n",
            "./__MACOSX/data/ReMIND/sub-114/anat/T1w/._1-134.dcm\n",
            "./__MACOSX/data/ReMIND/sub-114/anat/T1w/._1-187.dcm\n",
            "./__MACOSX/data/ReMIND/sub-114/anat/T1w/._1-102.dcm\n",
            "./__MACOSX/data/ReMIND/sub-114/anat/T1w/._1-109.dcm\n",
            "./__MACOSX/data/ReMIND/sub-022/._.DS_Store\n",
            "./__MACOSX/data/ReMIND/sub-022/anat/T1w/._1-080.dcm\n",
            "./__MACOSX/data/ReMIND/sub-022/anat/T1w/._1-134.dcm\n",
            "./__MACOSX/data/ReMIND/sub-022/anat/T1w/._1-102.dcm\n",
            "./__MACOSX/data/ReMIND/sub-022/anat/T1w/._1-109.dcm\n",
            "./__MACOSX/data/ReMIND/sub-022/anat/T1w/._1-098.dcm\n",
            "./__MACOSX/data/ReMIND/sub-110/._.DS_Store\n",
            "./__MACOSX/data/ReMIND/sub-110/anat/T1w/._1-080.dcm\n",
            "./__MACOSX/data/ReMIND/sub-110/anat/T1w/._1-134.dcm\n",
            "./__MACOSX/data/ReMIND/sub-110/anat/T1w/._1-102.dcm\n",
            "./__MACOSX/data/ReMIND/sub-110/anat/T1w/._1-109.dcm\n",
            "./__MACOSX/data/ReMIND/sub-110/anat/T1w/._1-098.dcm\n",
            "./__MACOSX/data/ReMIND/sub-057/._.DS_Store\n",
            "./__MACOSX/data/ReMIND/sub-057/anat/T1w/._1-080.dcm\n",
            "./__MACOSX/data/ReMIND/sub-057/anat/T1w/._1-134.dcm\n",
            "./__MACOSX/data/ReMIND/sub-057/anat/T1w/._1-187.dcm\n",
            "./__MACOSX/data/ReMIND/sub-057/anat/T1w/._1-102.dcm\n",
            "./__MACOSX/data/ReMIND/sub-057/anat/T1w/._1-109.dcm\n",
            "./__MACOSX/data/ReMIND/sub-095/._.DS_Store\n",
            "./__MACOSX/data/ReMIND/sub-095/anat/T1w/._1-201.dcm\n",
            "./__MACOSX/data/ReMIND/sub-095/anat/T1w/._1-080.dcm\n",
            "./__MACOSX/data/ReMIND/sub-095/anat/T1w/._1-134.dcm\n",
            "./__MACOSX/data/ReMIND/sub-095/anat/T1w/._1-187.dcm\n",
            "./__MACOSX/data/ReMIND/sub-095/anat/T1w/._1-102.dcm\n",
            "./__MACOSX/data/ReMIND/sub-063/._.DS_Store\n",
            "./__MACOSX/data/ReMIND/sub-063/anat/T1w/._1-080.dcm\n",
            "./__MACOSX/data/ReMIND/sub-063/anat/T1w/._1-134.dcm\n",
            "./__MACOSX/data/ReMIND/sub-063/anat/T1w/._1-187.dcm\n",
            "./__MACOSX/data/ReMIND/sub-063/anat/T1w/._1-102.dcm\n",
            "./__MACOSX/data/ReMIND/sub-063/anat/T1w/._1-109.dcm\n",
            "./__MACOSX/data/ReMIND/sub-053/anat/T1w/._1-080.dcm\n",
            "./__MACOSX/data/ReMIND/sub-053/anat/T1w/._1-134.dcm\n",
            "./__MACOSX/data/ReMIND/sub-053/anat/T1w/._1-102.dcm\n",
            "./__MACOSX/data/ReMIND/sub-053/anat/T1w/._1-109.dcm\n",
            "./__MACOSX/data/ReMIND/sub-053/anat/T1w/._1-098.dcm\n",
            "./__MACOSX/data/ReMIND/sub-061/._.DS_Store\n",
            "./__MACOSX/data/ReMIND/sub-061/anat/T1w/._1-080.dcm\n",
            "./__MACOSX/data/ReMIND/sub-061/anat/T1w/._1-134.dcm\n",
            "./__MACOSX/data/ReMIND/sub-061/anat/T1w/._1-102.dcm\n",
            "./__MACOSX/data/ReMIND/sub-061/anat/T1w/._1-109.dcm\n",
            "./__MACOSX/data/ReMIND/sub-061/anat/T1w/._1-098.dcm\n",
            "./__MACOSX/data/ReMIND/sub-034/._.DS_Store\n",
            "./__MACOSX/data/ReMIND/sub-034/anat/T1w/._1-201.dcm\n",
            "./__MACOSX/data/ReMIND/sub-034/anat/T1w/._1-080.dcm\n",
            "./__MACOSX/data/ReMIND/sub-034/anat/T1w/._1-134.dcm\n",
            "./__MACOSX/data/ReMIND/sub-034/anat/T1w/._1-187.dcm\n",
            "./__MACOSX/data/ReMIND/sub-034/anat/T1w/._1-102.dcm\n",
            "./__MACOSX/data/ReMIND/sub-102/._.DS_Store\n",
            "./__MACOSX/data/ReMIND/sub-102/anat/T1w/._1-080.dcm\n",
            "./__MACOSX/data/ReMIND/sub-102/anat/T1w/._1-134.dcm\n",
            "./__MACOSX/data/ReMIND/sub-102/anat/T1w/._1-187.dcm\n",
            "./__MACOSX/data/ReMIND/sub-102/anat/T1w/._1-102.dcm\n",
            "./__MACOSX/data/ReMIND/sub-102/anat/T1w/._1-109.dcm\n",
            "./__MACOSX/data/ReMIND/sub-071/._.DS_Store\n",
            "./__MACOSX/data/ReMIND/sub-071/anat/T1w/._1-080.dcm\n",
            "./__MACOSX/data/ReMIND/sub-071/anat/T1w/._1-134.dcm\n",
            "./__MACOSX/data/ReMIND/sub-071/anat/T1w/._1-102.dcm\n",
            "./__MACOSX/data/ReMIND/sub-071/anat/T1w/._1-109.dcm\n",
            "./__MACOSX/data/ReMIND/sub-071/anat/T1w/._1-098.dcm\n",
            "./__MACOSX/data/ReMIND/sub-016/._.DS_Store\n",
            "./__MACOSX/data/ReMIND/sub-016/anat/T1w/._1-080.dcm\n",
            "./__MACOSX/data/ReMIND/sub-016/anat/T1w/._1-134.dcm\n",
            "./__MACOSX/data/ReMIND/sub-016/anat/T1w/._1-187.dcm\n",
            "./__MACOSX/data/ReMIND/sub-016/anat/T1w/._1-102.dcm\n",
            "./__MACOSX/data/ReMIND/sub-016/anat/T1w/._1-109.dcm\n",
            "./__MACOSX/data/ReMIND/sub-090/._.DS_Store\n",
            "./__MACOSX/data/ReMIND/sub-090/anat/T1w/._1-080.dcm\n",
            "./__MACOSX/data/ReMIND/sub-090/anat/T1w/._1-134.dcm\n",
            "./__MACOSX/data/ReMIND/sub-090/anat/T1w/._1-187.dcm\n",
            "./__MACOSX/data/ReMIND/sub-090/anat/T1w/._1-102.dcm\n",
            "./__MACOSX/data/ReMIND/sub-090/anat/T1w/._1-109.dcm\n",
            "./__MACOSX/data/ReMIND/sub-078/._.DS_Store\n",
            "./__MACOSX/data/ReMIND/sub-078/anat/T1w/._1-080.dcm\n",
            "./__MACOSX/data/ReMIND/sub-078/anat/T1w/._1-134.dcm\n",
            "./__MACOSX/data/ReMIND/sub-078/anat/T1w/._1-102.dcm\n",
            "./__MACOSX/data/ReMIND/sub-078/anat/T1w/._1-109.dcm\n",
            "./__MACOSX/data/ReMIND/sub-078/anat/T1w/._1-098.dcm\n",
            "./__MACOSX/data/ReMIND/sub-070/._.DS_Store\n",
            "./__MACOSX/data/ReMIND/sub-070/anat/T1w/._1-080.dcm\n",
            "./__MACOSX/data/ReMIND/sub-070/anat/T1w/._1-134.dcm\n",
            "./__MACOSX/data/ReMIND/sub-070/anat/T1w/._1-187.dcm\n",
            "./__MACOSX/data/ReMIND/sub-070/anat/T1w/._1-102.dcm\n",
            "./__MACOSX/data/ReMIND/sub-070/anat/T1w/._1-109.dcm\n",
            "./__MACOSX/data/ReMIND/sub-081/._.DS_Store\n",
            "./__MACOSX/data/ReMIND/sub-081/anat/T1w/._1-080.dcm\n",
            "./__MACOSX/data/ReMIND/sub-081/anat/T1w/._1-134.dcm\n",
            "./__MACOSX/data/ReMIND/sub-081/anat/T1w/._1-187.dcm\n",
            "./__MACOSX/data/ReMIND/sub-081/anat/T1w/._1-102.dcm\n",
            "./__MACOSX/data/ReMIND/sub-081/anat/T1w/._1-109.dcm\n",
            "./__MACOSX/data/ReMIND/sub-047/._.DS_Store\n",
            "./__MACOSX/data/ReMIND/sub-047/anat/T1w/._1-080.dcm\n",
            "./__MACOSX/data/ReMIND/sub-047/anat/T1w/._1-134.dcm\n",
            "./__MACOSX/data/ReMIND/sub-047/anat/T1w/._1-102.dcm\n",
            "./__MACOSX/data/ReMIND/sub-047/anat/T1w/._1-109.dcm\n",
            "./__MACOSX/data/ReMIND/sub-047/anat/T1w/._1-098.dcm\n",
            "./__MACOSX/data/ReMIND/sub-077/._.DS_Store\n",
            "./__MACOSX/data/ReMIND/sub-077/anat/T1w/._1-080.dcm\n",
            "./__MACOSX/data/ReMIND/sub-077/anat/T1w/._1-134.dcm\n",
            "./__MACOSX/data/ReMIND/sub-077/anat/T1w/._1-187.dcm\n",
            "./__MACOSX/data/ReMIND/sub-077/anat/T1w/._1-102.dcm\n",
            "./__MACOSX/data/ReMIND/sub-077/anat/T1w/._1-109.dcm\n",
            "./__MACOSX/data/ReMIND/sub-055/._.DS_Store\n",
            "./__MACOSX/data/ReMIND/sub-055/anat/T1w/._1-080.dcm\n",
            "./__MACOSX/data/ReMIND/sub-055/anat/T1w/._1-134.dcm\n",
            "./__MACOSX/data/ReMIND/sub-055/anat/T1w/._1-187.dcm\n",
            "./__MACOSX/data/ReMIND/sub-055/anat/T1w/._1-102.dcm\n",
            "./__MACOSX/data/ReMIND/sub-055/anat/T1w/._1-109.dcm\n",
            "./__MACOSX/data/ReMIND/sub-030/._.DS_Store\n",
            "./__MACOSX/data/ReMIND/sub-030/anat/T1w/._1-080.dcm\n",
            "./__MACOSX/data/ReMIND/sub-030/anat/T1w/._1-134.dcm\n",
            "./__MACOSX/data/ReMIND/sub-030/anat/T1w/._1-187.dcm\n",
            "./__MACOSX/data/ReMIND/sub-030/anat/T1w/._1-102.dcm\n",
            "./__MACOSX/data/ReMIND/sub-030/anat/T1w/._1-109.dcm\n",
            "./__MACOSX/data/ReMIND/sub-060/._.DS_Store\n",
            "./__MACOSX/data/ReMIND/sub-060/anat/T1w/._1-080.dcm\n",
            "./__MACOSX/data/ReMIND/sub-060/anat/T1w/._1-134.dcm\n",
            "./__MACOSX/data/ReMIND/sub-060/anat/T1w/._1-187.dcm\n",
            "./__MACOSX/data/ReMIND/sub-060/anat/T1w/._1-102.dcm\n",
            "./__MACOSX/data/ReMIND/sub-060/anat/T1w/._1-109.dcm\n",
            "./__MACOSX/data/ReMIND/sub-009/._.DS_Store\n",
            "./__MACOSX/data/ReMIND/sub-009/anat/T1w/._1-080.dcm\n",
            "./__MACOSX/data/ReMIND/sub-009/anat/T1w/._1-134.dcm\n",
            "./__MACOSX/data/ReMIND/sub-009/anat/T1w/._1-102.dcm\n",
            "./__MACOSX/data/ReMIND/sub-009/anat/T1w/._1-109.dcm\n",
            "./__MACOSX/data/ReMIND/sub-009/anat/T1w/._1-098.dcm\n",
            "./__MACOSX/data/ReMIND/sub-021/._.DS_Store\n",
            "./__MACOSX/data/ReMIND/sub-021/anat/T1w/._1-201.dcm\n",
            "./__MACOSX/data/ReMIND/sub-021/anat/T1w/._1-080.dcm\n",
            "./__MACOSX/data/ReMIND/sub-021/anat/T1w/._1-134.dcm\n",
            "./__MACOSX/data/ReMIND/sub-021/anat/T1w/._1-187.dcm\n",
            "./__MACOSX/data/ReMIND/sub-021/anat/T1w/._1-102.dcm\n",
            "./__MACOSX/data/ReMIND/sub-006/._.DS_Store\n",
            "./__MACOSX/data/ReMIND/sub-006/anat/T1w/._1-201.dcm\n",
            "./__MACOSX/data/ReMIND/sub-006/anat/T1w/._1-080.dcm\n",
            "./__MACOSX/data/ReMIND/sub-006/anat/T1w/._1-134.dcm\n",
            "./__MACOSX/data/ReMIND/sub-006/anat/T1w/._1-187.dcm\n",
            "./__MACOSX/data/ReMIND/sub-006/anat/T1w/._1-102.dcm\n",
            "./__MACOSX/data/ReMIND/sub-026/._.DS_Store\n",
            "./__MACOSX/data/ReMIND/sub-026/anat/T1w/._1-080.dcm\n",
            "./__MACOSX/data/ReMIND/sub-026/anat/T1w/._1-134.dcm\n",
            "./__MACOSX/data/ReMIND/sub-026/anat/T1w/._1-102.dcm\n",
            "./__MACOSX/data/ReMIND/sub-026/anat/T1w/._1-109.dcm\n",
            "./__MACOSX/data/ReMIND/sub-026/anat/T1w/._1-098.dcm\n",
            "./__MACOSX/data/ReMIND/sub-038/._.DS_Store\n",
            "./__MACOSX/data/ReMIND/sub-038/anat/T1w/._1-080.dcm\n",
            "./__MACOSX/data/ReMIND/sub-038/anat/T1w/._1-134.dcm\n",
            "./__MACOSX/data/ReMIND/sub-038/anat/T1w/._1-187.dcm\n",
            "./__MACOSX/data/ReMIND/sub-038/anat/T1w/._1-102.dcm\n",
            "./__MACOSX/data/ReMIND/sub-038/anat/T1w/._1-109.dcm\n",
            "./__MACOSX/data/ReMIND/sub-002/._.DS_Store\n",
            "./__MACOSX/data/ReMIND/sub-002/anat/._.DS_Store\n",
            "./__MACOSX/data/ReMIND/sub-002/anat/T1w/._1-080.dcm\n",
            "./__MACOSX/data/ReMIND/sub-002/anat/T1w/._1-134.dcm\n",
            "./__MACOSX/data/ReMIND/sub-002/anat/T1w/._1-187.dcm\n",
            "./__MACOSX/data/ReMIND/sub-002/anat/T1w/._1-102.dcm\n",
            "./__MACOSX/data/ReMIND/sub-002/anat/T1w/._1-109.dcm\n",
            "./__MACOSX/data/ReMIND/sub-088/._.DS_Store\n",
            "./__MACOSX/data/ReMIND/sub-088/anat/T1w/._1-201.dcm\n",
            "./__MACOSX/data/ReMIND/sub-088/anat/T1w/._1-080.dcm\n",
            "./__MACOSX/data/ReMIND/sub-088/anat/T1w/._1-134.dcm\n",
            "./__MACOSX/data/ReMIND/sub-088/anat/T1w/._1-187.dcm\n",
            "./__MACOSX/data/ReMIND/sub-088/anat/T1w/._1-102.dcm\n",
            "./__MACOSX/data/ReMIND/sub-029/._.DS_Store\n",
            "./__MACOSX/data/ReMIND/sub-029/anat/T1w/._1-080.dcm\n",
            "./__MACOSX/data/ReMIND/sub-029/anat/T1w/._1-134.dcm\n",
            "./__MACOSX/data/ReMIND/sub-029/anat/T1w/._1-102.dcm\n",
            "./__MACOSX/data/ReMIND/sub-029/anat/T1w/._1-109.dcm\n",
            "./__MACOSX/data/ReMIND/sub-029/anat/T1w/._1-098.dcm\n",
            "./__MACOSX/data/ReMIND/sub-072/._.DS_Store\n",
            "./__MACOSX/data/ReMIND/sub-072/anat/T1w/._1-080.dcm\n",
            "./__MACOSX/data/ReMIND/sub-072/anat/T1w/._1-134.dcm\n",
            "./__MACOSX/data/ReMIND/sub-072/anat/T1w/._1-187.dcm\n",
            "./__MACOSX/data/ReMIND/sub-072/anat/T1w/._1-102.dcm\n",
            "./__MACOSX/data/ReMIND/sub-072/anat/T1w/._1-109.dcm\n",
            "./__MACOSX/data/ReMIND/sub-109/._.DS_Store\n",
            "./__MACOSX/data/ReMIND/sub-109/anat/T1w/._1-201.dcm\n",
            "./__MACOSX/data/ReMIND/sub-109/anat/T1w/._1-080.dcm\n",
            "./__MACOSX/data/ReMIND/sub-109/anat/T1w/._1-134.dcm\n",
            "./__MACOSX/data/ReMIND/sub-109/anat/T1w/._1-187.dcm\n",
            "./__MACOSX/data/ReMIND/sub-109/anat/T1w/._1-102.dcm\n",
            "./__MACOSX/data/ReMIND/sub-098/._.DS_Store\n",
            "./__MACOSX/data/ReMIND/sub-098/anat/T1w/._1-080.dcm\n",
            "./__MACOSX/data/ReMIND/sub-098/anat/T1w/._1-134.dcm\n",
            "./__MACOSX/data/ReMIND/sub-098/anat/T1w/._1-187.dcm\n",
            "./__MACOSX/data/ReMIND/sub-098/anat/T1w/._1-102.dcm\n",
            "./__MACOSX/data/ReMIND/sub-098/anat/T1w/._1-109.dcm\n",
            "./__MACOSX/data/ReMIND/sub-067/._.DS_Store\n",
            "./__MACOSX/data/ReMIND/sub-067/anat/T1w/._1-201.dcm\n",
            "./__MACOSX/data/ReMIND/sub-067/anat/T1w/._1-080.dcm\n",
            "./__MACOSX/data/ReMIND/sub-067/anat/T1w/._1-134.dcm\n",
            "./__MACOSX/data/ReMIND/sub-067/anat/T1w/._1-187.dcm\n",
            "./__MACOSX/data/ReMIND/sub-067/anat/T1w/._1-102.dcm\n",
            "./__MACOSX/data/ReMIND/sub-094/._.DS_Store\n",
            "./__MACOSX/data/ReMIND/sub-094/anat/T1w/._1-080.dcm\n",
            "./__MACOSX/data/ReMIND/sub-094/anat/T1w/._1-134.dcm\n",
            "./__MACOSX/data/ReMIND/sub-094/anat/T1w/._1-102.dcm\n",
            "./__MACOSX/data/ReMIND/sub-094/anat/T1w/._1-109.dcm\n",
            "./__MACOSX/data/ReMIND/sub-094/anat/T1w/._1-098.dcm\n",
            "./__MACOSX/data/ReMIND/sub-014/._.DS_Store\n",
            "./__MACOSX/data/ReMIND/sub-014/anat/T1w/._1-080.dcm\n",
            "./__MACOSX/data/ReMIND/sub-014/anat/T1w/._1-134.dcm\n",
            "./__MACOSX/data/ReMIND/sub-014/anat/T1w/._1-187.dcm\n",
            "./__MACOSX/data/ReMIND/sub-014/anat/T1w/._1-102.dcm\n",
            "./__MACOSX/data/ReMIND/sub-014/anat/T1w/._1-109.dcm\n",
            "./__MACOSX/data/ReMIND/sub-004/._.DS_Store\n",
            "./__MACOSX/data/ReMIND/sub-004/anat/T1w/._1-080.dcm\n",
            "./__MACOSX/data/ReMIND/sub-004/anat/T1w/._1-134.dcm\n",
            "./__MACOSX/data/ReMIND/sub-004/anat/T1w/._1-187.dcm\n",
            "./__MACOSX/data/ReMIND/sub-004/anat/T1w/._1-102.dcm\n",
            "./__MACOSX/data/ReMIND/sub-004/anat/T1w/._1-109.dcm\n",
            "./__MACOSX/data/ReMIND/sub-044/._.DS_Store\n",
            "./__MACOSX/data/ReMIND/sub-044/anat/T1w/._1-080.dcm\n",
            "./__MACOSX/data/ReMIND/sub-044/anat/T1w/._1-134.dcm\n",
            "./__MACOSX/data/ReMIND/sub-044/anat/T1w/._1-187.dcm\n",
            "./__MACOSX/data/ReMIND/sub-044/anat/T1w/._1-102.dcm\n",
            "./__MACOSX/data/ReMIND/sub-044/anat/T1w/._1-109.dcm\n",
            "./__MACOSX/data/ReMIND/sub-051/._.DS_Store\n",
            "./__MACOSX/data/ReMIND/sub-051/anat/T1w/._1-080.dcm\n",
            "./__MACOSX/data/ReMIND/sub-051/anat/T1w/._1-134.dcm\n",
            "./__MACOSX/data/ReMIND/sub-051/anat/T1w/._1-102.dcm\n",
            "./__MACOSX/data/ReMIND/sub-051/anat/T1w/._1-109.dcm\n",
            "./__MACOSX/data/ReMIND/sub-051/anat/T1w/._1-098.dcm\n",
            "./__MACOSX/data/ReMIND/sub-103/._.DS_Store\n",
            "./__MACOSX/data/ReMIND/sub-103/anat/T1w/._1-080.dcm\n",
            "./__MACOSX/data/ReMIND/sub-103/anat/T1w/._1-134.dcm\n",
            "./__MACOSX/data/ReMIND/sub-103/anat/T1w/._1-102.dcm\n",
            "./__MACOSX/data/ReMIND/sub-103/anat/T1w/._1-109.dcm\n",
            "./__MACOSX/data/ReMIND/sub-103/anat/T1w/._1-098.dcm\n",
            "./__MACOSX/data/ReMIND/sub-024/._.DS_Store\n",
            "./__MACOSX/data/ReMIND/sub-024/anat/T1w/._1-201.dcm\n",
            "./__MACOSX/data/ReMIND/sub-024/anat/T1w/._1-080.dcm\n",
            "./__MACOSX/data/ReMIND/sub-024/anat/T1w/._1-134.dcm\n",
            "./__MACOSX/data/ReMIND/sub-024/anat/T1w/._1-187.dcm\n",
            "./__MACOSX/data/ReMIND/sub-024/anat/T1w/._1-102.dcm\n",
            "./__MACOSX/data/ReMIND/sub-041/._.DS_Store\n",
            "./__MACOSX/data/ReMIND/sub-041/anat/T1w/._1-080.dcm\n",
            "./__MACOSX/data/ReMIND/sub-041/anat/T1w/._1-134.dcm\n",
            "./__MACOSX/data/ReMIND/sub-041/anat/T1w/._1-187.dcm\n",
            "./__MACOSX/data/ReMIND/sub-041/anat/T1w/._1-102.dcm\n",
            "./__MACOSX/data/ReMIND/sub-041/anat/T1w/._1-109.dcm\n",
            "./__MACOSX/data/ReMIND/sub-039/._.DS_Store\n",
            "./__MACOSX/data/ReMIND/sub-039/anat/T1w/._1-080.dcm\n",
            "./__MACOSX/data/ReMIND/sub-039/anat/T1w/._1-134.dcm\n",
            "./__MACOSX/data/ReMIND/sub-039/anat/T1w/._1-187.dcm\n",
            "./__MACOSX/data/ReMIND/sub-039/anat/T1w/._1-102.dcm\n",
            "./__MACOSX/data/ReMIND/sub-039/anat/T1w/._1-109.dcm\n",
            "./__MACOSX/data/ReMIND/sub-113/._.DS_Store\n",
            "./__MACOSX/data/ReMIND/sub-113/anat/T1w/._1-080.dcm\n",
            "./__MACOSX/data/ReMIND/sub-113/anat/T1w/._1-102.dcm\n",
            "./__MACOSX/data/ReMIND/sub-113/anat/T1w/._1-109.dcm\n",
            "./__MACOSX/data/ReMIND/sub-113/anat/T1w/._1-098.dcm\n",
            "./__MACOSX/data/ReMIND/sub-113/anat/T1w/._1-027.dcm\n",
            "./__MACOSX/data/ReMIND/sub-089/._.DS_Store\n",
            "./__MACOSX/data/ReMIND/sub-089/anat/T1w/._1-080.dcm\n",
            "./__MACOSX/data/ReMIND/sub-089/anat/T1w/._1-134.dcm\n",
            "./__MACOSX/data/ReMIND/sub-089/anat/T1w/._1-187.dcm\n",
            "./__MACOSX/data/ReMIND/sub-089/anat/T1w/._1-102.dcm\n",
            "./__MACOSX/data/ReMIND/sub-089/anat/T1w/._1-109.dcm\n",
            "./__MACOSX/data/ReMIND/sub-100/._.DS_Store\n",
            "./__MACOSX/data/ReMIND/sub-100/anat/T1w/._1-080.dcm\n",
            "./__MACOSX/data/ReMIND/sub-100/anat/T1w/._1-134.dcm\n",
            "./__MACOSX/data/ReMIND/sub-100/anat/T1w/._1-187.dcm\n",
            "./__MACOSX/data/ReMIND/sub-100/anat/T1w/._1-102.dcm\n",
            "./__MACOSX/data/ReMIND/sub-100/anat/T1w/._1-109.dcm\n",
            "./__MACOSX/data/ReMIND/sub-074/._.DS_Store\n",
            "./__MACOSX/data/ReMIND/sub-074/anat/T1w/._1-080.dcm\n",
            "./__MACOSX/data/ReMIND/sub-074/anat/T1w/._1-134.dcm\n",
            "./__MACOSX/data/ReMIND/sub-074/anat/T1w/._1-102.dcm\n",
            "./__MACOSX/data/ReMIND/sub-074/anat/T1w/._1-109.dcm\n",
            "./__MACOSX/data/ReMIND/sub-074/anat/T1w/._1-098.dcm\n",
            "./__MACOSX/data/ReMIND/sub-037/._.DS_Store\n",
            "./__MACOSX/data/ReMIND/sub-037/anat/T1w/._1-080.dcm\n",
            "./__MACOSX/data/ReMIND/sub-037/anat/T1w/._1-134.dcm\n",
            "./__MACOSX/data/ReMIND/sub-037/anat/T1w/._1-102.dcm\n",
            "./__MACOSX/data/ReMIND/sub-037/anat/T1w/._1-109.dcm\n",
            "./__MACOSX/data/ReMIND/sub-037/anat/T1w/._1-098.dcm\n",
            "./__MACOSX/data/ReMIND/sub-023/._.DS_Store\n",
            "./__MACOSX/data/ReMIND/sub-023/anat/T1w/._1-080.dcm\n",
            "./__MACOSX/data/ReMIND/sub-023/anat/T1w/._1-134.dcm\n",
            "./__MACOSX/data/ReMIND/sub-023/anat/T1w/._1-187.dcm\n",
            "./__MACOSX/data/ReMIND/sub-023/anat/T1w/._1-102.dcm\n",
            "./__MACOSX/data/ReMIND/sub-023/anat/T1w/._1-109.dcm\n",
            "./__MACOSX/data/ReMIND/sub-056/._.DS_Store\n",
            "./__MACOSX/data/ReMIND/sub-056/anat/T1w/._1-080.dcm\n",
            "./__MACOSX/data/ReMIND/sub-056/anat/T1w/._1-134.dcm\n",
            "./__MACOSX/data/ReMIND/sub-056/anat/T1w/._1-187.dcm\n",
            "./__MACOSX/data/ReMIND/sub-056/anat/T1w/._1-102.dcm\n",
            "./__MACOSX/data/ReMIND/sub-056/anat/T1w/._1-109.dcm\n",
            "./__MACOSX/data/ReMIND/sub-042/anat/T1w/._1-080.dcm\n",
            "./__MACOSX/data/ReMIND/sub-042/anat/T1w/._1-134.dcm\n",
            "./__MACOSX/data/ReMIND/sub-042/anat/T1w/._1-102.dcm\n",
            "./__MACOSX/data/ReMIND/sub-042/anat/T1w/._1-109.dcm\n",
            "./__MACOSX/data/ReMIND/sub-042/anat/T1w/._1-098.dcm\n",
            "./__MACOSX/data/ReMIND/sub-013/._.DS_Store\n",
            "./__MACOSX/data/ReMIND/sub-013/anat/T1w/._1-080.dcm\n",
            "./__MACOSX/data/ReMIND/sub-013/anat/T1w/._1-134.dcm\n",
            "./__MACOSX/data/ReMIND/sub-013/anat/T1w/._1-187.dcm\n",
            "./__MACOSX/data/ReMIND/sub-013/anat/T1w/._1-102.dcm\n",
            "./__MACOSX/data/ReMIND/sub-013/anat/T1w/._1-109.dcm\n",
            "./__MACOSX/data/ReMIND/sub-025/._.DS_Store\n",
            "./__MACOSX/data/ReMIND/sub-025/anat/T1w/._1-080.dcm\n",
            "./__MACOSX/data/ReMIND/sub-025/anat/T1w/._1-134.dcm\n",
            "./__MACOSX/data/ReMIND/sub-025/anat/T1w/._1-187.dcm\n",
            "./__MACOSX/data/ReMIND/sub-025/anat/T1w/._1-102.dcm\n",
            "./__MACOSX/data/ReMIND/sub-025/anat/T1w/._1-109.dcm\n",
            "./__MACOSX/data/ReMIND/sub-084/._.DS_Store\n",
            "./__MACOSX/data/ReMIND/sub-084/anat/T1w/._1-080.dcm\n",
            "./__MACOSX/data/ReMIND/sub-084/anat/T1w/._1-134.dcm\n",
            "./__MACOSX/data/ReMIND/sub-084/anat/T1w/._1-187.dcm\n",
            "./__MACOSX/data/ReMIND/sub-084/anat/T1w/._1-102.dcm\n",
            "./__MACOSX/data/ReMIND/sub-084/anat/T1w/._1-109.dcm\n",
            "./__MACOSX/data/ReMIND/sub-106/._.DS_Store\n",
            "./__MACOSX/data/ReMIND/sub-106/anat/T1w/._1-080.dcm\n",
            "./__MACOSX/data/ReMIND/sub-106/anat/T1w/._1-134.dcm\n",
            "./__MACOSX/data/ReMIND/sub-106/anat/T1w/._1-187.dcm\n",
            "./__MACOSX/data/ReMIND/sub-106/anat/T1w/._1-102.dcm\n",
            "./__MACOSX/data/ReMIND/sub-106/anat/T1w/._1-109.dcm\n",
            "./__MACOSX/data/ReMIND/sub-099/._.DS_Store\n",
            "./__MACOSX/data/ReMIND/sub-099/anat/T1w/._1-080.dcm\n",
            "./__MACOSX/data/ReMIND/sub-099/anat/T1w/._1-134.dcm\n",
            "./__MACOSX/data/ReMIND/sub-099/anat/T1w/._1-187.dcm\n",
            "./__MACOSX/data/ReMIND/sub-099/anat/T1w/._1-102.dcm\n",
            "./__MACOSX/data/ReMIND/sub-099/anat/T1w/._1-109.dcm\n",
            "./__MACOSX/data/ReMIND/sub-011/anat/T1w/._1-080.dcm\n",
            "./__MACOSX/data/ReMIND/sub-011/anat/T1w/._1-134.dcm\n",
            "./__MACOSX/data/ReMIND/sub-011/anat/T1w/._1-187.dcm\n",
            "./__MACOSX/data/ReMIND/sub-011/anat/T1w/._1-102.dcm\n",
            "./__MACOSX/data/ReMIND/sub-011/anat/T1w/._1-109.dcm\n",
            "./__MACOSX/data/ReMIND/sub-050/._.DS_Store\n",
            "./__MACOSX/data/ReMIND/sub-050/anat/T1w/._1-080.dcm\n",
            "./__MACOSX/data/ReMIND/sub-050/anat/T1w/._1-134.dcm\n",
            "./__MACOSX/data/ReMIND/sub-050/anat/T1w/._1-187.dcm\n",
            "./__MACOSX/data/ReMIND/sub-050/anat/T1w/._1-102.dcm\n",
            "./__MACOSX/data/ReMIND/sub-050/anat/T1w/._1-109.dcm\n",
            "./sample_data/anscombe.json\n",
            "./sample_data/README.md\n",
            "./sample_data/mnist_test.csv\n",
            "./sample_data/california_housing_train.csv\n",
            "./sample_data/california_housing_test.csv\n"
          ]
        }
      ]
    },
    {
      "cell_type": "markdown",
      "source": [
        "## Install and Import Required Libraries"
      ],
      "metadata": {
        "id": "i7x8T3rDp7NE"
      },
      "id": "i7x8T3rDp7NE"
    },
    {
      "cell_type": "code",
      "source": [
        "!pip install pydicom\n",
        "\n",
        "import pydicom\n",
        "import matplotlib.pyplot as plt\n",
        "import torch\n",
        "import torchvision.transforms as transforms\n"
      ],
      "metadata": {
        "id": "pf3kjDE5ipCR",
        "outputId": "ae981218-56d6-42a0-b495-6069b2146e12",
        "colab": {
          "base_uri": "https://localhost:8080/"
        }
      },
      "id": "pf3kjDE5ipCR",
      "execution_count": 1,
      "outputs": [
        {
          "output_type": "stream",
          "name": "stdout",
          "text": [
            "Requirement already satisfied: pydicom in /usr/local/lib/python3.11/dist-packages (3.0.1)\n"
          ]
        }
      ]
    },
    {
      "cell_type": "markdown",
      "source": [
        "## Load a Sample DICOM File and Visualize"
      ],
      "metadata": {
        "id": "6Z6IMm3lqDLK"
      },
      "id": "6Z6IMm3lqDLK"
    },
    {
      "cell_type": "code",
      "source": [
        "# Path to a sample DICOM file\n",
        "dicom_file = \"/content/data/ReMIND/sub-001/anat/T1w/1-145.dcm\"\n",
        "\n",
        "# Read DICOM file using pydicom\n",
        "dicom_data = pydicom.dcmread(dicom_file)\n",
        "\n",
        "# Extract pixel array from the DICOM data\n",
        "image = dicom_data.pixel_array\n",
        "print(f\"Original Image shape: {image.shape}\")\n",
        "\n",
        "# Visualize the image\n",
        "plt.imshow(image, cmap='gray')\n",
        "plt.title(\"Sample DICOM Image (T1-weighted MRI)\")\n",
        "plt.axis(\"off\")\n",
        "plt.show()"
      ],
      "metadata": {
        "id": "-YXiOq47iVS7",
        "outputId": "12261b66-b4f7-4b16-c689-9b7eff0321dc",
        "colab": {
          "base_uri": "https://localhost:8080/",
          "height": 446
        }
      },
      "id": "-YXiOq47iVS7",
      "execution_count": 2,
      "outputs": [
        {
          "output_type": "stream",
          "name": "stdout",
          "text": [
            "Original Image shape: (256, 216)\n"
          ]
        },
        {
          "output_type": "display_data",
          "data": {
            "text/plain": [
              "<Figure size 640x480 with 1 Axes>"
            ],
            "image/png": "[encoded data removed]"
          },
          "metadata": {}
        }
      ]
    },
    {
      "cell_type": "markdown",
      "source": [
        "## Convert Image to PyTorch Tensor and Preprocess\n",
        "\n",
        "- Convert image pixel values to float32 for PyTorch compatibility\n",
        "\n",
        "- Use torchvision transforms to:\n",
        "  \n",
        "   Convert the image to tensor (automatically scales pixels to [0,1])\n",
        "\n",
        "   Resize the image to a fixed size suitable for CNN input (128x128)\n",
        "\n",
        "   Normalize the tensor values to [-1, 1] to speed up and stabilize training"
      ],
      "metadata": {
        "id": "SSx9btCWqMwR"
      },
      "id": "SSx9btCWqMwR"
    },
    {
      "cell_type": "code",
      "source": [
        "# Convert image to float32 numpy array\n",
        "image = image.astype(\"float32\")\n",
        "\n",
        "# Compose preprocessing transforms\n",
        "transform = transforms.Compose([\n",
        "    transforms.ToTensor(),                    # Convert to tensor and scale pixels to [0,1]\n",
        "    transforms.Resize((128, 128)),            # Resize to 128x128 (C, H, W)\n",
        "    transforms.Normalize(mean=[0.5], std=[0.5])  # Normalize to [-1, 1]\n",
        "])\n",
        "\n",
        "# Apply transforms and add batch dimension (1, Channels, H, W)\n",
        "image_tensor = transform(image).unsqueeze(0)\n",
        "\n",
        "print(\"Processed tensor shape:\", image_tensor.shape)\n",
        "print(\"Tensor dtype:\", image_tensor.dtype)\n"
      ],
      "metadata": {
        "id": "2p2kWAY9i5N_",
        "outputId": "418390e0-e132-43a1-8ef8-fec30c0eeaaa",
        "colab": {
          "base_uri": "https://localhost:8080/"
        }
      },
      "id": "2p2kWAY9i5N_",
      "execution_count": 3,
      "outputs": [
        {
          "output_type": "stream",
          "name": "stdout",
          "text": [
            "Processed tensor shape: torch.Size([1, 1, 128, 128])\n",
            "Tensor dtype: torch.float32\n"
          ]
        }
      ]
    },
    {
      "cell_type": "markdown",
      "source": [
        "## Display Important DICOM Metadata\n",
        "Understanding the metadata is crucial for medical imaging analysis:"
      ],
      "metadata": {
        "id": "irPydfVJqqy8"
      },
      "id": "irPydfVJqqy8"
    },
    {
      "cell_type": "code",
      "source": [
        "# Show a few key DICOM metadata fields\n",
        "print(\"Patient ID:\", dicom_data.get(\"PatientID\", \"Unknown\"))\n",
        "print(\"Modality:\", dicom_data.get(\"Modality\", \"Unknown\"))\n",
        "print(\"Study Date:\", dicom_data.get(\"StudyDate\", \"Unknown\"))\n",
        "print(\"Manufacturer:\", dicom_data.get(\"Manufacturer\", \"Unknown\"))\n",
        "\n",
        "# Some acquisition parameters\n",
        "print(\"Image Dimensions (rows x columns):\", dicom_data.Rows, \"x\", dicom_data.Columns)\n",
        "print(\"Pixel Spacing (mm):\", dicom_data.get(\"PixelSpacing\", \"Unknown\"))\n",
        "print(\"Slice Thickness (mm):\", dicom_data.get(\"SliceThickness\", \"Unknown\"))\n",
        "\n",
        "# Number of bits per pixel\n",
        "print(\"Bits Stored:\", dicom_data.get(\"BitsStored\", \"Unknown\"))\n",
        "\n",
        "# Optional: print all tags\n",
        "# print(dicom_data)\n"
      ],
      "metadata": {
        "id": "9bcS-KqrjTaZ",
        "outputId": "d07ee55b-dc11-4a8b-f9e5-359f91d8380e",
        "colab": {
          "base_uri": "https://localhost:8080/"
        }
      },
      "id": "9bcS-KqrjTaZ",
      "execution_count": 18,
      "outputs": [
        {
          "output_type": "stream",
          "name": "stdout",
          "text": [
            "Patient ID: ReMIND-001\n",
            "Modality: MR\n",
            "Study Date: 19821225\n",
            "Manufacturer: Unknown manufacturer\n",
            "Image Dimensions (rows x columns): 256 x 216\n",
            "Pixel Spacing (mm): [.976562578063547, .976562594935198]\n",
            "Slice Thickness (mm): 1\n",
            "Bits Stored: 16\n"
          ]
        }
      ]
    },
    {
      "cell_type": "markdown",
      "source": [
        "## Moving the Tensor to GPU for Model Inference or Training\n",
        "\n",
        "PyTorch models train faster on GPUs. Here's how to prepare the tensor:"
      ],
      "metadata": {
        "id": "GBE_NO8dqwvp"
      },
      "id": "GBE_NO8dqwvp"
    },
    {
      "cell_type": "code",
      "source": [
        "device = torch.device(\"cuda\" if torch.cuda.is_available() else \"cpu\")\n",
        "print(\"Using device:\", device)\n",
        "\n",
        "# Move tensor to device\n",
        "image_tensor = image_tensor.to(device)"
      ],
      "metadata": {
        "id": "9BBfz7HzqybW",
        "outputId": "4097b3ce-eb71-401f-d1ae-12d128a99a58",
        "colab": {
          "base_uri": "https://localhost:8080/"
        }
      },
      "id": "9BBfz7HzqybW",
      "execution_count": 8,
      "outputs": [
        {
          "output_type": "stream",
          "name": "stdout",
          "text": [
            "Using device: cuda\n"
          ]
        }
      ]
    }
  ],
  "metadata": {
    "accelerator": "GPU",
    "colab": {
      "gpuType": "T4",
      "provenance": []
    },
    "kernelspec": {
      "display_name": "Python 3",
      "name": "python3"
    },
    "language_info": {
      "codemirror_mode": {
        "name": "ipython",
        "version": 3
      },
      "file_extension": ".py",
      "mimetype": "text/x-python",
      "name": "python",
      "nbconvert_exporter": "python",
      "pygments_lexer": "ipython3",
      "version": "3.10.0"
    }
  },
  "nbformat": 4,
  "nbformat_minor": 5
}