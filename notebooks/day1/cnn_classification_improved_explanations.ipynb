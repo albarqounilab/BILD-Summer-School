{
 "cells": [
  {
   "cell_type": "markdown",
   "id": "T6BeY23EjU0L",
   "metadata": {
    "id": "T6BeY23EjU0L"
   },
   "source": [
    "# Summer School on Biomedical Imaging with Deep Learning"
   ]
  },
  {
   "cell_type": "markdown",
   "id": "cgm9viPTP_dN",
   "metadata": {
    "id": "cgm9viPTP_dN"
   },
   "source": [
    "[![Open In Colab](https://colab.research.google.com/assets/colab-badge.svg)](https://colab.research.google.com/github/albarqounilab/BILD-Summer-School/blob/main/notebooks/day1/cnn_classification.ipynb)"
   ]
  },
  {
   "cell_type": "markdown",
   "id": "xY9NKCq8cO48",
   "metadata": {
    "id": "xY9NKCq8cO48"
   },
   "source": [
    "![alt_text](https://raw.githubusercontent.com/albarqounilab/BILD-Summer-School/refs/heads/main/images/helpers/notebook-banner.png)\n",
    "\n",
    "BILD 2025 is organized under the umbrella of the [Strategic Arab-German Network for Affordable and Democratized AI in Healthcare (SANAD)](https://albarqouni.github.io/funded/sanad/), uniting academic excellence and technological innovation across borders. This year’s edition is organized by the [Albarqouni Lab](https://albarqouni.github.io/) at the [University Hospital Bonn](https://www.ukbonn.de/) and the [University of Bonn](https://www.uni-bonn.de/en). We are proud to partner with leading institutions in the region—Lebanese American University, University of Tunis El Manar, and Duhok Polytechnic University — to deliver a truly international learning experience. Over five intensive days in Tunis, you will explore cutting-edge deep-learning techniques for medical imaging through expert lectures, hands-on labs, and collaborative case studies. Engage with peers and faculty from Germany, Lebanon, Iraq, and Tunisia as you develop practical skills in building and deploying AI models for real-world healthcare challenges. We look forward to an inspiring week of interdisciplinary exchange and the shared commitment to advancing affordable, life-saving AI in medicine.\n"
   ]
  },
  {
   "cell_type": "markdown",
   "id": "ea5603fa-4f2d-483d-ba04-4aeed8ddf7c6",
   "metadata": {
    "id": "ea5603fa-4f2d-483d-ba04-4aeed8ddf7c6"
   },
   "source": [
    "## Chest-X-Ray Classification and Detection [60 mins]\n",
    "\n",
    "### Introduction\n",
    "\n",
    "This notebook will guide you step-by-step through practical exercises on using Convolutional Neural Networks (CNNs) for classifying and detecting diseases in chest X-ray images. If you are new to machine learning, PyTorch, or Python, don't worry—each section will explain what is happening and why it is important.\n",
    "\n",
    "We will use two real-world chest X-ray datasets to learn how to:\n",
    "- Recognize (classify) if a chest X-ray shows signs of disease or is healthy.\n",
    "- Find (detect) the location of disease in the image using bounding boxes.\n",
    "\n",
    "**Why do we do this?**\n",
    "- Medical images like X-rays are used by doctors to diagnose diseases. Automating this process with AI can help doctors make faster and more accurate decisions.\n",
    "\n",
    "**The datasets:**\n",
    "- **NIH ChestX-ray14:** Over 100,000 X-ray images labeled with 14 different diseases. Some images also have boxes showing where the disease is located.\n",
    "- **RSNA Pneumonia Detection Challenge:** About 30,000 X-rays with expert-drawn boxes around pneumonia, perfect for learning detection.\n",
    "\n",
    "**What will you learn?**\n",
    "1. **How to work with medical image datasets.**\n",
    "   - Loading images and reading their labels (what disease, if any, is present).\n",
    "   - Understanding the structure of the data and why we split it into training, validation, and test sets.\n",
    "2. **How to build and train a model to classify images.**\n",
    "   - Using powerful pre-trained models and adapting them to our problem.\n",
    "   - Measuring how well our model is doing and how to improve it.\n",
    "3. **How to detect disease locations in images.**\n",
    "   - Using models that can draw boxes around areas of interest.\n",
    "   - Evaluating how accurate these detections are.\n",
    "4. **How to report and interpret results.**\n",
    "   - Understanding key metrics like accuracy and ROC-AUC.\n",
    "   - Visualizing results to see what the model got right and wrong.\n",
    "\n",
    "By the end of this notebook, you will have hands-on experience with the full process of building, training, and evaluating deep learning models for medical image analysis, even if you are just starting out!"
   ]
  },
  {
   "cell_type": "markdown",
   "id": "a6d9ccb1-08d3-4673-b513-39b15963f31c",
   "metadata": {
    "id": "a6d9ccb1-08d3-4673-b513-39b15963f31c"
   },
   "source": [
    "## Dataset\n",
    "\n",
    "The [NIH ChestX-ray-14](https://nihcc.app.box.com/v/ChestXray-NIHCC) dataset is a large collection of chest X-ray images. Each image comes with information about the patient and labels that tell us which diseases (if any) are present. This dataset is widely used in medical AI research because it helps us train and test models to recognize diseases from X-ray images.\n",
    "\n",
    "**What does the dataset contain?**\n",
    "1. Over 100,000 chest X-ray images, each in PNG format. These are pictures of the inside of the chest, showing the lungs and heart.\n",
    "2. A metadata file (`Data_Entry_2017.csv`) that lists information about each image, such as:\n",
    "   - Which diseases are present (if any)\n",
    "   - Patient age and gender\n",
    "   - How the image was taken\n",
    "3. A file with bounding boxes (`BBox_List_2017.csv`) for about 1,000 images. These boxes show exactly where a disease is located in the image.\n",
    "4. Files that split the data into training and test sets. This is important because we want to train our model on some images and test it on others to see how well it works on new data.\n",
    "\n",
    "**Why do we use this dataset?**\n",
    "- It is large and diverse, which helps our model learn better.\n",
    "- It has real medical labels, making our project more realistic.\n",
    "- It allows us to practice both classification (is there a disease?) and detection (where is the disease?).\n",
    "\n",
    "In this notebook, we will use a smaller sample of this dataset and pre-trained models to make the exercises faster and easier to follow."
   ]
  },
  {
   "cell_type": "code",
   "execution_count": null,
   "id": "8ac16006",
   "metadata": {},
   "outputs": [],
   "source": [
    "# Download data from Hugging Face\n",
    "!pip install -q huggingface_hub\n",
    "from huggingface_hub import hf_hub_download\n",
    "import os\n",
    "\n",
    "DATA_PATH = './Classification'\n",
    "REPO_ID = 'albarqouni/bild-dataset/Classification'\n",
    "os.makedirs(DATA_PATH, exist_ok=True)\n",
    "\n",
    "# Download csv.zip\n",
    "csv_zip_path = hf_hub_download(\n",
    "    repo_id=REPO_ID,\n",
    "    repo_type=\"dataset\",\n",
    "    filename=\"csv.zip\",\n",
    "    local_dir=DATA_PATH\n",
    ")\n",
    "\n",
    "# Download data_cxr8.zip\n",
    "data_zip_path = hf_hub_download(\n",
    "    repo_id=REPO_ID,\n",
    "    repo_type=\"dataset\",\n",
    "    filename=\"data_cxr8.zip\",\n",
    "    local_dir=DATA_PATH\n",
    ")\n",
    "\n",
    "print(\"Download complete.\")"
   ]
  },
  {
   "cell_type": "code",
   "execution_count": null,
   "id": "4e8fc31f",
   "metadata": {},
   "outputs": [],
   "source": [
    "!unzip -q {DATA_PATH}/csv.zip -d {DATA_PATH}\n",
    "!unzip -q {DATA_PATH}/data_cxr8.zip -d {DATA_PATH}"
   ]
  },
  {
   "cell_type": "code",
   "execution_count": null,
   "id": "83c0001a",
   "metadata": {},
   "outputs": [],
   "source": [
    "# RSNA dataset download is not included in the Hugging Face Classification dataset.\n",
    "# If needed, add similar Hugging Face download logic here for RSNA or other datasets."
   ]
  },
  {
   "cell_type": "markdown",
   "id": "SkIFYQFwSdwm",
   "metadata": {
    "id": "SkIFYQFwSdwm"
   },
   "source": [
    "# Classification"
   ]
  },
  {
   "cell_type": "markdown",
   "id": "oFnf-I9rRx6C",
   "metadata": {
    "id": "oFnf-I9rRx6C"
   },
   "source": [
    "## Import essentials"
   ]
  },
  {
   "cell_type": "code",
   "execution_count": null,
   "id": "b5860a29-6657-4597-839f-463b42a1f732",
   "metadata": {
    "cellView": "form",
    "id": "b5860a29-6657-4597-839f-463b42a1f732"
   },
   "outputs": [],
   "source": [
    "#@title import libraries\n",
    "import pandas as pd\n",
    "import numpy as np\n",
    "import matplotlib.pyplot as plt\n",
    "import seaborn as sns\n",
    "import os\n",
    "import warnings\n",
    "warnings.filterwarnings('ignore')\n",
    "\n",
    "!pip install pydicom -q\n",
    "import pydicom\n",
    "\n",
    "!pip install SimpleITK -q\n",
    "import SimpleITK as sitk\n",
    "\n",
    "from glob import glob\n",
    "import time\n",
    "import cv2\n",
    "import re\n",
    "import torch\n",
    "import torch.nn as nn\n",
    "from torch.utils.data import Dataset\n",
    "from torchvision import tv_tensors\n",
    "import torchvision\n",
    "from torchvision import transforms\n",
    "from torch.utils.data import DataLoader\n",
    "import pydicom # Added import for pydicom\n",
    "\n",
    "from sklearn.model_selection import train_test_split\n",
    "from sklearn.metrics import accuracy_score, f1_score, recall_score, precision_score\n",
    "from sklearn.metrics import accuracy_score, precision_score, recall_score, f1_score, roc_curve, auc\n",
    "import matplotlib.pyplot as plt\n",
    "from tqdm import tqdm\n",
    "from sklearn.metrics import RocCurveDisplay\n",
    "from sklearn.metrics import roc_auc_score\n",
    "\n",
    "from torchvision import transforms, models\n",
    "from PIL import Image\n",
    "import random\n",
    "from torch.utils.data import Dataset, DataLoader\n",
    "from tqdm import tqdm\n",
    "from torch.optim.lr_scheduler import OneCycleLR\n",
    "\n",
    "from sklearn.metrics import accuracy_score\n",
    "from torchmetrics.classification import BinaryAUROC"
   ]
  },
  {
   "cell_type": "markdown",
   "id": "d7f6e4ce-4517-4a2a-80b5-dd002d282bd8",
   "metadata": {
    "id": "d7f6e4ce-4517-4a2a-80b5-dd002d282bd8"
   },
   "source": [
    "### Download\n",
    "\n",
    "Before we can work with the data, we need to download and unzip it. This means we are copying the files from the internet to our computer and making them ready to use.\n",
    "\n",
    "**Why do we do this?**\n",
    "- Machine learning models need data to learn from. Downloading the dataset gives us the images and labels we need for our project.\n",
    "- Unzipping extracts the files from a compressed format so we can access them easily in our code.\n",
    "\n",
    "**Instructions:**\n",
    "- If you have not downloaded the dataset yet, run the following cells to download and unzip the files.\n",
    "- If you already have the data, you can skip these steps by adding a `#` before the `!` in the code (this comments out the line so it won't run).\n",
    "- You can also change the `DATA_PATH` variable if you want to store the data in a different folder.\n",
    "\n",
    "> **Tip:** Downloading large datasets can take a while, depending on your internet speed."
   ]
  },
  {
   "cell_type": "code",
   "execution_count": null,
   "id": "RMTTjnkOeaPs",
   "metadata": {
    "colab": {
     "base_uri": "https://localhost:8080/"
    },
    "id": "RMTTjnkOeaPs",
    "outputId": "4bb4b035-2d3e-4de5-8713-9b3f6b33134f"
   },
   "outputs": [
    {
     "name": "stdout",
     "output_type": "stream",
     "text": [
      "  % Total    % Received % Xferd  Average Speed   Time    Time     Time  Current\r\n",
      "                                 Dload  Upload   Total   Spent    Left  Speed\n",
      "100 1436k  100 1436k    0     0  4688k      0 --:--:-- --:--:-- --:--:-- 4678k\n",
      "  % Total    % Received % Xferd  Average Speed   Time    Time     Time  Current\n",
      "                                 Dload  Upload   Total   Spent    Left  Speed\n",
      "100  424k  100  424k    0     0  1544k      0 --:--:-- --:--:-- --:--:-- 1545k\n"
     ]
    }
   ],
   "source": [
    "# Download pretrained model weights from Hugging Face\n",
    "from huggingface_hub import hf_hub_download\n",
    "\n",
    "# DenseNet121\n",
    "hf_hub_download(\n",
    "    repo_id=REPO_ID,\n",
    "    repo_type=\"dataset\",\n",
    "    filename=\"densenet121-classification.pth\",\n",
    "    local_dir=\".\"\n",
    ")\n",
    "# EfficientNet\n",
    "hf_hub_download(\n",
    "    repo_id=REPO_ID,\n",
    "    repo_type=\"dataset\",\n",
    "    filename=\"efficientnet-classification.pth\",\n",
    "    local_dir=\".\"\n",
    ")\n",
    "# Swin Transformer\n",
    "hf_hub_download(\n",
    "    repo_id=REPO_ID,\n",
    "    repo_type=\"dataset\",\n",
    "    filename=\"swintransformer-classification.pth\",\n",
    "    local_dir=\".\"\n",
    ")\n",
    "print(\"Model weights downloaded.\")"
   ]
  },
  {
   "cell_type": "markdown",
   "id": "DkfLApQltnLE",
   "metadata": {
    "id": "DkfLApQltnLE"
   },
   "source": [
    "### Load patient splits\n",
    "\n",
    "To train and evaluate our model properly, we need to split our data into different groups:\n",
    "- **Training set:** Used to teach the model.\n",
    "- **Validation set:** Used to check how well the model is learning during training.\n",
    "- **Test set:** Used to see how well the model works on completely new data.\n",
    "\n",
    "In this step, we load lists of which images belong to each group. This helps us make sure that the model is tested on images it has never seen before, which is important for getting a fair measure of its performance."
   ]
  },
  {
   "cell_type": "code",
   "execution_count": null,
   "id": "eipGr43oiUPw",
   "metadata": {
    "colab": {
     "base_uri": "https://localhost:8080/"
    },
    "id": "eipGr43oiUPw",
    "outputId": "1700569d-06f6-4819-b562-efa063bd025e"
   },
   "outputs": [
    {
     "name": "stdout",
     "output_type": "stream",
     "text": [
      "Number of patients in train/val set: 86524\n",
      "Number of patients in test set: 25596\n"
     ]
    }
   ],
   "source": [
    "train_val_patients = pd.read_csv(f'{DATA_PATH}/train_val_list.txt', header=None, names=['patientId'])\n",
    "test_patients = pd.read_csv(f'{DATA_PATH}/test_list.txt', header=None, names=['patientId'])\n",
    "\n",
    "print(f\"Number of patients in train/val set: {len(train_val_patients)}\")\n",
    "print(f\"Number of patients in test set: {len(test_patients)}\")"
   ]
  },
  {
   "cell_type": "markdown",
   "id": "E5vsy6EFi4pj",
   "metadata": {
    "id": "E5vsy6EFi4pj"
   },
   "source": [
    "The `.txt` files contain lists of image names that belong to the training/validation or test sets. To use these splits, we need to match the image names in these files with the information in our main database (`metadata.csv`). This way, we know which images and labels go into each group for training and testing."
   ]
  },
  {
   "cell_type": "markdown",
   "id": "oPha5-43tr6X",
   "metadata": {
    "id": "oPha5-43tr6X"
   },
   "source": [
    "### Load dataframe metadata\n",
    "\n",
    "A **dataframe** is a table of data, like a spreadsheet, that we can easily work with in Python using the pandas library. Here, we load the metadata for all our images. This metadata tells us important information about each image, such as which diseases are present, the patient ID, and more. Loading this information helps us organize and prepare our data for training and testing our model."
   ]
  },
  {
   "cell_type": "code",
   "execution_count": null,
   "id": "Vffq_f-m6X8g",
   "metadata": {
    "colab": {
     "base_uri": "https://localhost:8080/",
     "height": 461
    },
    "id": "Vffq_f-m6X8g",
    "outputId": "f77a2392-6a98-4963-b883-37b70d851c2a"
   },
   "outputs": [
    {
     "data": {
      "text/html": [
       "<div>\n",
       "<style scoped>\n",
       "    .dataframe tbody tr th:only-of-type {\n",
       "        vertical-align: middle;\n",
       "    }\n",
       "\n",
       "    .dataframe tbody tr th {\n",
       "        vertical-align: top;\n",
       "    }\n",
       "\n",
       "    .dataframe thead th {\n",
       "        text-align: right;\n",
       "    }\n",
       "</style>\n",
       "<table border=\"1\" class=\"dataframe\">\n",
       "  <thead>\n",
       "    <tr style=\"text-align: right;\">\n",
       "      <th></th>\n",
       "      <th>Image Index</th>\n",
       "      <th>Finding Labels</th>\n",
       "      <th>Follow-up #</th>\n",
       "      <th>Patient ID</th>\n",
       "      <th>Patient Age</th>\n",
       "      <th>Patient Sex</th>\n",
       "      <th>View Position</th>\n",
       "      <th>OriginalImage[Width</th>\n",
       "      <th>Height]</th>\n",
       "      <th>OriginalImagePixelSpacing[x</th>\n",
       "      <th>y]</th>\n",
       "    </tr>\n",
       "  </thead>\n",
       "  <tbody>\n",
       "    <tr>\n",
       "      <th>0</th>\n",
       "      <td>00000001_000.png</td>\n",
       "      <td>Cardiomegaly</td>\n",
       "      <td>0</td>\n",
       "      <td>1</td>\n",
       "      <td>57</td>\n",
       "      <td>M</td>\n",
       "      <td>PA</td>\n",
       "      <td>2682</td>\n",
       "      <td>2749</td>\n",
       "      <td>0.143</td>\n",
       "      <td>0.143</td>\n",
       "    </tr>\n",
       "    <tr>\n",
       "      <th>1</th>\n",
       "      <td>00000001_001.png</td>\n",
       "      <td>Cardiomegaly|Emphysema</td>\n",
       "      <td>1</td>\n",
       "      <td>1</td>\n",
       "      <td>58</td>\n",
       "      <td>M</td>\n",
       "      <td>PA</td>\n",
       "      <td>2894</td>\n",
       "      <td>2729</td>\n",
       "      <td>0.143</td>\n",
       "      <td>0.143</td>\n",
       "    </tr>\n",
       "    <tr>\n",
       "      <th>2</th>\n",
       "      <td>00000001_002.png</td>\n",
       "      <td>Cardiomegaly|Effusion</td>\n",
       "      <td>2</td>\n",
       "      <td>1</td>\n",
       "      <td>58</td>\n",
       "      <td>M</td>\n",
       "      <td>PA</td>\n",
       "      <td>2500</td>\n",
       "      <td>2048</td>\n",
       "      <td>0.168</td>\n",
       "      <td>0.168</td>\n",
       "    </tr>\n",
       "    <tr>\n",
       "      <th>3</th>\n",
       "      <td>00000002_000.png</td>\n",
       "      <td>No Finding</td>\n",
       "      <td>0</td>\n",
       "      <td>2</td>\n",
       "      <td>80</td>\n",
       "      <td>M</td>\n",
       "      <td>PA</td>\n",
       "      <td>2500</td>\n",
       "      <td>2048</td>\n",
       "      <td>0.171</td>\n",
       "      <td>0.171</td>\n",
       "    </tr>\n",
       "    <tr>\n",
       "      <th>4</th>\n",
       "      <td>00000003_001.png</td>\n",
       "      <td>Hernia</td>\n",
       "      <td>0</td>\n",
       "      <td>3</td>\n",
       "      <td>74</td>\n",
       "      <td>F</td>\n",
       "      <td>PA</td>\n",
       "      <td>2500</td>\n",
       "      <td>2048</td>\n",
       "      <td>0.168</td>\n",
       "      <td>0.168</td>\n",
       "    </tr>\n",
       "    <tr>\n",
       "      <th>...</th>\n",
       "      <td>...</td>\n",
       "      <td>...</td>\n",
       "      <td>...</td>\n",
       "      <td>...</td>\n",
       "      <td>...</td>\n",
       "      <td>...</td>\n",
       "      <td>...</td>\n",
       "      <td>...</td>\n",
       "      <td>...</td>\n",
       "      <td>...</td>\n",
       "      <td>...</td>\n",
       "    </tr>\n",
       "    <tr>\n",
       "      <th>112115</th>\n",
       "      <td>00030801_001.png</td>\n",
       "      <td>Mass|Pneumonia</td>\n",
       "      <td>1</td>\n",
       "      <td>30801</td>\n",
       "      <td>38</td>\n",
       "      <td>M</td>\n",
       "      <td>PA</td>\n",
       "      <td>2048</td>\n",
       "      <td>2500</td>\n",
       "      <td>0.168</td>\n",
       "      <td>0.168</td>\n",
       "    </tr>\n",
       "    <tr>\n",
       "      <th>112116</th>\n",
       "      <td>00030802_000.png</td>\n",
       "      <td>No Finding</td>\n",
       "      <td>0</td>\n",
       "      <td>30802</td>\n",
       "      <td>28</td>\n",
       "      <td>M</td>\n",
       "      <td>PA</td>\n",
       "      <td>2048</td>\n",
       "      <td>2500</td>\n",
       "      <td>0.168</td>\n",
       "      <td>0.168</td>\n",
       "    </tr>\n",
       "    <tr>\n",
       "      <th>112117</th>\n",
       "      <td>00030803_000.png</td>\n",
       "      <td>No Finding</td>\n",
       "      <td>0</td>\n",
       "      <td>30803</td>\n",
       "      <td>42</td>\n",
       "      <td>F</td>\n",
       "      <td>PA</td>\n",
       "      <td>2048</td>\n",
       "      <td>2500</td>\n",
       "      <td>0.168</td>\n",
       "      <td>0.168</td>\n",
       "    </tr>\n",
       "    <tr>\n",
       "      <th>112118</th>\n",
       "      <td>00030804_000.png</td>\n",
       "      <td>No Finding</td>\n",
       "      <td>0</td>\n",
       "      <td>30804</td>\n",
       "      <td>29</td>\n",
       "      <td>F</td>\n",
       "      <td>PA</td>\n",
       "      <td>2048</td>\n",
       "      <td>2500</td>\n",
       "      <td>0.168</td>\n",
       "      <td>0.168</td>\n",
       "    </tr>\n",
       "    <tr>\n",
       "      <th>112119</th>\n",
       "      <td>00030805_000.png</td>\n",
       "      <td>No Finding</td>\n",
       "      <td>0</td>\n",
       "      <td>30805</td>\n",
       "      <td>26</td>\n",
       "      <td>M</td>\n",
       "      <td>PA</td>\n",
       "      <td>2048</td>\n",
       "      <td>2500</td>\n",
       "      <td>0.171</td>\n",
       "      <td>0.171</td>\n",
       "    </tr>\n",
       "  </tbody>\n",
       "</table>\n",
       "<p>112120 rows × 11 columns</p>\n",
       "</div>"
      ],
      "text/plain": [
       "             Image Index          Finding Labels  Follow-up #  Patient ID  \\\n",
       "0       00000001_000.png            Cardiomegaly            0           1   \n",
       "1       00000001_001.png  Cardiomegaly|Emphysema            1           1   \n",
       "2       00000001_002.png   Cardiomegaly|Effusion            2           1   \n",
       "3       00000002_000.png              No Finding            0           2   \n",
       "4       00000003_001.png                  Hernia            0           3   \n",
       "...                  ...                     ...          ...         ...   \n",
       "112115  00030801_001.png          Mass|Pneumonia            1       30801   \n",
       "112116  00030802_000.png              No Finding            0       30802   \n",
       "112117  00030803_000.png              No Finding            0       30803   \n",
       "112118  00030804_000.png              No Finding            0       30804   \n",
       "112119  00030805_000.png              No Finding            0       30805   \n",
       "\n",
       "        Patient Age Patient Sex View Position  OriginalImage[Width  Height]  \\\n",
       "0                57           M            PA                 2682     2749   \n",
       "1                58           M            PA                 2894     2729   \n",
       "2                58           M            PA                 2500     2048   \n",
       "3                80           M            PA                 2500     2048   \n",
       "4                74           F            PA                 2500     2048   \n",
       "...             ...         ...           ...                  ...      ...   \n",
       "112115           38           M            PA                 2048     2500   \n",
       "112116           28           M            PA                 2048     2500   \n",
       "112117           42           F            PA                 2048     2500   \n",
       "112118           29           F            PA                 2048     2500   \n",
       "112119           26           M            PA                 2048     2500   \n",
       "\n",
       "        OriginalImagePixelSpacing[x     y]  \n",
       "0                             0.143  0.143  \n",
       "1                             0.143  0.143  \n",
       "2                             0.168  0.168  \n",
       "3                             0.171  0.171  \n",
       "4                             0.168  0.168  \n",
       "...                             ...    ...  \n",
       "112115                        0.168  0.168  \n",
       "112116                        0.168  0.168  \n",
       "112117                        0.168  0.168  \n",
       "112118                        0.168  0.168  \n",
       "112119                        0.171  0.171  \n",
       "\n",
       "[112120 rows x 11 columns]"
      ]
     },
     "execution_count": 5,
     "metadata": {},
     "output_type": "execute_result"
    }
   ],
   "source": [
    "# Load and observe available data\n",
    "metadata_df = pd.read_csv(f'{DATA_PATH}/metadata.csv')\n",
    "metadata_df#.head() # Print the 5 fist rows of the dataframe"
   ]
  },
  {
   "cell_type": "markdown",
   "id": "DP7dICXbtzei",
   "metadata": {
    "id": "DP7dICXbtzei"
   },
   "source": [
    "Now we need to make sure that the information in our dataframe matches the images we actually downloaded. This step filters out any entries in the metadata that do not have a corresponding image file, so we only work with images that are available on our computer."
   ]
  },
  {
   "cell_type": "code",
   "execution_count": null,
   "id": "ITpC_G566lP_",
   "metadata": {
    "colab": {
     "base_uri": "https://localhost:8080/"
    },
    "id": "ITpC_G566lP_",
    "outputId": "6f84822a-dd42-410a-9108-6f31e5fe2d56"
   },
   "outputs": [
    {
     "data": {
      "text/plain": [
       "(92120, 11)"
      ]
     },
     "execution_count": 7,
     "metadata": {},
     "output_type": "execute_result"
    }
   ],
   "source": [
    "imgs = glob(f'{DATA_PATH}/images/*')\n",
    "imgs_basename = [os.path.basename(i) for i in imgs]\n",
    "\n",
    "metadata_df = metadata_df.loc[metadata_df['Image Index'].isin(imgs_basename)]\n",
    "metadata_df.shape"
   ]
  },
  {
   "cell_type": "markdown",
   "id": "bJ6kj9ArLWPg",
   "metadata": {
    "id": "bJ6kj9ArLWPg"
   },
   "source": [
    "### Handle targets\n",
    "\n",
    "In machine learning, a **target** is what we want the model to predict. For this project, the target is the disease label for each image. In this step, we prepare the target labels so that our model can learn to predict them. This may involve simplifying the labels or grouping them in a way that makes the problem easier to solve."
   ]
  },
  {
   "cell_type": "markdown",
   "id": "tS7yltl-MNbv",
   "metadata": {
    "id": "tS7yltl-MNbv"
   },
   "source": [
    "In the next step, we look at how many times each disease label appears in our data. Some diseases are very rare, which can make it hard for the model to learn about them. To keep things simple and make sure our model has enough examples to learn from, we will remove labels that appear less than 1,500 times."
   ]
  },
  {
   "cell_type": "code",
   "execution_count": null,
   "id": "oxdVDqsIMcbC",
   "metadata": {
    "colab": {
     "base_uri": "https://localhost:8080/"
    },
    "id": "oxdVDqsIMcbC",
    "outputId": "f8e538ba-294e-4c9a-bf76-ec03e41327b4"
   },
   "outputs": [
    {
     "data": {
      "text/plain": [
       "Finding Labels\n",
       "No Finding                                                        49553\n",
       "Infiltration                                                       8099\n",
       "Atelectasis                                                        3491\n",
       "Effusion                                                           3139\n",
       "Nodule                                                             2259\n",
       "                                                                  ...  \n",
       "Atelectasis|Consolidation|Edema|Effusion|Pneumonia                    1\n",
       "Cardiomegaly|Effusion|Fibrosis|Mass                                   1\n",
       "Cardiomegaly|Edema|Effusion|Fibrosis|Hernia                           1\n",
       "Consolidation|Effusion|Emphysema|Infiltration                         1\n",
       "Atelectasis|Consolidation|Mass|Pleural_Thickening|Pneumothorax        1\n",
       "Name: count, Length: 777, dtype: int64"
      ]
     },
     "execution_count": 8,
     "metadata": {},
     "output_type": "execute_result"
    }
   ],
   "source": [
    "label_counts = metadata_df['Finding Labels'].value_counts()\n",
    "label_counts"
   ]
  },
  {
   "cell_type": "markdown",
   "id": "tqIz4i7rt-LV",
   "metadata": {
    "id": "tqIz4i7rt-LV"
   },
   "source": [
    "We remove rare labels (diseases that appear in fewer than 1,500 images) so that our model has enough examples to learn from. This helps the model focus on the most common diseases and improves its ability to make accurate predictions."
   ]
  },
  {
   "cell_type": "markdown",
   "id": "YK7xNjgKb85a",
   "metadata": {
    "id": "YK7xNjgKb85a"
   },
   "source": [
    "After filtering out rare labels, we are left with the most common disease categories. The table below shows how many images belong to each label. This helps us understand the balance of our dataset and which diseases our model will learn to recognize."
   ]
  },
  {
   "cell_type": "markdown",
   "id": "eBW_rxY2uOhB",
   "metadata": {
    "id": "eBW_rxY2uOhB"
   },
   "source": [
    "First, we look at how many images there are for each disease label. This helps us see if some diseases are much more common than others, which can affect how well our model learns."
   ]
  },
  {
   "cell_type": "code",
   "execution_count": null,
   "id": "22DM5KLAlaXb",
   "metadata": {
    "id": "22DM5KLAlaXb"
   },
   "outputs": [],
   "source": [
    "label_counts = metadata_df['Finding Labels'].value_counts()\n",
    "rare_labels = label_counts[label_counts < 1500].index"
   ]
  },
  {
   "cell_type": "markdown",
   "id": "fo_nf5u0uaUy",
   "metadata": {
    "id": "fo_nf5u0uaUy"
   },
   "source": [
    "Now we update our data table (DataFrame) to remove any images with rare disease labels. This makes sure our model only sees images with the most common labels, which helps it learn better."
   ]
  },
  {
   "cell_type": "code",
   "execution_count": null,
   "id": "NWjI8zgiubiV",
   "metadata": {
    "colab": {
     "base_uri": "https://localhost:8080/"
    },
    "id": "NWjI8zgiubiV",
    "outputId": "6c3dfd14-cef8-4958-8c1c-d848807a0b7b"
   },
   "outputs": [
    {
     "name": "stdout",
     "output_type": "stream",
     "text": [
      "Original shape: (92120, 11)\n",
      "Filtered shape: (70117, 11)\n"
     ]
    }
   ],
   "source": [
    "metadata_df_filtered = metadata_df[~metadata_df['Finding Labels'].isin(rare_labels)].copy()\n",
    "\n",
    "print(f\"Original shape: {metadata_df.shape}\")\n",
    "print(f\"Filtered shape: {metadata_df_filtered.shape}\")"
   ]
  },
  {
   "cell_type": "code",
   "execution_count": null,
   "id": "hw2tGIC7loOi",
   "metadata": {
    "colab": {
     "base_uri": "https://localhost:8080/"
    },
    "id": "hw2tGIC7loOi",
    "outputId": "fb0effc4-460b-45ff-a212-0f73ba7e0a51"
   },
   "outputs": [
    {
     "data": {
      "text/plain": [
       "Finding Labels\n",
       "No Finding      49553\n",
       "Infiltration     8099\n",
       "Atelectasis      3491\n",
       "Effusion         3139\n",
       "Nodule           2259\n",
       "Pneumothorax     1848\n",
       "Mass             1728\n",
       "Name: count, dtype: int64"
      ]
     },
     "execution_count": 11,
     "metadata": {},
     "output_type": "execute_result"
    }
   ],
   "source": [
    "metadata_df_filtered['Finding Labels'].value_counts()"
   ]
  },
  {
   "cell_type": "markdown",
   "id": "jz9itQUZj4C8",
   "metadata": {
    "id": "jz9itQUZj4C8"
   },
   "source": [
    "To make our task easier, we will turn the problem into a **binary classification** problem. This means the model will learn to answer a simple question: Is this X-ray healthy or does it show signs of disease?\n",
    "\n",
    "- **Class 0 (Negative):** Images labeled as 'No Finding' (healthy)\n",
    "- **Class 1 (Positive):** Images with any disease label (pathology present)\n",
    "\n",
    "This approach is common in deep learning when starting out, because it is easier for the model to learn to distinguish between just two categories. The category we want the model to predict is called the **target class**. Here, you can also try focusing on a specific disease (like 'Effusion') or experiment with more classes to see how the model behaves."
   ]
  },
  {
   "cell_type": "code",
   "execution_count": null,
   "id": "zNFARnXT0TOs",
   "metadata": {
    "colab": {
     "base_uri": "https://localhost:8080/"
    },
    "id": "zNFARnXT0TOs",
    "outputId": "886ae7bb-36a4-4bf3-d3bc-0429b5ebcc2a"
   },
   "outputs": [
    {
     "data": {
      "text/plain": [
       "Finding Labels\n",
       "No Finding    49553\n",
       "Effusion       3139\n",
       "Name: count, dtype: int64"
      ]
     },
     "execution_count": 12,
     "metadata": {},
     "output_type": "execute_result"
    }
   ],
   "source": [
    "keep = {\n",
    "    'No Finding', 'Effusion',\n",
    "}\n",
    "\n",
    "# split each cell into a list, then keep rows where at least one element is in `keep`\n",
    "df_filtered = metadata_df_filtered[\n",
    "    metadata_df_filtered['Finding Labels']\n",
    "      .str.split('|')                         # or .str.split(',') if comma‑separated\n",
    "      .apply(lambda labels: any(lbl in keep for lbl in labels))\n",
    "].copy()\n",
    "df_filtered['Finding Labels'].value_counts()"
   ]
  },
  {
   "cell_type": "markdown",
   "id": "rFWbq74kvBvB",
   "metadata": {
    "id": "rFWbq74kvBvB"
   },
   "source": [
    "Now we create a new column called `Binary Label` in our data. This column will have a value of 0 for healthy images and 1 for images with any disease. This process is called **label encoding** and is very common in deep learning, because models work best with numbers instead of text."
   ]
  },
  {
   "cell_type": "code",
   "execution_count": null,
   "id": "9Bi2PeFM03hr",
   "metadata": {
    "colab": {
     "base_uri": "https://localhost:8080/"
    },
    "id": "9Bi2PeFM03hr",
    "outputId": "756862f8-925e-4f56-d6ae-8f9dbc8fb877"
   },
   "outputs": [
    {
     "data": {
      "text/plain": [
       "Binary Label\n",
       "0    49553\n",
       "1     3139\n",
       "Name: count, dtype: int64"
      ]
     },
     "execution_count": 13,
     "metadata": {},
     "output_type": "execute_result"
    }
   ],
   "source": [
    "df_filtered['Binary Label'] = (df_filtered['Finding Labels'] != 'No Finding').astype(int)\n",
    "df_filtered['Binary Label'].value_counts()"
   ]
  },
  {
   "cell_type": "markdown",
   "id": "MSbPWf5hvEgO",
   "metadata": {
    "id": "MSbPWf5hvEgO"
   },
   "source": [
    "We can further clean our dataset by selecting only one **view acquisition** type for our classifier. 'View acquisition' refers to the way the X-ray image was taken (for example, from the front or the side). Using only one type (like 'PA' for posteroanterior) helps the model learn more consistently, because all images will look similar in terms of orientation."
   ]
  },
  {
   "cell_type": "code",
   "execution_count": null,
   "id": "28BaE1wQ0l3I",
   "metadata": {
    "colab": {
     "base_uri": "https://localhost:8080/"
    },
    "id": "28BaE1wQ0l3I",
    "outputId": "4e4f450d-c322-40c5-fb1e-f39bfeab55f1"
   },
   "outputs": [
    {
     "data": {
      "text/plain": [
       "View Position\n",
       "PA    34135\n",
       "Name: count, dtype: int64"
      ]
     },
     "execution_count": 14,
     "metadata": {},
     "output_type": "execute_result"
    }
   ],
   "source": [
    "df_filtered = df_filtered[df_filtered[\"View Position\"] == 'PA']\n",
    "df_filtered['View Position'].value_counts()"
   ]
  },
  {
   "cell_type": "markdown",
   "id": "5Bssc5DHnWkm",
   "metadata": {
    "id": "5Bssc5DHnWkm"
   },
   "source": [
    "Now we use the lists of patient IDs to split our data into a **training set** (used to teach the model) and a **test set** (used to check how well the model works on new, unseen data). This is called a **train-test split** and is a key step in building reliable machine learning models."
   ]
  },
  {
   "cell_type": "code",
   "execution_count": null,
   "id": "BuEJ-KhEnZHX",
   "metadata": {
    "colab": {
     "base_uri": "https://localhost:8080/"
    },
    "id": "BuEJ-KhEnZHX",
    "outputId": "e993e726-36be-4bc1-93b1-ad94f72616d4"
   },
   "outputs": [
    {
     "name": "stdout",
     "output_type": "stream",
     "text": [
      "Train val shape: (29674, 12)\n",
      "Test set shape: (4461, 12)\n"
     ]
    }
   ],
   "source": [
    "# Split df_filtered based on patient IDs from the loaded lists\n",
    "train_val_df = df_filtered[df_filtered['Image Index'].isin(train_val_patients['patientId'])].copy()\n",
    "test_df = df_filtered[df_filtered['Image Index'].isin(test_patients['patientId'])].copy()\n",
    "\n",
    "print(f\"Train val shape: {train_val_df.shape}\")\n",
    "print(f\"Test set shape: {test_df.shape}\")"
   ]
  },
  {
   "cell_type": "markdown",
   "id": "F9Vt4KBlxGOW",
   "metadata": {
    "id": "F9Vt4KBlxGOW"
   },
   "source": [
    "### Deep Learning Data Terminology\n",
    "\n",
    "- **Batch:** A batch is a small group of samples processed together by the model before updating its parameters. Using batches makes training faster and more stable.\n",
    "- **Epoch:** One epoch means the model has seen all the training data once. Training usually takes many epochs.\n",
    "- **DataLoader:** In PyTorch, a DataLoader helps us load data in batches, shuffle it, and use multiple CPU cores to speed up the process. This is essential for efficient deep learning training."
   ]
  },
  {
   "cell_type": "code",
   "execution_count": null,
   "id": "77H7Yu-4xHmO",
   "metadata": {
    "colab": {
     "base_uri": "https://localhost:8080/"
    },
    "id": "77H7Yu-4xHmO",
    "outputId": "9ecabd77-b160-4031-f529-789441f3c574"
   },
   "outputs": [
    {
     "name": "stdout",
     "output_type": "stream",
     "text": [
      "Subset size: (4284, 12)\n",
      "Binary Label\n",
      "0    3000\n",
      "1    1284\n",
      "Name: count, dtype: int64\n",
      "Train: (3084, 12) Validation: (343, 12)\n"
     ]
    }
   ],
   "source": [
    "df = train_val_df.copy()\n",
    "pos = df[df['Binary Label'] == 1]\n",
    "neg = df[df['Binary Label'] == 0]\n",
    "\n",
    "# # sample up to x each\n",
    "n_samples = 3000\n",
    "pos = pos.sample(n=min(len(pos), n_samples), random_state=42)\n",
    "neg = neg.sample(n=min(len(neg), n_samples), random_state=42)\n",
    "\n",
    "subset = pd.concat([pos, neg]).reset_index(drop=True)\n",
    "print(\"Subset size:\", subset.shape)\n",
    "print(subset['Binary Label'].value_counts())\n",
    "\n",
    "# %%\n",
    "train_validation_df, test_df = train_test_split(\n",
    "    subset,\n",
    "    test_size=0.2,\n",
    "    stratify=subset['Binary Label'],\n",
    "    random_state=42\n",
    ")\n",
    "train_df, val_df = train_test_split(\n",
    "    train_validation_df,\n",
    "    test_size=0.1,\n",
    "    stratify=train_validation_df['Binary Label'],\n",
    "    random_state=42\n",
    ")\n",
    "print(\"Train:\", train_df.shape, \"Validation:\", val_df.shape)"
   ]
  },
  {
   "cell_type": "markdown",
   "id": "BCJnQBP1wE03",
   "metadata": {
    "id": "BCJnQBP1wE03"
   },
   "source": [
    "### Download the pretrained model"
   ]
  },
  {
   "cell_type": "markdown",
   "id": "f6ius3AZvwsR",
   "metadata": {
    "id": "f6ius3AZvwsR"
   },
   "source": [
    "\n",
    "This week, we delve into the power of deep models like CNNs, leveraging the PyTorch library as our framework. PyTorch provides the flexibility and tools necessary to explore and implement these complex architectures for challenging tasks."
   ]
  },
  {
   "cell_type": "markdown",
   "id": "fUgU5u8OwvAF",
   "metadata": {
    "id": "fUgU5u8OwvAF"
   },
   "source": [
    "### Datasets in PyTorch\n",
    "Next we define our custom `ChestXrayDataset` using torch `Dataset` from `torch.utils.data`"
   ]
  },
  {
   "cell_type": "code",
   "execution_count": null,
   "id": "jujnAUaMxBkF",
   "metadata": {
    "id": "jujnAUaMxBkF"
   },
   "outputs": [],
   "source": [
    "class ChestXrayDataset(Dataset):\n",
    "    def __init__(self, df, img_dir, transform=None):\n",
    "        self.df = df\n",
    "        self.img_dir = img_dir\n",
    "        self.transform = transform\n",
    "\n",
    "    def __len__(self):\n",
    "        return len(self.df)\n",
    "\n",
    "    def __getitem__(self, idx):\n",
    "        row = self.df.iloc[idx]\n",
    "        img_path = os.path.join(self.img_dir, row['Image Index'])\n",
    "        image = Image.open(img_path).convert('RGB')\n",
    "        if self.transform:\n",
    "            image = self.transform(image)\n",
    "        label = torch.tensor(row['Binary Label'], dtype=torch.float32)\n",
    "        return image, label"
   ]
  },
  {
   "cell_type": "markdown",
   "id": "OKhmhPbJw4L0",
   "metadata": {
    "id": "OKhmhPbJw4L0"
   },
   "source": [
    "**Transforms** are changes we make to images as we load them. This can include resizing, flipping, rotating, or normalizing the images. When we do these changes randomly during training, it is called **data augmentation**. Data augmentation helps the model learn to recognize patterns in different situations, making it more robust and less likely to memorize the training data (a problem called overfitting)."
   ]
  },
  {
   "cell_type": "code",
   "execution_count": null,
   "id": "wG5zmY0Ow-8T",
   "metadata": {
    "id": "wG5zmY0Ow-8T"
   },
   "outputs": [],
   "source": [
    "mean = [0.485, 0.456, 0.406]\n",
    "std  = [0.229, 0.224, 0.225]\n",
    "\n",
    "image_size_= 224\n",
    "\n",
    "train_transforms = transforms.Compose([\n",
    "    transforms.Resize((image_size_,image_size_)),\n",
    "    transforms.RandomHorizontalFlip(),\n",
    "    transforms.RandomRotation(10),\n",
    "    transforms.ToTensor(),\n",
    "    transforms.Normalize(mean, std),\n",
    "])\n"
   ]
  },
  {
   "cell_type": "markdown",
   "id": "xM4XoBfDzQub",
   "metadata": {
    "id": "xM4XoBfDzQub"
   },
   "source": [
    "Now the `val_transforms`"
   ]
  },
  {
   "cell_type": "code",
   "execution_count": null,
   "id": "n0lqTxmPzUmL",
   "metadata": {
    "id": "n0lqTxmPzUmL"
   },
   "outputs": [],
   "source": [
    "val_transforms   = transforms.Compose([\n",
    "    transforms.Resize((image_size_,image_size_)),\n",
    "    transforms.ToTensor(),\n",
    "    transforms.Normalize(mean, std),\n",
    "])"
   ]
  },
  {
   "cell_type": "markdown",
   "id": "4xyIR_3MyqDg",
   "metadata": {
    "id": "4xyIR_3MyqDg"
   },
   "source": [
    "### Dataloaders\n",
    "\n",
    "A **DataLoader** is a tool in PyTorch that helps us load data in small groups called **mini-batches**. Instead of giving the model one image at a time, we give it a batch of images. This makes training faster and helps the model learn more stable patterns. Dataloaders also make it easy to shuffle the data and use multiple CPU cores for loading."
   ]
  },
  {
   "cell_type": "code",
   "execution_count": null,
   "id": "e_dne34tyrOs",
   "metadata": {
    "id": "e_dne34tyrOs"
   },
   "outputs": [],
   "source": [
    "img_dir  = f'{DATA_PATH}/images'\n",
    "\n",
    "train_ds = ChestXrayDataset(train_df, img_dir, transform=train_transforms)\n",
    "train_loader = DataLoader(train_ds, batch_size=64, shuffle=True, num_workers=90, pin_memory=True)"
   ]
  },
  {
   "cell_type": "markdown",
   "id": "eaZ_U7XzzkGP",
   "metadata": {
    "id": "eaZ_U7XzzkGP"
   },
   "source": [
    "We pass the `Dataset` as an argument to `DataLoader`. This wraps an iterable over our dataset, and supports automatic batching, sampling, shuffling and multiprocess data loading. Here we define a batch size of 32, *i.e.* each element in the dataloader iterable will return a batch of 32 features and labels."
   ]
  },
  {
   "cell_type": "code",
   "execution_count": null,
   "id": "nAy1Y-rlzmEp",
   "metadata": {
    "colab": {
     "base_uri": "https://localhost:8080/"
    },
    "id": "nAy1Y-rlzmEp",
    "outputId": "012503f9-e9ac-4ac7-fa5d-8fe83a2f0944"
   },
   "outputs": [
    {
     "name": "stdout",
     "output_type": "stream",
     "text": [
      "Shape of X [N, C, H, W]: torch.Size([64, 3, 224, 224])\n",
      "Shape of y: torch.Size([64]) torch.float32\n"
     ]
    }
   ],
   "source": [
    "for X, y in train_loader:\n",
    "    print(f\"Shape of X [N, C, H, W]: {X.shape}\")\n",
    "    print(f\"Shape of y: {y.shape} {y.dtype}\")\n",
    "    break"
   ]
  },
  {
   "cell_type": "code",
   "execution_count": null,
   "id": "adTYoq-gz4Yi",
   "metadata": {
    "colab": {
     "base_uri": "https://localhost:8080/",
     "height": 524
    },
    "id": "adTYoq-gz4Yi",
    "outputId": "1aa49c87-9ad8-4487-d9d3-1f5d0bf4b7e2"
   },
   "outputs": [
    {
     "data": {
      "image/png": "[encoded data removed]",
      "text/plain": [
       "<Figure size 1000x500 with 2 Axes>"
      ]
     },
     "metadata": {},
     "output_type": "display_data"
    }
   ],
   "source": [
    "IMAGENET_MEAN = np.array([0.485, 0.456, 0.406], dtype=np.float32)\n",
    "IMAGENET_STD  = np.array([0.229, 0.224, 0.225], dtype=np.float32)"
   ]
  },
  {
   "cell_type": "code",
   "execution_count": null,
   "id": "ZR_-CnJYy-Kv",
   "metadata": {
    "id": "ZR_-CnJYy-Kv"
   },
   "outputs": [],
   "source": [
    "val_ds   = ChestXrayDataset(val_df,   img_dir, transform=val_transforms)\n",
    "val_loader   = DataLoader(val_ds,   batch_size=32, num_workers=32, pin_memory=True)"
   ]
  },
  {
   "cell_type": "markdown",
   "id": "WO8Sp67b0h_n",
   "metadata": {
    "id": "WO8Sp67b0h_n"
   },
   "source": [
    "## Loading pretrained models with PyTorch\n",
    "\n",
    "A **pretrained model** is a model that has already been trained on a large dataset (like ImageNet) and has learned useful features. The structure of the model is called its **architecture** (for example, DenseNet, ResNet, EfficientNet). Using a pretrained model and adapting it to our own data is called **transfer learning**. This is very helpful because it allows us to get good results even with smaller datasets and less training time.\n",
    "In 'torchvision.models' we can find many popular pretrained models and architectures."
   ]
  },
  {
   "cell_type": "code",
   "execution_count": null,
   "id": "SPkgRRks0j5p",
   "metadata": {
    "colab": {
     "base_uri": "https://localhost:8080/"
    },
    "id": "SPkgRRks0j5p",
    "outputId": "a5aa38dc-5277-4aab-ca78-03e849b84336"
   },
   "outputs": [
    {
     "data": {
      "text/plain": [
       "['alexnet',\n",
       " 'convnext_base',\n",
       " 'convnext_large',\n",
       " 'convnext_small',\n",
       " 'convnext_tiny',\n",
       " 'deeplabv3_mobilenet_v3_large',\n",
       " 'deeplabv3_resnet101',\n",
       " 'deeplabv3_resnet50',\n",
       " 'densenet121',\n",
       " 'densenet161',\n",
       " 'densenet169',\n",
       " 'densenet201',\n",
       " 'efficientnet_b0',\n",
       " 'efficientnet_b1',\n",
       " 'efficientnet_b2',\n",
       " 'efficientnet_b3',\n",
       " 'efficientnet_b4',\n",
       " 'efficientnet_b5',\n",
       " 'efficientnet_b6',\n",
       " 'efficientnet_b7',\n",
       " 'efficientnet_v2_l',\n",
       " 'efficientnet_v2_m',\n",
       " 'efficientnet_v2_s',\n",
       " 'fasterrcnn_mobilenet_v3_large_320_fpn',\n",
       " 'fasterrcnn_mobilenet_v3_large_fpn',\n",
       " 'fasterrcnn_resnet50_fpn',\n",
       " 'fasterrcnn_resnet50_fpn_v2',\n",
       " 'fcn_resnet101',\n",
       " 'fcn_resnet50',\n",
       " 'fcos_resnet50_fpn',\n",
       " 'googlenet',\n",
       " 'inception_v3',\n",
       " 'keypointrcnn_resnet50_fpn',\n",
       " 'lraspp_mobilenet_v3_large',\n",
       " 'maskrcnn_resnet50_fpn',\n",
       " 'maskrcnn_resnet50_fpn_v2',\n",
       " 'maxvit_t',\n",
       " 'mc3_18',\n",
       " 'mnasnet0_5',\n",
       " 'mnasnet0_75',\n",
       " 'mnasnet1_0',\n",
       " 'mnasnet1_3',\n",
       " 'mobilenet_v2',\n",
       " 'mobilenet_v3_large',\n",
       " 'mobilenet_v3_small',\n",
       " 'mvit_v1_b',\n",
       " 'mvit_v2_s',\n",
       " 'quantized_googlenet',\n",
       " 'quantized_inception_v3',\n",
       " 'quantized_mobilenet_v2',\n",
       " 'quantized_mobilenet_v3_large',\n",
       " 'quantized_resnet18',\n",
       " 'quantized_resnet50',\n",
       " 'quantized_resnext101_32x8d',\n",
       " 'quantized_resnext101_64x4d',\n",
       " 'quantized_shufflenet_v2_x0_5',\n",
       " 'quantized_shufflenet_v2_x1_0',\n",
       " 'quantized_shufflenet_v2_x1_5',\n",
       " 'quantized_shufflenet_v2_x2_0',\n",
       " 'r2plus1d_18',\n",
       " 'r3d_18',\n",
       " 'raft_large',\n",
       " 'raft_small',\n",
       " 'regnet_x_16gf',\n",
       " 'regnet_x_1_6gf',\n",
       " 'regnet_x_32gf',\n",
       " 'regnet_x_3_2gf',\n",
       " 'regnet_x_400mf',\n",
       " 'regnet_x_800mf',\n",
       " 'regnet_x_8gf',\n",
       " 'regnet_y_128gf',\n",
       " 'regnet_y_16gf',\n",
       " 'regnet_y_1_6gf',\n",
       " 'regnet_y_32gf',\n",
       " 'regnet_y_3_2gf',\n",
       " 'regnet_y_400mf',\n",
       " 'regnet_y_800mf',\n",
       " 'regnet_y_8gf',\n",
       " 'resnet101',\n",
       " 'resnet152',\n",
       " 'resnet18',\n",
       " 'resnet34',\n",
       " 'resnet50',\n",
       " 'resnext101_32x8d',\n",
       " 'resnext101_64x4d',\n",
       " 'resnext50_32x4d',\n",
       " 'retinanet_resnet50_fpn',\n",
       " 'retinanet_resnet50_fpn_v2',\n",
       " 's3d',\n",
       " 'shufflenet_v2_x0_5',\n",
       " 'shufflenet_v2_x1_0',\n",
       " 'shufflenet_v2_x1_5',\n",
       " 'shufflenet_v2_x2_0',\n",
       " 'squeezenet1_0',\n",
       " 'squeezenet1_1',\n",
       " 'ssd300_vgg16',\n",
       " 'ssdlite320_mobilenet_v3_large',\n",
       " 'swin3d_b',\n",
       " 'swin3d_s',\n",
       " 'swin3d_t',\n",
       " 'swin_b',\n",
       " 'swin_s',\n",
       " 'swin_t',\n",
       " 'swin_v2_b',\n",
       " 'swin_v2_s',\n",
       " 'swin_v2_t',\n",
       " 'vgg11',\n",
       " 'vgg11_bn',\n",
       " 'vgg13',\n",
       " 'vgg13_bn',\n",
       " 'vgg16',\n",
       " 'vgg16_bn',\n",
       " 'vgg19',\n",
       " 'vgg19_bn',\n",
       " 'vit_b_16',\n",
       " 'vit_b_32',\n",
       " 'vit_h_14',\n",
       " 'vit_l_16',\n",
       " 'vit_l_32',\n",
       " 'wide_resnet101_2',\n",
       " 'wide_resnet50_2']"
      ]
     },
     "execution_count": 26,
     "metadata": {},
     "output_type": "execute_result"
    }
   ],
   "source": [
    "torchvision.models.list_models()"
   ]
  },
  {
   "cell_type": "code",
   "execution_count": null,
   "id": "UzO-t4Fx0nXV",
   "metadata": {
    "colab": {
     "base_uri": "https://localhost:8080/"
    },
    "id": "UzO-t4Fx0nXV",
    "outputId": "08cfcefe-174a-4418-e087-7ff6543e7dc0"
   },
   "outputs": [
    {
     "name": "stdout",
     "output_type": "stream",
     "text": [
      "DenseNet(\n",
      "  (features): Sequential(\n",
      "    (conv0): Conv2d(3, 64, kernel_size=(7, 7), stride=(2, 2), padding=(3, 3), bias=False)\n",
      "    (norm0): BatchNorm2d(64, eps=1e-05, momentum=0.1, affine=True, track_running_stats=True)\n",
      "    (relu0): ReLU(inplace=True)\n",
      "    (pool0): MaxPool2d(kernel_size=3, stride=2, padding=1, dilation=1, ceil_mode=False)\n",
      "    (denseblock1): _DenseBlock(\n",
      "      (denselayer1): _DenseLayer(\n",
      "        (norm1): BatchNorm2d(64, eps=1e-05, momentum=0.1, affine=True, track_running_stats=True)\n",
      "        (relu1): ReLU(inplace=True)\n",
      "        (conv1): Conv2d(64, 128, kernel_size=(1, 1), stride=(1, 1), bias=False)\n",
      "        (norm2): BatchNorm2d(128, eps=1e-05, momentum=0.1, affine=True, track_running_stats=True)\n",
      "        (relu2): ReLU(inplace=True)\n",
      "        (conv2): Conv2d(128, 32, kernel_size=(3, 3), stride=(1, 1), padding=(1, 1), bias=False)\n",
      "      )\n",
      "      (denselayer2): _DenseLayer(\n",
      "        (norm1): BatchNorm2d(96, eps=1e-05, momentum=0.1, affine=True, track_running_stats=True)\n",
      "        (relu1): ReLU(inplace=True)\n",
      "        (conv1): Conv2d(96, 128, kernel_size=(1, 1), stride=(1, 1), bias=False)\n",
      "        (norm2): BatchNorm2d(128, eps=1e-05, momentum=0.1, affine=True, track_running_stats=True)\n",
      "        (relu2): ReLU(inplace=True)\n",
      "        (conv2): Conv2d(128, 32, kernel_size=(3, 3), stride=(1, 1), padding=(1, 1), bias=False)\n",
      "      )\n",
      "      (denselayer3): _DenseLayer(\n",
      "        (norm1): BatchNorm2d(128, eps=1e-05, momentum=0.1, affine=True, track_running_stats=True)\n",
      "        (relu1): ReLU(inplace=True)\n",
      "        (conv1): Conv2d(128, 128, kernel_size=(1, 1), stride=(1, 1), bias=False)\n",
      "        (norm2): BatchNorm2d(128, eps=1e-05, momentum=0.1, affine=True, track_running_stats=True)\n",
      "        (relu2): ReLU(inplace=True)\n",
      "        (conv2): Conv2d(128, 32, kernel_size=(3, 3), stride=(1, 1), padding=(1, 1), bias=False)\n",
      "      )\n",
      "      (denselayer4): _DenseLayer(\n",
      "        (norm1): BatchNorm2d(160, eps=1e-05, momentum=0.1, affine=True, track_running_stats=True)\n",
      "        (relu1): ReLU(inplace=True)\n",
      "        (conv1): Conv2d(160, 128, kernel_size=(1, 1), stride=(1, 1), bias=False)\n",
      "        (norm2): BatchNorm2d(128, eps=1e-05, momentum=0.1, affine=True, track_running_stats=True)\n",
      "        (relu2): ReLU(inplace=True)\n",
      "        (conv2): Conv2d(128, 32, kernel_size=(3, 3), stride=(1, 1), padding=(1, 1), bias=False)\n",
      "      )\n",
      "      (denselayer5): _DenseLayer(\n",
      "        (norm1): BatchNorm2d(192, eps=1e-05, momentum=0.1, affine=True, track_running_stats=True)\n",
      "        (relu1): ReLU(inplace=True)\n",
      "        (conv1): Conv2d(192, 128, kernel_size=(1, 1), stride=(1, 1), bias=False)\n",
      "        (norm2): BatchNorm2d(128, eps=1e-05, momentum=0.1, affine=True, track_running_stats=True)\n",
      "        (relu2): ReLU(inplace=True)\n",
      "        (conv2): Conv2d(128, 32, kernel_size=(3, 3), stride=(1, 1), padding=(1, 1), bias=False)\n",
      "      )\n",
      "      (denselayer6): _DenseLayer(\n",
      "        (norm1): BatchNorm2d(224, eps=1e-05, momentum=0.1, affine=True, track_running_stats=True)\n",
      "        (relu1): ReLU(inplace=True)\n",
      "        (conv1): Conv2d(224, 128, kernel_size=(1, 1), stride=(1, 1), bias=False)\n",
      "        (norm2): BatchNorm2d(128, eps=1e-05, momentum=0.1, affine=True, track_running_stats=True)\n",
      "        (relu2): ReLU(inplace=True)\n",
      "        (conv2): Conv2d(128, 32, kernel_size=(3, 3), stride=(1, 1), padding=(1, 1), bias=False)\n",
      "      )\n",
      "    )\n",
      "    (transition1): _Transition(\n",
      "      (norm): BatchNorm2d(256, eps=1e-05, momentum=0.1, affine=True, track_running_stats=True)\n",
      "      (relu): ReLU(inplace=True)\n",
      "      (conv): Conv2d(256, 128, kernel_size=(1, 1), stride=(1, 1), bias=False)\n",
      "      (pool): AvgPool2d(kernel_size=2, stride=2, padding=0)\n",
      "    )\n",
      "    (denseblock2): _DenseBlock(\n",
      "      (denselayer1): _DenseLayer(\n",
      "        (norm1): BatchNorm2d(128, eps=1e-05, momentum=0.1, affine=True, track_running_stats=True)\n",
      "        (relu1): ReLU(inplace=True)\n",
      "        (conv1): Conv2d(128, 128, kernel_size=(1, 1), stride=(1, 1), bias=False)\n",
      "        (norm2): BatchNorm2d(128, eps=1e-05, momentum=0.1, affine=True, track_running_stats=True)\n",
      "        (relu2): ReLU(inplace=True)\n",
      "        (conv2): Conv2d(128, 32, kernel_size=(3, 3), stride=(1, 1), padding=(1, 1), bias=False)\n",
      "      )\n",
      "      (denselayer2): _DenseLayer(\n",
      "        (norm1): BatchNorm2d(160, eps=1e-05, momentum=0.1, affine=True, track_running_stats=True)\n",
      "        (relu1): ReLU(inplace=True)\n",
      "        (conv1): Conv2d(160, 128, kernel_size=(1, 1), stride=(1, 1), bias=False)\n",
      "        (norm2): BatchNorm2d(128, eps=1e-05, momentum=0.1, affine=True, track_running_stats=True)\n",
      "        (relu2): ReLU(inplace=True)\n",
      "        (conv2): Conv2d(128, 32, kernel_size=(3, 3), stride=(1, 1), padding=(1, 1), bias=False)\n",
      "      )\n",
      "      (denselayer3): _DenseLayer(\n",
      "        (norm1): BatchNorm2d(192, eps=1e-05, momentum=0.1, affine=True, track_running_stats=True)\n",
      "        (relu1): ReLU(inplace=True)\n",
      "        (conv1): Conv2d(192, 128, kernel_size=(1, 1), stride=(1, 1), bias=False)\n",
      "        (norm2): BatchNorm2d(128, eps=1e-05, momentum=0.1, affine=True, track_running_stats=True)\n",
      "        (relu2): ReLU(inplace=True)\n",
      "        (conv2): Conv2d(128, 32, kernel_size=(3, 3), stride=(1, 1), padding=(1, 1), bias=False)\n",
      "      )\n",
      "      (denselayer4): _DenseLayer(\n",
      "        (norm1): BatchNorm2d(224, eps=1e-05, momentum=0.1, affine=True, track_running_stats=True)\n",
      "        (relu1): ReLU(inplace=True)\n",
      "        (conv1): Conv2d(224, 128, kernel_size=(1, 1), stride=(1, 1), bias=False)\n",
      "        (norm2): BatchNorm2d(128, eps=1e-05, momentum=0.1, affine=True, track_running_stats=True)\n",
      "        (relu2): ReLU(inplace=True)\n",
      "        (conv2): Conv2d(128, 32, kernel_size=(3, 3), stride=(1, 1), padding=(1, 1), bias=False)\n",
      "      )\n",
      "      (denselayer5): _DenseLayer(\n",
      "        (norm1): BatchNorm2d(256, eps=1e-05, momentum=0.1, affine=True, track_running_stats=True)\n",
      "        (relu1): ReLU(inplace=True)\n",
      "        (conv1): Conv2d(256, 128, kernel_size=(1, 1), stride=(1, 1), bias=False)\n",
      "        (norm2): BatchNorm2d(128, eps=1e-05, momentum=0.1, affine=True, track_running_stats=True)\n",
      "        (relu2): ReLU(inplace=True)\n",
      "        (conv2): Conv2d(128, 32, kernel_size=(3, 3), stride=(1, 1), padding=(1, 1), bias=False)\n",
      "      )\n",
      "      (denselayer6): _DenseLayer(\n",
      "        (norm1): BatchNorm2d(288, eps=1e-05, momentum=0.1, affine=True, track_running_stats=True)\n",
      "        (relu1): ReLU(inplace=True)\n",
      "        (conv1): Conv2d(288, 128, kernel_size=(1, 1), stride=(1, 1), bias=False)\n",
      "        (norm2): BatchNorm2d(128, eps=1e-05, momentum=0.1, affine=True, track_running_stats=True)\n",
      "        (relu2): ReLU(inplace=True)\n",
      "        (conv2): Conv2d(128, 32, kernel_size=(3, 3), stride=(1, 1), padding=(1, 1), bias=False)\n",
      "      )\n",
      "      (denselayer7): _DenseLayer(\n",
      "        (norm1): BatchNorm2d(320, eps=1e-05, momentum=0.1, affine=True, track_running_stats=True)\n",
      "        (relu1): ReLU(inplace=True)\n",
      "        (conv1): Conv2d(320, 128, kernel_size=(1, 1), stride=(1, 1), bias=False)\n",
      "        (norm2): BatchNorm2d(128, eps=1e-05, momentum=0.1, affine=True, track_running_stats=True)\n",
      "        (relu2): ReLU(inplace=True)\n",
      "        (conv2): Conv2d(128, 32, kernel_size=(3, 3), stride=(1, 1), padding=(1, 1), bias=False)\n",
      "      )\n",
      "      (denselayer8): _DenseLayer(\n",
      "        (norm1): BatchNorm2d(352, eps=1e-05, momentum=0.1, affine=True, track_running_stats=True)\n",
      "        (relu1): ReLU(inplace=True)\n",
      "        (conv1): Conv2d(352, 128, kernel_size=(1, 1), stride=(1, 1), bias=False)\n",
      "        (norm2): BatchNorm2d(128, eps=1e-05, momentum=0.1, affine=True, track_running_stats=True)\n",
      "        (relu2): ReLU(inplace=True)\n",
      "        (conv2): Conv2d(128, 32, kernel_size=(3, 3), stride=(1, 1), padding=(1, 1), bias=False)\n",
      "      )\n",
      "      (denselayer9): _DenseLayer(\n",
      "        (norm1): BatchNorm2d(384, eps=1e-05, momentum=0.1, affine=True, track_running_stats=True)\n",
      "        (relu1): ReLU(inplace=True)\n",
      "        (conv1): Conv2d(384, 128, kernel_size=(1, 1), stride=(1, 1), bias=False)\n",
      "        (norm2): BatchNorm2d(128, eps=1e-05, momentum=0.1, affine=True, track_running_stats=True)\n",
      "        (relu2): ReLU(inplace=True)\n",
      "        (conv2): Conv2d(128, 32, kernel_size=(3, 3), stride=(1, 1), padding=(1, 1), bias=False)\n",
      "      )\n",
      "      (denselayer10): _DenseLayer(\n",
      "        (norm1): BatchNorm2d(416, eps=1e-05, momentum=0.1, affine=True, track_running_stats=True)\n",
      "        (relu1): ReLU(inplace=True)\n",
      "        (conv1): Conv2d(416, 128, kernel_size=(1, 1), stride=(1, 1), bias=False)\n",
      "        (norm2): BatchNorm2d(128, eps=1e-05, momentum=0.1, affine=True, track_running_stats=True)\n",
      "        (relu2): ReLU(inplace=True)\n",
      "        (conv2): Conv2d(128, 32, kernel_size=(3, 3), stride=(1, 1), padding=(1, 1), bias=False)\n",
      "      )\n",
      "      (denselayer11): _DenseLayer(\n",
      "        (norm1): BatchNorm2d(448, eps=1e-05, momentum=0.1, affine=True, track_running_stats=True)\n",
      "        (relu1): ReLU(inplace=True)\n",
      "        (conv1): Conv2d(448, 128, kernel_size=(1, 1), stride=(1, 1), bias=False)\n",
      "        (norm2): BatchNorm2d(128, eps=1e-05, momentum=0.1, affine=True, track_running_stats=True)\n",
      "        (relu2): ReLU(inplace=True)\n",
      "        (conv2): Conv2d(128, 32, kernel_size=(3, 3), stride=(1, 1), padding=(1, 1), bias=False)\n",
      "      )\n",
      "      (denselayer12): _DenseLayer(\n",
      "        (norm1): BatchNorm2d(480, eps=1e-05, momentum=0.1, affine=True, track_running_stats=True)\n",
      "        (relu1): ReLU(inplace=True)\n",
      "        (conv1): Conv2d(480, 128, kernel_size=(1, 1), stride=(1, 1), bias=False)\n",
      "        (norm2): BatchNorm2d(128, eps=1e-05, momentum=0.1, affine=True, track_running_stats=True)\n",
      "        (relu2): ReLU(inplace=True)\n",
      "        (conv2): Conv2d(128, 32, kernel_size=(3, 3), stride=(1, 1), padding=(1, 1), bias=False)\n",
      "      )\n",
      "    )\n",
      "    (transition2): _Transition(\n",
      "      (norm): BatchNorm2d(512, eps=1e-05, momentum=0.1, affine=True, track_running_stats=True)\n",
      "      (relu): ReLU(inplace=True)\n",
      "      (conv): Conv2d(512, 256, kernel_size=(1, 1), stride=(1, 1), bias=False)\n",
      "      (pool): AvgPool2d(kernel_size=2, stride=2, padding=0)\n",
      "    )\n",
      "    (denseblock3): _DenseBlock(\n",
      "      (denselayer1): _DenseLayer(\n",
      "        (norm1): BatchNorm2d(256, eps=1e-05, momentum=0.1, affine=True, track_running_stats=True)\n",
      "        (relu1): ReLU(inplace=True)\n",
      "        (conv1): Conv2d(256, 128, kernel_size=(1, 1), stride=(1, 1), bias=False)\n",
      "        (norm2): BatchNorm2d(128, eps=1e-05, momentum=0.1, affine=True, track_running_stats=True)\n",
      "        (relu2): ReLU(inplace=True)\n",
      "        (conv2): Conv2d(128, 32, kernel_size=(3, 3), stride=(1, 1), padding=(1, 1), bias=False)\n",
      "      )\n",
      "      (denselayer2): _DenseLayer(\n",
      "        (norm1): BatchNorm2d(288, eps=1e-05, momentum=0.1, affine=True, track_running_stats=True)\n",
      "        (relu1): ReLU(inplace=True)\n",
      "        (conv1): Conv2d(288, 128, kernel_size=(1, 1), stride=(1, 1), bias=False)\n",
      "        (norm2): BatchNorm2d(128, eps=1e-05, momentum=0.1, affine=True, track_running_stats=True)\n",
      "        (relu2): ReLU(inplace=True)\n",
      "        (conv2): Conv2d(128, 32, kernel_size=(3, 3), stride=(1, 1), padding=(1, 1), bias=False)\n",
      "      )\n",
      "      (denselayer3): _DenseLayer(\n",
      "        (norm1): BatchNorm2d(320, eps=1e-05, momentum=0.1, affine=True, track_running_stats=True)\n",
      "        (relu1): ReLU(inplace=True)\n",
      "        (conv1): Conv2d(320, 128, kernel_size=(1, 1), stride=(1, 1), bias=False)\n",
      "        (norm2): BatchNorm2d(128, eps=1e-05, momentum=0.1, affine=True, track_running_stats=True)\n",
      "        (relu2): ReLU(inplace=True)\n",
      "        (conv2): Conv2d(128, 32, kernel_size=(3, 3), stride=(1, 1), padding=(1, 1), bias=False)\n",
      "      )\n",
      "      (denselayer4): _DenseLayer(\n",
      "        (norm1): BatchNorm2d(352, eps=1e-05, momentum=0.1, affine=True, track_running_stats=True)\n",
      "        (relu1): ReLU(inplace=True)\n",
      "        (conv1): Conv2d(352, 128, kernel_size=(1, 1), stride=(1, 1), bias=False)\n",
      "        (norm2): BatchNorm2d(128, eps=1e-05, momentum=0.1, affine=True, track_running_stats=True)\n",
      "        (relu2): ReLU(inplace=True)\n",
      "        (conv2): Conv2d(128, 32, kernel_size=(3, 3), stride=(1, 1), padding=(1, 1), bias=False)\n",
      "      )\n",
      "      (denselayer5): _DenseLayer(\n",
      "        (norm1): BatchNorm2d(384, eps=1e-05, momentum=0.1, affine=True, track_running_stats=True)\n",
      "        (relu1): ReLU(inplace=True)\n",
      "        (conv1): Conv2d(384, 128, kernel_size=(1, 1), stride=(1, 1), bias=False)\n",
      "        (norm2): BatchNorm2d(128, eps=1e-05, momentum=0.1, affine=True, track_running_stats=True)\n",
      "        (relu2): ReLU(inplace=True)\n",
      "        (conv2): Conv2d(128, 32, kernel_size=(3, 3), stride=(1, 1), padding=(1, 1), bias=False)\n",
      "      )\n",
      "      (denselayer6): _DenseLayer(\n",
      "        (norm1): BatchNorm2d(416, eps=1e-05, momentum=0.1, affine=True, track_running_stats=True)\n",
      "        (relu1): ReLU(inplace=True)\n",
      "        (conv1): Conv2d(416, 128, kernel_size=(1, 1), stride=(1, 1), bias=False)\n",
      "        (norm2): BatchNorm2d(128, eps=1e-05, momentum=0.1, affine=True, track_running_stats=True)\n",
      "        (relu2): ReLU(inplace=True)\n",
      "        (conv2): Conv2d(128, 32, kernel_size=(3, 3), stride=(1, 1), padding=(1, 1), bias=False)\n",
      "      )\n",
      "      (denselayer7): _DenseLayer(\n",
      "        (norm1): BatchNorm2d(448, eps=1e-05, momentum=0.1, affine=True, track_running_stats=True)\n",
      "        (relu1): ReLU(inplace=True)\n",
      "        (conv1): Conv2d(448, 128, kernel_size=(1, 1), stride=(1, 1), bias=False)\n",
      "        (norm2): BatchNorm2d(128, eps=1e-05, momentum=0.1, affine=True, track_running_stats=True)\n",
      "        (relu2): ReLU(inplace=True)\n",
      "        (conv2): Conv2d(128, 32, kernel_size=(3, 3), stride=(1, 1), padding=(1, 1), bias=False)\n",
      "      )\n",
      "      (denselayer8): _DenseLayer(\n",
      "        (norm1): BatchNorm2d(480, eps=1e-05, momentum=0.1, affine=True, track_running_stats=True)\n",
      "        (relu1): ReLU(inplace=True)\n",
      "        (conv1): Conv2d(480, 128, kernel_size=(1, 1), stride=(1, 1), bias=False)\n",
      "        (norm2): BatchNorm2d(128, eps=1e-05, momentum=0.1, affine=True, track_running_stats=True)\n",
      "        (relu2): ReLU(inplace=True)\n",
      "        (conv2): Conv2d(128, 32, kernel_size=(3, 3), stride=(1, 1), padding=(1, 1), bias=False)\n",
      "      )\n",
      "      (denselayer9): _DenseLayer(\n",
      "        (norm1): BatchNorm2d(512, eps=1e-05, momentum=0.1, affine=True, track_running_stats=True)\n",
      "        (relu1): ReLU(inplace=True)\n",
      "        (conv1): Conv2d(512, 128, kernel_size=(1, 1), stride=(1, 1), bias=False)\n",
      "        (norm2): BatchNorm2d(128, eps=1e-05, momentum=0.1, affine=True, track_running_stats=True)\n",
      "        (relu2): ReLU(inplace=True)\n",
      "        (conv2): Conv2d(128, 32, kernel_size=(3, 3), stride=(1, 1), padding=(1, 1), bias=False)\n",
      "      )\n",
      "      (denselayer10): _DenseLayer(\n",
      "        (norm1): BatchNorm2d(544, eps=1e-05, momentum=0.1, affine=True, track_running_stats=True)\n",
      "        (relu1): ReLU(inplace=True)\n",
      "        (conv1): Conv2d(544, 128, kernel_size=(1, 1), stride=(1, 1), bias=False)\n",
      "        (norm2): BatchNorm2d(128, eps=1e-05, momentum=0.1, affine=True, track_running_stats=True)\n",
      "        (relu2): ReLU(inplace=True)\n",
      "        (conv2): Conv2d(128, 32, kernel_size=(3, 3), stride=(1, 1), padding=(1, 1), bias=False)\n",
      "      )\n",
      "      (denselayer11): _DenseLayer(\n",
      "        (norm1): BatchNorm2d(576, eps=1e-05, momentum=0.1, affine=True, track_running_stats=True)\n",
      "        (relu1): ReLU(inplace=True)\n",
      "        (conv1): Conv2d(576, 128, kernel_size=(1, 1), stride=(1, 1), bias=False)\n",
      "        (norm2): BatchNorm2d(128, eps=1e-05, momentum=0.1, affine=True, track_running_stats=True)\n",
      "        (relu2): ReLU(inplace=True)\n",
      "        (conv2): Conv2d(128, 32, kernel_size=(3, 3), stride=(1, 1), padding=(1, 1), bias=False)\n",
      "      )\n",
      "      (denselayer12): _DenseLayer(\n",
      "        (norm1): BatchNorm2d(608, eps=1e-05, momentum=0.1, affine=True, track_running_stats=True)\n",
      "        (relu1): ReLU(inplace=True)\n",
      "        (conv1): Conv2d(608, 128, kernel_size=(1, 1), stride=(1, 1), bias=False)\n",
      "        (norm2): BatchNorm2d(128, eps=1e-05, momentum=0.1, affine=True, track_running_stats=True)\n",
      "        (relu2): ReLU(inplace=True)\n",
      "        (conv2): Conv2d(128, 32, kernel_size=(3, 3), stride=(1, 1), padding=(1, 1), bias=False)\n",
      "      )\n",
      "      (denselayer13): _DenseLayer(\n",
      "        (norm1): BatchNorm2d(640, eps=1e-05, momentum=0.1, affine=True, track_running_stats=True)\n",
      "        (relu1): ReLU(inplace=True)\n",
      "        (conv1): Conv2d(640, 128, kernel_size=(1, 1), stride=(1, 1), bias=False)\n",
      "        (norm2): BatchNorm2d(128, eps=1e-05, momentum=0.1, affine=True, track_running_stats=True)\n",
      "        (relu2): ReLU(inplace=True)\n",
      "        (conv2): Conv2d(128, 32, kernel_size=(3, 3), stride=(1, 1), padding=(1, 1), bias=False)\n",
      "      )\n",
      "      (denselayer14): _DenseLayer(\n",
      "        (norm1): BatchNorm2d(672, eps=1e-05, momentum=0.1, affine=True, track_running_stats=True)\n",
      "        (relu1): ReLU(inplace=True)\n",
      "        (conv1): Conv2d(672, 128, kernel_size=(1, 1), stride=(1, 1), bias=False)\n",
      "        (norm2): BatchNorm2d(128, eps=1e-05, momentum=0.1, affine=True, track_running_stats=True)\n",
      "        (relu2): ReLU(inplace=True)\n",
      "        (conv2): Conv2d(128, 32, kernel_size=(3, 3), stride=(1, 1), padding=(1, 1), bias=False)\n",
      "      )\n",
      "      (denselayer15): _DenseLayer(\n",
      "        (norm1): BatchNorm2d(704, eps=1e-05, momentum=0.1, affine=True, track_running_stats=True)\n",
      "        (relu1): ReLU(inplace=True)\n",
      "        (conv1): Conv2d(704, 128, kernel_size=(1, 1), stride=(1, 1), bias=False)\n",
      "        (norm2): BatchNorm2d(128, eps=1e-05, momentum=0.1, affine=True, track_running_stats=True)\n",
      "        (relu2): ReLU(inplace=True)\n",
      "        (conv2): Conv2d(128, 32, kernel_size=(3, 3), stride=(1, 1), padding=(1, 1), bias=False)\n",
      "      )\n",
      "      (denselayer16): _DenseLayer(\n",
      "        (norm1): BatchNorm2d(736, eps=1e-05, momentum=0.1, affine=True, track_running_stats=True)\n",
      "        (relu1): ReLU(inplace=True)\n",
      "        (conv1): Conv2d(736, 128, kernel_size=(1, 1), stride=(1, 1), bias=False)\n",
      "        (norm2): BatchNorm2d(128, eps=1e-05, momentum=0.1, affine=True, track_running_stats=True)\n",
      "        (relu2): ReLU(inplace=True)\n",
      "        (conv2): Conv2d(128, 32, kernel_size=(3, 3), stride=(1, 1), padding=(1, 1), bias=False)\n",
      "      )\n",
      "      (denselayer17): _DenseLayer(\n",
      "        (norm1): BatchNorm2d(768, eps=1e-05, momentum=0.1, affine=True, track_running_stats=True)\n",
      "        (relu1): ReLU(inplace=True)\n",
      "        (conv1): Conv2d(768, 128, kernel_size=(1, 1), stride=(1, 1), bias=False)\n",
      "        (norm2): BatchNorm2d(128, eps=1e-05, momentum=0.1, affine=True, track_running_stats=True)\n",
      "        (relu2): ReLU(inplace=True)\n",
      "        (conv2): Conv2d(128, 32, kernel_size=(3, 3), stride=(1, 1), padding=(1, 1), bias=False)\n",
      "      )\n",
      "      (denselayer18): _DenseLayer(\n",
      "        (norm1): BatchNorm2d(800, eps=1e-05, momentum=0.1, affine=True, track_running_stats=True)\n",
      "        (relu1): ReLU(inplace=True)\n",
      "        (conv1): Conv2d(800, 128, kernel_size=(1, 1), stride=(1, 1), bias=False)\n",
      "        (norm2): BatchNorm2d(128, eps=1e-05, momentum=0.1, affine=True, track_running_stats=True)\n",
      "        (relu2): ReLU(inplace=True)\n",
      "        (conv2): Conv2d(128, 32, kernel_size=(3, 3), stride=(1, 1), padding=(1, 1), bias=False)\n",
      "      )\n",
      "      (denselayer19): _DenseLayer(\n",
      "        (norm1): BatchNorm2d(832, eps=1e-05, momentum=0.1, affine=True, track_running_stats=True)\n",
      "        (relu1): ReLU(inplace=True)\n",
      "        (conv1): Conv2d(832, 128, kernel_size=(1, 1), stride=(1, 1), bias=False)\n",
      "        (norm2): BatchNorm2d(128, eps=1e-05, momentum=0.1, affine=True, track_running_stats=True)\n",
      "        (relu2): ReLU(inplace=True)\n",
      "        (conv2): Conv2d(128, 32, kernel_size=(3, 3), stride=(1, 1), padding=(1, 1), bias=False)\n",
      "      )\n",
      "      (denselayer20): _DenseLayer(\n",
      "        (norm1): BatchNorm2d(864, eps=1e-05, momentum=0.1, affine=True, track_running_stats=True)\n",
      "        (relu1): ReLU(inplace=True)\n",
      "        (conv1): Conv2d(864, 128, kernel_size=(1, 1), stride=(1, 1), bias=False)\n",
      "        (norm2): BatchNorm2d(128, eps=1e-05, momentum=0.1, affine=True, track_running_stats=True)\n",
      "        (relu2): ReLU(inplace=True)\n",
      "        (conv2): Conv2d(128, 32, kernel_size=(3, 3), stride=(1, 1), padding=(1, 1), bias=False)\n",
      "      )\n",
      "      (denselayer21): _DenseLayer(\n",
      "        (norm1): BatchNorm2d(896, eps=1e-05, momentum=0.1, affine=True, track_running_stats=True)\n",
      "        (relu1): ReLU(inplace=True)\n",
      "        (conv1): Conv2d(896, 128, kernel_size=(1, 1), stride=(1, 1), bias=False)\n",
      "        (norm2): BatchNorm2d(128, eps=1e-05, momentum=0.1, affine=True, track_running_stats=True)\n",
      "        (relu2): ReLU(inplace=True)\n",
      "        (conv2): Conv2d(128, 32, kernel_size=(3, 3), stride=(1, 1), padding=(1, 1), bias=False)\n",
      "      )\n",
      "      (denselayer22): _DenseLayer(\n",
      "        (norm1): BatchNorm2d(928, eps=1e-05, momentum=0.1, affine=True, track_running_stats=True)\n",
      "        (relu1): ReLU(inplace=True)\n",
      "        (conv1): Conv2d(928, 128, kernel_size=(1, 1), stride=(1, 1), bias=False)\n",
      "        (norm2): BatchNorm2d(128, eps=1e-05, momentum=0.1, affine=True, track_running_stats=True)\n",
      "        (relu2): ReLU(inplace=True)\n",
      "        (conv2): Conv2d(128, 32, kernel_size=(3, 3), stride=(1, 1), padding=(1, 1), bias=False)\n",
      "      )\n",
      "      (denselayer23): _DenseLayer(\n",
      "        (norm1): BatchNorm2d(960, eps=1e-05, momentum=0.1, affine=True, track_running_stats=True)\n",
      "        (relu1): ReLU(inplace=True)\n",
      "        (conv1): Conv2d(960, 128, kernel_size=(1, 1), stride=(1, 1), bias=False)\n",
      "        (norm2): BatchNorm2d(128, eps=1e-05, momentum=0.1, affine=True, track_running_stats=True)\n",
      "        (relu2): ReLU(inplace=True)\n",
      "        (conv2): Conv2d(128, 32, kernel_size=(3, 3), stride=(1, 1), padding=(1, 1), bias=False)\n",
      "      )\n",
      "      (denselayer24): _DenseLayer(\n",
      "        (norm1): BatchNorm2d(992, eps=1e-05, momentum=0.1, affine=True, track_running_stats=True)\n",
      "        (relu1): ReLU(inplace=True)\n",
      "        (conv1): Conv2d(992, 128, kernel_size=(1, 1), stride=(1, 1), bias=False)\n",
      "        (norm2): BatchNorm2d(128, eps=1e-05, momentum=0.1, affine=True, track_running_stats=True)\n",
      "        (relu2): ReLU(inplace=True)\n",
      "        (conv2): Conv2d(128, 32, kernel_size=(3, 3), stride=(1, 1), padding=(1, 1), bias=False)\n",
      "      )\n",
      "    )\n",
      "    (transition3): _Transition(\n",
      "      (norm): BatchNorm2d(1024, eps=1e-05, momentum=0.1, affine=True, track_running_stats=True)\n",
      "      (relu): ReLU(inplace=True)\n",
      "      (conv): Conv2d(1024, 512, kernel_size=(1, 1), stride=(1, 1), bias=False)\n",
      "      (pool): AvgPool2d(kernel_size=2, stride=2, padding=0)\n",
      "    )\n",
      "    (denseblock4): _DenseBlock(\n",
      "      (denselayer1): _DenseLayer(\n",
      "        (norm1): BatchNorm2d(512, eps=1e-05, momentum=0.1, affine=True, track_running_stats=True)\n",
      "        (relu1): ReLU(inplace=True)\n",
      "        (conv1): Conv2d(512, 128, kernel_size=(1, 1), stride=(1, 1), bias=False)\n",
      "        (norm2): BatchNorm2d(128, eps=1e-05, momentum=0.1, affine=True, track_running_stats=True)\n",
      "        (relu2): ReLU(inplace=True)\n",
      "        (conv2): Conv2d(128, 32, kernel_size=(3, 3), stride=(1, 1), padding=(1, 1), bias=False)\n",
      "      )\n",
      "      (denselayer2): _DenseLayer(\n",
      "        (norm1): BatchNorm2d(544, eps=1e-05, momentum=0.1, affine=True, track_running_stats=True)\n",
      "        (relu1): ReLU(inplace=True)\n",
      "        (conv1): Conv2d(544, 128, kernel_size=(1, 1), stride=(1, 1), bias=False)\n",
      "        (norm2): BatchNorm2d(128, eps=1e-05, momentum=0.1, affine=True, track_running_stats=True)\n",
      "        (relu2): ReLU(inplace=True)\n",
      "        (conv2): Conv2d(128, 32, kernel_size=(3, 3), stride=(1, 1), padding=(1, 1), bias=False)\n",
      "      )\n",
      "      (denselayer3): _DenseLayer(\n",
      "        (norm1): BatchNorm2d(576, eps=1e-05, momentum=0.1, affine=True, track_running_stats=True)\n",
      "        (relu1): ReLU(inplace=True)\n",
      "        (conv1): Conv2d(576, 128, kernel_size=(1, 1), stride=(1, 1), bias=False)\n",
      "        (norm2): BatchNorm2d(128, eps=1e-05, momentum=0.1, affine=True, track_running_stats=True)\n",
      "        (relu2): ReLU(inplace=True)\n",
      "        (conv2): Conv2d(128, 32, kernel_size=(3, 3), stride=(1, 1), padding=(1, 1), bias=False)\n",
      "      )\n",
      "      (denselayer4): _DenseLayer(\n",
      "        (norm1): BatchNorm2d(608, eps=1e-05, momentum=0.1, affine=True, track_running_stats=True)\n",
      "        (relu1): ReLU(inplace=True)\n",
      "        (conv1): Conv2d(608, 128, kernel_size=(1, 1), stride=(1, 1), bias=False)\n",
      "        (norm2): BatchNorm2d(128, eps=1e-05, momentum=0.1, affine=True, track_running_stats=True)\n",
      "        (relu2): ReLU(inplace=True)\n",
      "        (conv2): Conv2d(128, 32, kernel_size=(3, 3), stride=(1, 1), padding=(1, 1), bias=False)\n",
      "      )\n",
      "      (denselayer5): _DenseLayer(\n",
      "        (norm1): BatchNorm2d(640, eps=1e-05, momentum=0.1, affine=True, track_running_stats=True)\n",
      "        (relu1): ReLU(inplace=True)\n",
      "        (conv1): Conv2d(640, 128, kernel_size=(1, 1), stride=(1, 1), bias=False)\n",
      "        (norm2): BatchNorm2d(128, eps=1e-05, momentum=0.1, affine=True, track_running_stats=True)\n",
      "        (relu2): ReLU(inplace=True)\n",
      "        (conv2): Conv2d(128, 32, kernel_size=(3, 3), stride=(1, 1), padding=(1, 1), bias=False)\n",
      "      )\n",
      "      (denselayer6): _DenseLayer(\n",
      "        (norm1): BatchNorm2d(672, eps=1e-05, momentum=0.1, affine=True, track_running_stats=True)\n",
      "        (relu1): ReLU(inplace=True)\n",
      "        (conv1): Conv2d(672, 128, kernel_size=(1, 1), stride=(1, 1), bias=False)\n",
      "        (norm2): BatchNorm2d(128, eps=1e-05, momentum=0.1, affine=True, track_running_stats=True)\n",
      "        (relu2): ReLU(inplace=True)\n",
      "        (conv2): Conv2d(128, 32, kernel_size=(3, 3), stride=(1, 1), padding=(1, 1), bias=False)\n",
      "      )\n",
      "      (denselayer7): _DenseLayer(\n",
      "        (norm1): BatchNorm2d(704, eps=1e-05, momentum=0.1, affine=True, track_running_stats=True)\n",
      "        (relu1): ReLU(inplace=True)\n",
      "        (conv1): Conv2d(704, 128, kernel_size=(1, 1), stride=(1, 1), bias=False)\n",
      "        (norm2): BatchNorm2d(128, eps=1e-05, momentum=0.1, affine=True, track_running_stats=True)\n",
      "        (relu2): ReLU(inplace=True)\n",
      "        (conv2): Conv2d(128, 32, kernel_size=(3, 3), stride=(1, 1), padding=(1, 1), bias=False)\n",
      "      )\n",
      "      (denselayer8): _DenseLayer(\n",
      "        (norm1): BatchNorm2d(736, eps=1e-05, momentum=0.1, affine=True, track_running_stats=True)\n",
      "        (relu1): ReLU(inplace=True)\n",
      "        (conv1): Conv2d(736, 128, kernel_size=(1, 1), stride=(1, 1), bias=False)\n",
      "        (norm2): BatchNorm2d(128, eps=1e-05, momentum=0.1, affine=True, track_running_stats=True)\n",
      "        (relu2): ReLU(inplace=True)\n",
      "        (conv2): Conv2d(128, 32, kernel_size=(3, 3), stride=(1, 1), padding=(1, 1), bias=False)\n",
      "      )\n",
      "      (denselayer9): _DenseLayer(\n",
      "        (norm1): BatchNorm2d(768, eps=1e-05, momentum=0.1, affine=True, track_running_stats=True)\n",
      "        (relu1): ReLU(inplace=True)\n",
      "        (conv1): Conv2d(768, 128, kernel_size=(1, 1), stride=(1, 1), bias=False)\n",
      "        (norm2): BatchNorm2d(128, eps=1e-05, momentum=0.1, affine=True, track_running_stats=True)\n",
      "        (relu2): ReLU(inplace=True)\n",
      "        (conv2): Conv2d(128, 32, kernel_size=(3, 3), stride=(1, 1), padding=(1, 1), bias=False)\n",
      "      )\n",
      "      (denselayer10): _DenseLayer(\n",
      "        (norm1): BatchNorm2d(800, eps=1e-05, momentum=0.1, affine=True, track_running_stats=True)\n",
      "        (relu1): ReLU(inplace=True)\n",
      "        (conv1): Conv2d(800, 128, kernel_size=(1, 1), stride=(1, 1), bias=False)\n",
      "        (norm2): BatchNorm2d(128, eps=1e-05, momentum=0.1, affine=True, track_running_stats=True)\n",
      "        (relu2): ReLU(inplace=True)\n",
      "        (conv2): Conv2d(128, 32, kernel_size=(3, 3), stride=(1, 1), padding=(1, 1), bias=False)\n",
      "      )\n",
      "      (denselayer11): _DenseLayer(\n",
      "        (norm1): BatchNorm2d(832, eps=1e-05, momentum=0.1, affine=True, track_running_stats=True)\n",
      "        (relu1): ReLU(inplace=True)\n",
      "        (conv1): Conv2d(832, 128, kernel_size=(1, 1), stride=(1, 1), bias=False)\n",
      "        (norm2): BatchNorm2d(128, eps=1e-05, momentum=0.1, affine=True, track_running_stats=True)\n",
      "        (relu2): ReLU(inplace=True)\n",
      "        (conv2): Conv2d(128, 32, kernel_size=(3, 3), stride=(1, 1), padding=(1, 1), bias=False)\n",
      "      )\n",
      "      (denselayer12): _DenseLayer(\n",
      "        (norm1): BatchNorm2d(864, eps=1e-05, momentum=0.1, affine=True, track_running_stats=True)\n",
      "        (relu1): ReLU(inplace=True)\n",
      "        (conv1): Conv2d(864, 128, kernel_size=(1, 1), stride=(1, 1), bias=False)\n",
      "        (norm2): BatchNorm2d(128, eps=1e-05, momentum=0.1, affine=True, track_running_stats=True)\n",
      "        (relu2): ReLU(inplace=True)\n",
      "        (conv2): Conv2d(128, 32, kernel_size=(3, 3), stride=(1, 1), padding=(1, 1), bias=False)\n",
      "      )\n",
      "      (denselayer13): _DenseLayer(\n",
      "        (norm1): BatchNorm2d(896, eps=1e-05, momentum=0.1, affine=True, track_running_stats=True)\n",
      "        (relu1): ReLU(inplace=True)\n",
      "        (conv1): Conv2d(896, 128, kernel_size=(1, 1), stride=(1, 1), bias=False)\n",
      "        (norm2): BatchNorm2d(128, eps=1e-05, momentum=0.1, affine=True, track_running_stats=True)\n",
      "        (relu2): ReLU(inplace=True)\n",
      "        (conv2): Conv2d(128, 32, kernel_size=(3, 3), stride=(1, 1), padding=(1, 1), bias=False)\n",
      "      )\n",
      "      (denselayer14): _DenseLayer(\n",
      "        (norm1): BatchNorm2d(928, eps=1e-05, momentum=0.1, affine=True, track_running_stats=True)\n",
      "        (relu1): ReLU(inplace=True)\n",
      "        (conv1): Conv2d(928, 128, kernel_size=(1, 1), stride=(1, 1), bias=False)\n",
      "        (norm2): BatchNorm2d(128, eps=1e-05, momentum=0.1, affine=True, track_running_stats=True)\n",
      "        (relu2): ReLU(inplace=True)\n",
      "        (conv2): Conv2d(128, 32, kernel_size=(3, 3), stride=(1, 1), padding=(1, 1), bias=False)\n",
      "      )\n",
      "      (denselayer15): _DenseLayer(\n",
      "        (norm1): BatchNorm2d(960, eps=1e-05, momentum=0.1, affine=True, track_running_stats=True)\n",
      "        (relu1): ReLU(inplace=True)\n",
      "        (conv1): Conv2d(960, 128, kernel_size=(1, 1), stride=(1, 1), bias=False)\n",
      "        (norm2): BatchNorm2d(128, eps=1e-05, momentum=0.1, affine=True, track_running_stats=True)\n",
      "        (relu2): ReLU(inplace=True)\n",
      "        (conv2): Conv2d(128, 32, kernel_size=(3, 3), stride=(1, 1), padding=(1, 1), bias=False)\n",
      "      )\n",
      "      (denselayer16): _DenseLayer(\n",
      "        (norm1): BatchNorm2d(992, eps=1e-05, momentum=0.1, affine=True, track_running_stats=True)\n",
      "        (relu1): ReLU(inplace=True)\n",
      "        (conv1): Conv2d(992, 128, kernel_size=(1, 1), stride=(1, 1), bias=False)\n",
      "        (norm2): BatchNorm2d(128, eps=1e-05, momentum=0.1, affine=True, track_running_stats=True)\n",
      "        (relu2): ReLU(inplace=True)\n",
      "        (conv2): Conv2d(128, 32, kernel_size=(3, 3), stride=(1, 1), padding=(1, 1), bias=False)\n",
      "      )\n",
      "    )\n",
      "    (norm5): BatchNorm2d(1024, eps=1e-05, momentum=0.1, affine=True, track_running_stats=True)\n",
      "  )\n",
      "  (classifier): Linear(in_features=1024, out_features=1, bias=True)\n",
      ")\n"
     ]
    }
   ],
   "source": [
    "device = torch.device(\"cuda\" if torch.cuda.is_available() else \"cpu\")\n",
    "\n",
    "model = models.densenet121(pretrained=True)\n",
    "model.classifier = nn.Linear(model.classifier.in_features, 1)\n",
    "model = model.to(device)\n",
    "print(model)"
   ]
  },
  {
   "cell_type": "markdown",
   "id": "qaEdGcOx0y9Q",
   "metadata": {
    "id": "qaEdGcOx0y9Q"
   },
   "source": [
    "### Hyperparameters\n",
    "\n",
    "**Hyperparameters** are settings that you choose before training your model. They control how the learning process works. Common hyperparameters include:\n",
    "- **Number of epochs:** How many times the model sees the whole training set.\n",
    "- **Batch size:** How many samples are in each batch.\n",
    "- **Learning rate:** How big the steps are when updating the model's weights.\n",
    "\n",
    "Tuning hyperparameters is important because it can make a big difference in how well your model learns."
   ]
  },
  {
   "cell_type": "code",
   "execution_count": null,
   "id": "CP3Y2XJR0znF",
   "metadata": {
    "id": "CP3Y2XJR0znF"
   },
   "outputs": [],
   "source": [
    "learning_rate = 1e-3\n",
    "batch_size = 64\n",
    "epochs = 10"
   ]
  },
  {
   "cell_type": "markdown",
   "id": "UTXB_k_Y08_f",
   "metadata": {
    "id": "UTXB_k_Y08_f"
   },
   "source": [
    "### Optimization loop\n",
    "\n",
    "Training a deep learning model involves an **optimization loop**. Each time the model sees the whole training set, it completes one **epoch**. The process has two main parts:\n",
    "- **Train loop:** The model learns from the training data and updates its parameters.\n",
    "- **Validation loop:** The model is tested on validation data to see how well it is learning.\n",
    "\n",
    "A **loss function** measures how far the model's predictions are from the true answers. The goal of training is to minimize this loss. The optimization loop repeats for many epochs until the model performs well."
   ]
  },
  {
   "cell_type": "code",
   "execution_count": null,
   "id": "0PlztayZ1JN7",
   "metadata": {
    "id": "0PlztayZ1JN7"
   },
   "outputs": [],
   "source": [
    "pos_frac = train_df['Binary Label'].mean()\n",
    "pos_weight = torch.tensor([(1 - pos_frac) / pos_frac]).to(device)\n",
    "\n",
    "criterion  = nn.BCEWithLogitsLoss(pos_weight=pos_weight)"
   ]
  },
  {
   "cell_type": "markdown",
   "id": "AFH4boS51SCH",
   "metadata": {
    "id": "AFH4boS51SCH"
   },
   "source": [
    "Inside the training loop, the model learns by adjusting its parameters using **gradients**. Gradients show how much each parameter should change to reduce the loss. The process of calculating gradients and updating parameters is called **backpropagation**.\n",
    "\n",
    "- **optimizer.zero_grad():** Resets the gradients to zero before each batch.\n",
    "- **loss.backward():** Calculates the gradients using backpropagation.\n",
    "- **optimizer.step():** Updates the model's parameters using the gradients.\n",
    "- **Learning rate scheduler (like OneCycleLR):** Adjusts the learning rate during training to help the model learn better and faster."
   ]
  },
  {
   "cell_type": "code",
   "execution_count": null,
   "id": "UEz2Amsl09dM",
   "metadata": {
    "id": "UEz2Amsl09dM"
   },
   "outputs": [],
   "source": [
    "optimizer = torch.optim.Adam(model.parameters(), lr=learning_rate)\n",
    "scheduler = OneCycleLR(optimizer, max_lr=learning_rate, epochs=epochs, steps_per_epoch=len(train_loader), total_steps=epochs * len(train_loader))"
   ]
  },
  {
   "cell_type": "markdown",
   "id": "Rlu-3UTk4j87",
   "metadata": {
    "id": "Rlu-3UTk4j87"
   },
   "source": [
    "Next, we define our **training function** and **validation function**. The training function teaches the model using the training data, while the validation function checks how well the model is doing on data it hasn't seen before. Keeping these functions separate helps us monitor the model's progress and avoid overfitting (when the model memorizes the training data but doesn't generalize well to new data)."
   ]
  },
  {
   "cell_type": "code",
   "execution_count": null,
   "id": "6KZltOsh5EqE",
   "metadata": {
    "id": "6KZltOsh5EqE"
   },
   "outputs": [],
   "source": [
    "def train_loop(model, loader, criterion, optimizer, scheduler, device):\n",
    "    model.train()\n",
    "    running_loss = 0.0\n",
    "    for imgs, labels in tqdm(loader, desc=\"  Training\", leave=False):\n",
    "        imgs, labels = imgs.to(device), labels.to(device)\n",
    "        optimizer.zero_grad()\n",
    "        logits = model(imgs).squeeze(1)\n",
    "        loss = criterion(logits, labels)\n",
    "        loss.backward()\n",
    "        optimizer.step()\n",
    "        try:\n",
    "            scheduler.step()\n",
    "        except ValueError:\n",
    "            pass\n",
    "\n",
    "        running_loss += loss.item() * imgs.size(0)\n",
    "\n",
    "    avg_loss = running_loss / len(loader.dataset)\n",
    "    return avg_loss\n",
    "\n",
    "\n",
    "def val_loop(model, loader, criterion, auroc, device):\n",
    "    model.eval()\n",
    "    auroc.reset()\n",
    "    running_preds = []\n",
    "    running_labels = []\n",
    "\n",
    "    with torch.no_grad():\n",
    "        for imgs, labels in tqdm(loader, desc=\"  Validation\", leave=False):\n",
    "            imgs = imgs.to(device)\n",
    "            logits = model(imgs).squeeze(1)\n",
    "            probs = torch.sigmoid(logits)\n",
    "\n",
    "            preds = (probs > 0.5).int().cpu().numpy()\n",
    "            running_preds.extend(preds.tolist())\n",
    "            running_labels.extend(labels.int().tolist())\n",
    "\n",
    "            auroc.update(probs, labels.int().to(device))\n",
    "\n",
    "    acc = accuracy_score(running_labels, running_preds)\n",
    "    val_auroc = auroc.compute().item()\n",
    "    return acc, val_auroc\n"
   ]
  },
  {
   "cell_type": "code",
   "execution_count": null,
   "id": "J38g7NXJ4kQq",
   "metadata": {
    "colab": {
     "base_uri": "https://localhost:8080/"
    },
    "id": "J38g7NXJ4kQq",
    "outputId": "00aeef37-62fa-4f65-d78f-f85efdf04bb6"
   },
   "outputs": [
    {
     "name": "stdout",
     "output_type": "stream",
     "text": [
      "Epoch 1/10\n"
     ]
    },
    {
     "name": "stderr",
     "output_type": "stream",
     "text": []
    },
    {
     "name": "stdout",
     "output_type": "stream",
     "text": [
      "  Train Loss: 0.7583  |  Val Acc: 0.8076  |  Val AUROC: 0.8582\n",
      "Epoch 2/10\n"
     ]
    },
    {
     "name": "stderr",
     "output_type": "stream",
     "text": []
    },
    {
     "name": "stdout",
     "output_type": "stream",
     "text": [
      "  Train Loss: 0.5954  |  Val Acc: 0.4781  |  Val AUROC: 0.8813\n",
      "Epoch 3/10\n"
     ]
    },
    {
     "name": "stderr",
     "output_type": "stream",
     "text": []
    },
    {
     "name": "stdout",
     "output_type": "stream",
     "text": [
      "  Train Loss: 0.5755  |  Val Acc: 0.4461  |  Val AUROC: 0.8771\n",
      "Epoch 4/10\n"
     ]
    },
    {
     "name": "stderr",
     "output_type": "stream",
     "text": []
    },
    {
     "name": "stdout",
     "output_type": "stream",
     "text": [
      "  Train Loss: 0.5728  |  Val Acc: 0.8192  |  Val AUROC: 0.8544\n",
      "Epoch 5/10\n"
     ]
    },
    {
     "name": "stderr",
     "output_type": "stream",
     "text": []
    },
    {
     "name": "stdout",
     "output_type": "stream",
     "text": [
      "  Train Loss: 0.5282  |  Val Acc: 0.8513  |  Val AUROC: 0.8993\n",
      "Epoch 6/10\n"
     ]
    },
    {
     "name": "stderr",
     "output_type": "stream",
     "text": []
    },
    {
     "name": "stdout",
     "output_type": "stream",
     "text": [
      "  Train Loss: 0.4742  |  Val Acc: 0.8455  |  Val AUROC: 0.8873\n",
      "Epoch 7/10\n"
     ]
    },
    {
     "name": "stderr",
     "output_type": "stream",
     "text": []
    },
    {
     "name": "stdout",
     "output_type": "stream",
     "text": [
      "  Train Loss: 0.4415  |  Val Acc: 0.8192  |  Val AUROC: 0.8982\n",
      "Epoch 8/10\n"
     ]
    },
    {
     "name": "stderr",
     "output_type": "stream",
     "text": []
    },
    {
     "name": "stdout",
     "output_type": "stream",
     "text": [
      "  Train Loss: 0.3718  |  Val Acc: 0.8455  |  Val AUROC: 0.8870\n",
      "Epoch 9/10\n"
     ]
    },
    {
     "name": "stderr",
     "output_type": "stream",
     "text": []
    },
    {
     "name": "stdout",
     "output_type": "stream",
     "text": [
      "  Train Loss: 0.3135  |  Val Acc: 0.8309  |  Val AUROC: 0.8946\n",
      "Epoch 10/10\n"
     ]
    },
    {
     "name": "stderr",
     "output_type": "stream",
     "text": [
      "                                                                                "
     ]
    },
    {
     "name": "stdout",
     "output_type": "stream",
     "text": [
      "  Train Loss: 0.2677  |  Val Acc: 0.8367  |  Val AUROC: 0.8949\n"
     ]
    },
    {
     "name": "stderr",
     "output_type": "stream",
     "text": [
      "\r"
     ]
    }
   ],
   "source": [
    "\n",
    "img_dir  = f'{DATA_PATH}/images'\n",
    "\n",
    "train_ds = ChestXrayDataset(train_df, img_dir, transform=train_transforms)\n",
    "train_loader = DataLoader(train_ds, batch_size=64, shuffle=True, num_workers=90, pin_memory=True)\n",
    "\n",
    "val_ds   = ChestXrayDataset(val_df,   img_dir, transform=val_transforms)\n",
    "val_loader   = DataLoader(val_ds,   batch_size=32, num_workers=32, pin_memory=True)\n",
    "\n",
    "auroc = BinaryAUROC().to(device)\n",
    "\n",
    "for epoch in range(1, epochs + 1):\n",
    "    print(f\"Epoch {epoch}/{epochs}\")\n",
    "\n",
    "    train_loss = train_loop(model, train_loader, criterion, optimizer, scheduler, device)\n",
    "    val_acc, val_auroc = val_loop(model, val_loader, criterion, auroc, device)\n",
    "\n",
    "    print(f\"  Train Loss: {train_loss:.4f}  |  Val Acc: {val_acc:.4f}  |  Val AUROC: {val_auroc:.4f}\")"
   ]
  },
  {
   "cell_type": "code",
   "execution_count": null,
   "id": "3ZSqTvTCUVvi",
   "metadata": {
    "colab": {
     "base_uri": "https://localhost:8080/"
    },
    "id": "3ZSqTvTCUVvi",
    "outputId": "1a23a9e9-36a2-4099-950b-2abb60060b66"
   },
   "outputs": [
    {
     "name": "stdout",
     "output_type": "stream",
     "text": [
      "Model saved successfully!\n"
     ]
    }
   ],
   "source": [
    "# Save the trained model\n",
    "torch.save(model.state_dict(), './densenet121-classification.pth')\n",
    "print(\"Model saved successfully!\")"
   ]
  },
  {
   "cell_type": "markdown",
   "id": "G2gzcB-Z5_Xi",
   "metadata": {
    "id": "G2gzcB-Z5_Xi"
   },
   "source": [
    "### Benchmarking model architectures\n",
    "\n",
    "A **CNN architecture** is the specific design or structure of a convolutional neural network. Different architectures (like ResNet, DenseNet, EfficientNet, Swin Transformer) use different building blocks:\n",
    "- **Skip connections:** Allow information to skip layers, helping very deep networks learn better (used in ResNet).\n",
    "- **Dense connections:** Connect each layer to every other layer in a block, improving information flow (used in DenseNet).\n",
    "- **Normalization layers:** Help stabilize and speed up training by keeping the data flowing through the network at a similar scale.\n",
    "\n",
    "Trying different architectures is important because some may work better for your specific problem. In this section, you will train and compare several architectures to see which performs best on your data."
   ]
  },
  {
   "cell_type": "markdown",
   "id": "LPuX8sCi6FvW",
   "metadata": {
    "id": "LPuX8sCi6FvW"
   },
   "source": [
    "<div class=\"alert alert-block alert-info\">\n",
    "<b>Q3.</b> In deep learning, different **model architectures** can have a big impact on performance. Complete the following cells to train and compare these models:\n",
    "    - EfficientNet\n",
    "    - Swin Transformer\n",
    "</div>\n",
    "\n",
    "Comparing different models helps you understand which design works best for your specific task and data."
   ]
  },
  {
   "cell_type": "markdown",
   "id": "E_0Pwmcd97n8",
   "metadata": {
    "id": "E_0Pwmcd97n8"
   },
   "source": [
    "### EfficientNet"
   ]
  },
  {
   "cell_type": "code",
   "execution_count": null,
   "id": "yOEjyXbo-Dty",
   "metadata": {
    "colab": {
     "base_uri": "https://localhost:8080/"
    },
    "id": "yOEjyXbo-Dty",
    "outputId": "6658ad02-76e2-4aee-8cdd-03a04d89fa66"
   },
   "outputs": [
    {
     "name": "stdout",
     "output_type": "stream",
     "text": [
      "EfficientNet(\n",
      "  (features): Sequential(\n",
      "    (0): Conv2dNormActivation(\n",
      "      (0): Conv2d(3, 32, kernel_size=(3, 3), stride=(2, 2), padding=(1, 1), bias=False)\n",
      "      (1): BatchNorm2d(32, eps=1e-05, momentum=0.1, affine=True, track_running_stats=True)\n",
      "      (2): SiLU(inplace=True)\n",
      "    )\n",
      "    (1): Sequential(\n",
      "      (0): MBConv(\n",
      "        (block): Sequential(\n",
      "          (0): Conv2dNormActivation(\n",
      "            (0): Conv2d(32, 32, kernel_size=(3, 3), stride=(1, 1), padding=(1, 1), groups=32, bias=False)\n",
      "            (1): BatchNorm2d(32, eps=1e-05, momentum=0.1, affine=True, track_running_stats=True)\n",
      "            (2): SiLU(inplace=True)\n",
      "          )\n",
      "          (1): SqueezeExcitation(\n",
      "            (avgpool): AdaptiveAvgPool2d(output_size=1)\n",
      "            (fc1): Conv2d(32, 8, kernel_size=(1, 1), stride=(1, 1))\n",
      "            (fc2): Conv2d(8, 32, kernel_size=(1, 1), stride=(1, 1))\n",
      "            (activation): SiLU(inplace=True)\n",
      "            (scale_activation): Sigmoid()\n",
      "          )\n",
      "          (2): Conv2dNormActivation(\n",
      "            (0): Conv2d(32, 16, kernel_size=(1, 1), stride=(1, 1), bias=False)\n",
      "            (1): BatchNorm2d(16, eps=1e-05, momentum=0.1, affine=True, track_running_stats=True)\n",
      "          )\n",
      "        )\n",
      "        (stochastic_depth): StochasticDepth(p=0.0, mode=row)\n",
      "      )\n",
      "    )\n",
      "    (2): Sequential(\n",
      "      (0): MBConv(\n",
      "        (block): Sequential(\n",
      "          (0): Conv2dNormActivation(\n",
      "            (0): Conv2d(16, 96, kernel_size=(1, 1), stride=(1, 1), bias=False)\n",
      "            (1): BatchNorm2d(96, eps=1e-05, momentum=0.1, affine=True, track_running_stats=True)\n",
      "            (2): SiLU(inplace=True)\n",
      "          )\n",
      "          (1): Conv2dNormActivation(\n",
      "            (0): Conv2d(96, 96, kernel_size=(3, 3), stride=(2, 2), padding=(1, 1), groups=96, bias=False)\n",
      "            (1): BatchNorm2d(96, eps=1e-05, momentum=0.1, affine=True, track_running_stats=True)\n",
      "            (2): SiLU(inplace=True)\n",
      "          )\n",
      "          (2): SqueezeExcitation(\n",
      "            (avgpool): AdaptiveAvgPool2d(output_size=1)\n",
      "            (fc1): Conv2d(96, 4, kernel_size=(1, 1), stride=(1, 1))\n",
      "            (fc2): Conv2d(4, 96, kernel_size=(1, 1), stride=(1, 1))\n",
      "            (activation): SiLU(inplace=True)\n",
      "            (scale_activation): Sigmoid()\n",
      "          )\n",
      "          (3): Conv2dNormActivation(\n",
      "            (0): Conv2d(96, 24, kernel_size=(1, 1), stride=(1, 1), bias=False)\n",
      "            (1): BatchNorm2d(24, eps=1e-05, momentum=0.1, affine=True, track_running_stats=True)\n",
      "          )\n",
      "        )\n",
      "        (stochastic_depth): StochasticDepth(p=0.0125, mode=row)\n",
      "      )\n",
      "      (1): MBConv(\n",
      "        (block): Sequential(\n",
      "          (0): Conv2dNormActivation(\n",
      "            (0): Conv2d(24, 144, kernel_size=(1, 1), stride=(1, 1), bias=False)\n",
      "            (1): BatchNorm2d(144, eps=1e-05, momentum=0.1, affine=True, track_running_stats=True)\n",
      "            (2): SiLU(inplace=True)\n",
      "          )\n",
      "          (1): Conv2dNormActivation(\n",
      "            (0): Conv2d(144, 144, kernel_size=(3, 3), stride=(1, 1), padding=(1, 1), groups=144, bias=False)\n",
      "            (1): BatchNorm2d(144, eps=1e-05, momentum=0.1, affine=True, track_running_stats=True)\n",
      "            (2): SiLU(inplace=True)\n",
      "          )\n",
      "          (2): SqueezeExcitation(\n",
      "            (avgpool): AdaptiveAvgPool2d(output_size=1)\n",
      "            (fc1): Conv2d(144, 6, kernel_size=(1, 1), stride=(1, 1))\n",
      "            (fc2): Conv2d(6, 144, kernel_size=(1, 1), stride=(1, 1))\n",
      "            (activation): SiLU(inplace=True)\n",
      "            (scale_activation): Sigmoid()\n",
      "          )\n",
      "          (3): Conv2dNormActivation(\n",
      "            (0): Conv2d(144, 24, kernel_size=(1, 1), stride=(1, 1), bias=False)\n",
      "            (1): BatchNorm2d(24, eps=1e-05, momentum=0.1, affine=True, track_running_stats=True)\n",
      "          )\n",
      "        )\n",
      "        (stochastic_depth): StochasticDepth(p=0.025, mode=row)\n",
      "      )\n",
      "    )\n",
      "    (3): Sequential(\n",
      "      (0): MBConv(\n",
      "        (block): Sequential(\n",
      "          (0): Conv2dNormActivation(\n",
      "            (0): Conv2d(24, 144, kernel_size=(1, 1), stride=(1, 1), bias=False)\n",
      "            (1): BatchNorm2d(144, eps=1e-05, momentum=0.1, affine=True, track_running_stats=True)\n",
      "            (2): SiLU(inplace=True)\n",
      "          )\n",
      "          (1): Conv2dNormActivation(\n",
      "            (0): Conv2d(144, 144, kernel_size=(5, 5), stride=(2, 2), padding=(2, 2), groups=144, bias=False)\n",
      "            (1): BatchNorm2d(144, eps=1e-05, momentum=0.1, affine=True, track_running_stats=True)\n",
      "            (2): SiLU(inplace=True)\n",
      "          )\n",
      "          (2): SqueezeExcitation(\n",
      "            (avgpool): AdaptiveAvgPool2d(output_size=1)\n",
      "            (fc1): Conv2d(144, 6, kernel_size=(1, 1), stride=(1, 1))\n",
      "            (fc2): Conv2d(6, 144, kernel_size=(1, 1), stride=(1, 1))\n",
      "            (activation): SiLU(inplace=True)\n",
      "            (scale_activation): Sigmoid()\n",
      "          )\n",
      "          (3): Conv2dNormActivation(\n",
      "            (0): Conv2d(144, 40, kernel_size=(1, 1), stride=(1, 1), bias=False)\n",
      "            (1): BatchNorm2d(40, eps=1e-05, momentum=0.1, affine=True, track_running_stats=True)\n",
      "          )\n",
      "        )\n",
      "        (stochastic_depth): StochasticDepth(p=0.037500000000000006, mode=row)\n",
      "      )\n",
      "      (1): MBConv(\n",
      "        (block): Sequential(\n",
      "          (0): Conv2dNormActivation(\n",
      "            (0): Conv2d(40, 240, kernel_size=(1, 1), stride=(1, 1), bias=False)\n",
      "            (1): BatchNorm2d(240, eps=1e-05, momentum=0.1, affine=True, track_running_stats=True)\n",
      "            (2): SiLU(inplace=True)\n",
      "          )\n",
      "          (1): Conv2dNormActivation(\n",
      "            (0): Conv2d(240, 240, kernel_size=(5, 5), stride=(1, 1), padding=(2, 2), groups=240, bias=False)\n",
      "            (1): BatchNorm2d(240, eps=1e-05, momentum=0.1, affine=True, track_running_stats=True)\n",
      "            (2): SiLU(inplace=True)\n",
      "          )\n",
      "          (2): SqueezeExcitation(\n",
      "            (avgpool): AdaptiveAvgPool2d(output_size=1)\n",
      "            (fc1): Conv2d(240, 10, kernel_size=(1, 1), stride=(1, 1))\n",
      "            (fc2): Conv2d(10, 240, kernel_size=(1, 1), stride=(1, 1))\n",
      "            (activation): SiLU(inplace=True)\n",
      "            (scale_activation): Sigmoid()\n",
      "          )\n",
      "          (3): Conv2dNormActivation(\n",
      "            (0): Conv2d(240, 40, kernel_size=(1, 1), stride=(1, 1), bias=False)\n",
      "            (1): BatchNorm2d(40, eps=1e-05, momentum=0.1, affine=True, track_running_stats=True)\n",
      "          )\n",
      "        )\n",
      "        (stochastic_depth): StochasticDepth(p=0.05, mode=row)\n",
      "      )\n",
      "    )\n",
      "    (4): Sequential(\n",
      "      (0): MBConv(\n",
      "        (block): Sequential(\n",
      "          (0): Conv2dNormActivation(\n",
      "            (0): Conv2d(40, 240, kernel_size=(1, 1), stride=(1, 1), bias=False)\n",
      "            (1): BatchNorm2d(240, eps=1e-05, momentum=0.1, affine=True, track_running_stats=True)\n",
      "            (2): SiLU(inplace=True)\n",
      "          )\n",
      "          (1): Conv2dNormActivation(\n",
      "            (0): Conv2d(240, 240, kernel_size=(3, 3), stride=(2, 2), padding=(1, 1), groups=240, bias=False)\n",
      "            (1): BatchNorm2d(240, eps=1e-05, momentum=0.1, affine=True, track_running_stats=True)\n",
      "            (2): SiLU(inplace=True)\n",
      "          )\n",
      "          (2): SqueezeExcitation(\n",
      "            (avgpool): AdaptiveAvgPool2d(output_size=1)\n",
      "            (fc1): Conv2d(240, 10, kernel_size=(1, 1), stride=(1, 1))\n",
      "            (fc2): Conv2d(10, 240, kernel_size=(1, 1), stride=(1, 1))\n",
      "            (activation): SiLU(inplace=True)\n",
      "            (scale_activation): Sigmoid()\n",
      "          )\n",
      "          (3): Conv2dNormActivation(\n",
      "            (0): Conv2d(240, 80, kernel_size=(1, 1), stride=(1, 1), bias=False)\n",
      "            (1): BatchNorm2d(80, eps=1e-05, momentum=0.1, affine=True, track_running_stats=True)\n",
      "          )\n",
      "        )\n",
      "        (stochastic_depth): StochasticDepth(p=0.0625, mode=row)\n",
      "      )\n",
      "      (1): MBConv(\n",
      "        (block): Sequential(\n",
      "          (0): Conv2dNormActivation(\n",
      "            (0): Conv2d(80, 480, kernel_size=(1, 1), stride=(1, 1), bias=False)\n",
      "            (1): BatchNorm2d(480, eps=1e-05, momentum=0.1, affine=True, track_running_stats=True)\n",
      "            (2): SiLU(inplace=True)\n",
      "          )\n",
      "          (1): Conv2dNormActivation(\n",
      "            (0): Conv2d(480, 480, kernel_size=(3, 3), stride=(1, 1), padding=(1, 1), groups=480, bias=False)\n",
      "            (1): BatchNorm2d(480, eps=1e-05, momentum=0.1, affine=True, track_running_stats=True)\n",
      "            (2): SiLU(inplace=True)\n",
      "          )\n",
      "          (2): SqueezeExcitation(\n",
      "            (avgpool): AdaptiveAvgPool2d(output_size=1)\n",
      "            (fc1): Conv2d(480, 20, kernel_size=(1, 1), stride=(1, 1))\n",
      "            (fc2): Conv2d(20, 480, kernel_size=(1, 1), stride=(1, 1))\n",
      "            (activation): SiLU(inplace=True)\n",
      "            (scale_activation): Sigmoid()\n",
      "          )\n",
      "          (3): Conv2dNormActivation(\n",
      "            (0): Conv2d(480, 80, kernel_size=(1, 1), stride=(1, 1), bias=False)\n",
      "            (1): BatchNorm2d(80, eps=1e-05, momentum=0.1, affine=True, track_running_stats=True)\n",
      "          )\n",
      "        )\n",
      "        (stochastic_depth): StochasticDepth(p=0.07500000000000001, mode=row)\n",
      "      )\n",
      "      (2): MBConv(\n",
      "        (block): Sequential(\n",
      "          (0): Conv2dNormActivation(\n",
      "            (0): Conv2d(80, 480, kernel_size=(1, 1), stride=(1, 1), bias=False)\n",
      "            (1): BatchNorm2d(480, eps=1e-05, momentum=0.1, affine=True, track_running_stats=True)\n",
      "            (2): SiLU(inplace=True)\n",
      "          )\n",
      "          (1): Conv2dNormActivation(\n",
      "            (0): Conv2d(480, 480, kernel_size=(3, 3), stride=(1, 1), padding=(1, 1), groups=480, bias=False)\n",
      "            (1): BatchNorm2d(480, eps=1e-05, momentum=0.1, affine=True, track_running_stats=True)\n",
      "            (2): SiLU(inplace=True)\n",
      "          )\n",
      "          (2): SqueezeExcitation(\n",
      "            (avgpool): AdaptiveAvgPool2d(output_size=1)\n",
      "            (fc1): Conv2d(480, 20, kernel_size=(1, 1), stride=(1, 1))\n",
      "            (fc2): Conv2d(20, 480, kernel_size=(1, 1), stride=(1, 1))\n",
      "            (activation): SiLU(inplace=True)\n",
      "            (scale_activation): Sigmoid()\n",
      "          )\n",
      "          (3): Conv2dNormActivation(\n",
      "            (0): Conv2d(480, 80, kernel_size=(1, 1), stride=(1, 1), bias=False)\n",
      "            (1): BatchNorm2d(80, eps=1e-05, momentum=0.1, affine=True, track_running_stats=True)\n",
      "          )\n",
      "        )\n",
      "        (stochastic_depth): StochasticDepth(p=0.08750000000000001, mode=row)\n",
      "      )\n",
      "    )\n",
      "    (5): Sequential(\n",
      "      (0): MBConv(\n",
      "        (block): Sequential(\n",
      "          (0): Conv2dNormActivation(\n",
      "            (0): Conv2d(80, 480, kernel_size=(1, 1), stride=(1, 1), bias=False)\n",
      "            (1): BatchNorm2d(480, eps=1e-05, momentum=0.1, affine=True, track_running_stats=True)\n",
      "            (2): SiLU(inplace=True)\n",
      "          )\n",
      "          (1): Conv2dNormActivation(\n",
      "            (0): Conv2d(480, 480, kernel_size=(5, 5), stride=(1, 1), padding=(2, 2), groups=480, bias=False)\n",
      "            (1): BatchNorm2d(480, eps=1e-05, momentum=0.1, affine=True, track_running_stats=True)\n",
      "            (2): SiLU(inplace=True)\n",
      "          )\n",
      "          (2): SqueezeExcitation(\n",
      "            (avgpool): AdaptiveAvgPool2d(output_size=1)\n",
      "            (fc1): Conv2d(480, 20, kernel_size=(1, 1), stride=(1, 1))\n",
      "            (fc2): Conv2d(20, 480, kernel_size=(1, 1), stride=(1, 1))\n",
      "            (activation): SiLU(inplace=True)\n",
      "            (scale_activation): Sigmoid()\n",
      "          )\n",
      "          (3): Conv2dNormActivation(\n",
      "            (0): Conv2d(480, 112, kernel_size=(1, 1), stride=(1, 1), bias=False)\n",
      "            (1): BatchNorm2d(112, eps=1e-05, momentum=0.1, affine=True, track_running_stats=True)\n",
      "          )\n",
      "        )\n",
      "        (stochastic_depth): StochasticDepth(p=0.1, mode=row)\n",
      "      )\n",
      "      (1): MBConv(\n",
      "        (block): Sequential(\n",
      "          (0): Conv2dNormActivation(\n",
      "            (0): Conv2d(112, 672, kernel_size=(1, 1), stride=(1, 1), bias=False)\n",
      "            (1): BatchNorm2d(672, eps=1e-05, momentum=0.1, affine=True, track_running_stats=True)\n",
      "            (2): SiLU(inplace=True)\n",
      "          )\n",
      "          (1): Conv2dNormActivation(\n",
      "            (0): Conv2d(672, 672, kernel_size=(5, 5), stride=(1, 1), padding=(2, 2), groups=672, bias=False)\n",
      "            (1): BatchNorm2d(672, eps=1e-05, momentum=0.1, affine=True, track_running_stats=True)\n",
      "            (2): SiLU(inplace=True)\n",
      "          )\n",
      "          (2): SqueezeExcitation(\n",
      "            (avgpool): AdaptiveAvgPool2d(output_size=1)\n",
      "            (fc1): Conv2d(672, 28, kernel_size=(1, 1), stride=(1, 1))\n",
      "            (fc2): Conv2d(28, 672, kernel_size=(1, 1), stride=(1, 1))\n",
      "            (activation): SiLU(inplace=True)\n",
      "            (scale_activation): Sigmoid()\n",
      "          )\n",
      "          (3): Conv2dNormActivation(\n",
      "            (0): Conv2d(672, 112, kernel_size=(1, 1), stride=(1, 1), bias=False)\n",
      "            (1): BatchNorm2d(112, eps=1e-05, momentum=0.1, affine=True, track_running_stats=True)\n",
      "          )\n",
      "        )\n",
      "        (stochastic_depth): StochasticDepth(p=0.1125, mode=row)\n",
      "      )\n",
      "      (2): MBConv(\n",
      "        (block): Sequential(\n",
      "          (0): Conv2dNormActivation(\n",
      "            (0): Conv2d(112, 672, kernel_size=(1, 1), stride=(1, 1), bias=False)\n",
      "            (1): BatchNorm2d(672, eps=1e-05, momentum=0.1, affine=True, track_running_stats=True)\n",
      "            (2): SiLU(inplace=True)\n",
      "          )\n",
      "          (1): Conv2dNormActivation(\n",
      "            (0): Conv2d(672, 672, kernel_size=(5, 5), stride=(1, 1), padding=(2, 2), groups=672, bias=False)\n",
      "            (1): BatchNorm2d(672, eps=1e-05, momentum=0.1, affine=True, track_running_stats=True)\n",
      "            (2): SiLU(inplace=True)\n",
      "          )\n",
      "          (2): SqueezeExcitation(\n",
      "            (avgpool): AdaptiveAvgPool2d(output_size=1)\n",
      "            (fc1): Conv2d(672, 28, kernel_size=(1, 1), stride=(1, 1))\n",
      "            (fc2): Conv2d(28, 672, kernel_size=(1, 1), stride=(1, 1))\n",
      "            (activation): SiLU(inplace=True)\n",
      "            (scale_activation): Sigmoid()\n",
      "          )\n",
      "          (3): Conv2dNormActivation(\n",
      "            (0): Conv2d(672, 112, kernel_size=(1, 1), stride=(1, 1), bias=False)\n",
      "            (1): BatchNorm2d(112, eps=1e-05, momentum=0.1, affine=True, track_running_stats=True)\n",
      "          )\n",
      "        )\n",
      "        (stochastic_depth): StochasticDepth(p=0.125, mode=row)\n",
      "      )\n",
      "    )\n",
      "    (6): Sequential(\n",
      "      (0): MBConv(\n",
      "        (block): Sequential(\n",
      "          (0): Conv2dNormActivation(\n",
      "            (0): Conv2d(112, 672, kernel_size=(1, 1), stride=(1, 1), bias=False)\n",
      "            (1): BatchNorm2d(672, eps=1e-05, momentum=0.1, affine=True, track_running_stats=True)\n",
      "            (2): SiLU(inplace=True)\n",
      "          )\n",
      "          (1): Conv2dNormActivation(\n",
      "            (0): Conv2d(672, 672, kernel_size=(5, 5), stride=(2, 2), padding=(2, 2), groups=672, bias=False)\n",
      "            (1): BatchNorm2d(672, eps=1e-05, momentum=0.1, affine=True, track_running_stats=True)\n",
      "            (2): SiLU(inplace=True)\n",
      "          )\n",
      "          (2): SqueezeExcitation(\n",
      "            (avgpool): AdaptiveAvgPool2d(output_size=1)\n",
      "            (fc1): Conv2d(672, 28, kernel_size=(1, 1), stride=(1, 1))\n",
      "            (fc2): Conv2d(28, 672, kernel_size=(1, 1), stride=(1, 1))\n",
      "            (activation): SiLU(inplace=True)\n",
      "            (scale_activation): Sigmoid()\n",
      "          )\n",
      "          (3): Conv2dNormActivation(\n",
      "            (0): Conv2d(672, 192, kernel_size=(1, 1), stride=(1, 1), bias=False)\n",
      "            (1): BatchNorm2d(192, eps=1e-05, momentum=0.1, affine=True, track_running_stats=True)\n",
      "          )\n",
      "        )\n",
      "        (stochastic_depth): StochasticDepth(p=0.1375, mode=row)\n",
      "      )\n",
      "      (1): MBConv(\n",
      "        (block): Sequential(\n",
      "          (0): Conv2dNormActivation(\n",
      "            (0): Conv2d(192, 1152, kernel_size=(1, 1), stride=(1, 1), bias=False)\n",
      "            (1): BatchNorm2d(1152, eps=1e-05, momentum=0.1, affine=True, track_running_stats=True)\n",
      "            (2): SiLU(inplace=True)\n",
      "          )\n",
      "          (1): Conv2dNormActivation(\n",
      "            (0): Conv2d(1152, 1152, kernel_size=(5, 5), stride=(1, 1), padding=(2, 2), groups=1152, bias=False)\n",
      "            (1): BatchNorm2d(1152, eps=1e-05, momentum=0.1, affine=True, track_running_stats=True)\n",
      "            (2): SiLU(inplace=True)\n",
      "          )\n",
      "          (2): SqueezeExcitation(\n",
      "            (avgpool): AdaptiveAvgPool2d(output_size=1)\n",
      "            (fc1): Conv2d(1152, 48, kernel_size=(1, 1), stride=(1, 1))\n",
      "            (fc2): Conv2d(48, 1152, kernel_size=(1, 1), stride=(1, 1))\n",
      "            (activation): SiLU(inplace=True)\n",
      "            (scale_activation): Sigmoid()\n",
      "          )\n",
      "          (3): Conv2dNormActivation(\n",
      "            (0): Conv2d(1152, 192, kernel_size=(1, 1), stride=(1, 1), bias=False)\n",
      "            (1): BatchNorm2d(192, eps=1e-05, momentum=0.1, affine=True, track_running_stats=True)\n",
      "          )\n",
      "        )\n",
      "        (stochastic_depth): StochasticDepth(p=0.15000000000000002, mode=row)\n",
      "      )\n",
      "      (2): MBConv(\n",
      "        (block): Sequential(\n",
      "          (0): Conv2dNormActivation(\n",
      "            (0): Conv2d(192, 1152, kernel_size=(1, 1), stride=(1, 1), bias=False)\n",
      "            (1): BatchNorm2d(1152, eps=1e-05, momentum=0.1, affine=True, track_running_stats=True)\n",
      "            (2): SiLU(inplace=True)\n",
      "          )\n",
      "          (1): Conv2dNormActivation(\n",
      "            (0): Conv2d(1152, 1152, kernel_size=(5, 5), stride=(1, 1), padding=(2, 2), groups=1152, bias=False)\n",
      "            (1): BatchNorm2d(1152, eps=1e-05, momentum=0.1, affine=True, track_running_stats=True)\n",
      "            (2): SiLU(inplace=True)\n",
      "          )\n",
      "          (2): SqueezeExcitation(\n",
      "            (avgpool): AdaptiveAvgPool2d(output_size=1)\n",
      "            (fc1): Conv2d(1152, 48, kernel_size=(1, 1), stride=(1, 1))\n",
      "            (fc2): Conv2d(48, 1152, kernel_size=(1, 1), stride=(1, 1))\n",
      "            (activation): SiLU(inplace=True)\n",
      "            (scale_activation): Sigmoid()\n",
      "          )\n",
      "          (3): Conv2dNormActivation(\n",
      "            (0): Conv2d(1152, 192, kernel_size=(1, 1), stride=(1, 1), bias=False)\n",
      "            (1): BatchNorm2d(192, eps=1e-05, momentum=0.1, affine=True, track_running_stats=True)\n",
      "          )\n",
      "        )\n",
      "        (stochastic_depth): StochasticDepth(p=0.1625, mode=row)\n",
      "      )\n",
      "      (3): MBConv(\n",
      "        (block): Sequential(\n",
      "          (0): Conv2dNormActivation(\n",
      "            (0): Conv2d(192, 1152, kernel_size=(1, 1), stride=(1, 1), bias=False)\n",
      "            (1): BatchNorm2d(1152, eps=1e-05, momentum=0.1, affine=True, track_running_stats=True)\n",
      "            (2): SiLU(inplace=True)\n",
      "          )\n",
      "          (1): Conv2dNormActivation(\n",
      "            (0): Conv2d(1152, 1152, kernel_size=(5, 5), stride=(1, 1), padding=(2, 2), groups=1152, bias=False)\n",
      "            (1): BatchNorm2d(1152, eps=1e-05, momentum=0.1, affine=True, track_running_stats=True)\n",
      "            (2): SiLU(inplace=True)\n",
      "          )\n",
      "          (2): SqueezeExcitation(\n",
      "            (avgpool): AdaptiveAvgPool2d(output_size=1)\n",
      "            (fc1): Conv2d(1152, 48, kernel_size=(1, 1), stride=(1, 1))\n",
      "            (fc2): Conv2d(48, 1152, kernel_size=(1, 1), stride=(1, 1))\n",
      "            (activation): SiLU(inplace=True)\n",
      "            (scale_activation): Sigmoid()\n",
      "          )\n",
      "          (3): Conv2dNormActivation(\n",
      "            (0): Conv2d(1152, 192, kernel_size=(1, 1), stride=(1, 1), bias=False)\n",
      "            (1): BatchNorm2d(192, eps=1e-05, momentum=0.1, affine=True, track_running_stats=True)\n",
      "          )\n",
      "        )\n",
      "        (stochastic_depth): StochasticDepth(p=0.17500000000000002, mode=row)\n",
      "      )\n",
      "    )\n",
      "    (7): Sequential(\n",
      "      (0): MBConv(\n",
      "        (block): Sequential(\n",
      "          (0): Conv2dNormActivation(\n",
      "            (0): Conv2d(192, 1152, kernel_size=(1, 1), stride=(1, 1), bias=False)\n",
      "            (1): BatchNorm2d(1152, eps=1e-05, momentum=0.1, affine=True, track_running_stats=True)\n",
      "            (2): SiLU(inplace=True)\n",
      "          )\n",
      "          (1): Conv2dNormActivation(\n",
      "            (0): Conv2d(1152, 1152, kernel_size=(3, 3), stride=(1, 1), padding=(1, 1), groups=1152, bias=False)\n",
      "            (1): BatchNorm2d(1152, eps=1e-05, momentum=0.1, affine=True, track_running_stats=True)\n",
      "            (2): SiLU(inplace=True)\n",
      "          )\n",
      "          (2): SqueezeExcitation(\n",
      "            (avgpool): AdaptiveAvgPool2d(output_size=1)\n",
      "            (fc1): Conv2d(1152, 48, kernel_size=(1, 1), stride=(1, 1))\n",
      "            (fc2): Conv2d(48, 1152, kernel_size=(1, 1), stride=(1, 1))\n",
      "            (activation): SiLU(inplace=True)\n",
      "            (scale_activation): Sigmoid()\n",
      "          )\n",
      "          (3): Conv2dNormActivation(\n",
      "            (0): Conv2d(1152, 320, kernel_size=(1, 1), stride=(1, 1), bias=False)\n",
      "            (1): BatchNorm2d(320, eps=1e-05, momentum=0.1, affine=True, track_running_stats=True)\n",
      "          )\n",
      "        )\n",
      "        (stochastic_depth): StochasticDepth(p=0.1875, mode=row)\n",
      "      )\n",
      "    )\n",
      "    (8): Conv2dNormActivation(\n",
      "      (0): Conv2d(320, 1280, kernel_size=(1, 1), stride=(1, 1), bias=False)\n",
      "      (1): BatchNorm2d(1280, eps=1e-05, momentum=0.1, affine=True, track_running_stats=True)\n",
      "      (2): SiLU(inplace=True)\n",
      "    )\n",
      "  )\n",
      "  (avgpool): AdaptiveAvgPool2d(output_size=1)\n",
      "  (classifier): Sequential(\n",
      "    (0): Dropout(p=0.2, inplace=True)\n",
      "    (1): Linear(in_features=1280, out_features=1, bias=True)\n",
      "  )\n",
      ")\n",
      "Epoch 1/10\n"
     ]
    },
    {
     "name": "stderr",
     "output_type": "stream",
     "text": []
    },
    {
     "name": "stdout",
     "output_type": "stream",
     "text": [
      "  Train Loss: 0.8551  |  Val Acc: 0.7522  |  Val AUROC: 0.8459\n",
      "Epoch 2/10\n"
     ]
    },
    {
     "name": "stderr",
     "output_type": "stream",
     "text": []
    },
    {
     "name": "stdout",
     "output_type": "stream",
     "text": [
      "  Train Loss: 0.5895  |  Val Acc: 0.6939  |  Val AUROC: 0.8797\n",
      "Epoch 3/10\n"
     ]
    },
    {
     "name": "stderr",
     "output_type": "stream",
     "text": []
    },
    {
     "name": "stdout",
     "output_type": "stream",
     "text": [
      "  Train Loss: 0.5616  |  Val Acc: 0.8251  |  Val AUROC: 0.8970\n",
      "Epoch 4/10\n"
     ]
    },
    {
     "name": "stderr",
     "output_type": "stream",
     "text": []
    },
    {
     "name": "stdout",
     "output_type": "stream",
     "text": [
      "  Train Loss: 0.5101  |  Val Acc: 0.8484  |  Val AUROC: 0.8949\n",
      "Epoch 5/10\n"
     ]
    },
    {
     "name": "stderr",
     "output_type": "stream",
     "text": []
    },
    {
     "name": "stdout",
     "output_type": "stream",
     "text": [
      "  Train Loss: 0.4756  |  Val Acc: 0.8513  |  Val AUROC: 0.9066\n",
      "Epoch 6/10\n"
     ]
    },
    {
     "name": "stderr",
     "output_type": "stream",
     "text": []
    },
    {
     "name": "stdout",
     "output_type": "stream",
     "text": [
      "  Train Loss: 0.4218  |  Val Acc: 0.8280  |  Val AUROC: 0.9094\n",
      "Epoch 7/10\n"
     ]
    },
    {
     "name": "stderr",
     "output_type": "stream",
     "text": []
    },
    {
     "name": "stdout",
     "output_type": "stream",
     "text": [
      "  Train Loss: 0.3758  |  Val Acc: 0.8338  |  Val AUROC: 0.9074\n",
      "Epoch 8/10\n"
     ]
    },
    {
     "name": "stderr",
     "output_type": "stream",
     "text": []
    },
    {
     "name": "stdout",
     "output_type": "stream",
     "text": [
      "  Train Loss: 0.3038  |  Val Acc: 0.8513  |  Val AUROC: 0.9156\n",
      "Epoch 9/10\n"
     ]
    },
    {
     "name": "stderr",
     "output_type": "stream",
     "text": []
    },
    {
     "name": "stdout",
     "output_type": "stream",
     "text": [
      "  Train Loss: 0.2492  |  Val Acc: 0.8426  |  Val AUROC: 0.9142\n",
      "Epoch 10/10\n"
     ]
    },
    {
     "name": "stderr",
     "output_type": "stream",
     "text": [
      "                                                                                "
     ]
    },
    {
     "name": "stdout",
     "output_type": "stream",
     "text": [
      "  Train Loss: 0.2312  |  Val Acc: 0.8513  |  Val AUROC: 0.9153\n"
     ]
    },
    {
     "name": "stderr",
     "output_type": "stream",
     "text": [
      "\r"
     ]
    }
   ],
   "source": [
    "from torchvision.models import efficientnet_b0, EfficientNet_B0_Weights\n",
    "device = torch.device(\"cuda\" if torch.cuda.is_available() else \"cpu\")\n",
    "\n",
    "model_enb0 = ... # COMPLETE\n",
    "model_enb0.classifier[1] = nn.Linear(1280, 1)\n",
    "\n",
    "model = ... # COMPLETE to device\n",
    "print(model)\n",
    "\n",
    "learning_rate = ... # COMPLETE\n",
    "batch_size = ... # COMPLETE\n",
    "epochs = ... # COMPLETE\n",
    "\n",
    "pos_frac = train_df['Binary Label'].mean()\n",
    "pos_weight = torch.tensor([(1 - pos_frac) / pos_frac]).to(device)\n",
    "criterion  = ... # COMPLETE\n",
    "\n",
    "optimizer = ... # COMPLETE\n",
    "scheduler = OneCycleLR(optimizer, max_lr=learning_rate, epochs=epochs, steps_per_epoch=len(train_loader), total_steps=epochs * len(train_loader)) # Explicitly set total_steps\n",
    "\n",
    "img_dir  = f'{DATA_PATH}/images'\n",
    "\n",
    "train_ds = ChestXrayDataset(train_df, img_dir, transform=train_transforms)\n",
    "train_loader = DataLoader(train_ds, batch_size=64, shuffle=True, num_workers=90, pin_memory=True)\n",
    "\n",
    "val_ds   = ChestXrayDataset(val_df,   img_dir, transform=val_transforms)\n",
    "val_loader   = DataLoader(val_ds,   batch_size=32, num_workers=32, pin_memory=True)\n",
    "\n",
    "auroc = BinaryAUROC().to(device)\n",
    "\n",
    "for epoch in range(1, epochs + 1):\n",
    "    print(f\"Epoch {epoch}/{epochs}\")\n",
    "\n",
    "    train_loss = train_loop(model, train_loader, criterion, optimizer, scheduler, device)\n",
    "    val_acc, val_auroc = val_loop(model, val_loader, criterion, auroc, device)\n",
    "\n",
    "    print(f\"  Train Loss: {train_loss:.4f}  |  Val Acc: {val_acc:.4f}  |  Val AUROC: {val_auroc:.4f}\")"
   ]
  },
  {
   "cell_type": "markdown",
   "id": "JzA6UGh4BuQE",
   "metadata": {
    "id": "JzA6UGh4BuQE"
   },
   "source": [
    "Save the trained model"
   ]
  },
  {
   "cell_type": "code",
   "execution_count": null,
   "id": "UPrVGIycBtwk",
   "metadata": {
    "colab": {
     "base_uri": "https://localhost:8080/"
    },
    "id": "UPrVGIycBtwk",
    "outputId": "a94ff7e2-ddaf-4982-ef63-024fa58b5b94"
   },
   "outputs": [
    {
     "name": "stdout",
     "output_type": "stream",
     "text": [
      "Model saved successfully!\n"
     ]
    }
   ],
   "source": [
    "torch.save(model.state_dict(), './efficientnet-classification.pth')\n",
    "print(\"Model saved successfully!\")"
   ]
  },
  {
   "cell_type": "markdown",
   "id": "P2PotfWt9_ef",
   "metadata": {
    "id": "P2PotfWt9_ef"
   },
   "source": [
    "### SwinTransformer"
   ]
  },
  {
   "cell_type": "code",
   "execution_count": null,
   "id": "UD-eEjS8_PWr",
   "metadata": {
    "colab": {
     "base_uri": "https://localhost:8080/"
    },
    "id": "UD-eEjS8_PWr",
    "outputId": "5778a8c4-93f8-41e6-b54c-545cb304ca62"
   },
   "outputs": [
    {
     "name": "stdout",
     "output_type": "stream",
     "text": [
      "SwinTransformer(\n",
      "  (features): Sequential(\n",
      "    (0): Sequential(\n",
      "      (0): Conv2d(3, 96, kernel_size=(4, 4), stride=(4, 4))\n",
      "      (1): Permute()\n",
      "      (2): LayerNorm((96,), eps=1e-05, elementwise_affine=True)\n",
      "    )\n",
      "    (1): Sequential(\n",
      "      (0): SwinTransformerBlock(\n",
      "        (norm1): LayerNorm((96,), eps=1e-05, elementwise_affine=True)\n",
      "        (attn): ShiftedWindowAttention(\n",
      "          (qkv): Linear(in_features=96, out_features=288, bias=True)\n",
      "          (proj): Linear(in_features=96, out_features=96, bias=True)\n",
      "        )\n",
      "        (stochastic_depth): StochasticDepth(p=0.0, mode=row)\n",
      "        (norm2): LayerNorm((96,), eps=1e-05, elementwise_affine=True)\n",
      "        (mlp): MLP(\n",
      "          (0): Linear(in_features=96, out_features=384, bias=True)\n",
      "          (1): GELU(approximate='none')\n",
      "          (2): Dropout(p=0.0, inplace=False)\n",
      "          (3): Linear(in_features=384, out_features=96, bias=True)\n",
      "          (4): Dropout(p=0.0, inplace=False)\n",
      "        )\n",
      "      )\n",
      "      (1): SwinTransformerBlock(\n",
      "        (norm1): LayerNorm((96,), eps=1e-05, elementwise_affine=True)\n",
      "        (attn): ShiftedWindowAttention(\n",
      "          (qkv): Linear(in_features=96, out_features=288, bias=True)\n",
      "          (proj): Linear(in_features=96, out_features=96, bias=True)\n",
      "        )\n",
      "        (stochastic_depth): StochasticDepth(p=0.018181818181818184, mode=row)\n",
      "        (norm2): LayerNorm((96,), eps=1e-05, elementwise_affine=True)\n",
      "        (mlp): MLP(\n",
      "          (0): Linear(in_features=96, out_features=384, bias=True)\n",
      "          (1): GELU(approximate='none')\n",
      "          (2): Dropout(p=0.0, inplace=False)\n",
      "          (3): Linear(in_features=384, out_features=96, bias=True)\n",
      "          (4): Dropout(p=0.0, inplace=False)\n",
      "        )\n",
      "      )\n",
      "    )\n",
      "    (2): PatchMerging(\n",
      "      (reduction): Linear(in_features=384, out_features=192, bias=False)\n",
      "      (norm): LayerNorm((384,), eps=1e-05, elementwise_affine=True)\n",
      "    )\n",
      "    (3): Sequential(\n",
      "      (0): SwinTransformerBlock(\n",
      "        (norm1): LayerNorm((192,), eps=1e-05, elementwise_affine=True)\n",
      "        (attn): ShiftedWindowAttention(\n",
      "          (qkv): Linear(in_features=192, out_features=576, bias=True)\n",
      "          (proj): Linear(in_features=192, out_features=192, bias=True)\n",
      "        )\n",
      "        (stochastic_depth): StochasticDepth(p=0.03636363636363637, mode=row)\n",
      "        (norm2): LayerNorm((192,), eps=1e-05, elementwise_affine=True)\n",
      "        (mlp): MLP(\n",
      "          (0): Linear(in_features=192, out_features=768, bias=True)\n",
      "          (1): GELU(approximate='none')\n",
      "          (2): Dropout(p=0.0, inplace=False)\n",
      "          (3): Linear(in_features=768, out_features=192, bias=True)\n",
      "          (4): Dropout(p=0.0, inplace=False)\n",
      "        )\n",
      "      )\n",
      "      (1): SwinTransformerBlock(\n",
      "        (norm1): LayerNorm((192,), eps=1e-05, elementwise_affine=True)\n",
      "        (attn): ShiftedWindowAttention(\n",
      "          (qkv): Linear(in_features=192, out_features=576, bias=True)\n",
      "          (proj): Linear(in_features=192, out_features=192, bias=True)\n",
      "        )\n",
      "        (stochastic_depth): StochasticDepth(p=0.05454545454545456, mode=row)\n",
      "        (norm2): LayerNorm((192,), eps=1e-05, elementwise_affine=True)\n",
      "        (mlp): MLP(\n",
      "          (0): Linear(in_features=192, out_features=768, bias=True)\n",
      "          (1): GELU(approximate='none')\n",
      "          (2): Dropout(p=0.0, inplace=False)\n",
      "          (3): Linear(in_features=768, out_features=192, bias=True)\n",
      "          (4): Dropout(p=0.0, inplace=False)\n",
      "        )\n",
      "      )\n",
      "    )\n",
      "    (4): PatchMerging(\n",
      "      (reduction): Linear(in_features=768, out_features=384, bias=False)\n",
      "      (norm): LayerNorm((768,), eps=1e-05, elementwise_affine=True)\n",
      "    )\n",
      "    (5): Sequential(\n",
      "      (0): SwinTransformerBlock(\n",
      "        (norm1): LayerNorm((384,), eps=1e-05, elementwise_affine=True)\n",
      "        (attn): ShiftedWindowAttention(\n",
      "          (qkv): Linear(in_features=384, out_features=1152, bias=True)\n",
      "          (proj): Linear(in_features=384, out_features=384, bias=True)\n",
      "        )\n",
      "        (stochastic_depth): StochasticDepth(p=0.07272727272727274, mode=row)\n",
      "        (norm2): LayerNorm((384,), eps=1e-05, elementwise_affine=True)\n",
      "        (mlp): MLP(\n",
      "          (0): Linear(in_features=384, out_features=1536, bias=True)\n",
      "          (1): GELU(approximate='none')\n",
      "          (2): Dropout(p=0.0, inplace=False)\n",
      "          (3): Linear(in_features=1536, out_features=384, bias=True)\n",
      "          (4): Dropout(p=0.0, inplace=False)\n",
      "        )\n",
      "      )\n",
      "      (1): SwinTransformerBlock(\n",
      "        (norm1): LayerNorm((384,), eps=1e-05, elementwise_affine=True)\n",
      "        (attn): ShiftedWindowAttention(\n",
      "          (qkv): Linear(in_features=384, out_features=1152, bias=True)\n",
      "          (proj): Linear(in_features=384, out_features=384, bias=True)\n",
      "        )\n",
      "        (stochastic_depth): StochasticDepth(p=0.09090909090909091, mode=row)\n",
      "        (norm2): LayerNorm((384,), eps=1e-05, elementwise_affine=True)\n",
      "        (mlp): MLP(\n",
      "          (0): Linear(in_features=384, out_features=1536, bias=True)\n",
      "          (1): GELU(approximate='none')\n",
      "          (2): Dropout(p=0.0, inplace=False)\n",
      "          (3): Linear(in_features=1536, out_features=384, bias=True)\n",
      "          (4): Dropout(p=0.0, inplace=False)\n",
      "        )\n",
      "      )\n",
      "      (2): SwinTransformerBlock(\n",
      "        (norm1): LayerNorm((384,), eps=1e-05, elementwise_affine=True)\n",
      "        (attn): ShiftedWindowAttention(\n",
      "          (qkv): Linear(in_features=384, out_features=1152, bias=True)\n",
      "          (proj): Linear(in_features=384, out_features=384, bias=True)\n",
      "        )\n",
      "        (stochastic_depth): StochasticDepth(p=0.10909090909090911, mode=row)\n",
      "        (norm2): LayerNorm((384,), eps=1e-05, elementwise_affine=True)\n",
      "        (mlp): MLP(\n",
      "          (0): Linear(in_features=384, out_features=1536, bias=True)\n",
      "          (1): GELU(approximate='none')\n",
      "          (2): Dropout(p=0.0, inplace=False)\n",
      "          (3): Linear(in_features=1536, out_features=384, bias=True)\n",
      "          (4): Dropout(p=0.0, inplace=False)\n",
      "        )\n",
      "      )\n",
      "      (3): SwinTransformerBlock(\n",
      "        (norm1): LayerNorm((384,), eps=1e-05, elementwise_affine=True)\n",
      "        (attn): ShiftedWindowAttention(\n",
      "          (qkv): Linear(in_features=384, out_features=1152, bias=True)\n",
      "          (proj): Linear(in_features=384, out_features=384, bias=True)\n",
      "        )\n",
      "        (stochastic_depth): StochasticDepth(p=0.1272727272727273, mode=row)\n",
      "        (norm2): LayerNorm((384,), eps=1e-05, elementwise_affine=True)\n",
      "        (mlp): MLP(\n",
      "          (0): Linear(in_features=384, out_features=1536, bias=True)\n",
      "          (1): GELU(approximate='none')\n",
      "          (2): Dropout(p=0.0, inplace=False)\n",
      "          (3): Linear(in_features=1536, out_features=384, bias=True)\n",
      "          (4): Dropout(p=0.0, inplace=False)\n",
      "        )\n",
      "      )\n",
      "      (4): SwinTransformerBlock(\n",
      "        (norm1): LayerNorm((384,), eps=1e-05, elementwise_affine=True)\n",
      "        (attn): ShiftedWindowAttention(\n",
      "          (qkv): Linear(in_features=384, out_features=1152, bias=True)\n",
      "          (proj): Linear(in_features=384, out_features=384, bias=True)\n",
      "        )\n",
      "        (stochastic_depth): StochasticDepth(p=0.14545454545454548, mode=row)\n",
      "        (norm2): LayerNorm((384,), eps=1e-05, elementwise_affine=True)\n",
      "        (mlp): MLP(\n",
      "          (0): Linear(in_features=384, out_features=1536, bias=True)\n",
      "          (1): GELU(approximate='none')\n",
      "          (2): Dropout(p=0.0, inplace=False)\n",
      "          (3): Linear(in_features=1536, out_features=384, bias=True)\n",
      "          (4): Dropout(p=0.0, inplace=False)\n",
      "        )\n",
      "      )\n",
      "      (5): SwinTransformerBlock(\n",
      "        (norm1): LayerNorm((384,), eps=1e-05, elementwise_affine=True)\n",
      "        (attn): ShiftedWindowAttention(\n",
      "          (qkv): Linear(in_features=384, out_features=1152, bias=True)\n",
      "          (proj): Linear(in_features=384, out_features=384, bias=True)\n",
      "        )\n",
      "        (stochastic_depth): StochasticDepth(p=0.16363636363636364, mode=row)\n",
      "        (norm2): LayerNorm((384,), eps=1e-05, elementwise_affine=True)\n",
      "        (mlp): MLP(\n",
      "          (0): Linear(in_features=384, out_features=1536, bias=True)\n",
      "          (1): GELU(approximate='none')\n",
      "          (2): Dropout(p=0.0, inplace=False)\n",
      "          (3): Linear(in_features=1536, out_features=384, bias=True)\n",
      "          (4): Dropout(p=0.0, inplace=False)\n",
      "        )\n",
      "      )\n",
      "    )\n",
      "    (6): PatchMerging(\n",
      "      (reduction): Linear(in_features=1536, out_features=768, bias=False)\n",
      "      (norm): LayerNorm((1536,), eps=1e-05, elementwise_affine=True)\n",
      "    )\n",
      "    (7): Sequential(\n",
      "      (0): SwinTransformerBlock(\n",
      "        (norm1): LayerNorm((768,), eps=1e-05, elementwise_affine=True)\n",
      "        (attn): ShiftedWindowAttention(\n",
      "          (qkv): Linear(in_features=768, out_features=2304, bias=True)\n",
      "          (proj): Linear(in_features=768, out_features=768, bias=True)\n",
      "        )\n",
      "        (stochastic_depth): StochasticDepth(p=0.18181818181818182, mode=row)\n",
      "        (norm2): LayerNorm((768,), eps=1e-05, elementwise_affine=True)\n",
      "        (mlp): MLP(\n",
      "          (0): Linear(in_features=768, out_features=3072, bias=True)\n",
      "          (1): GELU(approximate='none')\n",
      "          (2): Dropout(p=0.0, inplace=False)\n",
      "          (3): Linear(in_features=3072, out_features=768, bias=True)\n",
      "          (4): Dropout(p=0.0, inplace=False)\n",
      "        )\n",
      "      )\n",
      "      (1): SwinTransformerBlock(\n",
      "        (norm1): LayerNorm((768,), eps=1e-05, elementwise_affine=True)\n",
      "        (attn): ShiftedWindowAttention(\n",
      "          (qkv): Linear(in_features=768, out_features=2304, bias=True)\n",
      "          (proj): Linear(in_features=768, out_features=768, bias=True)\n",
      "        )\n",
      "        (stochastic_depth): StochasticDepth(p=0.2, mode=row)\n",
      "        (norm2): LayerNorm((768,), eps=1e-05, elementwise_affine=True)\n",
      "        (mlp): MLP(\n",
      "          (0): Linear(in_features=768, out_features=3072, bias=True)\n",
      "          (1): GELU(approximate='none')\n",
      "          (2): Dropout(p=0.0, inplace=False)\n",
      "          (3): Linear(in_features=3072, out_features=768, bias=True)\n",
      "          (4): Dropout(p=0.0, inplace=False)\n",
      "        )\n",
      "      )\n",
      "    )\n",
      "  )\n",
      "  (norm): LayerNorm((768,), eps=1e-05, elementwise_affine=True)\n",
      "  (permute): Permute()\n",
      "  (avgpool): AdaptiveAvgPool2d(output_size=1)\n",
      "  (flatten): Flatten(start_dim=1, end_dim=-1)\n",
      "  (head): Linear(in_features=768, out_features=1, bias=True)\n",
      ")\n",
      "Epoch 1/10\n"
     ]
    },
    {
     "name": "stderr",
     "output_type": "stream",
     "text": []
    },
    {
     "name": "stdout",
     "output_type": "stream",
     "text": [
      "  Train Loss: 0.7774  |  Val Acc: 0.7668  |  Val AUROC: 0.8487\n",
      "Epoch 2/10\n"
     ]
    },
    {
     "name": "stderr",
     "output_type": "stream",
     "text": []
    },
    {
     "name": "stdout",
     "output_type": "stream",
     "text": [
      "  Train Loss: 0.7689  |  Val Acc: 0.8105  |  Val AUROC: 0.8488\n",
      "Epoch 3/10\n"
     ]
    },
    {
     "name": "stderr",
     "output_type": "stream",
     "text": []
    },
    {
     "name": "stdout",
     "output_type": "stream",
     "text": [
      "  Train Loss: 0.7750  |  Val Acc: 0.8047  |  Val AUROC: 0.8429\n",
      "Epoch 4/10\n"
     ]
    },
    {
     "name": "stderr",
     "output_type": "stream",
     "text": []
    },
    {
     "name": "stdout",
     "output_type": "stream",
     "text": [
      "  Train Loss: 0.7090  |  Val Acc: 0.8017  |  Val AUROC: 0.8656\n",
      "Epoch 5/10\n"
     ]
    },
    {
     "name": "stderr",
     "output_type": "stream",
     "text": []
    },
    {
     "name": "stdout",
     "output_type": "stream",
     "text": [
      "  Train Loss: 0.6766  |  Val Acc: 0.8047  |  Val AUROC: 0.8402\n",
      "Epoch 6/10\n"
     ]
    },
    {
     "name": "stderr",
     "output_type": "stream",
     "text": []
    },
    {
     "name": "stdout",
     "output_type": "stream",
     "text": [
      "  Train Loss: 0.6341  |  Val Acc: 0.8192  |  Val AUROC: 0.8655\n",
      "Epoch 7/10\n"
     ]
    },
    {
     "name": "stderr",
     "output_type": "stream",
     "text": []
    },
    {
     "name": "stdout",
     "output_type": "stream",
     "text": [
      "  Train Loss: 0.5643  |  Val Acc: 0.8338  |  Val AUROC: 0.8927\n",
      "Epoch 8/10\n"
     ]
    },
    {
     "name": "stderr",
     "output_type": "stream",
     "text": []
    },
    {
     "name": "stdout",
     "output_type": "stream",
     "text": [
      "  Train Loss: 0.5432  |  Val Acc: 0.8367  |  Val AUROC: 0.8938\n",
      "Epoch 9/10\n"
     ]
    },
    {
     "name": "stderr",
     "output_type": "stream",
     "text": []
    },
    {
     "name": "stdout",
     "output_type": "stream",
     "text": [
      "  Train Loss: 0.5116  |  Val Acc: 0.8222  |  Val AUROC: 0.8855\n",
      "Epoch 10/10\n"
     ]
    },
    {
     "name": "stderr",
     "output_type": "stream",
     "text": [
      "                                                                                "
     ]
    },
    {
     "name": "stdout",
     "output_type": "stream",
     "text": [
      "  Train Loss: 0.4928  |  Val Acc: 0.8192  |  Val AUROC: 0.8867\n"
     ]
    },
    {
     "name": "stderr",
     "output_type": "stream",
     "text": [
      "\r"
     ]
    }
   ],
   "source": [
    "from torchvision.models import swin_t, Swin_T_Weights\n",
    "device = torch.device(\"cuda\" if torch.cuda.is_available() else \"cpu\")\n",
    "\n",
    "model_swin = ... # COMPLETE\n",
    "model_swin.head = nn.Linear(in_features=768, out_features=1, bias=True)\n",
    "model = ... # COMPLETE to device\n",
    "print(model)\n",
    "\n",
    "learning_rate = ... # COMPLETE\n",
    "batch_size = ... # COMPLETE\n",
    "epochs = ... # COMPLETE\n",
    "\n",
    "pos_frac = train_df['Binary Label'].mean()\n",
    "pos_weight = torch.tensor([(1 - pos_frac) / pos_frac]).to(device)\n",
    "criterion  = ... # COMPLETE\n",
    "\n",
    "optimizer = ... # COMPLETE\n",
    "scheduler = OneCycleLR(optimizer, max_lr=learning_rate, epochs=epochs, steps_per_epoch=len(train_loader), total_steps=epochs * len(train_loader)) # Explicitly set total_steps\n",
    "\n",
    "img_dir  = f'{DATA_PATH}/CXR8/images'\n",
    "\n",
    "train_ds = ChestXrayDataset(train_df, img_dir, transform=train_transforms)\n",
    "train_loader = DataLoader(train_ds, batch_size=64, shuffle=True, num_workers=90, pin_memory=True)\n",
    "\n",
    "val_ds   = ChestXrayDataset(val_df,   img_dir, transform=val_transforms)\n",
    "val_loader   = DataLoader(val_ds,   batch_size=32, num_workers=32, pin_memory=True)\n",
    "\n",
    "auroc = BinaryAUROC().to(device)\n",
    "\n",
    "for epoch in range(1, epochs + 1):\n",
    "    print(f\"Epoch {epoch}/{epochs}\")\n",
    "\n",
    "    train_loss = train_loop(model, train_loader, criterion, optimizer, scheduler, device)\n",
    "    val_acc, val_auroc = val_loop(model, val_loader, criterion, auroc, device)\n",
    "\n",
    "    print(f\"  Train Loss: {train_loss:.4f}  |  Val Acc: {val_acc:.4f}  |  Val AUROC: {val_auroc:.4f}\")"
   ]
  },
  {
   "cell_type": "markdown",
   "id": "vRndhnzxAAk8",
   "metadata": {
    "id": "vRndhnzxAAk8"
   },
   "source": [
    "Save the trained model"
   ]
  },
  {
   "cell_type": "code",
   "execution_count": null,
   "id": "4-2fmBih_aOW",
   "metadata": {
    "colab": {
     "base_uri": "https://localhost:8080/"
    },
    "id": "4-2fmBih_aOW",
    "outputId": "232fefd8-4372-479a-b675-c85af60d81fd"
   },
   "outputs": [
    {
     "name": "stdout",
     "output_type": "stream",
     "text": [
      "Model saved successfully!\n"
     ]
    }
   ],
   "source": [
    "torch.save(model.state_dict(), './swintransformer-classification.pth')\n",
    "print(\"Model saved successfully!\")"
   ]
  },
  {
   "cell_type": "markdown",
   "id": "2iEXO2Z46XIu",
   "metadata": {
    "id": "2iEXO2Z46XIu"
   },
   "source": [
    "#### Metrics\n",
    "\n",
    "After training, we need to measure how well our models perform. In deep learning, we use different **metrics** to evaluate models:\n",
    "- **Accuracy:** The percentage of correct predictions.\n",
    "- **Precision:** Of all the images the model said had disease, how many actually did?\n",
    "- **Recall:** Of all the images that really had disease, how many did the model find?\n",
    "- **F1-score:** A balance between precision and recall.\n",
    "- **ROC curve:** A plot that shows how well the model separates healthy from diseased images at different thresholds.\n",
    "\n",
    "Using multiple metrics gives a more complete picture of model performance, especially when the data is imbalanced."
   ]
  },
  {
   "cell_type": "markdown",
   "id": "3q_sCE9k6azN",
   "metadata": {
    "id": "3q_sCE9k6azN"
   },
   "source": [
    "<div class=\"alert alert-block alert-info\">\n",
    "<b>Q4.</b> Compare the performance of the different models using these metrics:\n",
    "    - Plot the **ROC curve**\n",
    "    - Accuracy score\n",
    "    - Precision and Recall\n",
    "    - F1-score\n",
    "</div>\n",
    "\n",
    "Comparing models with these metrics helps you choose the best one for your task."
   ]
  },
  {
   "cell_type": "markdown",
   "id": "wNVpLAryCLmx",
   "metadata": {
    "id": "wNVpLAryCLmx"
   },
   "source": [
    "Load the saved models"
   ]
  },
  {
   "cell_type": "code",
   "execution_count": null,
   "id": "-dMPkiNwCNCW",
   "metadata": {
    "colab": {
     "base_uri": "https://localhost:8080/"
    },
    "id": "-dMPkiNwCNCW",
    "outputId": "9c51e6da-a361-4183-f2cb-cc0d4e4c032f"
   },
   "outputs": [
    {
     "data": {
      "text/plain": [
       "<All keys matched successfully>"
      ]
     },
     "execution_count": 71,
     "metadata": {},
     "output_type": "execute_result"
    }
   ],
   "source": [
    "model_densenet = ... # COMPLETE\n",
    "model_densenet.classifier = ... # COMPLETE\n",
    "\n",
    "model_enb0 = ... # COMPLETE\n",
    "model_enb0.classifier[1] = ... # COMPLETE\n",
    "\n",
    "model_swin = ... # COMPLETE\n",
    "model_swin.head = ... # COMPLETE\n",
    "\n",
    "device = torch.device(\"cuda\" if torch.cuda.is_available() else \"cpu\")\n",
    "model_densenet.load_state_dict(torch.load('... # COMPLETE))\n",
    "model_enb0.load_state_dict(torch.load('.... # COMPLETE))\n",
    "model_swin.load_state_dict(torch.load('.... # COMPLETE))\n"
   ]
  },
  {
   "cell_type": "markdown",
   "id": "cBlyZIx2HKEI",
   "metadata": {
    "id": "cBlyZIx2HKEI"
   },
   "source": [
    "Now lets compute the metrics and plot all models:"
   ]
  },
  {
   "cell_type": "code",
   "execution_count": null,
   "id": "T8ucAs1OG5dj",
   "metadata": {
    "colab": {
     "base_uri": "https://localhost:8080/",
     "height": 972
    },
    "id": "T8ucAs1OG5dj",
    "outputId": "084bc62b-317e-4c3a-cdd5-05c0a7f8cc04"
   },
   "outputs": [
    {
     "name": "stdout",
     "output_type": "stream",
     "text": [
      "Model: DenseNet 121\n",
      "  Accuracy : 0.8693\n",
      "  Precision: 0.7544\n",
      "  Recall   : 0.8366\n",
      "  F1-score : 0.7934\n",
      "  ROC AUC  : 0.9158\n",
      "------------------------------\n",
      "Model: EfficientNet B0\n",
      "  Accuracy : 0.8623\n",
      "  Precision: 0.7324\n",
      "  Recall   : 0.8521\n",
      "  F1-score : 0.7878\n",
      "  ROC AUC  : 0.9141\n",
      "------------------------------\n",
      "Model: Swin Transformer\n",
      "  Accuracy : 0.8576\n",
      "  Precision: 0.7288\n",
      "  Recall   : 0.8366\n",
      "  F1-score : 0.7790\n",
      "  ROC AUC  : 0.9101\n",
      "------------------------------\n"
     ]
    },
    {
     "data": {
      "image/png": "[encoded data removed]",
      "text/plain": [
       "<Figure size 800x600 with 1 Axes>"
      ]
     },
     "metadata": {},
     "output_type": "display_data"
    }
   ],
   "source": [
    "test_ds     = ChestXrayDataset(test_df, img_dir, transform=val_transforms)\n",
    "test_loader = DataLoader(\n",
    "    test_ds,\n",
    "    batch_size=32,\n",
    "    num_workers=32,\n",
    "    pin_memory=True,\n",
    "    shuffle=False\n",
    ")\n",
    "\n",
    "model_list  = [model_densenet, model_enb0, model_swin]\n",
    "model_names = ['DenseNet 121', 'EfficientNet B0', 'Swin Transformer']\n",
    "\n",
    "all_preds_proba = {}\n",
    "all_labels      = None\n",
    "\n",
    "for model, name in zip(model_list, model_names):\n",
    "    model.eval()\n",
    "    model.to(device)\n",
    "\n",
    "    probs_list, labels_list = [], []\n",
    "\n",
    "    with torch.no_grad():\n",
    "        for X, y in test_loader:\n",
    "            X = X.to(device)\n",
    "            out = model(X)\n",
    "            probs = torch.sigmoid(out)\n",
    "            probs = probs.squeeze(1)\n",
    "            probs_list.extend(probs.cpu().numpy())\n",
    "            labels_list.extend(y.numpy())\n",
    "\n",
    "    preds_proba = np.array(probs_list)\n",
    "    labels      = np.array(labels_list)\n",
    "\n",
    "    all_preds_proba[name] = preds_proba\n",
    "    if all_labels is None:\n",
    "        all_labels = labels\n",
    "\n",
    "    preds_binary = (preds_proba > 0.5).astype(int)\n",
    "\n",
    "    acc     = ... # COMPLETE\n",
    "    prec    = ... # COMPLETE\n",
    "    rec     = ... # COMPLETE\n",
    "    f1      = ... # COMPLETE\n",
    "    roc_auc = ... # COMPLETE)\n",
    "\n",
    "... # COMPLETE WITH ROC Curve display, and other metrics\n"
   ]
  },
  {
   "cell_type": "markdown",
   "id": "rXOMzIexIo2L",
   "metadata": {
    "id": "rXOMzIexIo2L"
   },
   "source": [
    "### Summary: Key Deep Learning Terms\n",
    "\n",
    "- **Dataset:** The collection of images and labels we use to train and test our model.\n",
    "- **Label:** The answer we want the model to predict (e.g., healthy or diseased).\n",
    "- **Model architecture:** The design or structure of the neural network.\n",
    "- **Training:** Teaching the model using known data.\n",
    "- **Validation:** Checking the model's performance during training.\n",
    "- **Test set:** Data the model has never seen, used to measure final performance.\n",
    "- **Batch/Epoch:** Groups of data and full passes through the dataset.\n",
    "- **Loss function:** Measures how wrong the model's predictions are.\n",
    "- **Optimizer:** Algorithm that updates the model's parameters to reduce loss.\n",
    "- **Metric:** A way to measure how well the model is doing.\n",
    "\n",
    "Reflect on these terms as you work through the notebook—they are the foundation of deep learning!"
   ]
  },
  {
   "cell_type": "markdown",
   "id": "Tnfbq-WwLpHo",
   "metadata": {
    "id": "Tnfbq-WwLpHo"
   },
   "source": [
    "# Detection\n",
    "\n",
    "\n",
    "Now that we have seen how to perform classification, we will train a detection model.\n",
    "In classification, our goal was simply to assign a single label to the entire input (e.g., “normal” vs. “pneumonia”), relying on feature\n",
    "extractors like ResNet or EfficientNet to encode global image cues. By contrast, detection requires both identifying and localizing multiple regions of interest—such as nodules, organs, or lesions—within a single image.\n",
    "\n",
    "We will use the dataset from the [RSNA Pneumonia Detection Challenge](https://www.kaggle.com/competitions/rsna-pneumonia-detection-challenge/overview).\n",
    "\n",
    "In this challenge competitors are predicting whether pneumonia exists in a given image. They do so by predicting bounding boxes around areas of the lung. Samples without bounding boxes are negative and contain no definitive evidence of pneumonia. Samples with bounding boxes indicate evidence of pneumonia.\n",
    "\n",
    "When making predictions, competitors should predict as many bounding boxes as they feel are necessary, in the format:\n",
    "confidence x-min y-min width height\n",
    "\n",
    "All provided images are in DICOM format. Data fields availables in the `labels.csv` file are the following:\n",
    "* patientId _- A patientId. Each patientId corresponds to a unique image.\n",
    "* x_ - the upper-left x coordinate of the bounding box.\n",
    "* y_ - the upper-left y coordinate of the bounding box.\n",
    "* width_ - the width of the bounding box.\n",
    "* height_ - the height of the bounding box.\n",
    "* Target_ - the binary Target, indicating whether this sample has evidence of pneumonia."
   ]
  },
  {
   "cell_type": "code",
   "execution_count": null,
   "id": "fe0a83b5-3546-4ef4-aae9-1f8750f6089a",
   "metadata": {
    "id": "fe0a83b5-3546-4ef4-aae9-1f8750f6089a"
   },
   "outputs": [],
   "source": [
    "from torchvision.utils import draw_bounding_boxes\n",
    "!pip install pycocotools\n",
    "os.system(\"wget https://raw.githubusercontent.com/pytorch/vision/main/references/detection/engine.py\")\n",
    "os.system(\"wget https://raw.githubusercontent.com/pytorch/vision/main/references/detection/utils.py\")\n",
    "os.system(\"wget https://raw.githubusercontent.com/pytorch/vision/main/references/detection/coco_utils.py\")\n",
    "os.system(\"wget https://raw.githubusercontent.com/pytorch/vision/main/references/detection/coco_eval.py\")\n",
    "os.system(\"wget https://raw.githubusercontent.com/pytorch/vision/main/references/detection/transforms.py\")\n",
    "import utils\n",
    "from engine import train_one_epoch, evaluate"
   ]
  },
  {
   "cell_type": "markdown",
   "id": "6c350533-1d8c-4f62-9b96-b59df60e10a9",
   "metadata": {
    "id": "6c350533-1d8c-4f62-9b96-b59df60e10a9"
   },
   "source": [
    "For detection, `Dataset` classes must be constructed differently. Observe the following one:"
   ]
  },
  {
   "cell_type": "code",
   "execution_count": null,
   "id": "77gBMdz-OCEd",
   "metadata": {
    "id": "77gBMdz-OCEd"
   },
   "outputs": [],
   "source": [
    "class PredictionDataset(Dataset):\n",
    "    def __init__(self, dataframe, image_dir, transforms=None):\n",
    "        super().__init__()\n",
    "\n",
    "        self.image_ids = dataframe['patientId'].unique()\n",
    "        self.df = dataframe\n",
    "        self.image_dir = image_dir\n",
    "        self.transforms = transforms\n",
    "\n",
    "    def __getitem__(self, index: int):\n",
    "\n",
    "        image_id = self.image_ids[index]\n",
    "        records = self.df[self.df['patientId'] == image_id]\n",
    "\n",
    "        image_dicom = pydicom.dcmread(f'{self.image_dir}/{image_id}.dcm')\n",
    "        image = image_dicom.pixel_array\n",
    "        image = cv2.cvtColor(image, cv2.COLOR_GRAY2RGB).astype(np.float32)\n",
    "        image /= 255.0\n",
    "        image = np.transpose(image, (2, 0, 1))\n",
    "        image = tv_tensors.Image(image)\n",
    "        # Define the transform\n",
    "        resize_transform = torchvision.transforms.Resize((256, 256))\n",
    "        # Apply the transform\n",
    "        resized_img = resize_transform(image)\n",
    "\n",
    "        boxes = records[['x', 'y', 'width', 'height']].values\n",
    "        boxes[:,2] = boxes[:,0] + boxes[:,2]\n",
    "        boxes[:,3] = boxes[:,1] + boxes[:,3]\n",
    "\n",
    "        area = (boxes[:,3] - boxes[:,1]) * (boxes[:,2] - boxes[:,0])\n",
    "        area = torch.as_tensor(area, dtype=torch.float32)\n",
    "\n",
    "        # there is only one class\n",
    "        labels = torch.ones((records.shape[0],), dtype=torch.int64)\n",
    "\n",
    "        # suppose all instances are not crowd\n",
    "        iscrowd = torch.zeros((records.shape[0],), dtype=torch.int64)\n",
    "\n",
    "        target = {}\n",
    "        target['boxes'] = tv_tensors.BoundingBoxes(boxes, format=\"XYXY\", canvas_size=(1024,1024)).float()\n",
    "        target['labels'] = labels\n",
    "        target['patientId'] = torch.tensor([index]).float()\n",
    "        target['area'] = area.float()\n",
    "        target['iscrowd'] = iscrowd\n",
    "\n",
    "        if self.transforms:\n",
    "            image, target = self.transforms(image, target)\n",
    "\n",
    "        return image.float(), target\n",
    "\n",
    "    def __len__(self) -> int:\n",
    "        return self.image_ids.shape[0]"
   ]
  },
  {
   "cell_type": "markdown",
   "id": "21ad6129-e5b9-458e-a445-8c635c05b892",
   "metadata": {
    "id": "21ad6129-e5b9-458e-a445-8c635c05b892"
   },
   "source": [
    "In our dataset, we have both healthy and pneumonia samples. For classification, we needed to use both. But for detection, we need to filter the dataset to only keep pneumonia samples, as the healthy ones don't have any bounding box labels."
   ]
  },
  {
   "cell_type": "markdown",
   "id": "918699cc-3a9b-4285-a85b-aced29695632",
   "metadata": {
    "id": "918699cc-3a9b-4285-a85b-aced29695632"
   },
   "source": [
    "<div class=\"alert alert-block alert-info\">\n",
    "<b>Q5.</b> Explore the structure of the labels with bounding boxes. How many positive samples (with pneumonia) are in the dataset? What proportion of images contain multiple bounding boxes?\n",
    "</div>"
   ]
  },
  {
   "cell_type": "code",
   "execution_count": null,
   "id": "80669b6c-22b6-4f27-9aa7-2123df075086",
   "metadata": {
    "id": "80669b6c-22b6-4f27-9aa7-2123df075086"
   },
   "outputs": [],
   "source": [
    "# N. of positive samples\n",
    "positive_samples = ... # COMPLETE\n",
    "total_samples = ... # COMPLETE\n",
    "print(f\"Positive cases: {positive_samples} / {total_samples}\")"
   ]
  },
  {
   "cell_type": "code",
   "execution_count": null,
   "id": "b71ed7e2-4db5-4492-a7c5-029e7ba33346",
   "metadata": {
    "id": "b71ed7e2-4db5-4492-a7c5-029e7ba33346"
   },
   "outputs": [],
   "source": [
    "# Images with multiple bbox\n",
    "multiple_boxes = ... # COMPLETE\n",
    "print(f\"Images with >1 bounding box: {(multiple_boxes > 1).sum()}\")"
   ]
  },
  {
   "cell_type": "markdown",
   "id": "dc9c233d-8cd2-41d8-9197-edfa9556819b",
   "metadata": {
    "id": "dc9c233d-8cd2-41d8-9197-edfa9556819b"
   },
   "source": [
    "<div class=\"alert alert-block alert-info\">\n",
    "<b>Q6.</b> Here, we visualize the bounding box on an example image. What challenges might arise in detecting these regions?\n",
    "</div>"
   ]
  },
  {
   "cell_type": "code",
   "execution_count": null,
   "id": "MOpCdoHpOGgB",
   "metadata": {
    "id": "MOpCdoHpOGgB"
   },
   "outputs": [],
   "source": [
    "patient_df = dataset_df[dataset_df.Target == 1].iloc[0]\n",
    "image_dir = f'{DATA_PATH}/rsna-pneumonia-detection-challenge/images' # Change with your path\n",
    "img_path = os.path.join(image_dir, \"{}.dcm\".format(patient_df.patientId))\n",
    "\n",
    "plt.imshow(pydicom.dcmread(img_path).pixel_array, 'Greys')\n",
    "\n",
    "img_size = 1024\n",
    "x, y, w, h = patient_df[['x', 'y', 'width', 'height']].values\n",
    "plt.plot([x, x, x+w, x+w, x], [y, y+h, y+h, y, y], 'red')"
   ]
  },
  {
   "cell_type": "markdown",
   "id": "8199892c-e37c-4d64-a735-5fbded19851c",
   "metadata": {
    "id": "8199892c-e37c-4d64-a735-5fbded19851c"
   },
   "source": [
    "In this exercise, we will use Faster R-CNN. This network integrates a Region Proposal Network (RPN) directly into a two-stage detection framework. In the first stage, the RPN slides small convolutional windows over the shared feature map to generate objectness scores and bounding-box proposals. In the second stage, each proposal is cropped and reshaped via RoI pooling (or RoI Align) and passed through fully connected layers to predict refined box coordinates and classification probabilities."
   ]
  },
  {
   "cell_type": "code",
   "execution_count": null,
   "id": "BnKMNVdqWnlo",
   "metadata": {
    "id": "BnKMNVdqWnlo"
   },
   "outputs": [],
   "source": [
    "patient_list = dataset_df['patientId'].unique()\n",
    "\n",
    "patient_train, patient_test = train_test_split(\n",
    "    patient_list, # List or array to split\n",
    "    test_size=0.2, # Size of the subset\n",
    "    random_state=42)\n",
    "\n",
    "patient_train, patient_val = train_test_split(\n",
    "    patient_train,\n",
    "    test_size=0.1 / 0.8,\n",
    "    random_state=42)\n",
    "\n",
    "train_df = dataset_df.loc[dataset_df['patientId'].isin(patient_train)]\n",
    "val_df = dataset_df.loc[dataset_df['patientId'].isin(patient_val)]\n",
    "test_df = dataset_df.loc[dataset_df['patientId'].isin(patient_test)]\n",
    "\n",
    "train_df_pos = train_df[train_df.Target == 1]\n",
    "val_df_pos = val_df[val_df.Target == 1]\n",
    "test_df_pos = test_df[test_df.Target == 1]\n",
    "\n",
    "train_dataset = PredictionDataset(train_df_pos, image_dir)\n",
    "val_dataset = PredictionDataset(val_df_pos, image_dir)\n",
    "test_dataset = PredictionDataset(test_df_pos, image_dir)\n",
    "\n",
    "train_dataloader = DataLoader(\n",
    "    train_dataset,\n",
    "    batch_size=8,\n",
    "    shuffle=True,\n",
    "    collate_fn = utils.collate_fn\n",
    ")\n",
    "\n",
    "val_dataloader = DataLoader(\n",
    "    val_dataset,\n",
    "    batch_size=1,\n",
    "    shuffle=False,\n",
    "    collate_fn = utils.collate_fn\n",
    ")\n",
    "\n",
    "test_dataloader = DataLoader(\n",
    "    test_dataset,\n",
    "    batch_size=1,\n",
    "    shuffle=False,\n",
    "    collate_fn = utils.collate_fn\n",
    ")"
   ]
  },
  {
   "cell_type": "markdown",
   "id": "36944a56-47ed-41c2-bafc-32978cd85b77",
   "metadata": {
    "id": "36944a56-47ed-41c2-bafc-32978cd85b77"
   },
   "source": [
    "Let's observe what is the output of the model:"
   ]
  },
  {
   "cell_type": "code",
   "execution_count": null,
   "id": "3c54fb2d-79ee-435c-9cd6-9e20f2a8f6ff",
   "metadata": {
    "id": "3c54fb2d-79ee-435c-9cd6-9e20f2a8f6ff"
   },
   "outputs": [],
   "source": [
    "# For Training\n",
    "images, targets = next(iter(train_dataloader))\n",
    "images = list(image for image in images)\n",
    "targets = [{k: v for k, v in t.items()} for t in targets]\n",
    "output = model(images, targets)  # Returns losses and detections\n",
    "print(output)"
   ]
  },
  {
   "cell_type": "markdown",
   "id": "09533698-5904-4c89-9585-0d7f81064dab",
   "metadata": {
    "id": "09533698-5904-4c89-9585-0d7f81064dab"
   },
   "source": [
    "<div class=\"alert alert-block alert-info\">\n",
    "<b>Q6.</b> The bounding boxes are provided as (<code>x, y, width, height</code>). In the <code>Dataset</code> class, we convert them to (<code>x_min, y_min, x_max, y_max</code>) format. Why might this format be useful in practice?\n",
    "</div>"
   ]
  },
  {
   "cell_type": "markdown",
   "id": "7feeb52c-546c-4228-85b0-10232004a866",
   "metadata": {
    "id": "7feeb52c-546c-4228-85b0-10232004a866"
   },
   "source": [
    "Here, we train a FASTER-RCNN model for detection of pneumonia. Observe the following code:"
   ]
  },
  {
   "cell_type": "code",
   "execution_count": null,
   "id": "vbAvLsHCVJwF",
   "metadata": {
    "id": "vbAvLsHCVJwF"
   },
   "outputs": [],
   "source": [
    "model = torchvision.models.detection.fasterrcnn_resnet50_fpn(weights=\"DEFAULT\")"
   ]
  },
  {
   "cell_type": "code",
   "execution_count": null,
   "id": "vql_KGYrkAe2",
   "metadata": {
    "id": "vql_KGYrkAe2"
   },
   "outputs": [],
   "source": [
    "# train on the GPU or on the CPU, if a GPU is not available\n",
    "device = torch.device('cuda') if torch.cuda.is_available() else torch.device('cpu')\n",
    "\n",
    "# our dataset has two classes only - background and pneumonia\n",
    "num_classes = 2\n",
    "\n",
    "# construct an optimizer\n",
    "params = [p for p in model.parameters() if p.requires_grad]\n",
    "optimizer = torch.optim.SGD(\n",
    "    params,\n",
    "    lr=0.005,\n",
    "    momentum=0.9,\n",
    "    weight_decay=0.0005\n",
    ")\n",
    "\n",
    "# and a learning rate scheduler\n",
    "lr_scheduler = torch.optim.lr_scheduler.StepLR(\n",
    "    optimizer,\n",
    "    step_size=3,\n",
    "    gamma=0.1\n",
    ")\n",
    "\n",
    "num_epochs = 5\n",
    "model.to(device)\n",
    "for epoch in range(num_epochs):\n",
    "    # train for one epoch, printing every 10 iterations\n",
    "    train_one_epoch(model, optimizer, train_dataloader, device, epoch, print_freq=1000)\n",
    "    # update the learning rate\n",
    "    lr_scheduler.step()\n",
    "\n",
    "torch.save(model.state_dict(), './fasterrcnn_resnet50_fpn.pth')"
   ]
  },
  {
   "cell_type": "markdown",
   "id": "Y1GEPBSi3cxL",
   "metadata": {
    "id": "Y1GEPBSi3cxL"
   },
   "source": [
    "Here explore the utility functions from kaggle:"
   ]
  },
  {
   "cell_type": "code",
   "execution_count": null,
   "id": "o8_UUSKJOzwa",
   "metadata": {
    "id": "o8_UUSKJOzwa"
   },
   "outputs": [],
   "source": [
    "def calculate_precision(gts, preds, threshold = 0.5, form = 'coco', ious=None) -> float:\n",
    "    # https://www.kaggle.com/sadmanaraf/wheat-detection-using-faster-rcnn-train\n",
    "    \"\"\"Calculates precision for GT - prediction pairs at one threshold.\n",
    "\n",
    "    Args:\n",
    "        gts: (List[List[Union[int, float]]]) Coordinates of the available ground-truth boxes\n",
    "        preds: (List[List[Union[int, float]]]) Coordinates of the predicted boxes,\n",
    "               sorted by confidence value (descending)\n",
    "        threshold: (float) Threshold\n",
    "        form: (str) Format of the coordinates\n",
    "        ious: (np.ndarray) len(gts) x len(preds) matrix for storing calculated ious.\n",
    "\n",
    "    Return:\n",
    "        (float) Precision\n",
    "    \"\"\"\n",
    "    n = len(preds)\n",
    "    tp = 0\n",
    "    fp = 0\n",
    "\n",
    "    for pred_idx in range(n):\n",
    "\n",
    "        best_match_gt_idx = find_best_match(gts, preds[pred_idx], pred_idx,\n",
    "                                            threshold=threshold, form=form, ious=ious)\n",
    "\n",
    "        if best_match_gt_idx >= 0:\n",
    "            # True positive: The predicted box matches a gt box with an IoU above the threshold.\n",
    "            tp += 1\n",
    "            # Remove the matched GT box\n",
    "            gts[best_match_gt_idx] = -1\n",
    "        else:\n",
    "            # No match\n",
    "            # False positive: indicates a predicted box had no associated gt box.\n",
    "            fp += 1\n",
    "\n",
    "    # False negative: indicates a gt box had no associated predicted box.\n",
    "    fn = (gts.sum(axis=1) > 0).sum()\n",
    "\n",
    "    return tp / (tp + fp + fn)\n",
    "\n",
    "def calculate_image_precision(gts, preds, thresholds = (0.5, ), form = 'coco') -> float:\n",
    "    # https://www.kaggle.com/sadmanaraf/wheat-detection-using-faster-rcnn-train\n",
    "    \"\"\"Calculates image precision.\n",
    "\n",
    "    Args:\n",
    "        gts: (List[List[Union[int, float]]]) Coordinates of the available ground-truth boxes\n",
    "        preds: (List[List[Union[int, float]]]) Coordinates of the predicted boxes,\n",
    "               sorted by confidence value (descending)\n",
    "        thresholds: (float) Different thresholds\n",
    "        form: (str) Format of the coordinates\n",
    "\n",
    "    Return:\n",
    "        (float) Precision\n",
    "    \"\"\"\n",
    "    n_threshold = len(thresholds)\n",
    "    image_precision = 0.0\n",
    "\n",
    "    ious = np.ones((len(gts), len(preds))) * -1\n",
    "    # ious = None\n",
    "\n",
    "    for threshold in thresholds:\n",
    "        precision_at_threshold = calculate_precision(gts.copy(), preds, threshold=threshold,\n",
    "                                                     form=form, ious=ious)\n",
    "        image_precision += precision_at_threshold / n_threshold\n",
    "\n",
    "    return image_precision\n",
    "\n",
    "def find_best_match(gts, pred, pred_idx, threshold = 0.5, form = 'pascal_voc', ious=None) -> int:\n",
    "    # https://www.kaggle.com/sadmanaraf/wheat-detection-using-faster-rcnn-train\n",
    "    \"\"\"Returns the index of the 'best match' between the\n",
    "    ground-truth boxes and the prediction. The 'best match'\n",
    "    is the highest IoU. (0.0 IoUs are ignored).\n",
    "\n",
    "    Args:\n",
    "        gts: (List[List[Union[int, float]]]) Coordinates of the available ground-truth boxes\n",
    "        pred: (List[Union[int, float]]) Coordinates of the predicted box\n",
    "        pred_idx: (int) Index of the current predicted box\n",
    "        threshold: (float) Threshold\n",
    "        form: (str) Format of the coordinates\n",
    "        ious: (np.ndarray) len(gts) x len(preds) matrix for storing calculated ious.\n",
    "\n",
    "    Return:\n",
    "        (int) Index of the best match GT box (-1 if no match above threshold)\n",
    "    \"\"\"\n",
    "    best_match_iou = -np.inf\n",
    "    best_match_idx = -1\n",
    "    for gt_idx in range(len(gts)):\n",
    "\n",
    "        if gts[gt_idx][0] < 0:\n",
    "            # Already matched GT-box\n",
    "            continue\n",
    "\n",
    "        iou = -1 if ious is None else ious[gt_idx][pred_idx]\n",
    "\n",
    "        if iou < 0:\n",
    "            iou = calculate_iou(gts[gt_idx], pred, form=form)\n",
    "\n",
    "            if ious is not None:\n",
    "                ious[gt_idx][pred_idx] = iou\n",
    "\n",
    "        if iou < threshold:\n",
    "            continue\n",
    "\n",
    "        if iou > best_match_iou:\n",
    "            best_match_iou = iou\n",
    "            best_match_idx = gt_idx\n",
    "\n",
    "    return best_match_idx\n",
    "\n",
    "def calculate_iou(gt, pr, form='pascal_voc') -> float:\n",
    "    # https://www.kaggle.com/sadmanaraf/wheat-detection-using-faster-rcnn-train\n",
    "    \"\"\"Calculates the Intersection over Union.\n",
    "\n",
    "    Args:\n",
    "        gt: (np.ndarray[Union[int, float]]) coordinates of the ground-truth box\n",
    "        pr: (np.ndarray[Union[int, float]]) coordinates of the prdected box\n",
    "        form: (str) gt/pred coordinates format\n",
    "            - pascal_voc: [xmin, ymin, xmax, ymax]\n",
    "            - coco: [xmin, ymin, w, h]\n",
    "    Returns:\n",
    "        (float) Intersection over union (0.0 <= iou <= 1.0)\n",
    "    \"\"\"\n",
    "    if form == 'coco':\n",
    "        gt = gt.copy()\n",
    "        pr = pr.copy()\n",
    "\n",
    "        gt[2] = gt[0] + gt[2]\n",
    "        gt[3] = gt[1] + gt[3]\n",
    "        pr[2] = pr[0] + pr[2]\n",
    "        pr[3] = pr[1] + pr[3]\n",
    "\n",
    "    # Calculate overlap area\n",
    "    dx = min(gt[2], pr[2]) - max(gt[0], pr[0]) + 1\n",
    "\n",
    "    if dx < 0:\n",
    "        return 0.0\n",
    "    dy = min(gt[3], pr[3]) - max(gt[1], pr[1]) + 1\n",
    "\n",
    "    if dy < 0:\n",
    "        return 0.0\n",
    "\n",
    "    overlap_area = dx * dy\n",
    "\n",
    "    # Calculate union area\n",
    "    union_area = (\n",
    "            (gt[2] - gt[0] + 1) * (gt[3] - gt[1] + 1) +\n",
    "            (pr[2] - pr[0] + 1) * (pr[3] - pr[1] + 1) -\n",
    "            overlap_area\n",
    "    )\n",
    "\n",
    "    return overlap_area / union_area"
   ]
  },
  {
   "cell_type": "code",
   "execution_count": null,
   "id": "CYCBRc8Wpyxs",
   "metadata": {
    "id": "CYCBRc8Wpyxs"
   },
   "outputs": [],
   "source": [
    "precisions = []\n",
    "model = torchvision.models.detection.fasterrcnn_resnet50_fpn()\n",
    "model.load_state_dict(torch.load('./fasterrcnn_resnet50_fpn.pth', map_location=torch.device(device)))\n",
    "model.eval()\n",
    "model.to(device)\n",
    "with torch.no_grad():\n",
    "  for images, targets in val_dataloader:\n",
    "    images = [img.to(device) for img in images]\n",
    "    outputs = model(images)\n",
    "    for tgt, out in zip(targets, outputs):\n",
    "      gt_boxes   = tgt['boxes'].cpu().numpy()\n",
    "      pred_boxes = out['boxes'].cpu().numpy()\n",
    "      pred_scores= out['scores'].cpu().numpy()\n",
    "      # filter by a threshold, e.g. keep only scores > 0.7:\n",
    "      keep = pred_scores > 0.7\n",
    "      pred_boxes = pred_boxes[keep]\n",
    "      precisions.append(\n",
    "        calculate_image_precision(gt_boxes, pred_boxes)\n",
    "      )\n",
    "print(\"Average precision:\", np.mean(precisions))"
   ]
  },
  {
   "cell_type": "markdown",
   "id": "5ed40d39-f325-4ddd-b0bd-624d7a98f8e1",
   "metadata": {
    "id": "5ed40d39-f325-4ddd-b0bd-624d7a98f8e1"
   },
   "source": [
    "<div class=\"alert alert-block alert-info\">\n",
    "<b>Q9.</b> The RSNA challenge uses IoU (Intersection over Union) and mAP (mean Average Precision). <br>\n",
    "    Implement IoU between two bounding boxes and compute the score on validation data. Why is IoU a better fit than accuracy for detection?\n",
    "</div>"
   ]
  },
  {
   "cell_type": "code",
   "execution_count": null,
   "id": "c9e05298-a2c8-4830-9847-d435a432d605",
   "metadata": {
    "id": "c9e05298-a2c8-4830-9847-d435a432d605"
   },
   "outputs": [],
   "source": [
    "def compute_iou(box1, box2):\n",
    "    xA = ... # COMPLETE\n",
    "    yA = ... # COMPLETE\n",
    "    xB = ... # COMPLETE\n",
    "    yB = ... # COMPLETE\n",
    "\n",
    "    interArea = max(0, xB - xA) * max(0, yB - yA)\n",
    "    box1Area = (box1[2] - box1[0]) * (box1[3] - box1[1])\n",
    "    box2Area = (box2[2] - box2[0]) * (box2[3] - box2[1])\n",
    "\n",
    "    iou = ... # COMPLETE\n",
    "    return iou"
   ]
  },
  {
   "cell_type": "markdown",
   "id": "29d22db2-ebe1-4d4b-a78e-01bdf050e7ef",
   "metadata": {
    "id": "29d22db2-ebe1-4d4b-a78e-01bdf050e7ef"
   },
   "source": [
    "<div class=\"alert alert-block alert-info\">\n",
    "<b>Conclude.</b> Evaluate the performance of the model based on multiple criterias, including computing time, and plot a few samples.\n",
    "</div>"
   ]
  },
  {
   "cell_type": "code",
   "execution_count": null,
   "id": "ff2c6edd-f007-4efe-b26f-f8527a51e0cc",
   "metadata": {
    "id": "ff2c6edd-f007-4efe-b26f-f8527a51e0cc"
   },
   "outputs": [],
   "source": [
    "def evaluate_model(model, dataloader, device, iou_threshold=0.4, conf_threshold=0.7):\n",
    "    model.eval()\n",
    "    all_precisions = []\n",
    "    all_recalls = []\n",
    "    all_ious = []\n",
    "\n",
    "    with torch.no_grad():\n",
    "        for images, targets in dataloader:\n",
    "            images = [img.to(device) for img in images]\n",
    "            targets = [{k: v.to(device) for k, v in t.items()} for t in targets]\n",
    "\n",
    "            outputs = model(images)\n",
    "\n",
    "            for pred, target in zip(outputs, targets):\n",
    "                gt_boxes = target['boxes'].cpu().numpy()\n",
    "                pred_boxes = pred['boxes'].cpu().numpy()\n",
    "                pred_scores = pred['scores'].cpu().numpy()\n",
    "\n",
    "                # Filter by confidence\n",
    "                pred_boxes = pred_boxes[pred_scores > conf_threshold]\n",
    "\n",
    "                # Compute IoUs\n",
    "                matched = set()\n",
    "                ious = []\n",
    "                for gt_box in gt_boxes:\n",
    "                    best_iou = 0\n",
    "                    for i, pred_box in enumerate(pred_boxes):\n",
    "                        if i in matched:\n",
    "                            continue\n",
    "                        iou = compute_iou(gt_box, pred_box)\n",
    "                        if iou > best_iou:\n",
    "                            best_iou = iou\n",
    "                            best_idx = i\n",
    "                    if best_iou >= iou_threshold:\n",
    "                        matched.add(best_idx)\n",
    "                        ious.append(best_iou)\n",
    "\n",
    "                TP = len(matched)\n",
    "                FP = len(pred_boxes) - TP\n",
    "                FN = len(gt_boxes) - TP\n",
    "\n",
    "                precision = TP / (TP + FP) if (TP + FP) > 0 else 0\n",
    "                recall = TP / (TP + FN) if (TP + FN) > 0 else 0\n",
    "\n",
    "                all_precisions.append(precision)\n",
    "                all_recalls.append(recall)\n",
    "                all_ious.extend(ious)\n",
    "\n",
    "    return {\n",
    "        \"precision\": np.mean(all_precisions),\n",
    "        \"recall\": np.mean(all_recalls),\n",
    "        \"mean_iou\": np.mean(all_ious) if all_ious else 0\n",
    "    }"
   ]
  },
  {
   "cell_type": "markdown",
   "id": "OkUPUEAC3zvR",
   "metadata": {
    "id": "OkUPUEAC3zvR"
   },
   "source": [
    "evaluate"
   ]
  },
  {
   "cell_type": "code",
   "execution_count": null,
   "id": "58336ac8-6734-44a0-98b4-ebf615ead110",
   "metadata": {
    "id": "58336ac8-6734-44a0-98b4-ebf615ead110"
   },
   "outputs": [],
   "source": [
    "faster_rcnn_model = torchvision.models.detection.fasterrcnn_resnet50_fpn()\n",
    "faster_rcnn_model.load_state_dict(torch.load('./fasterrcnn_resnet50_fpn.pth'))\n",
    "faster_rcnn_model.to(device)\n",
    "\n",
    "# Evaluate Faster R-CNN\n",
    "faster_rcnn_results = evaluate_model()... # COMPLETE\n",
    "\n",
    "# Print comparison # COMPLETE\n",
    "print(\"Faster R-CNN Results:\")\n",
    "print(f\"Precision: \")\n",
    "print(f\"Recall: \")\n",
    "print(f\"Mean IoU: \")"
   ]
  },
  {
   "cell_type": "code",
   "execution_count": null,
   "id": "bdf77c3b-2fd8-4dc8-b8ea-8d29317615eb",
   "metadata": {
    "id": "bdf77c3b-2fd8-4dc8-b8ea-8d29317615eb"
   },
   "outputs": [],
   "source": [
    "import matplotlib.patches as patches\n",
    "\n",
    "def plot_detections(image_tensor, prediction, gt, score_threshold=0.5, label_map=None):\n",
    "    \"\"\"\n",
    "    image_tensor: torch.Tensor (3, H, W), unnormalized image\n",
    "    prediction: dict with 'boxes', 'labels', 'scores' from model\n",
    "    score_threshold: minimum score to show a box\n",
    "    label_map: optional dict to map label indices to class names\n",
    "    \"\"\"\n",
    "    image = image_tensor.permute(1, 2, 0).cpu().numpy()  # (H, W, 3)\n",
    "\n",
    "    fig, ax = plt.subplots(1, figsize=(10, 10))\n",
    "    ax.imshow(image)\n",
    "\n",
    "    boxes = prediction[\"boxes\"].cpu()\n",
    "    scores = prediction[\"scores\"].cpu()\n",
    "    labels = prediction[\"labels\"].cpu()\n",
    "\n",
    "    for box in gt:\n",
    "        xmin, ymin, xmax, ymax = box\n",
    "        width, height = xmax - xmin, ymax - ymin\n",
    "\n",
    "        rect = patches.Rectangle((xmin, ymin), width, height,\n",
    "                                 linewidth=2, edgecolor='g', facecolor='none')\n",
    "        ax.add_patch(rect)\n",
    "        ax.text(xmin, ymin - 5, f\"Ground truth\",\n",
    "                color='white', fontsize=10,\n",
    "                bbox=dict(facecolor='green', edgecolor='none', pad=1))\n",
    "\n",
    "    for box, score, label in zip(boxes, scores, labels):\n",
    "        if score < score_threshold:\n",
    "            continue\n",
    "\n",
    "        xmin, ymin, xmax, ymax = box\n",
    "        width, height = xmax - xmin, ymax - ymin\n",
    "\n",
    "        rect = patches.Rectangle((xmin, ymin), width, height,\n",
    "                                 linewidth=2, edgecolor='r', facecolor='none')\n",
    "        ax.add_patch(rect)\n",
    "\n",
    "        label_str = f\"{label.item()}\"\n",
    "        if label_map:\n",
    "            label_str = label_map.get(label.item(), str(label.item()))\n",
    "\n",
    "        ax.text(xmin, ymin - 5, f\"{label_str}: {score:.2f}\",\n",
    "                color='white', fontsize=10,\n",
    "                bbox=dict(facecolor='red', edgecolor='none', pad=1))\n",
    "\n",
    "    ax.axis(\"off\")\n",
    "    plt.show()"
   ]
  },
  {
   "cell_type": "markdown",
   "id": "wftJxjEK4OD9",
   "metadata": {
    "id": "wftJxjEK4OD9"
   },
   "source": [
    "Inference: Visualize a few results"
   ]
  },
  {
   "cell_type": "code",
   "execution_count": null,
   "id": "1294c29a-6d1f-4917-ad35-c7759ed3add7",
   "metadata": {
    "id": "1294c29a-6d1f-4917-ad35-c7759ed3add7"
   },
   "outputs": [],
   "source": [
    "label_map = {1: \"Pneumonia\"}\n",
    "num_examples_to_plot = 5\n",
    "\n",
    "test_dataloader = DataLoader(test_dataset,batch_size=1,shuffle=True,collate_fn = utils.collate_fn)\n",
    "\n",
    "with torch.no_grad():\n",
    "    plotted_count = 0\n",
    "    for images, targets in test_dataloader:\n",
    "        if plotted_count >= num_examples_to_plot:\n",
    "            break\n",
    "\n",
    "        images = list(image.to(device) for image in images)\n",
    "        outputs = model(images)\n",
    "\n",
    "        for i in range(len(images)):\n",
    "            if plotted_count >= num_examples_to_plot:\n",
    "                break\n",
    "\n",
    "            gt = targets[i]['boxes'].cpu()\n",
    "            plot_detections(images[i].cpu(), outputs[i], gt, label_map=label_map)\n",
    "            plotted_count += 1"
   ]
  }
 ],
 "metadata": {
  "accelerator": "GPU",
  "colab": {
   "collapsed_sections": [
    "SkIFYQFwSdwm",
    "oFnf-I9rRx6C",
    "d7f6e4ce-4517-4a2a-80b5-dd002d282bd8",
    "DkfLApQltnLE",
    "oPha5-43tr6X",
    "bJ6kj9ArLWPg",
    "F9Vt4KBlxGOW",
    "BCJnQBP1wE03",
    "fUgU5u8OwvAF",
    "4xyIR_3MyqDg",
    "WO8Sp67b0h_n"
   ],
   "gpuType": "T4",
   "provenance": []
  },
  "kernelspec": {
   "display_name": "Python 3 (ipykernel)",
   "language": "python",
   "name": "python3"
  },
  "language_info": {
   "codemirror_mode": {
    "name": "ipython",
    "version": 3
   },
   "file_extension": ".py",
   "mimetype": "text/x-python",
   "name": "python",
   "nbconvert_exporter": "python",
   "pygments_lexer": "ipython3",
   "version": "3.8.16"
  }
 },
 "nbformat": 4,
 "nbformat_minor": 5
}
