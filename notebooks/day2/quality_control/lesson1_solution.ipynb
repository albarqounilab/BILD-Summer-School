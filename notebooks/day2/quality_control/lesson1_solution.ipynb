{
 "cells": [
  {
   "cell_type": "markdown",
   "id": "T6BeY23EjU0L",
   "metadata": {
    "id": "T6BeY23EjU0L"
   },
   "source": [
    "# Summer School on Biomedical Imaging with Deep Learning"
   ]
  },
  {
   "cell_type": "markdown",
   "id": "cgm9viPTP_dN",
   "metadata": {
    "id": "cgm9viPTP_dN"
   },
   "source": [
    "[![Open In Colab](https://colab.research.google.com/assets/colab-badge.svg)](https://colab.research.google.com/github/albarqounilab/BILD-Summer-School/blob/main/notebooks/day2/quality_control/lesson1.ipynb)"
   ]
  },
  {
   "cell_type": "markdown",
   "id": "xY9NKCq8cO48",
   "metadata": {
    "id": "xY9NKCq8cO48"
   },
   "source": [
    "![alt_text](https://raw.githubusercontent.com/albarqounilab/BILD-Summer-School/refs/heads/main/images/helpers/notebook-banner.png)\n",
    "\n",
    "BILD 2025 is organized under the umbrella of the [Strategic Arab-German Network for Affordable and Democratized AI in Healthcare (SANAD)](https://albarqouni.github.io/funded/sanad/), uniting academic excellence and technological innovation across borders. This year’s edition is organized by the [Albarqouni Lab](https://albarqouni.github.io/) at the [University Hospital Bonn](https://www.ukbonn.de/) and the [University of Bonn](https://www.uni-bonn.de/en). We are proud to partner with leading institutions in the region—Lebanese American University, University of Tunis El Manar, and Duhok Polytechnic University — to deliver a truly international learning experience. Over five intensive days in Tunis, you will explore cutting-edge deep-learning techniques for medical imaging through expert lectures, hands-on labs, and collaborative case studies. Engage with peers and faculty from Germany, Lebanon, Iraq, and Tunisia as you develop practical skills in building and deploying AI models for real-world healthcare challenges. We look forward to an inspiring week of interdisciplinary exchange and the shared commitment to advancing affordable, life-saving AI in medicine.\n"
   ]
  },
  {
   "cell_type": "markdown",
   "id": "a58fc5c8-f79a-43c0-9b76-651103b94180",
   "metadata": {
    "id": "a58fc5c8-f79a-43c0-9b76-651103b94180"
   },
   "source": [
    "# Fairness and Bias\n",
    "\n",
    "## Introduction\n",
    "\n",
    "This notebook contains practical hands-on exercises for the lesson about *Assessing Fairness and Bias*.\n",
    "\n",
    "\n",
    "Using the [NIH ChestX-ray-14](https://nihcc.app.box.com/v/ChestXray-NIHCC) dataset with demographic labels, you will know how to analyze the results of a classification model regarding fairness on a real-world clinical problem:\n",
    "* Comparing performance of a model across groups of population; compute accuracy, TPR, FPR, and PPV for at least two protected groups.\n",
    "* Select and justify an appropriate fairness criterion.\n",
    "* Apply a post processing mitigation strategy.\n",
    "* Re-evaluate metrics and discuss trade-offs."
   ]
  },
  {
   "cell_type": "markdown",
   "id": "6fd8094a-029c-4965-8b19-a93aec4d0223",
   "metadata": {
    "id": "6fd8094a-029c-4965-8b19-a93aec4d0223"
   },
   "source": [
    "## Dataset\n",
    "\n",
    "[NIH ChestX-ray-14](https://nihcc.app.box.com/v/ChestXray-NIHCC) dataset comprises 112,120 frontal-view X-ray images of 30,805 unique patients with the text-mined fourteen disease image labels (where each image can have multi-labels), mined from the associated radiological reports using natural language processing.\n",
    "Fourteen common thoracic pathologies include Atelectasis, Consolidation, Infiltration, Pneumothorax, Edema, Emphysema, Fibrosis, Effusion, Pneumonia, Pleural_thickening, Cardiomegaly, Nodule, Mass and Hernia.\n",
    "\n",
    "It contains:\n",
    "1. 112,120 frontal-view chest X-ray PNG images in 1024*1024 resolution (under images folder)\n",
    "2. Meta data for all images (Data_Entry_2017.csv): Image Index, Finding Labels, Follow-up #, Patient ID, Patient Age, Patient Gender, View Position, Original Image Size and Original Image Pixel Spacing.\n",
    "3. Bounding boxes for ~1000 images (BBox_List_2017.csv): Image Index, Finding Label, Bbox[x, y, w, h]. [x y] are coordinates of each box's topleft corner. [w h] represent the width and height of each box.\n",
    "4. Two data split files (train_val_list.txt and test_list.txt) are provided. Images in the ChestX-ray dataset are divided into these two sets on the patient level. All studies from the same patient will only appear in either training/validation or testing set.\n",
    "\n",
    "Here, we will use a subsample of this dataset along with pretrained models from the last week."
   ]
  },
  {
   "cell_type": "code",
   "execution_count": null,
   "id": "4c279c16",
   "metadata": {},
   "outputs": [],
   "source": [
    "#@title Import data from Drive folder | Colab notebooks\n",
    "import gdown\n",
    "import os\n",
    "\n",
    "# Google Drive folder ID\n",
    "folder_id = '1P6SRWtzniL8VRrj9LT8PxsmXZP3au3uh'\n",
    "\n",
    "# Destination path in Colab\n",
    "DATA_PATH = './'\n",
    "os.makedirs(DATA_PATH, exist_ok=True)\n",
    "\n",
    "try:\n",
    "    print(f\"Downloading folder ID: {folder_id} to {DATA_PATH}\")\n",
    "    gdown.download_folder(id=folder_id, output=DATA_PATH, quiet=False, use_cookies=False)\n",
    "    print(\"Download complete.\")\n",
    "except Exception as e:\n",
    "    print(f\"An error occurred during download: {e}\")\n",
    "    print(\"Please ensure the Google Drive folder is shared correctly and try again.\")"
   ]
  },
  {
   "cell_type": "code",
   "execution_count": null,
   "id": "a3c805f2-c1ce-4307-ad56-649229277b2c",
   "metadata": {
    "id": "a3c805f2-c1ce-4307-ad56-649229277b2c"
   },
   "outputs": [],
   "source": [
    "#@title import libraries\n",
    "import pandas as pd\n",
    "import numpy as np\n",
    "import matplotlib.pyplot as plt\n",
    "import seaborn as sns\n",
    "import os\n",
    "os.environ[\"CUDA_VISIBLE_DEVICES\"] = \"2\"\n",
    "import sys\n",
    "from glob import glob\n",
    "import warnings\n",
    "\n",
    "warnings.filterwarnings(action=\"ignore\")\n",
    "os.environ[\"PYTHONWARNINGS\"] = \"ignore\"\n",
    "\n",
    "import torch\n",
    "import torch.nn as nn\n",
    "import torchvision\n",
    "from torchvision import transforms\n",
    "from torch.utils.data import Dataset, DataLoader\n",
    "# from torchvision import transforms\n",
    "# from torchvision import tv_tensors\n",
    "\n",
    "from sklearn.model_selection import train_test_split\n",
    "from sklearn.metrics import classification_report\n",
    "from sklearn.metrics import accuracy_score, f1_score, recall_score, precision_score\n",
    "from sklearn.metrics import RocCurveDisplay\n",
    "from sklearn.metrics import roc_auc_score\n",
    "\n",
    "from PIL import Image\n",
    "import pydicom\n",
    "\n",
    "from sklearn.model_selection import train_test_split\n",
    "from sklearn.metrics import accuracy_score, f1_score, recall_score, precision_score\n",
    "from sklearn.metrics import RocCurveDisplay\n",
    "from sklearn.metrics import roc_auc_score\n",
    "\n",
    "import matplotlib.pyplot as plt\n",
    "import seaborn as sns\n",
    "\n",
    "import sys\n",
    "import warnings\n",
    "warnings.filterwarnings(action=\"ignore\")\n",
    "os.environ[\"PYTHONWARNINGS\"] = \"ignore\"\n",
    "\n",
    "import argparse\n",
    "import math\n",
    "import os\n",
    "from glob import glob\n",
    "\n",
    "!pip install -U segmentation-models-pytorch -q\n",
    "import albumentations as A\n",
    "import numpy as np\n",
    "import pandas as pd\n",
    "import SimpleITK as sitk\n",
    "sitk.ProcessObject.SetGlobalWarningDisplay(False)\n",
    "import torch\n",
    "import torch.nn as nn\n",
    "import torch.optim as optim\n",
    "from albumentations.pytorch import ToTensorV2\n",
    "from sklearn.model_selection import train_test_split\n",
    "from torch.utils.data import Dataset, DataLoader\n",
    "from tqdm import tqdm\n"
   ]
  },
  {
   "cell_type": "code",
   "execution_count": null,
   "id": "ntIOau1zn6gq",
   "metadata": {
    "colab": {
     "base_uri": "https://localhost:8080/"
    },
    "id": "ntIOau1zn6gq",
    "outputId": "e3cc389a-89f4-48eb-ab20-fbbd5c163311"
   },
   "outputs": [
    {
     "name": "stdout",
     "output_type": "stream",
     "text": [
      "2.7.1+cu126 0.22.1+cu126\n"
     ]
    }
   ],
   "source": [
    "import torch, torchvision; print(torch.__version__, torchvision.__version__)\n"
   ]
  },
  {
   "cell_type": "markdown",
   "id": "2d952cb6-483b-4c7d-9d0c-2b38cd479665",
   "metadata": {
    "id": "2d952cb6-483b-4c7d-9d0c-2b38cd479665"
   },
   "source": [
    "### Download and load the data\n",
    "\n",
    "If needed, run the following cells to download and unzip the dataset.\n",
    "\n",
    "<div class=\"alert alert-block alert-danger\">\n",
    "<b>Replace the <code>DATA_PATH</code> with the path where you want to store the data folder. By default, it will be stored at the root of this repository.</b> <br>\n",
    "<b>If you have already downloaded the dataset, comment the following cell by adding a <code>#</code> before the <code>!</code></b>\n",
    "</div>"
   ]
  },
  {
   "cell_type": "code",
   "execution_count": null,
   "id": "3063c1f4-3ac3-458b-a201-9b99b2b14953",
   "metadata": {
    "id": "3063c1f4-3ac3-458b-a201-9b99b2b14953"
   },
   "outputs": [],
   "source": [
    "DATA_PATH = './'\n",
    "\n",
    "# !curl https://uni-bonn.sciebo.de/s/s1t8QUZ02MF1Qoh/download --output {DATA_PATH}/data.zip\n",
    "# !unzip {DATA_PATH}/data.zip -d {DATA_PATH}"
   ]
  },
  {
   "cell_type": "code",
   "execution_count": null,
   "id": "IadvFKGuaNx1",
   "metadata": {
    "colab": {
     "base_uri": "https://localhost:8080/"
    },
    "id": "IadvFKGuaNx1",
    "outputId": "12e1ac0b-b4e5-4a6e-8f88-a332efb278fc"
   },
   "outputs": [
    {
     "name": "stdout",
     "output_type": "stream",
     "text": [
      "  % Total    % Received % Xferd  Average Speed   Time    Time     Time  Current\r\n",
      "                                 Dload  Upload   Total   Spent    Left  Speed\n",
      "100 59189  100 59189    0     0   231k      0 --:--:-- --:--:-- --:--:--  232k\n",
      "  % Total    % Received % Xferd  Average Speed   Time    Time     Time  Current\n",
      "                                 Dload  Upload   Total   Spent    Left  Speed\n",
      "100 59189  100 59189    0     0   241k      0 --:--:-- --:--:-- --:--:--  241k\n",
      "  % Total    % Received % Xferd  Average Speed   Time    Time     Time  Current\n",
      "                                 Dload  Upload   Total   Spent    Left  Speed\n",
      "100 59189  100 59189    0     0   242k      0 --:--:-- --:--:-- --:--:--  242k\n"
     ]
    }
   ],
   "source": [
    "# !curl https://uni-bonn.sciebo.de/s/5bqrNzcsyj8kcye/download/test_df.csv --output {DATA_PATH}/test_df.csv\n",
    "# !curl https://uni-bonn.sciebo.de/s/5bqrNzcsyj8kcye/download/train_df.csv --output {DATA_PATH}/train_df.csv\n",
    "# !curl https://uni-bonn.sciebo.de/s/5bqrNzcsyj8kcye/download/val_df.csv --output {DATA_PATH}/val_df.csv\n",
    "\n",
    "# !unzip {DATA_PATH}/data.zip -d {DATA_PATH}"
   ]
  },
  {
   "cell_type": "markdown",
   "id": "-nbCJL1AYkEA",
   "metadata": {
    "id": "-nbCJL1AYkEA"
   },
   "source": [
    "## Load dataframe\n",
    "We start off by loading the previous week dataset splits. Our goal is to analyse the behavior of a model across population groups."
   ]
  },
  {
   "cell_type": "code",
   "execution_count": null,
   "id": "0YEWJ-XOYlLU",
   "metadata": {
    "colab": {
     "base_uri": "https://localhost:8080/",
     "height": 493
    },
    "id": "0YEWJ-XOYlLU",
    "outputId": "1a32ff15-6e6b-4249-e3a7-c68678a44a8b"
   },
   "outputs": [
    {
     "name": "stdout",
     "output_type": "stream",
     "text": [
      "Train DataFrame shape: (857, 12)\n",
      "Validation DataFrame shape: (857, 12)\n",
      "Evaluation DataFrame shape: (857, 12)\n"
     ]
    },
    {
     "data": {
      "text/html": [
       "<div>\n",
       "<style scoped>\n",
       "    .dataframe tbody tr th:only-of-type {\n",
       "        vertical-align: middle;\n",
       "    }\n",
       "\n",
       "    .dataframe tbody tr th {\n",
       "        vertical-align: top;\n",
       "    }\n",
       "\n",
       "    .dataframe thead th {\n",
       "        text-align: right;\n",
       "    }\n",
       "</style>\n",
       "<table border=\"1\" class=\"dataframe\">\n",
       "  <thead>\n",
       "    <tr style=\"text-align: right;\">\n",
       "      <th></th>\n",
       "      <th>Image Index</th>\n",
       "      <th>Finding Labels</th>\n",
       "      <th>Follow-up #</th>\n",
       "      <th>Patient ID</th>\n",
       "      <th>Patient Age</th>\n",
       "      <th>Patient Sex</th>\n",
       "      <th>View Position</th>\n",
       "      <th>OriginalImage[Width</th>\n",
       "      <th>Height]</th>\n",
       "      <th>OriginalImagePixelSpacing[x</th>\n",
       "      <th>y]</th>\n",
       "      <th>Binary Label</th>\n",
       "    </tr>\n",
       "  </thead>\n",
       "  <tbody>\n",
       "    <tr>\n",
       "      <th>0</th>\n",
       "      <td>00008395_000.png</td>\n",
       "      <td>No Finding</td>\n",
       "      <td>0</td>\n",
       "      <td>8395</td>\n",
       "      <td>59</td>\n",
       "      <td>M</td>\n",
       "      <td>PA</td>\n",
       "      <td>2500</td>\n",
       "      <td>2048</td>\n",
       "      <td>0.168000</td>\n",
       "      <td>0.168000</td>\n",
       "      <td>0</td>\n",
       "    </tr>\n",
       "    <tr>\n",
       "      <th>1</th>\n",
       "      <td>00022846_003.png</td>\n",
       "      <td>No Finding</td>\n",
       "      <td>4</td>\n",
       "      <td>22846</td>\n",
       "      <td>52</td>\n",
       "      <td>F</td>\n",
       "      <td>PA</td>\n",
       "      <td>2880</td>\n",
       "      <td>2937</td>\n",
       "      <td>0.143000</td>\n",
       "      <td>0.143000</td>\n",
       "      <td>0</td>\n",
       "    </tr>\n",
       "    <tr>\n",
       "      <th>2</th>\n",
       "      <td>00027495_001.png</td>\n",
       "      <td>No Finding</td>\n",
       "      <td>1</td>\n",
       "      <td>27495</td>\n",
       "      <td>57</td>\n",
       "      <td>M</td>\n",
       "      <td>PA</td>\n",
       "      <td>2992</td>\n",
       "      <td>2991</td>\n",
       "      <td>0.143000</td>\n",
       "      <td>0.143000</td>\n",
       "      <td>0</td>\n",
       "    </tr>\n",
       "    <tr>\n",
       "      <th>3</th>\n",
       "      <td>00004163_003.png</td>\n",
       "      <td>Effusion</td>\n",
       "      <td>3</td>\n",
       "      <td>4163</td>\n",
       "      <td>49</td>\n",
       "      <td>M</td>\n",
       "      <td>PA</td>\n",
       "      <td>2500</td>\n",
       "      <td>2048</td>\n",
       "      <td>0.171000</td>\n",
       "      <td>0.171000</td>\n",
       "      <td>1</td>\n",
       "    </tr>\n",
       "    <tr>\n",
       "      <th>4</th>\n",
       "      <td>00026336_004.png</td>\n",
       "      <td>No Finding</td>\n",
       "      <td>4</td>\n",
       "      <td>26336</td>\n",
       "      <td>53</td>\n",
       "      <td>F</td>\n",
       "      <td>PA</td>\n",
       "      <td>2021</td>\n",
       "      <td>2021</td>\n",
       "      <td>0.194311</td>\n",
       "      <td>0.194311</td>\n",
       "      <td>0</td>\n",
       "    </tr>\n",
       "    <tr>\n",
       "      <th>...</th>\n",
       "      <td>...</td>\n",
       "      <td>...</td>\n",
       "      <td>...</td>\n",
       "      <td>...</td>\n",
       "      <td>...</td>\n",
       "      <td>...</td>\n",
       "      <td>...</td>\n",
       "      <td>...</td>\n",
       "      <td>...</td>\n",
       "      <td>...</td>\n",
       "      <td>...</td>\n",
       "      <td>...</td>\n",
       "    </tr>\n",
       "    <tr>\n",
       "      <th>852</th>\n",
       "      <td>00021490_002.png</td>\n",
       "      <td>No Finding</td>\n",
       "      <td>0</td>\n",
       "      <td>21490</td>\n",
       "      <td>70</td>\n",
       "      <td>M</td>\n",
       "      <td>PA</td>\n",
       "      <td>3056</td>\n",
       "      <td>2528</td>\n",
       "      <td>0.139000</td>\n",
       "      <td>0.139000</td>\n",
       "      <td>0</td>\n",
       "    </tr>\n",
       "    <tr>\n",
       "      <th>853</th>\n",
       "      <td>00014074_004.png</td>\n",
       "      <td>Effusion</td>\n",
       "      <td>4</td>\n",
       "      <td>14074</td>\n",
       "      <td>72</td>\n",
       "      <td>F</td>\n",
       "      <td>PA</td>\n",
       "      <td>2992</td>\n",
       "      <td>2991</td>\n",
       "      <td>0.143000</td>\n",
       "      <td>0.143000</td>\n",
       "      <td>1</td>\n",
       "    </tr>\n",
       "    <tr>\n",
       "      <th>854</th>\n",
       "      <td>00016930_008.png</td>\n",
       "      <td>No Finding</td>\n",
       "      <td>1</td>\n",
       "      <td>16930</td>\n",
       "      <td>23</td>\n",
       "      <td>F</td>\n",
       "      <td>PA</td>\n",
       "      <td>2746</td>\n",
       "      <td>2991</td>\n",
       "      <td>0.143000</td>\n",
       "      <td>0.143000</td>\n",
       "      <td>0</td>\n",
       "    </tr>\n",
       "    <tr>\n",
       "      <th>855</th>\n",
       "      <td>00002525_000.png</td>\n",
       "      <td>No Finding</td>\n",
       "      <td>0</td>\n",
       "      <td>2525</td>\n",
       "      <td>35</td>\n",
       "      <td>F</td>\n",
       "      <td>PA</td>\n",
       "      <td>2048</td>\n",
       "      <td>2500</td>\n",
       "      <td>0.171000</td>\n",
       "      <td>0.171000</td>\n",
       "      <td>0</td>\n",
       "    </tr>\n",
       "    <tr>\n",
       "      <th>856</th>\n",
       "      <td>00018845_005.png</td>\n",
       "      <td>Effusion</td>\n",
       "      <td>5</td>\n",
       "      <td>18845</td>\n",
       "      <td>76</td>\n",
       "      <td>M</td>\n",
       "      <td>PA</td>\n",
       "      <td>2500</td>\n",
       "      <td>2048</td>\n",
       "      <td>0.168000</td>\n",
       "      <td>0.168000</td>\n",
       "      <td>1</td>\n",
       "    </tr>\n",
       "  </tbody>\n",
       "</table>\n",
       "<p>2571 rows × 12 columns</p>\n",
       "</div>"
      ],
      "text/plain": [
       "          Image Index Finding Labels  Follow-up #  Patient ID  Patient Age  \\\n",
       "0    00008395_000.png     No Finding            0        8395           59   \n",
       "1    00022846_003.png     No Finding            4       22846           52   \n",
       "2    00027495_001.png     No Finding            1       27495           57   \n",
       "3    00004163_003.png       Effusion            3        4163           49   \n",
       "4    00026336_004.png     No Finding            4       26336           53   \n",
       "..                ...            ...          ...         ...          ...   \n",
       "852  00021490_002.png     No Finding            0       21490           70   \n",
       "853  00014074_004.png       Effusion            4       14074           72   \n",
       "854  00016930_008.png     No Finding            1       16930           23   \n",
       "855  00002525_000.png     No Finding            0        2525           35   \n",
       "856  00018845_005.png       Effusion            5       18845           76   \n",
       "\n",
       "    Patient Sex View Position  OriginalImage[Width  Height]  \\\n",
       "0             M            PA                 2500     2048   \n",
       "1             F            PA                 2880     2937   \n",
       "2             M            PA                 2992     2991   \n",
       "3             M            PA                 2500     2048   \n",
       "4             F            PA                 2021     2021   \n",
       "..          ...           ...                  ...      ...   \n",
       "852           M            PA                 3056     2528   \n",
       "853           F            PA                 2992     2991   \n",
       "854           F            PA                 2746     2991   \n",
       "855           F            PA                 2048     2500   \n",
       "856           M            PA                 2500     2048   \n",
       "\n",
       "     OriginalImagePixelSpacing[x        y]  Binary Label  \n",
       "0                       0.168000  0.168000             0  \n",
       "1                       0.143000  0.143000             0  \n",
       "2                       0.143000  0.143000             0  \n",
       "3                       0.171000  0.171000             1  \n",
       "4                       0.194311  0.194311             0  \n",
       "..                           ...       ...           ...  \n",
       "852                     0.139000  0.139000             0  \n",
       "853                     0.143000  0.143000             1  \n",
       "854                     0.143000  0.143000             0  \n",
       "855                     0.171000  0.171000             0  \n",
       "856                     0.168000  0.168000             1  \n",
       "\n",
       "[2571 rows x 12 columns]"
      ]
     },
     "execution_count": 210,
     "metadata": {},
     "output_type": "execute_result"
    }
   ],
   "source": [
    "# Load and observe available data\n",
    "train_df = pd.read_csv('./train_df.csv')\n",
    "val_df = pd.read_csv('./val_df.csv')\n",
    "eval_df = pd.read_csv('./test_df.csv')\n",
    "\n",
    "dataset = pd.concat([train_df, val_df, eval_df])\n",
    "\n",
    "print(\"Train DataFrame shape:\", train_df.shape)\n",
    "print(\"Validation DataFrame shape:\", val_df.shape)\n",
    "print(\"Evaluation DataFrame shape:\", eval_df.shape)\n",
    "dataset"
   ]
  },
  {
   "cell_type": "markdown",
   "id": "baaf8b56-f8b1-49ce-9db3-c35e30e5e691",
   "metadata": {
    "id": "baaf8b56-f8b1-49ce-9db3-c35e30e5e691"
   },
   "source": [
    "In this dataset, we have access to a few elements that allow us to group patient across categories, for instance:\n",
    "* `Sex/Gender`\n",
    "* `Age`\n",
    "\n",
    "We will first visualize the number of patients within each group.\n",
    "\n",
    "<b>Q1.</b> What potential sources of bias do you see across categories, and which one is the less bias?"
   ]
  },
  {
   "cell_type": "code",
   "execution_count": null,
   "id": "AMfBsuZuvh07",
   "metadata": {
    "colab": {
     "base_uri": "https://localhost:8080/"
    },
    "id": "AMfBsuZuvh07",
    "outputId": "58713f0c-e699-464b-e529-79e1e9930b8b"
   },
   "outputs": [
    {
     "data": {
      "text/plain": [
       "Age Group\n",
       "<50    466\n",
       "50+    391\n",
       "Name: Patient ID, dtype: int64"
      ]
     },
     "execution_count": 47,
     "metadata": {},
     "output_type": "execute_result"
    }
   ],
   "source": [
    "bins = [0, 50, 100]\n",
    "labels = ['<50', '50+']\n",
    "eval_df['Age Group'] = pd.cut(eval_df['Patient Age'], bins=bins, labels=labels, right=True, include_lowest=True)\n",
    "eval_df.groupby(['Age Group']).count()['Patient ID']"
   ]
  },
  {
   "cell_type": "code",
   "execution_count": null,
   "id": "OVE5RbRAvkDN",
   "metadata": {
    "colab": {
     "base_uri": "https://localhost:8080/",
     "height": 424
    },
    "id": "OVE5RbRAvkDN",
    "outputId": "99f19457-2022-4aef-abe6-6d347466c889"
   },
   "outputs": [
    {
     "data": {
      "text/html": [
       "<div>\n",
       "<style scoped>\n",
       "    .dataframe tbody tr th:only-of-type {\n",
       "        vertical-align: middle;\n",
       "    }\n",
       "\n",
       "    .dataframe tbody tr th {\n",
       "        vertical-align: top;\n",
       "    }\n",
       "\n",
       "    .dataframe thead th {\n",
       "        text-align: right;\n",
       "    }\n",
       "</style>\n",
       "<table border=\"1\" class=\"dataframe\">\n",
       "  <thead>\n",
       "    <tr style=\"text-align: right;\">\n",
       "      <th></th>\n",
       "      <th>Patient Age</th>\n",
       "      <th>Patient Sex</th>\n",
       "      <th>Binary Label</th>\n",
       "      <th>count</th>\n",
       "    </tr>\n",
       "  </thead>\n",
       "  <tbody>\n",
       "    <tr>\n",
       "      <th>0</th>\n",
       "      <td>3</td>\n",
       "      <td>M</td>\n",
       "      <td>0</td>\n",
       "      <td>1</td>\n",
       "    </tr>\n",
       "    <tr>\n",
       "      <th>1</th>\n",
       "      <td>5</td>\n",
       "      <td>F</td>\n",
       "      <td>0</td>\n",
       "      <td>1</td>\n",
       "    </tr>\n",
       "    <tr>\n",
       "      <th>2</th>\n",
       "      <td>6</td>\n",
       "      <td>F</td>\n",
       "      <td>0</td>\n",
       "      <td>1</td>\n",
       "    </tr>\n",
       "    <tr>\n",
       "      <th>3</th>\n",
       "      <td>7</td>\n",
       "      <td>F</td>\n",
       "      <td>0</td>\n",
       "      <td>2</td>\n",
       "    </tr>\n",
       "    <tr>\n",
       "      <th>4</th>\n",
       "      <td>7</td>\n",
       "      <td>M</td>\n",
       "      <td>0</td>\n",
       "      <td>2</td>\n",
       "    </tr>\n",
       "    <tr>\n",
       "      <th>...</th>\n",
       "      <td>...</td>\n",
       "      <td>...</td>\n",
       "      <td>...</td>\n",
       "      <td>...</td>\n",
       "    </tr>\n",
       "    <tr>\n",
       "      <th>231</th>\n",
       "      <td>82</td>\n",
       "      <td>M</td>\n",
       "      <td>0</td>\n",
       "      <td>1</td>\n",
       "    </tr>\n",
       "    <tr>\n",
       "      <th>232</th>\n",
       "      <td>83</td>\n",
       "      <td>F</td>\n",
       "      <td>1</td>\n",
       "      <td>1</td>\n",
       "    </tr>\n",
       "    <tr>\n",
       "      <th>233</th>\n",
       "      <td>83</td>\n",
       "      <td>M</td>\n",
       "      <td>0</td>\n",
       "      <td>1</td>\n",
       "    </tr>\n",
       "    <tr>\n",
       "      <th>234</th>\n",
       "      <td>84</td>\n",
       "      <td>M</td>\n",
       "      <td>1</td>\n",
       "      <td>1</td>\n",
       "    </tr>\n",
       "    <tr>\n",
       "      <th>235</th>\n",
       "      <td>85</td>\n",
       "      <td>M</td>\n",
       "      <td>0</td>\n",
       "      <td>1</td>\n",
       "    </tr>\n",
       "  </tbody>\n",
       "</table>\n",
       "<p>236 rows × 4 columns</p>\n",
       "</div>"
      ],
      "text/plain": [
       "     Patient Age Patient Sex  Binary Label  count\n",
       "0              3           M             0      1\n",
       "1              5           F             0      1\n",
       "2              6           F             0      1\n",
       "3              7           F             0      2\n",
       "4              7           M             0      2\n",
       "..           ...         ...           ...    ...\n",
       "231           82           M             0      1\n",
       "232           83           F             1      1\n",
       "233           83           M             0      1\n",
       "234           84           M             1      1\n",
       "235           85           M             0      1\n",
       "\n",
       "[236 rows x 4 columns]"
      ]
     },
     "metadata": {},
     "output_type": "display_data"
    }
   ],
   "source": [
    "grouped_df = eval_df.groupby(['Patient Age', 'Patient Sex', 'Binary Label']).size().reset_index(name='count')\n",
    "display(grouped_df)"
   ]
  },
  {
   "cell_type": "code",
   "execution_count": null,
   "id": "aHk8YN8Wvlo0",
   "metadata": {
    "colab": {
     "base_uri": "https://localhost:8080/"
    },
    "id": "aHk8YN8Wvlo0",
    "outputId": "9e78eaad-7d08-4485-b6e4-207e183f4fe1"
   },
   "outputs": [
    {
     "data": {
      "text/plain": [
       "Age Group  Patient Sex  Binary Label\n",
       "<50        F            0               160\n",
       "                        1                56\n",
       "           M            0               196\n",
       "                        1                54\n",
       "50+        F            0                95\n",
       "                        1                70\n",
       "           M            0               149\n",
       "                        1                77\n",
       "Name: Patient ID, dtype: int64"
      ]
     },
     "execution_count": 51,
     "metadata": {},
     "output_type": "execute_result"
    }
   ],
   "source": [
    "eval_df.groupby(['Age Group', 'Patient Sex', 'Binary Label']).count()['Patient ID']"
   ]
  },
  {
   "cell_type": "markdown",
   "id": "SFLf2BqA_795",
   "metadata": {
    "id": "SFLf2BqA_795"
   },
   "source": [
    "Next, let’s check the gender breakdown by grouping on Sex to see how many female vs. male patients we have.\n"
   ]
  },
  {
   "cell_type": "code",
   "execution_count": null,
   "id": "GEzq_iLxnHUm",
   "metadata": {
    "colab": {
     "base_uri": "https://localhost:8080/"
    },
    "id": "GEzq_iLxnHUm",
    "outputId": "711fc5d9-32cf-4c18-9c7f-f2ba1bc051cd"
   },
   "outputs": [
    {
     "data": {
      "text/plain": [
       "Patient Sex\n",
       "F    381\n",
       "M    476\n",
       "Name: Patient ID, dtype: int64"
      ]
     },
     "execution_count": 52,
     "metadata": {},
     "output_type": "execute_result"
    }
   ],
   "source": [
    "eval_df.groupby(['Patient Sex']).count()['Patient ID']"
   ]
  },
  {
   "cell_type": "markdown",
   "id": "nKZY-SvTABwk",
   "metadata": {
    "id": "nKZY-SvTABwk"
   },
   "source": [
    "Sex\n",
    "* 381 female vs 476 male patients (~44 % F / 56 % M). An imbalanced sex split can lead to higher error rates for the under‑represented group if the model relies on sex‑correlated features (e.g., anatomical differences, disease prevalence).\n",
    "* **Checks & mitigations:**\n",
    "  * Report separate ROC‑AUC, sensitivity, specificity, and calibration curves for females and males.\n",
    "  * If disparities appear, consider re‑weighting, group‑specific thresholds, or fairness‑aware objectives."
   ]
  },
  {
   "cell_type": "markdown",
   "id": "yjwJdKO-nxg8",
   "metadata": {
    "id": "yjwJdKO-nxg8"
   },
   "source": [
    "Explore the min and max Age of the patients"
   ]
  },
  {
   "cell_type": "markdown",
   "id": "dz64H9xW__Sr",
   "metadata": {
    "id": "dz64H9xW__Sr"
   },
   "source": [
    "In this context, bins are used to discretize the continuous variable 'Patient Age' into distinct categories. You can treat age as a categorical protected attribute and assess whether the model performs similarly for younger and older patients (or whichever age bins you define)."
   ]
  },
  {
   "cell_type": "code",
   "execution_count": null,
   "id": "4zay6Wx_ndmP",
   "metadata": {
    "colab": {
     "base_uri": "https://localhost:8080/"
    },
    "id": "4zay6Wx_ndmP",
    "outputId": "c5c5bc80-2d0d-450b-df9b-c13635a114ec"
   },
   "outputs": [
    {
     "name": "stdout",
     "output_type": "stream",
     "text": [
      "Age -> max, min: 85 , 3\n"
     ]
    }
   ],
   "source": [
    "print(\"Age -> max, min:\",int(eval_df['Patient Age'].max()), \",\",int(eval_df['Patient Age'].min()))"
   ]
  },
  {
   "cell_type": "markdown",
   "id": "vLXVTE5pn0No",
   "metadata": {
    "id": "vLXVTE5pn0No"
   },
   "source": [
    "Define a fairness criterion for the age groups.\n",
    "\n",
    "If one age bin dominates, the decision boundary may favour that group, yielding worse performance on the minority age bracket.\n",
    "* Checks and mitigations:\n",
    "  * Evaluate the same per‑group metrics as above.\n",
    "  * Use stratified resampling or age‑constrained regularization if discrepancies persist.\n"
   ]
  },
  {
   "cell_type": "code",
   "execution_count": null,
   "id": "zUNxrE7P_MJ5",
   "metadata": {
    "colab": {
     "base_uri": "https://localhost:8080/",
     "height": 447
    },
    "id": "zUNxrE7P_MJ5",
    "outputId": "33982b44-62a1-4a8f-b892-9d4ac6284ae5"
   },
   "outputs": [
    {
     "data": {
      "text/plain": [
       "<Axes: >"
      ]
     },
     "execution_count": 57,
     "metadata": {},
     "output_type": "execute_result"
    },
    {
     "data": {
      "image/png": "[encoded data removed]",
      "text/plain": [
       "<Figure size 640x480 with 1 Axes>"
      ]
     },
     "metadata": {},
     "output_type": "display_data"
    }
   ],
   "source": [
    "eval_df['Patient Age'].hist()"
   ]
  },
  {
   "cell_type": "markdown",
   "id": "SeZTG2lY_hi2",
   "metadata": {
    "id": "SeZTG2lY_hi2"
   },
   "source": [
    "We’ll simplify age into two groups—“<50” vs. “50+”—to see how many younger versus older patients we have, then tally the counts per bin."
   ]
  },
  {
   "cell_type": "code",
   "execution_count": null,
   "id": "CV5kUoJznQiC",
   "metadata": {
    "colab": {
     "base_uri": "https://localhost:8080/"
    },
    "id": "CV5kUoJznQiC",
    "outputId": "89781db2-1fa3-4e6d-a655-08e3e5540123"
   },
   "outputs": [
    {
     "data": {
      "text/plain": [
       "Age Group\n",
       "<50    466\n",
       "50+    391\n",
       "Name: Patient ID, dtype: int64"
      ]
     },
     "execution_count": 58,
     "metadata": {},
     "output_type": "execute_result"
    }
   ],
   "source": [
    "bins = [0, 50, 100]\n",
    "labels = ['<50', '50+']\n",
    "eval_df['Age Group'] = pd.cut(eval_df['Patient Age'], bins=bins, labels=labels, right=True, include_lowest=True)\n",
    "eval_df.groupby(['Age Group']).count()['Patient ID']"
   ]
  },
  {
   "cell_type": "markdown",
   "id": "Y89iY0Wm_o9f",
   "metadata": {
    "id": "Y89iY0Wm_o9f"
   },
   "source": [
    "Our cohort splits `466` patients under 50 and `391` aged 50 or older. This gives us also an imbalanced younger vs. older comparison. Later, we’ll check if our classifier behaves differently across these age bins (e.g. disparate error rates).\n"
   ]
  },
  {
   "cell_type": "markdown",
   "id": "ZsMGvIIl-nYq",
   "metadata": {
    "id": "ZsMGvIIl-nYq"
   },
   "source": [
    "**Potential Sources of Bias in the Evaluation Set**\n",
    "\n",
    "Our dataset contains two protected attributes that are fully populated, Sex and Age. Below we outline where bias might arise and identify which attribute currently appears least affected by sampling imbalance.\n",
    "\n",
    "### Which Attribute Is Least Biased?\n",
    "Given the observed counts, the Sex/Gender split (44 % vs 56 %) is closer to parity than the Age split. Hence, sex currently introduces *less* sampling bias than age, though fairness still needs empirical validation.\n",
    "\n",
    "### Note on Race / Ethnicity\n",
    "No race or ethnicity values are present in this dataset. As a result, we **cannot** quantify nor mitigate bias along that dimension. If such information becomes available in future data collections, it should be incorporated into the fairness analysis.\n",
    "\n",
    "\n"
   ]
  },
  {
   "cell_type": "code",
   "execution_count": null,
   "id": "a01cONKDCXpy",
   "metadata": {
    "colab": {
     "base_uri": "https://localhost:8080/",
     "height": 424
    },
    "id": "a01cONKDCXpy",
    "outputId": "5541ea99-3c38-47f5-d9c9-9b56bbe0ce06"
   },
   "outputs": [
    {
     "data": {
      "text/html": [
       "<div>\n",
       "<style scoped>\n",
       "    .dataframe tbody tr th:only-of-type {\n",
       "        vertical-align: middle;\n",
       "    }\n",
       "\n",
       "    .dataframe tbody tr th {\n",
       "        vertical-align: top;\n",
       "    }\n",
       "\n",
       "    .dataframe thead th {\n",
       "        text-align: right;\n",
       "    }\n",
       "</style>\n",
       "<table border=\"1\" class=\"dataframe\">\n",
       "  <thead>\n",
       "    <tr style=\"text-align: right;\">\n",
       "      <th></th>\n",
       "      <th>Age Group</th>\n",
       "      <th>Patient Sex</th>\n",
       "      <th>Binary Label</th>\n",
       "    </tr>\n",
       "  </thead>\n",
       "  <tbody>\n",
       "    <tr>\n",
       "      <th>0</th>\n",
       "      <td>50+</td>\n",
       "      <td>M</td>\n",
       "      <td>0</td>\n",
       "    </tr>\n",
       "    <tr>\n",
       "      <th>1</th>\n",
       "      <td>50+</td>\n",
       "      <td>F</td>\n",
       "      <td>0</td>\n",
       "    </tr>\n",
       "    <tr>\n",
       "      <th>2</th>\n",
       "      <td>50+</td>\n",
       "      <td>M</td>\n",
       "      <td>0</td>\n",
       "    </tr>\n",
       "    <tr>\n",
       "      <th>3</th>\n",
       "      <td>&lt;50</td>\n",
       "      <td>M</td>\n",
       "      <td>1</td>\n",
       "    </tr>\n",
       "    <tr>\n",
       "      <th>4</th>\n",
       "      <td>50+</td>\n",
       "      <td>F</td>\n",
       "      <td>0</td>\n",
       "    </tr>\n",
       "    <tr>\n",
       "      <th>...</th>\n",
       "      <td>...</td>\n",
       "      <td>...</td>\n",
       "      <td>...</td>\n",
       "    </tr>\n",
       "    <tr>\n",
       "      <th>852</th>\n",
       "      <td>50+</td>\n",
       "      <td>M</td>\n",
       "      <td>0</td>\n",
       "    </tr>\n",
       "    <tr>\n",
       "      <th>853</th>\n",
       "      <td>50+</td>\n",
       "      <td>F</td>\n",
       "      <td>1</td>\n",
       "    </tr>\n",
       "    <tr>\n",
       "      <th>854</th>\n",
       "      <td>&lt;50</td>\n",
       "      <td>F</td>\n",
       "      <td>0</td>\n",
       "    </tr>\n",
       "    <tr>\n",
       "      <th>855</th>\n",
       "      <td>&lt;50</td>\n",
       "      <td>F</td>\n",
       "      <td>0</td>\n",
       "    </tr>\n",
       "    <tr>\n",
       "      <th>856</th>\n",
       "      <td>50+</td>\n",
       "      <td>M</td>\n",
       "      <td>1</td>\n",
       "    </tr>\n",
       "  </tbody>\n",
       "</table>\n",
       "<p>857 rows × 3 columns</p>\n",
       "</div>"
      ],
      "text/plain": [
       "    Age Group Patient Sex  Binary Label\n",
       "0         50+           M             0\n",
       "1         50+           F             0\n",
       "2         50+           M             0\n",
       "3         <50           M             1\n",
       "4         50+           F             0\n",
       "..        ...         ...           ...\n",
       "852       50+           M             0\n",
       "853       50+           F             1\n",
       "854       <50           F             0\n",
       "855       <50           F             0\n",
       "856       50+           M             1\n",
       "\n",
       "[857 rows x 3 columns]"
      ]
     },
     "execution_count": 62,
     "metadata": {},
     "output_type": "execute_result"
    }
   ],
   "source": [
    "eval_df[['Age Group', 'Patient Sex', 'Binary Label']]"
   ]
  },
  {
   "cell_type": "code",
   "execution_count": null,
   "id": "S37IIhVqBA8N",
   "metadata": {
    "colab": {
     "base_uri": "https://localhost:8080/"
    },
    "id": "S37IIhVqBA8N",
    "outputId": "8de7445e-8e13-44fa-f2cf-055ab88b8b6d"
   },
   "outputs": [
    {
     "data": {
      "text/plain": [
       "Age Group  Binary Label\n",
       "<50        0               356\n",
       "           1               110\n",
       "50+        0               244\n",
       "           1               147\n",
       "Name: Patient ID, dtype: int64"
      ]
     },
     "execution_count": 64,
     "metadata": {},
     "output_type": "execute_result"
    }
   ],
   "source": [
    "eval_df.groupby(['Age Group', 'Binary Label',]).count()['Patient ID']"
   ]
  },
  {
   "cell_type": "markdown",
   "id": "HfGWzB5BQTTZ",
   "metadata": {
    "id": "HfGWzB5BQTTZ"
   },
   "source": [
    "Prevalence by Age and Ethnicity (ground‑truth “Demographic Parity”)"
   ]
  },
  {
   "cell_type": "code",
   "execution_count": null,
   "id": "0-mVvxUxQUQA",
   "metadata": {
    "colab": {
     "base_uri": "https://localhost:8080/"
    },
    "id": "0-mVvxUxQUQA",
    "outputId": "756a7585-af13-430d-ae21-549d19e4b725"
   },
   "outputs": [
    {
     "name": "stdout",
     "output_type": "stream",
     "text": [
      "Age Group  Patient Sex\n",
      "<50        F              0.259259\n",
      "           M              0.216000\n",
      "50+        F              0.424242\n",
      "           M              0.340708\n",
      "Name: Binary Label, dtype: float64\n"
     ]
    }
   ],
   "source": [
    "prev = eval_df.groupby(['Age Group','Patient Sex'])['Binary Label'].mean()\n",
    "print(prev)"
   ]
  },
  {
   "cell_type": "markdown",
   "id": "d-j751aSQnqV",
   "metadata": {
    "id": "d-j751aSQnqV"
   },
   "source": [
    "**What this means**\n",
    "\n",
    "- **0.259 (<50 & Female)** – about **26 %** of women younger than 50 are positive.  \n",
    "- **0.216 (<50 & Male)** – about **22 %** of men younger than 50 are positive.  \n",
    "- **0.424 (50 + & Female)** – roughly **42 %** of women aged 50 or older are positive.  \n",
    "- **0.341 (50 + & Male)** – roughly **34 %** of men aged 50 or older are positive.  \n",
    "\n",
    "*Interpretation tip:* The higher prevalence in the 50 + group (for both sexes) suggests age is correlated with risk, and female patients show slightly higher prevalence than male patients within each age bracket. Now lets be sure to verify whether these differences translate into performance gaps (e.g., unequal sensitivity or specificity) when you evaluate the model.\n"
   ]
  },
  {
   "cell_type": "markdown",
   "id": "D8-R7Fim7uSr",
   "metadata": {
    "id": "D8-R7Fim7uSr"
   },
   "source": [
    "We cannot go back and rebalance your splits once the model is trained, but you can rigorously audit its behavior on your held‑out test set. The general workflow is:"
   ]
  },
  {
   "cell_type": "markdown",
   "id": "Bxf_qVH5pF6i",
   "metadata": {
    "id": "Bxf_qVH5pF6i"
   },
   "source": [
    "Verify proportions"
   ]
  },
  {
   "cell_type": "code",
   "execution_count": null,
   "id": "M3f9p_gfpE9l",
   "metadata": {
    "colab": {
     "base_uri": "https://localhost:8080/"
    },
    "id": "M3f9p_gfpE9l",
    "outputId": "a51077b3-dde8-4825-af80-c75f846f0321"
   },
   "outputs": [
    {
     "name": "stdout",
     "output_type": "stream",
     "text": [
      "\n",
      "Test:  (857, 13) Age Group\n",
      "<50    466\n",
      "50+    391\n",
      "Name: count, dtype: int64 \n",
      "proportion: Age Group\n",
      "<50    0.543757\n",
      "50+    0.456243\n",
      "Name: proportion, dtype: float64\n"
     ]
    }
   ],
   "source": [
    "print(\"\\nTest: \", eval_df.shape,  eval_df[\"Age Group\"].value_counts(), \"\\nproportion:\",eval_df[\"Age Group\"].value_counts(normalize=True))"
   ]
  },
  {
   "cell_type": "markdown",
   "id": "Ucnahb8ju4EB",
   "metadata": {
    "id": "Ucnahb8ju4EB"
   },
   "source": [
    "# Load previously trained model\n",
    "\n",
    "For the task of classification in the ReMIND dataset we have trained a model on binary classification of tumor‐positive and tumor‐negative 2D slices.\n",
    "\n",
    "We used a DenseNet‑121 backbone, pre‑trained on ImageNet, replacing its final fully‑connected classifier with a two‑output layer. The network was fine‑tuned on our curated slice dataset (10 positive and 10 negative slices per patient), using a patient‑wise 70/10/20 train/val/test split and a lightweight augmentation pipeline (random flips, shifts, Gaussian noise, coarse dropout, and ImageNet normalization). The pipeline can be found at the end of the notebook\n",
    "\n",
    "Below we:\n",
    "\n",
    "1. **Rebuild the model architecture** exactly as during training  \n",
    "2. **Load** the saved weights from disk  \n",
    "3. **Switch** to evaluation mode  \n",
    "4. **Run inference** on the test set to verify the model's performance before the bias and fairness considerations. Namely we compute slice‑level accuracy and AUC, and then aggregate slice predictions into patient‑level scores\n"
   ]
  },
  {
   "cell_type": "code",
   "execution_count": null,
   "id": "IYSKOzZEsByj",
   "metadata": {
    "colab": {
     "base_uri": "https://localhost:8080/"
    },
    "id": "IYSKOzZEsByj",
    "outputId": "02afb9b7-e6cf-4e74-ca5c-8bccb976e300"
   },
   "outputs": [
    {
     "data": {
      "text/plain": [
       "<All keys matched successfully>"
      ]
     },
     "execution_count": 81,
     "metadata": {},
     "output_type": "execute_result"
    }
   ],
   "source": [
    "from torchvision import transforms, models\n",
    "model_densenet = models.densenet121(pretrained=True)\n",
    "model_densenet.classifier = nn.Linear(model_densenet.classifier.in_features, 1)\n",
    "\n",
    "model_enb0 = models.efficientnet_b0(weights=None)\n",
    "model_enb0.classifier[1] = nn.Linear(1280, 1)\n",
    "\n",
    "model_swin = models.swin_t(weights=None)\n",
    "model_swin.head = nn.Linear(in_features=768, out_features= 1, bias=True)\n",
    "\n",
    "device = torch.device(\"cuda\" if torch.cuda.is_available() else \"cpu\")\n",
    "model_densenet.load_state_dict(torch.load('./densenet121-classification.pth', map_location=device))\n",
    "model_enb0.load_state_dict(torch.load('./efficientnet-classification.pth', map_location=device))\n",
    "model_swin.load_state_dict(torch.load('./swintransformer-classification.pth', map_location=device))"
   ]
  },
  {
   "cell_type": "code",
   "execution_count": null,
   "id": "iVqImIZci6cM",
   "metadata": {
    "id": "iVqImIZci6cM"
   },
   "outputs": [],
   "source": [
    "#@title Classification Dataset definition\n",
    "class ChestXrayDataset(Dataset):\n",
    "    def __init__(self, df, img_dir, transform=None):\n",
    "        self.df = df\n",
    "        self.img_dir = img_dir\n",
    "        self.transform = transform\n",
    "\n",
    "    def __len__(self):\n",
    "        return len(self.df)\n",
    "\n",
    "    def __getitem__(self, idx):\n",
    "        row = self.df.iloc[idx]\n",
    "        img_path = os.path.join(self.img_dir, row['Image Index'])\n",
    "        image = Image.open(img_path).convert('RGB')\n",
    "        if self.transform:\n",
    "            image = self.transform(image)\n",
    "        label = torch.tensor(row['Binary Label'], dtype=torch.float32)\n",
    "        return image, label\n",
    "\n",
    "mean = [0.485, 0.456, 0.406]\n",
    "std  = [0.229, 0.224, 0.225]\n",
    "\n",
    "image_size_= 224\n",
    "\n",
    "train_transforms = transforms.Compose([\n",
    "    transforms.Resize((image_size_,image_size_)),\n",
    "    transforms.RandomHorizontalFlip(),\n",
    "    transforms.RandomRotation(10),\n",
    "    transforms.ToTensor(),\n",
    "    transforms.Normalize(mean, std),\n",
    "])\n",
    "\n",
    "eval_transforms   = transforms.Compose([\n",
    "    transforms.Resize((image_size_,image_size_)),\n",
    "    transforms.ToTensor(),\n",
    "    transforms.Normalize(mean, std),\n",
    "])"
   ]
  },
  {
   "cell_type": "markdown",
   "id": "f752b8cb-7235-4cb1-9e25-91c34e1e675f",
   "metadata": {
    "id": "f752b8cb-7235-4cb1-9e25-91c34e1e675f"
   },
   "source": [
    "## Loading pretrained model  "
   ]
  },
  {
   "cell_type": "code",
   "execution_count": null,
   "id": "a4xV-tzm0jCD",
   "metadata": {
    "colab": {
     "base_uri": "https://localhost:8080/"
    },
    "id": "a4xV-tzm0jCD",
    "outputId": "a6c63254-9022-4ff4-a40b-4387760a3a41"
   },
   "outputs": [
    {
     "data": {
      "text/plain": [
       "DenseNet(\n",
       "  (features): Sequential(\n",
       "    (conv0): Conv2d(3, 64, kernel_size=(7, 7), stride=(2, 2), padding=(3, 3), bias=False)\n",
       "    (norm0): BatchNorm2d(64, eps=1e-05, momentum=0.1, affine=True, track_running_stats=True)\n",
       "    (relu0): ReLU(inplace=True)\n",
       "    (pool0): MaxPool2d(kernel_size=3, stride=2, padding=1, dilation=1, ceil_mode=False)\n",
       "    (denseblock1): _DenseBlock(\n",
       "      (denselayer1): _DenseLayer(\n",
       "        (norm1): BatchNorm2d(64, eps=1e-05, momentum=0.1, affine=True, track_running_stats=True)\n",
       "        (relu1): ReLU(inplace=True)\n",
       "        (conv1): Conv2d(64, 128, kernel_size=(1, 1), stride=(1, 1), bias=False)\n",
       "        (norm2): BatchNorm2d(128, eps=1e-05, momentum=0.1, affine=True, track_running_stats=True)\n",
       "        (relu2): ReLU(inplace=True)\n",
       "        (conv2): Conv2d(128, 32, kernel_size=(3, 3), stride=(1, 1), padding=(1, 1), bias=False)\n",
       "      )\n",
       "      (denselayer2): _DenseLayer(\n",
       "        (norm1): BatchNorm2d(96, eps=1e-05, momentum=0.1, affine=True, track_running_stats=True)\n",
       "        (relu1): ReLU(inplace=True)\n",
       "        (conv1): Conv2d(96, 128, kernel_size=(1, 1), stride=(1, 1), bias=False)\n",
       "        (norm2): BatchNorm2d(128, eps=1e-05, momentum=0.1, affine=True, track_running_stats=True)\n",
       "        (relu2): ReLU(inplace=True)\n",
       "        (conv2): Conv2d(128, 32, kernel_size=(3, 3), stride=(1, 1), padding=(1, 1), bias=False)\n",
       "      )\n",
       "      (denselayer3): _DenseLayer(\n",
       "        (norm1): BatchNorm2d(128, eps=1e-05, momentum=0.1, affine=True, track_running_stats=True)\n",
       "        (relu1): ReLU(inplace=True)\n",
       "        (conv1): Conv2d(128, 128, kernel_size=(1, 1), stride=(1, 1), bias=False)\n",
       "        (norm2): BatchNorm2d(128, eps=1e-05, momentum=0.1, affine=True, track_running_stats=True)\n",
       "        (relu2): ReLU(inplace=True)\n",
       "        (conv2): Conv2d(128, 32, kernel_size=(3, 3), stride=(1, 1), padding=(1, 1), bias=False)\n",
       "      )\n",
       "      (denselayer4): _DenseLayer(\n",
       "        (norm1): BatchNorm2d(160, eps=1e-05, momentum=0.1, affine=True, track_running_stats=True)\n",
       "        (relu1): ReLU(inplace=True)\n",
       "        (conv1): Conv2d(160, 128, kernel_size=(1, 1), stride=(1, 1), bias=False)\n",
       "        (norm2): BatchNorm2d(128, eps=1e-05, momentum=0.1, affine=True, track_running_stats=True)\n",
       "        (relu2): ReLU(inplace=True)\n",
       "        (conv2): Conv2d(128, 32, kernel_size=(3, 3), stride=(1, 1), padding=(1, 1), bias=False)\n",
       "      )\n",
       "      (denselayer5): _DenseLayer(\n",
       "        (norm1): BatchNorm2d(192, eps=1e-05, momentum=0.1, affine=True, track_running_stats=True)\n",
       "        (relu1): ReLU(inplace=True)\n",
       "        (conv1): Conv2d(192, 128, kernel_size=(1, 1), stride=(1, 1), bias=False)\n",
       "        (norm2): BatchNorm2d(128, eps=1e-05, momentum=0.1, affine=True, track_running_stats=True)\n",
       "        (relu2): ReLU(inplace=True)\n",
       "        (conv2): Conv2d(128, 32, kernel_size=(3, 3), stride=(1, 1), padding=(1, 1), bias=False)\n",
       "      )\n",
       "      (denselayer6): _DenseLayer(\n",
       "        (norm1): BatchNorm2d(224, eps=1e-05, momentum=0.1, affine=True, track_running_stats=True)\n",
       "        (relu1): ReLU(inplace=True)\n",
       "        (conv1): Conv2d(224, 128, kernel_size=(1, 1), stride=(1, 1), bias=False)\n",
       "        (norm2): BatchNorm2d(128, eps=1e-05, momentum=0.1, affine=True, track_running_stats=True)\n",
       "        (relu2): ReLU(inplace=True)\n",
       "        (conv2): Conv2d(128, 32, kernel_size=(3, 3), stride=(1, 1), padding=(1, 1), bias=False)\n",
       "      )\n",
       "    )\n",
       "    (transition1): _Transition(\n",
       "      (norm): BatchNorm2d(256, eps=1e-05, momentum=0.1, affine=True, track_running_stats=True)\n",
       "      (relu): ReLU(inplace=True)\n",
       "      (conv): Conv2d(256, 128, kernel_size=(1, 1), stride=(1, 1), bias=False)\n",
       "      (pool): AvgPool2d(kernel_size=2, stride=2, padding=0)\n",
       "    )\n",
       "    (denseblock2): _DenseBlock(\n",
       "      (denselayer1): _DenseLayer(\n",
       "        (norm1): BatchNorm2d(128, eps=1e-05, momentum=0.1, affine=True, track_running_stats=True)\n",
       "        (relu1): ReLU(inplace=True)\n",
       "        (conv1): Conv2d(128, 128, kernel_size=(1, 1), stride=(1, 1), bias=False)\n",
       "        (norm2): BatchNorm2d(128, eps=1e-05, momentum=0.1, affine=True, track_running_stats=True)\n",
       "        (relu2): ReLU(inplace=True)\n",
       "        (conv2): Conv2d(128, 32, kernel_size=(3, 3), stride=(1, 1), padding=(1, 1), bias=False)\n",
       "      )\n",
       "      (denselayer2): _DenseLayer(\n",
       "        (norm1): BatchNorm2d(160, eps=1e-05, momentum=0.1, affine=True, track_running_stats=True)\n",
       "        (relu1): ReLU(inplace=True)\n",
       "        (conv1): Conv2d(160, 128, kernel_size=(1, 1), stride=(1, 1), bias=False)\n",
       "        (norm2): BatchNorm2d(128, eps=1e-05, momentum=0.1, affine=True, track_running_stats=True)\n",
       "        (relu2): ReLU(inplace=True)\n",
       "        (conv2): Conv2d(128, 32, kernel_size=(3, 3), stride=(1, 1), padding=(1, 1), bias=False)\n",
       "      )\n",
       "      (denselayer3): _DenseLayer(\n",
       "        (norm1): BatchNorm2d(192, eps=1e-05, momentum=0.1, affine=True, track_running_stats=True)\n",
       "        (relu1): ReLU(inplace=True)\n",
       "        (conv1): Conv2d(192, 128, kernel_size=(1, 1), stride=(1, 1), bias=False)\n",
       "        (norm2): BatchNorm2d(128, eps=1e-05, momentum=0.1, affine=True, track_running_stats=True)\n",
       "        (relu2): ReLU(inplace=True)\n",
       "        (conv2): Conv2d(128, 32, kernel_size=(3, 3), stride=(1, 1), padding=(1, 1), bias=False)\n",
       "      )\n",
       "      (denselayer4): _DenseLayer(\n",
       "        (norm1): BatchNorm2d(224, eps=1e-05, momentum=0.1, affine=True, track_running_stats=True)\n",
       "        (relu1): ReLU(inplace=True)\n",
       "        (conv1): Conv2d(224, 128, kernel_size=(1, 1), stride=(1, 1), bias=False)\n",
       "        (norm2): BatchNorm2d(128, eps=1e-05, momentum=0.1, affine=True, track_running_stats=True)\n",
       "        (relu2): ReLU(inplace=True)\n",
       "        (conv2): Conv2d(128, 32, kernel_size=(3, 3), stride=(1, 1), padding=(1, 1), bias=False)\n",
       "      )\n",
       "      (denselayer5): _DenseLayer(\n",
       "        (norm1): BatchNorm2d(256, eps=1e-05, momentum=0.1, affine=True, track_running_stats=True)\n",
       "        (relu1): ReLU(inplace=True)\n",
       "        (conv1): Conv2d(256, 128, kernel_size=(1, 1), stride=(1, 1), bias=False)\n",
       "        (norm2): BatchNorm2d(128, eps=1e-05, momentum=0.1, affine=True, track_running_stats=True)\n",
       "        (relu2): ReLU(inplace=True)\n",
       "        (conv2): Conv2d(128, 32, kernel_size=(3, 3), stride=(1, 1), padding=(1, 1), bias=False)\n",
       "      )\n",
       "      (denselayer6): _DenseLayer(\n",
       "        (norm1): BatchNorm2d(288, eps=1e-05, momentum=0.1, affine=True, track_running_stats=True)\n",
       "        (relu1): ReLU(inplace=True)\n",
       "        (conv1): Conv2d(288, 128, kernel_size=(1, 1), stride=(1, 1), bias=False)\n",
       "        (norm2): BatchNorm2d(128, eps=1e-05, momentum=0.1, affine=True, track_running_stats=True)\n",
       "        (relu2): ReLU(inplace=True)\n",
       "        (conv2): Conv2d(128, 32, kernel_size=(3, 3), stride=(1, 1), padding=(1, 1), bias=False)\n",
       "      )\n",
       "      (denselayer7): _DenseLayer(\n",
       "        (norm1): BatchNorm2d(320, eps=1e-05, momentum=0.1, affine=True, track_running_stats=True)\n",
       "        (relu1): ReLU(inplace=True)\n",
       "        (conv1): Conv2d(320, 128, kernel_size=(1, 1), stride=(1, 1), bias=False)\n",
       "        (norm2): BatchNorm2d(128, eps=1e-05, momentum=0.1, affine=True, track_running_stats=True)\n",
       "        (relu2): ReLU(inplace=True)\n",
       "        (conv2): Conv2d(128, 32, kernel_size=(3, 3), stride=(1, 1), padding=(1, 1), bias=False)\n",
       "      )\n",
       "      (denselayer8): _DenseLayer(\n",
       "        (norm1): BatchNorm2d(352, eps=1e-05, momentum=0.1, affine=True, track_running_stats=True)\n",
       "        (relu1): ReLU(inplace=True)\n",
       "        (conv1): Conv2d(352, 128, kernel_size=(1, 1), stride=(1, 1), bias=False)\n",
       "        (norm2): BatchNorm2d(128, eps=1e-05, momentum=0.1, affine=True, track_running_stats=True)\n",
       "        (relu2): ReLU(inplace=True)\n",
       "        (conv2): Conv2d(128, 32, kernel_size=(3, 3), stride=(1, 1), padding=(1, 1), bias=False)\n",
       "      )\n",
       "      (denselayer9): _DenseLayer(\n",
       "        (norm1): BatchNorm2d(384, eps=1e-05, momentum=0.1, affine=True, track_running_stats=True)\n",
       "        (relu1): ReLU(inplace=True)\n",
       "        (conv1): Conv2d(384, 128, kernel_size=(1, 1), stride=(1, 1), bias=False)\n",
       "        (norm2): BatchNorm2d(128, eps=1e-05, momentum=0.1, affine=True, track_running_stats=True)\n",
       "        (relu2): ReLU(inplace=True)\n",
       "        (conv2): Conv2d(128, 32, kernel_size=(3, 3), stride=(1, 1), padding=(1, 1), bias=False)\n",
       "      )\n",
       "      (denselayer10): _DenseLayer(\n",
       "        (norm1): BatchNorm2d(416, eps=1e-05, momentum=0.1, affine=True, track_running_stats=True)\n",
       "        (relu1): ReLU(inplace=True)\n",
       "        (conv1): Conv2d(416, 128, kernel_size=(1, 1), stride=(1, 1), bias=False)\n",
       "        (norm2): BatchNorm2d(128, eps=1e-05, momentum=0.1, affine=True, track_running_stats=True)\n",
       "        (relu2): ReLU(inplace=True)\n",
       "        (conv2): Conv2d(128, 32, kernel_size=(3, 3), stride=(1, 1), padding=(1, 1), bias=False)\n",
       "      )\n",
       "      (denselayer11): _DenseLayer(\n",
       "        (norm1): BatchNorm2d(448, eps=1e-05, momentum=0.1, affine=True, track_running_stats=True)\n",
       "        (relu1): ReLU(inplace=True)\n",
       "        (conv1): Conv2d(448, 128, kernel_size=(1, 1), stride=(1, 1), bias=False)\n",
       "        (norm2): BatchNorm2d(128, eps=1e-05, momentum=0.1, affine=True, track_running_stats=True)\n",
       "        (relu2): ReLU(inplace=True)\n",
       "        (conv2): Conv2d(128, 32, kernel_size=(3, 3), stride=(1, 1), padding=(1, 1), bias=False)\n",
       "      )\n",
       "      (denselayer12): _DenseLayer(\n",
       "        (norm1): BatchNorm2d(480, eps=1e-05, momentum=0.1, affine=True, track_running_stats=True)\n",
       "        (relu1): ReLU(inplace=True)\n",
       "        (conv1): Conv2d(480, 128, kernel_size=(1, 1), stride=(1, 1), bias=False)\n",
       "        (norm2): BatchNorm2d(128, eps=1e-05, momentum=0.1, affine=True, track_running_stats=True)\n",
       "        (relu2): ReLU(inplace=True)\n",
       "        (conv2): Conv2d(128, 32, kernel_size=(3, 3), stride=(1, 1), padding=(1, 1), bias=False)\n",
       "      )\n",
       "    )\n",
       "    (transition2): _Transition(\n",
       "      (norm): BatchNorm2d(512, eps=1e-05, momentum=0.1, affine=True, track_running_stats=True)\n",
       "      (relu): ReLU(inplace=True)\n",
       "      (conv): Conv2d(512, 256, kernel_size=(1, 1), stride=(1, 1), bias=False)\n",
       "      (pool): AvgPool2d(kernel_size=2, stride=2, padding=0)\n",
       "    )\n",
       "    (denseblock3): _DenseBlock(\n",
       "      (denselayer1): _DenseLayer(\n",
       "        (norm1): BatchNorm2d(256, eps=1e-05, momentum=0.1, affine=True, track_running_stats=True)\n",
       "        (relu1): ReLU(inplace=True)\n",
       "        (conv1): Conv2d(256, 128, kernel_size=(1, 1), stride=(1, 1), bias=False)\n",
       "        (norm2): BatchNorm2d(128, eps=1e-05, momentum=0.1, affine=True, track_running_stats=True)\n",
       "        (relu2): ReLU(inplace=True)\n",
       "        (conv2): Conv2d(128, 32, kernel_size=(3, 3), stride=(1, 1), padding=(1, 1), bias=False)\n",
       "      )\n",
       "      (denselayer2): _DenseLayer(\n",
       "        (norm1): BatchNorm2d(288, eps=1e-05, momentum=0.1, affine=True, track_running_stats=True)\n",
       "        (relu1): ReLU(inplace=True)\n",
       "        (conv1): Conv2d(288, 128, kernel_size=(1, 1), stride=(1, 1), bias=False)\n",
       "        (norm2): BatchNorm2d(128, eps=1e-05, momentum=0.1, affine=True, track_running_stats=True)\n",
       "        (relu2): ReLU(inplace=True)\n",
       "        (conv2): Conv2d(128, 32, kernel_size=(3, 3), stride=(1, 1), padding=(1, 1), bias=False)\n",
       "      )\n",
       "      (denselayer3): _DenseLayer(\n",
       "        (norm1): BatchNorm2d(320, eps=1e-05, momentum=0.1, affine=True, track_running_stats=True)\n",
       "        (relu1): ReLU(inplace=True)\n",
       "        (conv1): Conv2d(320, 128, kernel_size=(1, 1), stride=(1, 1), bias=False)\n",
       "        (norm2): BatchNorm2d(128, eps=1e-05, momentum=0.1, affine=True, track_running_stats=True)\n",
       "        (relu2): ReLU(inplace=True)\n",
       "        (conv2): Conv2d(128, 32, kernel_size=(3, 3), stride=(1, 1), padding=(1, 1), bias=False)\n",
       "      )\n",
       "      (denselayer4): _DenseLayer(\n",
       "        (norm1): BatchNorm2d(352, eps=1e-05, momentum=0.1, affine=True, track_running_stats=True)\n",
       "        (relu1): ReLU(inplace=True)\n",
       "        (conv1): Conv2d(352, 128, kernel_size=(1, 1), stride=(1, 1), bias=False)\n",
       "        (norm2): BatchNorm2d(128, eps=1e-05, momentum=0.1, affine=True, track_running_stats=True)\n",
       "        (relu2): ReLU(inplace=True)\n",
       "        (conv2): Conv2d(128, 32, kernel_size=(3, 3), stride=(1, 1), padding=(1, 1), bias=False)\n",
       "      )\n",
       "      (denselayer5): _DenseLayer(\n",
       "        (norm1): BatchNorm2d(384, eps=1e-05, momentum=0.1, affine=True, track_running_stats=True)\n",
       "        (relu1): ReLU(inplace=True)\n",
       "        (conv1): Conv2d(384, 128, kernel_size=(1, 1), stride=(1, 1), bias=False)\n",
       "        (norm2): BatchNorm2d(128, eps=1e-05, momentum=0.1, affine=True, track_running_stats=True)\n",
       "        (relu2): ReLU(inplace=True)\n",
       "        (conv2): Conv2d(128, 32, kernel_size=(3, 3), stride=(1, 1), padding=(1, 1), bias=False)\n",
       "      )\n",
       "      (denselayer6): _DenseLayer(\n",
       "        (norm1): BatchNorm2d(416, eps=1e-05, momentum=0.1, affine=True, track_running_stats=True)\n",
       "        (relu1): ReLU(inplace=True)\n",
       "        (conv1): Conv2d(416, 128, kernel_size=(1, 1), stride=(1, 1), bias=False)\n",
       "        (norm2): BatchNorm2d(128, eps=1e-05, momentum=0.1, affine=True, track_running_stats=True)\n",
       "        (relu2): ReLU(inplace=True)\n",
       "        (conv2): Conv2d(128, 32, kernel_size=(3, 3), stride=(1, 1), padding=(1, 1), bias=False)\n",
       "      )\n",
       "      (denselayer7): _DenseLayer(\n",
       "        (norm1): BatchNorm2d(448, eps=1e-05, momentum=0.1, affine=True, track_running_stats=True)\n",
       "        (relu1): ReLU(inplace=True)\n",
       "        (conv1): Conv2d(448, 128, kernel_size=(1, 1), stride=(1, 1), bias=False)\n",
       "        (norm2): BatchNorm2d(128, eps=1e-05, momentum=0.1, affine=True, track_running_stats=True)\n",
       "        (relu2): ReLU(inplace=True)\n",
       "        (conv2): Conv2d(128, 32, kernel_size=(3, 3), stride=(1, 1), padding=(1, 1), bias=False)\n",
       "      )\n",
       "      (denselayer8): _DenseLayer(\n",
       "        (norm1): BatchNorm2d(480, eps=1e-05, momentum=0.1, affine=True, track_running_stats=True)\n",
       "        (relu1): ReLU(inplace=True)\n",
       "        (conv1): Conv2d(480, 128, kernel_size=(1, 1), stride=(1, 1), bias=False)\n",
       "        (norm2): BatchNorm2d(128, eps=1e-05, momentum=0.1, affine=True, track_running_stats=True)\n",
       "        (relu2): ReLU(inplace=True)\n",
       "        (conv2): Conv2d(128, 32, kernel_size=(3, 3), stride=(1, 1), padding=(1, 1), bias=False)\n",
       "      )\n",
       "      (denselayer9): _DenseLayer(\n",
       "        (norm1): BatchNorm2d(512, eps=1e-05, momentum=0.1, affine=True, track_running_stats=True)\n",
       "        (relu1): ReLU(inplace=True)\n",
       "        (conv1): Conv2d(512, 128, kernel_size=(1, 1), stride=(1, 1), bias=False)\n",
       "        (norm2): BatchNorm2d(128, eps=1e-05, momentum=0.1, affine=True, track_running_stats=True)\n",
       "        (relu2): ReLU(inplace=True)\n",
       "        (conv2): Conv2d(128, 32, kernel_size=(3, 3), stride=(1, 1), padding=(1, 1), bias=False)\n",
       "      )\n",
       "      (denselayer10): _DenseLayer(\n",
       "        (norm1): BatchNorm2d(544, eps=1e-05, momentum=0.1, affine=True, track_running_stats=True)\n",
       "        (relu1): ReLU(inplace=True)\n",
       "        (conv1): Conv2d(544, 128, kernel_size=(1, 1), stride=(1, 1), bias=False)\n",
       "        (norm2): BatchNorm2d(128, eps=1e-05, momentum=0.1, affine=True, track_running_stats=True)\n",
       "        (relu2): ReLU(inplace=True)\n",
       "        (conv2): Conv2d(128, 32, kernel_size=(3, 3), stride=(1, 1), padding=(1, 1), bias=False)\n",
       "      )\n",
       "      (denselayer11): _DenseLayer(\n",
       "        (norm1): BatchNorm2d(576, eps=1e-05, momentum=0.1, affine=True, track_running_stats=True)\n",
       "        (relu1): ReLU(inplace=True)\n",
       "        (conv1): Conv2d(576, 128, kernel_size=(1, 1), stride=(1, 1), bias=False)\n",
       "        (norm2): BatchNorm2d(128, eps=1e-05, momentum=0.1, affine=True, track_running_stats=True)\n",
       "        (relu2): ReLU(inplace=True)\n",
       "        (conv2): Conv2d(128, 32, kernel_size=(3, 3), stride=(1, 1), padding=(1, 1), bias=False)\n",
       "      )\n",
       "      (denselayer12): _DenseLayer(\n",
       "        (norm1): BatchNorm2d(608, eps=1e-05, momentum=0.1, affine=True, track_running_stats=True)\n",
       "        (relu1): ReLU(inplace=True)\n",
       "        (conv1): Conv2d(608, 128, kernel_size=(1, 1), stride=(1, 1), bias=False)\n",
       "        (norm2): BatchNorm2d(128, eps=1e-05, momentum=0.1, affine=True, track_running_stats=True)\n",
       "        (relu2): ReLU(inplace=True)\n",
       "        (conv2): Conv2d(128, 32, kernel_size=(3, 3), stride=(1, 1), padding=(1, 1), bias=False)\n",
       "      )\n",
       "      (denselayer13): _DenseLayer(\n",
       "        (norm1): BatchNorm2d(640, eps=1e-05, momentum=0.1, affine=True, track_running_stats=True)\n",
       "        (relu1): ReLU(inplace=True)\n",
       "        (conv1): Conv2d(640, 128, kernel_size=(1, 1), stride=(1, 1), bias=False)\n",
       "        (norm2): BatchNorm2d(128, eps=1e-05, momentum=0.1, affine=True, track_running_stats=True)\n",
       "        (relu2): ReLU(inplace=True)\n",
       "        (conv2): Conv2d(128, 32, kernel_size=(3, 3), stride=(1, 1), padding=(1, 1), bias=False)\n",
       "      )\n",
       "      (denselayer14): _DenseLayer(\n",
       "        (norm1): BatchNorm2d(672, eps=1e-05, momentum=0.1, affine=True, track_running_stats=True)\n",
       "        (relu1): ReLU(inplace=True)\n",
       "        (conv1): Conv2d(672, 128, kernel_size=(1, 1), stride=(1, 1), bias=False)\n",
       "        (norm2): BatchNorm2d(128, eps=1e-05, momentum=0.1, affine=True, track_running_stats=True)\n",
       "        (relu2): ReLU(inplace=True)\n",
       "        (conv2): Conv2d(128, 32, kernel_size=(3, 3), stride=(1, 1), padding=(1, 1), bias=False)\n",
       "      )\n",
       "      (denselayer15): _DenseLayer(\n",
       "        (norm1): BatchNorm2d(704, eps=1e-05, momentum=0.1, affine=True, track_running_stats=True)\n",
       "        (relu1): ReLU(inplace=True)\n",
       "        (conv1): Conv2d(704, 128, kernel_size=(1, 1), stride=(1, 1), bias=False)\n",
       "        (norm2): BatchNorm2d(128, eps=1e-05, momentum=0.1, affine=True, track_running_stats=True)\n",
       "        (relu2): ReLU(inplace=True)\n",
       "        (conv2): Conv2d(128, 32, kernel_size=(3, 3), stride=(1, 1), padding=(1, 1), bias=False)\n",
       "      )\n",
       "      (denselayer16): _DenseLayer(\n",
       "        (norm1): BatchNorm2d(736, eps=1e-05, momentum=0.1, affine=True, track_running_stats=True)\n",
       "        (relu1): ReLU(inplace=True)\n",
       "        (conv1): Conv2d(736, 128, kernel_size=(1, 1), stride=(1, 1), bias=False)\n",
       "        (norm2): BatchNorm2d(128, eps=1e-05, momentum=0.1, affine=True, track_running_stats=True)\n",
       "        (relu2): ReLU(inplace=True)\n",
       "        (conv2): Conv2d(128, 32, kernel_size=(3, 3), stride=(1, 1), padding=(1, 1), bias=False)\n",
       "      )\n",
       "      (denselayer17): _DenseLayer(\n",
       "        (norm1): BatchNorm2d(768, eps=1e-05, momentum=0.1, affine=True, track_running_stats=True)\n",
       "        (relu1): ReLU(inplace=True)\n",
       "        (conv1): Conv2d(768, 128, kernel_size=(1, 1), stride=(1, 1), bias=False)\n",
       "        (norm2): BatchNorm2d(128, eps=1e-05, momentum=0.1, affine=True, track_running_stats=True)\n",
       "        (relu2): ReLU(inplace=True)\n",
       "        (conv2): Conv2d(128, 32, kernel_size=(3, 3), stride=(1, 1), padding=(1, 1), bias=False)\n",
       "      )\n",
       "      (denselayer18): _DenseLayer(\n",
       "        (norm1): BatchNorm2d(800, eps=1e-05, momentum=0.1, affine=True, track_running_stats=True)\n",
       "        (relu1): ReLU(inplace=True)\n",
       "        (conv1): Conv2d(800, 128, kernel_size=(1, 1), stride=(1, 1), bias=False)\n",
       "        (norm2): BatchNorm2d(128, eps=1e-05, momentum=0.1, affine=True, track_running_stats=True)\n",
       "        (relu2): ReLU(inplace=True)\n",
       "        (conv2): Conv2d(128, 32, kernel_size=(3, 3), stride=(1, 1), padding=(1, 1), bias=False)\n",
       "      )\n",
       "      (denselayer19): _DenseLayer(\n",
       "        (norm1): BatchNorm2d(832, eps=1e-05, momentum=0.1, affine=True, track_running_stats=True)\n",
       "        (relu1): ReLU(inplace=True)\n",
       "        (conv1): Conv2d(832, 128, kernel_size=(1, 1), stride=(1, 1), bias=False)\n",
       "        (norm2): BatchNorm2d(128, eps=1e-05, momentum=0.1, affine=True, track_running_stats=True)\n",
       "        (relu2): ReLU(inplace=True)\n",
       "        (conv2): Conv2d(128, 32, kernel_size=(3, 3), stride=(1, 1), padding=(1, 1), bias=False)\n",
       "      )\n",
       "      (denselayer20): _DenseLayer(\n",
       "        (norm1): BatchNorm2d(864, eps=1e-05, momentum=0.1, affine=True, track_running_stats=True)\n",
       "        (relu1): ReLU(inplace=True)\n",
       "        (conv1): Conv2d(864, 128, kernel_size=(1, 1), stride=(1, 1), bias=False)\n",
       "        (norm2): BatchNorm2d(128, eps=1e-05, momentum=0.1, affine=True, track_running_stats=True)\n",
       "        (relu2): ReLU(inplace=True)\n",
       "        (conv2): Conv2d(128, 32, kernel_size=(3, 3), stride=(1, 1), padding=(1, 1), bias=False)\n",
       "      )\n",
       "      (denselayer21): _DenseLayer(\n",
       "        (norm1): BatchNorm2d(896, eps=1e-05, momentum=0.1, affine=True, track_running_stats=True)\n",
       "        (relu1): ReLU(inplace=True)\n",
       "        (conv1): Conv2d(896, 128, kernel_size=(1, 1), stride=(1, 1), bias=False)\n",
       "        (norm2): BatchNorm2d(128, eps=1e-05, momentum=0.1, affine=True, track_running_stats=True)\n",
       "        (relu2): ReLU(inplace=True)\n",
       "        (conv2): Conv2d(128, 32, kernel_size=(3, 3), stride=(1, 1), padding=(1, 1), bias=False)\n",
       "      )\n",
       "      (denselayer22): _DenseLayer(\n",
       "        (norm1): BatchNorm2d(928, eps=1e-05, momentum=0.1, affine=True, track_running_stats=True)\n",
       "        (relu1): ReLU(inplace=True)\n",
       "        (conv1): Conv2d(928, 128, kernel_size=(1, 1), stride=(1, 1), bias=False)\n",
       "        (norm2): BatchNorm2d(128, eps=1e-05, momentum=0.1, affine=True, track_running_stats=True)\n",
       "        (relu2): ReLU(inplace=True)\n",
       "        (conv2): Conv2d(128, 32, kernel_size=(3, 3), stride=(1, 1), padding=(1, 1), bias=False)\n",
       "      )\n",
       "      (denselayer23): _DenseLayer(\n",
       "        (norm1): BatchNorm2d(960, eps=1e-05, momentum=0.1, affine=True, track_running_stats=True)\n",
       "        (relu1): ReLU(inplace=True)\n",
       "        (conv1): Conv2d(960, 128, kernel_size=(1, 1), stride=(1, 1), bias=False)\n",
       "        (norm2): BatchNorm2d(128, eps=1e-05, momentum=0.1, affine=True, track_running_stats=True)\n",
       "        (relu2): ReLU(inplace=True)\n",
       "        (conv2): Conv2d(128, 32, kernel_size=(3, 3), stride=(1, 1), padding=(1, 1), bias=False)\n",
       "      )\n",
       "      (denselayer24): _DenseLayer(\n",
       "        (norm1): BatchNorm2d(992, eps=1e-05, momentum=0.1, affine=True, track_running_stats=True)\n",
       "        (relu1): ReLU(inplace=True)\n",
       "        (conv1): Conv2d(992, 128, kernel_size=(1, 1), stride=(1, 1), bias=False)\n",
       "        (norm2): BatchNorm2d(128, eps=1e-05, momentum=0.1, affine=True, track_running_stats=True)\n",
       "        (relu2): ReLU(inplace=True)\n",
       "        (conv2): Conv2d(128, 32, kernel_size=(3, 3), stride=(1, 1), padding=(1, 1), bias=False)\n",
       "      )\n",
       "    )\n",
       "    (transition3): _Transition(\n",
       "      (norm): BatchNorm2d(1024, eps=1e-05, momentum=0.1, affine=True, track_running_stats=True)\n",
       "      (relu): ReLU(inplace=True)\n",
       "      (conv): Conv2d(1024, 512, kernel_size=(1, 1), stride=(1, 1), bias=False)\n",
       "      (pool): AvgPool2d(kernel_size=2, stride=2, padding=0)\n",
       "    )\n",
       "    (denseblock4): _DenseBlock(\n",
       "      (denselayer1): _DenseLayer(\n",
       "        (norm1): BatchNorm2d(512, eps=1e-05, momentum=0.1, affine=True, track_running_stats=True)\n",
       "        (relu1): ReLU(inplace=True)\n",
       "        (conv1): Conv2d(512, 128, kernel_size=(1, 1), stride=(1, 1), bias=False)\n",
       "        (norm2): BatchNorm2d(128, eps=1e-05, momentum=0.1, affine=True, track_running_stats=True)\n",
       "        (relu2): ReLU(inplace=True)\n",
       "        (conv2): Conv2d(128, 32, kernel_size=(3, 3), stride=(1, 1), padding=(1, 1), bias=False)\n",
       "      )\n",
       "      (denselayer2): _DenseLayer(\n",
       "        (norm1): BatchNorm2d(544, eps=1e-05, momentum=0.1, affine=True, track_running_stats=True)\n",
       "        (relu1): ReLU(inplace=True)\n",
       "        (conv1): Conv2d(544, 128, kernel_size=(1, 1), stride=(1, 1), bias=False)\n",
       "        (norm2): BatchNorm2d(128, eps=1e-05, momentum=0.1, affine=True, track_running_stats=True)\n",
       "        (relu2): ReLU(inplace=True)\n",
       "        (conv2): Conv2d(128, 32, kernel_size=(3, 3), stride=(1, 1), padding=(1, 1), bias=False)\n",
       "      )\n",
       "      (denselayer3): _DenseLayer(\n",
       "        (norm1): BatchNorm2d(576, eps=1e-05, momentum=0.1, affine=True, track_running_stats=True)\n",
       "        (relu1): ReLU(inplace=True)\n",
       "        (conv1): Conv2d(576, 128, kernel_size=(1, 1), stride=(1, 1), bias=False)\n",
       "        (norm2): BatchNorm2d(128, eps=1e-05, momentum=0.1, affine=True, track_running_stats=True)\n",
       "        (relu2): ReLU(inplace=True)\n",
       "        (conv2): Conv2d(128, 32, kernel_size=(3, 3), stride=(1, 1), padding=(1, 1), bias=False)\n",
       "      )\n",
       "      (denselayer4): _DenseLayer(\n",
       "        (norm1): BatchNorm2d(608, eps=1e-05, momentum=0.1, affine=True, track_running_stats=True)\n",
       "        (relu1): ReLU(inplace=True)\n",
       "        (conv1): Conv2d(608, 128, kernel_size=(1, 1), stride=(1, 1), bias=False)\n",
       "        (norm2): BatchNorm2d(128, eps=1e-05, momentum=0.1, affine=True, track_running_stats=True)\n",
       "        (relu2): ReLU(inplace=True)\n",
       "        (conv2): Conv2d(128, 32, kernel_size=(3, 3), stride=(1, 1), padding=(1, 1), bias=False)\n",
       "      )\n",
       "      (denselayer5): _DenseLayer(\n",
       "        (norm1): BatchNorm2d(640, eps=1e-05, momentum=0.1, affine=True, track_running_stats=True)\n",
       "        (relu1): ReLU(inplace=True)\n",
       "        (conv1): Conv2d(640, 128, kernel_size=(1, 1), stride=(1, 1), bias=False)\n",
       "        (norm2): BatchNorm2d(128, eps=1e-05, momentum=0.1, affine=True, track_running_stats=True)\n",
       "        (relu2): ReLU(inplace=True)\n",
       "        (conv2): Conv2d(128, 32, kernel_size=(3, 3), stride=(1, 1), padding=(1, 1), bias=False)\n",
       "      )\n",
       "      (denselayer6): _DenseLayer(\n",
       "        (norm1): BatchNorm2d(672, eps=1e-05, momentum=0.1, affine=True, track_running_stats=True)\n",
       "        (relu1): ReLU(inplace=True)\n",
       "        (conv1): Conv2d(672, 128, kernel_size=(1, 1), stride=(1, 1), bias=False)\n",
       "        (norm2): BatchNorm2d(128, eps=1e-05, momentum=0.1, affine=True, track_running_stats=True)\n",
       "        (relu2): ReLU(inplace=True)\n",
       "        (conv2): Conv2d(128, 32, kernel_size=(3, 3), stride=(1, 1), padding=(1, 1), bias=False)\n",
       "      )\n",
       "      (denselayer7): _DenseLayer(\n",
       "        (norm1): BatchNorm2d(704, eps=1e-05, momentum=0.1, affine=True, track_running_stats=True)\n",
       "        (relu1): ReLU(inplace=True)\n",
       "        (conv1): Conv2d(704, 128, kernel_size=(1, 1), stride=(1, 1), bias=False)\n",
       "        (norm2): BatchNorm2d(128, eps=1e-05, momentum=0.1, affine=True, track_running_stats=True)\n",
       "        (relu2): ReLU(inplace=True)\n",
       "        (conv2): Conv2d(128, 32, kernel_size=(3, 3), stride=(1, 1), padding=(1, 1), bias=False)\n",
       "      )\n",
       "      (denselayer8): _DenseLayer(\n",
       "        (norm1): BatchNorm2d(736, eps=1e-05, momentum=0.1, affine=True, track_running_stats=True)\n",
       "        (relu1): ReLU(inplace=True)\n",
       "        (conv1): Conv2d(736, 128, kernel_size=(1, 1), stride=(1, 1), bias=False)\n",
       "        (norm2): BatchNorm2d(128, eps=1e-05, momentum=0.1, affine=True, track_running_stats=True)\n",
       "        (relu2): ReLU(inplace=True)\n",
       "        (conv2): Conv2d(128, 32, kernel_size=(3, 3), stride=(1, 1), padding=(1, 1), bias=False)\n",
       "      )\n",
       "      (denselayer9): _DenseLayer(\n",
       "        (norm1): BatchNorm2d(768, eps=1e-05, momentum=0.1, affine=True, track_running_stats=True)\n",
       "        (relu1): ReLU(inplace=True)\n",
       "        (conv1): Conv2d(768, 128, kernel_size=(1, 1), stride=(1, 1), bias=False)\n",
       "        (norm2): BatchNorm2d(128, eps=1e-05, momentum=0.1, affine=True, track_running_stats=True)\n",
       "        (relu2): ReLU(inplace=True)\n",
       "        (conv2): Conv2d(128, 32, kernel_size=(3, 3), stride=(1, 1), padding=(1, 1), bias=False)\n",
       "      )\n",
       "      (denselayer10): _DenseLayer(\n",
       "        (norm1): BatchNorm2d(800, eps=1e-05, momentum=0.1, affine=True, track_running_stats=True)\n",
       "        (relu1): ReLU(inplace=True)\n",
       "        (conv1): Conv2d(800, 128, kernel_size=(1, 1), stride=(1, 1), bias=False)\n",
       "        (norm2): BatchNorm2d(128, eps=1e-05, momentum=0.1, affine=True, track_running_stats=True)\n",
       "        (relu2): ReLU(inplace=True)\n",
       "        (conv2): Conv2d(128, 32, kernel_size=(3, 3), stride=(1, 1), padding=(1, 1), bias=False)\n",
       "      )\n",
       "      (denselayer11): _DenseLayer(\n",
       "        (norm1): BatchNorm2d(832, eps=1e-05, momentum=0.1, affine=True, track_running_stats=True)\n",
       "        (relu1): ReLU(inplace=True)\n",
       "        (conv1): Conv2d(832, 128, kernel_size=(1, 1), stride=(1, 1), bias=False)\n",
       "        (norm2): BatchNorm2d(128, eps=1e-05, momentum=0.1, affine=True, track_running_stats=True)\n",
       "        (relu2): ReLU(inplace=True)\n",
       "        (conv2): Conv2d(128, 32, kernel_size=(3, 3), stride=(1, 1), padding=(1, 1), bias=False)\n",
       "      )\n",
       "      (denselayer12): _DenseLayer(\n",
       "        (norm1): BatchNorm2d(864, eps=1e-05, momentum=0.1, affine=True, track_running_stats=True)\n",
       "        (relu1): ReLU(inplace=True)\n",
       "        (conv1): Conv2d(864, 128, kernel_size=(1, 1), stride=(1, 1), bias=False)\n",
       "        (norm2): BatchNorm2d(128, eps=1e-05, momentum=0.1, affine=True, track_running_stats=True)\n",
       "        (relu2): ReLU(inplace=True)\n",
       "        (conv2): Conv2d(128, 32, kernel_size=(3, 3), stride=(1, 1), padding=(1, 1), bias=False)\n",
       "      )\n",
       "      (denselayer13): _DenseLayer(\n",
       "        (norm1): BatchNorm2d(896, eps=1e-05, momentum=0.1, affine=True, track_running_stats=True)\n",
       "        (relu1): ReLU(inplace=True)\n",
       "        (conv1): Conv2d(896, 128, kernel_size=(1, 1), stride=(1, 1), bias=False)\n",
       "        (norm2): BatchNorm2d(128, eps=1e-05, momentum=0.1, affine=True, track_running_stats=True)\n",
       "        (relu2): ReLU(inplace=True)\n",
       "        (conv2): Conv2d(128, 32, kernel_size=(3, 3), stride=(1, 1), padding=(1, 1), bias=False)\n",
       "      )\n",
       "      (denselayer14): _DenseLayer(\n",
       "        (norm1): BatchNorm2d(928, eps=1e-05, momentum=0.1, affine=True, track_running_stats=True)\n",
       "        (relu1): ReLU(inplace=True)\n",
       "        (conv1): Conv2d(928, 128, kernel_size=(1, 1), stride=(1, 1), bias=False)\n",
       "        (norm2): BatchNorm2d(128, eps=1e-05, momentum=0.1, affine=True, track_running_stats=True)\n",
       "        (relu2): ReLU(inplace=True)\n",
       "        (conv2): Conv2d(128, 32, kernel_size=(3, 3), stride=(1, 1), padding=(1, 1), bias=False)\n",
       "      )\n",
       "      (denselayer15): _DenseLayer(\n",
       "        (norm1): BatchNorm2d(960, eps=1e-05, momentum=0.1, affine=True, track_running_stats=True)\n",
       "        (relu1): ReLU(inplace=True)\n",
       "        (conv1): Conv2d(960, 128, kernel_size=(1, 1), stride=(1, 1), bias=False)\n",
       "        (norm2): BatchNorm2d(128, eps=1e-05, momentum=0.1, affine=True, track_running_stats=True)\n",
       "        (relu2): ReLU(inplace=True)\n",
       "        (conv2): Conv2d(128, 32, kernel_size=(3, 3), stride=(1, 1), padding=(1, 1), bias=False)\n",
       "      )\n",
       "      (denselayer16): _DenseLayer(\n",
       "        (norm1): BatchNorm2d(992, eps=1e-05, momentum=0.1, affine=True, track_running_stats=True)\n",
       "        (relu1): ReLU(inplace=True)\n",
       "        (conv1): Conv2d(992, 128, kernel_size=(1, 1), stride=(1, 1), bias=False)\n",
       "        (norm2): BatchNorm2d(128, eps=1e-05, momentum=0.1, affine=True, track_running_stats=True)\n",
       "        (relu2): ReLU(inplace=True)\n",
       "        (conv2): Conv2d(128, 32, kernel_size=(3, 3), stride=(1, 1), padding=(1, 1), bias=False)\n",
       "      )\n",
       "    )\n",
       "    (norm5): BatchNorm2d(1024, eps=1e-05, momentum=0.1, affine=True, track_running_stats=True)\n",
       "  )\n",
       "  (classifier): Linear(in_features=1024, out_features=2, bias=True)\n",
       ")"
      ]
     },
     "execution_count": 84,
     "metadata": {},
     "output_type": "execute_result"
    }
   ],
   "source": [
    "from torchvision.models import densenet121, DenseNet121_Weights\n",
    "\n",
    "device = torch.device(\"cuda\" if torch.cuda.is_available() else \"cpu\")\n",
    "model_densenet = models.densenet121(pretrained=True)\n",
    "model_densenet.classifier = nn.Linear(model_densenet.classifier.in_features, 1)\n",
    "\n",
    "model_densenet.load_state_dict(torch.load('./densenet121-classification.pth', map_location=device))\n",
    "\n",
    "model_densenet.to(device)\n",
    "model_densenet.eval()"
   ]
  },
  {
   "cell_type": "markdown",
   "id": "91935106-6d3f-47b6-b23c-125dfbfb9c15",
   "metadata": {
    "id": "91935106-6d3f-47b6-b23c-125dfbfb9c15"
   },
   "source": [
    "## Compare performance across genders"
   ]
  },
  {
   "cell_type": "code",
   "execution_count": null,
   "id": "dc48f4da-1068-47e6-929c-b865b9745fa0",
   "metadata": {
    "id": "dc48f4da-1068-47e6-929c-b865b9745fa0"
   },
   "outputs": [],
   "source": [
    "def eval(model, eval_dataset, device,\n",
    "    threshold: float = 0.5,\n",
    "    name: str = \"Model\", ):\n",
    "    loader = DataLoader(eval_dataset, batch_size=32, num_workers=32, pin_memory=True)\n",
    "\n",
    "    model.eval()\n",
    "    model.to(device)\n",
    "\n",
    "    probs_list, labels_list, preds_list = [], [], []\n",
    "\n",
    "    with torch.no_grad():\n",
    "        for X, y in loader:\n",
    "            X = X.to(device)\n",
    "            logits = model(X)                  # shape [B, 1] (or [B])\n",
    "            probs  = torch.sigmoid(logits)     # shape [B, 1] or [B]\n",
    "            probs  = probs.view(-1)            # flatten to [B]\n",
    "\n",
    "            preds = (probs > threshold).long()\n",
    "\n",
    "            probs_list.extend(probs.cpu().numpy())\n",
    "            preds_list.extend(preds.cpu().numpy())\n",
    "            labels_list.extend(y.numpy())\n",
    "\n",
    "    probs_arr  = np.array(probs_list)\n",
    "    preds_arr  = np.array(preds_list)\n",
    "    labels_arr = np.array(labels_list)\n",
    "\n",
    "    # Compute metrics\n",
    "    acc     = accuracy_score(labels_arr, preds_arr)\n",
    "    prec    = precision_score(labels_arr, preds_arr, zero_division=0)\n",
    "    rec     = recall_score(labels_arr, preds_arr, zero_division=0)\n",
    "    f1      = f1_score(labels_arr, preds_arr, zero_division=0)\n",
    "    roc_auc = roc_auc_score(labels_arr, probs_arr)\n",
    "\n",
    "    metrics = {\n",
    "        'accuracy':  acc,\n",
    "        'precision': prec,\n",
    "        'recall':    rec,\n",
    "        'f1':        f1,\n",
    "        'roc_auc':   roc_auc\n",
    "    }\n",
    "\n",
    "    # Print\n",
    "    print(f\"--- {name} ---\")\n",
    "    print(f\"Accuracy : {acc:.4f}\")\n",
    "    print(f\"Precision: {prec:.4f}\")\n",
    "    print(f\"Recall   : {rec:.4f}\")\n",
    "    print(f\"F1-score : {f1:.4f}\")\n",
    "    print(f\"ROC AUC  : {roc_auc:.4f}\\n\")\n",
    "\n",
    "    # Plot ROC\n",
    "    display = RocCurveDisplay.from_predictions(\n",
    "        labels_arr,\n",
    "        probs_arr,\n",
    "        name=name,\n",
    "        plot_chance_level=True\n",
    "    )\n",
    "    display.ax_.set_title(f\"{name} ROC Curve\")\n",
    "    display.ax_.legend(frameon=False)\n",
    "\n",
    "    return metrics, probs_arr, labels_arr"
   ]
  },
  {
   "cell_type": "markdown",
   "id": "dQ8W4OUTyVMm",
   "metadata": {
    "id": "dQ8W4OUTyVMm"
   },
   "source": [
    "Performance achieved in previous week"
   ]
  },
  {
   "cell_type": "code",
   "execution_count": null,
   "id": "ad249fd8-e98b-4ad8-b42e-6af6ad923bca",
   "metadata": {
    "colab": {
     "base_uri": "https://localhost:8080/",
     "height": 594
    },
    "id": "ad249fd8-e98b-4ad8-b42e-6af6ad923bca",
    "outputId": "561541c9-afc5-41be-c597-f22967b3acc8"
   },
   "outputs": [
    {
     "name": "stdout",
     "output_type": "stream",
     "text": [
      "--- Model ---\n",
      "Accuracy : 0.8576\n",
      "Precision: 0.7288\n",
      "Recall   : 0.8366\n",
      "F1-score : 0.7790\n",
      "ROC AUC  : 0.9101\n",
      "\n"
     ]
    },
    {
     "data": {
      "image/png": "[encoded data removed]",
      "text/plain": [
       "<Figure size 640x480 with 1 Axes>"
      ]
     },
     "metadata": {},
     "output_type": "display_data"
    }
   ],
   "source": [
    "img_dir  = f'{DATA_PATH}/data/CXR8/images'\n",
    "\n",
    "eval_ds   = ChestXrayDataset(eval_df,   img_dir, transform=eval_transforms)\n",
    "_,_,_=eval(model, eval_ds, device)"
   ]
  },
  {
   "cell_type": "code",
   "execution_count": null,
   "id": "o0CAv0CxzDGP",
   "metadata": {
    "colab": {
     "base_uri": "https://localhost:8080/",
     "height": 441
    },
    "id": "o0CAv0CxzDGP",
    "outputId": "f4ad3432-4f14-4e9f-b61f-3e01a4d0d6d6"
   },
   "outputs": [
    {
     "data": {
      "text/html": [
       "<div>\n",
       "<style scoped>\n",
       "    .dataframe tbody tr th:only-of-type {\n",
       "        vertical-align: middle;\n",
       "    }\n",
       "\n",
       "    .dataframe tbody tr th {\n",
       "        vertical-align: top;\n",
       "    }\n",
       "\n",
       "    .dataframe thead th {\n",
       "        text-align: right;\n",
       "    }\n",
       "</style>\n",
       "<table border=\"1\" class=\"dataframe\">\n",
       "  <thead>\n",
       "    <tr style=\"text-align: right;\">\n",
       "      <th></th>\n",
       "      <th>Image Index</th>\n",
       "      <th>Finding Labels</th>\n",
       "      <th>Follow-up #</th>\n",
       "      <th>Patient ID</th>\n",
       "      <th>Patient Age</th>\n",
       "      <th>Patient Sex</th>\n",
       "      <th>View Position</th>\n",
       "      <th>OriginalImage[Width</th>\n",
       "      <th>Height]</th>\n",
       "      <th>OriginalImagePixelSpacing[x</th>\n",
       "      <th>y]</th>\n",
       "      <th>Binary Label</th>\n",
       "      <th>Age Group</th>\n",
       "    </tr>\n",
       "  </thead>\n",
       "  <tbody>\n",
       "    <tr>\n",
       "      <th>0</th>\n",
       "      <td>00008395_000.png</td>\n",
       "      <td>No Finding</td>\n",
       "      <td>0</td>\n",
       "      <td>8395</td>\n",
       "      <td>59</td>\n",
       "      <td>M</td>\n",
       "      <td>PA</td>\n",
       "      <td>2500</td>\n",
       "      <td>2048</td>\n",
       "      <td>0.168000</td>\n",
       "      <td>0.168000</td>\n",
       "      <td>0</td>\n",
       "      <td>50+</td>\n",
       "    </tr>\n",
       "    <tr>\n",
       "      <th>1</th>\n",
       "      <td>00022846_003.png</td>\n",
       "      <td>No Finding</td>\n",
       "      <td>4</td>\n",
       "      <td>22846</td>\n",
       "      <td>52</td>\n",
       "      <td>F</td>\n",
       "      <td>PA</td>\n",
       "      <td>2880</td>\n",
       "      <td>2937</td>\n",
       "      <td>0.143000</td>\n",
       "      <td>0.143000</td>\n",
       "      <td>0</td>\n",
       "      <td>50+</td>\n",
       "    </tr>\n",
       "    <tr>\n",
       "      <th>2</th>\n",
       "      <td>00027495_001.png</td>\n",
       "      <td>No Finding</td>\n",
       "      <td>1</td>\n",
       "      <td>27495</td>\n",
       "      <td>57</td>\n",
       "      <td>M</td>\n",
       "      <td>PA</td>\n",
       "      <td>2992</td>\n",
       "      <td>2991</td>\n",
       "      <td>0.143000</td>\n",
       "      <td>0.143000</td>\n",
       "      <td>0</td>\n",
       "      <td>50+</td>\n",
       "    </tr>\n",
       "    <tr>\n",
       "      <th>4</th>\n",
       "      <td>00026336_004.png</td>\n",
       "      <td>No Finding</td>\n",
       "      <td>4</td>\n",
       "      <td>26336</td>\n",
       "      <td>53</td>\n",
       "      <td>F</td>\n",
       "      <td>PA</td>\n",
       "      <td>2021</td>\n",
       "      <td>2021</td>\n",
       "      <td>0.194311</td>\n",
       "      <td>0.194311</td>\n",
       "      <td>0</td>\n",
       "      <td>50+</td>\n",
       "    </tr>\n",
       "    <tr>\n",
       "      <th>5</th>\n",
       "      <td>00022055_003.png</td>\n",
       "      <td>Effusion</td>\n",
       "      <td>3</td>\n",
       "      <td>22055</td>\n",
       "      <td>58</td>\n",
       "      <td>M</td>\n",
       "      <td>PA</td>\n",
       "      <td>2021</td>\n",
       "      <td>2021</td>\n",
       "      <td>0.194311</td>\n",
       "      <td>0.194311</td>\n",
       "      <td>1</td>\n",
       "      <td>50+</td>\n",
       "    </tr>\n",
       "    <tr>\n",
       "      <th>...</th>\n",
       "      <td>...</td>\n",
       "      <td>...</td>\n",
       "      <td>...</td>\n",
       "      <td>...</td>\n",
       "      <td>...</td>\n",
       "      <td>...</td>\n",
       "      <td>...</td>\n",
       "      <td>...</td>\n",
       "      <td>...</td>\n",
       "      <td>...</td>\n",
       "      <td>...</td>\n",
       "      <td>...</td>\n",
       "      <td>...</td>\n",
       "    </tr>\n",
       "    <tr>\n",
       "      <th>847</th>\n",
       "      <td>00001730_002.png</td>\n",
       "      <td>No Finding</td>\n",
       "      <td>6</td>\n",
       "      <td>1730</td>\n",
       "      <td>51</td>\n",
       "      <td>M</td>\n",
       "      <td>PA</td>\n",
       "      <td>2021</td>\n",
       "      <td>2021</td>\n",
       "      <td>0.194311</td>\n",
       "      <td>0.194311</td>\n",
       "      <td>0</td>\n",
       "      <td>50+</td>\n",
       "    </tr>\n",
       "    <tr>\n",
       "      <th>850</th>\n",
       "      <td>00005726_003.png</td>\n",
       "      <td>No Finding</td>\n",
       "      <td>3</td>\n",
       "      <td>5726</td>\n",
       "      <td>63</td>\n",
       "      <td>M</td>\n",
       "      <td>PA</td>\n",
       "      <td>2500</td>\n",
       "      <td>2048</td>\n",
       "      <td>0.168000</td>\n",
       "      <td>0.168000</td>\n",
       "      <td>0</td>\n",
       "      <td>50+</td>\n",
       "    </tr>\n",
       "    <tr>\n",
       "      <th>852</th>\n",
       "      <td>00021490_002.png</td>\n",
       "      <td>No Finding</td>\n",
       "      <td>0</td>\n",
       "      <td>21490</td>\n",
       "      <td>70</td>\n",
       "      <td>M</td>\n",
       "      <td>PA</td>\n",
       "      <td>3056</td>\n",
       "      <td>2528</td>\n",
       "      <td>0.139000</td>\n",
       "      <td>0.139000</td>\n",
       "      <td>0</td>\n",
       "      <td>50+</td>\n",
       "    </tr>\n",
       "    <tr>\n",
       "      <th>853</th>\n",
       "      <td>00014074_004.png</td>\n",
       "      <td>Effusion</td>\n",
       "      <td>4</td>\n",
       "      <td>14074</td>\n",
       "      <td>72</td>\n",
       "      <td>F</td>\n",
       "      <td>PA</td>\n",
       "      <td>2992</td>\n",
       "      <td>2991</td>\n",
       "      <td>0.143000</td>\n",
       "      <td>0.143000</td>\n",
       "      <td>1</td>\n",
       "      <td>50+</td>\n",
       "    </tr>\n",
       "    <tr>\n",
       "      <th>856</th>\n",
       "      <td>00018845_005.png</td>\n",
       "      <td>Effusion</td>\n",
       "      <td>5</td>\n",
       "      <td>18845</td>\n",
       "      <td>76</td>\n",
       "      <td>M</td>\n",
       "      <td>PA</td>\n",
       "      <td>2500</td>\n",
       "      <td>2048</td>\n",
       "      <td>0.168000</td>\n",
       "      <td>0.168000</td>\n",
       "      <td>1</td>\n",
       "      <td>50+</td>\n",
       "    </tr>\n",
       "  </tbody>\n",
       "</table>\n",
       "<p>391 rows × 13 columns</p>\n",
       "</div>"
      ],
      "text/plain": [
       "          Image Index Finding Labels  Follow-up #  Patient ID  Patient Age  \\\n",
       "0    00008395_000.png     No Finding            0        8395           59   \n",
       "1    00022846_003.png     No Finding            4       22846           52   \n",
       "2    00027495_001.png     No Finding            1       27495           57   \n",
       "4    00026336_004.png     No Finding            4       26336           53   \n",
       "5    00022055_003.png       Effusion            3       22055           58   \n",
       "..                ...            ...          ...         ...          ...   \n",
       "847  00001730_002.png     No Finding            6        1730           51   \n",
       "850  00005726_003.png     No Finding            3        5726           63   \n",
       "852  00021490_002.png     No Finding            0       21490           70   \n",
       "853  00014074_004.png       Effusion            4       14074           72   \n",
       "856  00018845_005.png       Effusion            5       18845           76   \n",
       "\n",
       "    Patient Sex View Position  OriginalImage[Width  Height]  \\\n",
       "0             M            PA                 2500     2048   \n",
       "1             F            PA                 2880     2937   \n",
       "2             M            PA                 2992     2991   \n",
       "4             F            PA                 2021     2021   \n",
       "5             M            PA                 2021     2021   \n",
       "..          ...           ...                  ...      ...   \n",
       "847           M            PA                 2021     2021   \n",
       "850           M            PA                 2500     2048   \n",
       "852           M            PA                 3056     2528   \n",
       "853           F            PA                 2992     2991   \n",
       "856           M            PA                 2500     2048   \n",
       "\n",
       "     OriginalImagePixelSpacing[x        y]  Binary Label Age Group  \n",
       "0                       0.168000  0.168000             0       50+  \n",
       "1                       0.143000  0.143000             0       50+  \n",
       "2                       0.143000  0.143000             0       50+  \n",
       "4                       0.194311  0.194311             0       50+  \n",
       "5                       0.194311  0.194311             1       50+  \n",
       "..                           ...       ...           ...       ...  \n",
       "847                     0.194311  0.194311             0       50+  \n",
       "850                     0.168000  0.168000             0       50+  \n",
       "852                     0.139000  0.139000             0       50+  \n",
       "853                     0.143000  0.143000             1       50+  \n",
       "856                     0.168000  0.168000             1       50+  \n",
       "\n",
       "[391 rows x 13 columns]"
      ]
     },
     "execution_count": 126,
     "metadata": {},
     "output_type": "execute_result"
    }
   ],
   "source": [
    "eval_df.loc[eval_df['Age Group']=='50+']"
   ]
  },
  {
   "cell_type": "code",
   "execution_count": null,
   "id": "e1ea3b0b-136f-48e5-841e-18057be0c566",
   "metadata": {
    "colab": {
     "base_uri": "https://localhost:8080/",
     "height": 594
    },
    "id": "e1ea3b0b-136f-48e5-841e-18057be0c566",
    "outputId": "e85c60bd-c6cb-473f-e435-cf9e59b1e20a"
   },
   "outputs": [
    {
     "name": "stdout",
     "output_type": "stream",
     "text": [
      "--- Model ---\n",
      "Accuracy : 0.8619\n",
      "Precision: 0.7627\n",
      "Recall   : 0.9184\n",
      "F1-score : 0.8333\n",
      "ROC AUC  : 0.9196\n",
      "\n"
     ]
    },
    {
     "data": {
      "image/png": "[encoded data removed]",
      "text/plain": [
       "<Figure size 640x480 with 1 Axes>"
      ]
     },
     "metadata": {},
     "output_type": "display_data"
    }
   ],
   "source": [
    "eval_dataset = ChestXrayDataset(eval_df.loc[eval_df['Age Group']=='50+'], img_dir, transform=eval_transforms)\n",
    "_,_,_=eval(model, eval_dataset, device)"
   ]
  },
  {
   "cell_type": "code",
   "execution_count": null,
   "id": "ivTFtFzB7SPd",
   "metadata": {
    "colab": {
     "base_uri": "https://localhost:8080/",
     "height": 594
    },
    "id": "ivTFtFzB7SPd",
    "outputId": "b52ca31d-ea3a-4c46-f703-f8d927aa181f"
   },
   "outputs": [
    {
     "name": "stdout",
     "output_type": "stream",
     "text": [
      "--- Model ---\n",
      "Accuracy : 0.8541\n",
      "Precision: 0.6780\n",
      "Recall   : 0.7273\n",
      "F1-score : 0.7018\n",
      "ROC AUC  : 0.8919\n",
      "\n"
     ]
    },
    {
     "data": {
      "image/png": "[encoded data removed]",
      "text/plain": [
       "<Figure size 640x480 with 1 Axes>"
      ]
     },
     "metadata": {},
     "output_type": "display_data"
    }
   ],
   "source": [
    "eval_dataset = ChestXrayDataset(eval_df.loc[eval_df['Age Group']=='<50'], img_dir, transform=eval_transforms)\n",
    "_,_,_=eval(model, eval_dataset, device)"
   ]
  },
  {
   "cell_type": "markdown",
   "id": "y4kmyFajW5Nx",
   "metadata": {
    "id": "y4kmyFajW5Nx"
   },
   "source": [
    "Write a function to compute the Average Odds and Equal Opportunity"
   ]
  },
  {
   "cell_type": "code",
   "execution_count": null,
   "id": "1d583b4b-bd05-4a2a-9692-3ee44ae5253b",
   "metadata": {
    "id": "1d583b4b-bd05-4a2a-9692-3ee44ae5253b"
   },
   "outputs": [],
   "source": [
    "from sklearn.metrics import confusion_matrix\n",
    "\n",
    "def compute_AOD_EOD_from_split(y_true_F, y_pred_F, y_true_M, y_pred_M):\n",
    "    def group_rates(y_true, y_pred):\n",
    "        tn, fp, fn, tp = confusion_matrix(y_true, y_pred, labels=[0, 1]).ravel()\n",
    "        tpr = tp / (tp + fn + 1e-6)\n",
    "        fpr = fp / (fp + tn + 1e-6)\n",
    "        return tpr, fpr\n",
    "\n",
    "    tpr_F, fpr_F = group_rates(y_true_F, y_pred_F)\n",
    "    tpr_M, fpr_M = group_rates(y_true_M, y_pred_M)\n",
    "\n",
    "    # Equal Opportunity Difference = |TPR_F - TPR_M|\n",
    "    EOD = abs(tpr_F - tpr_M)\n",
    "\n",
    "    # Average Odds Difference = 0.5 * (|FPR_F - FPR_M| + |TPR_F - TPR_M|)\n",
    "    AOD = 0.5 * (abs(fpr_F - fpr_M) + EOD)\n",
    "\n",
    "    return {\n",
    "        'TPR_F': tpr_F,\n",
    "        'TPR_M': tpr_M,\n",
    "        'FPR_F': fpr_F,\n",
    "        'FPR_M': fpr_M,\n",
    "        'EOD': EOD,\n",
    "        'AOD': AOD\n",
    "    }"
   ]
  },
  {
   "cell_type": "markdown",
   "id": "YqA3UkR3W0LP",
   "metadata": {
    "id": "YqA3UkR3W0LP"
   },
   "source": [
    "Now we need to capture the predictions from our dataset\n",
    "\n"
   ]
  },
  {
   "cell_type": "code",
   "execution_count": null,
   "id": "3bf27159-1218-4bc9-a1d5-0f5b5e1975ce",
   "metadata": {
    "id": "3bf27159-1218-4bc9-a1d5-0f5b5e1975ce"
   },
   "outputs": [],
   "source": [
    "def get_predictions_and_labels(\n",
    "    model,\n",
    "    dataframe,\n",
    "    data_path,\n",
    "    device,\n",
    "    threshold: float = 0.5\n",
    "):\n",
    "    dataset = ChestXrayDataset(dataframe, data_path, transform=eval_transforms)\n",
    "\n",
    "    model = model.to(device)\n",
    "    model.eval()\n",
    "\n",
    "    results = []\n",
    "\n",
    "    with torch.no_grad():\n",
    "        for idx in range(len(dataset)):\n",
    "            img_t, _ = dataset[idx]\n",
    "\n",
    "            row       = dataframe.iloc[idx]\n",
    "            case      = int(row['Patient ID'])\n",
    "            slice_idx = row['Image Index']\n",
    "            true_label = int(row['Binary Label'])\n",
    "\n",
    "            # forward pass\n",
    "            img_b  = img_t.unsqueeze(0).to(device)\n",
    "            logit  = model(img_b)\n",
    "            prob   = torch.sigmoid(logit).item()\n",
    "            pred   = int(prob > threshold)\n",
    "\n",
    "            results.append({\n",
    "                'Patient ID'   : case,\n",
    "                'Image Index'  : slice_idx,\n",
    "                'True Label'   : true_label,\n",
    "                'Prediction'   : pred,\n",
    "                'Probability_1': prob\n",
    "            })\n",
    "\n",
    "    return pd.DataFrame(results)"
   ]
  },
  {
   "cell_type": "code",
   "execution_count": null,
   "id": "ViYbRU8D8H6h",
   "metadata": {
    "id": "ViYbRU8D8H6h"
   },
   "outputs": [],
   "source": [
    "slice_results_df = get_predictions_and_labels(model, eval_df, img_dir, device)\n",
    "\n",
    "patient_predictions = slice_results_df.groupby('Patient ID')['Probability_1'].mean().reset_index()\n",
    "patient_predictions['Patient_Prediction'] = (patient_predictions['Probability_1'] >= 0.5).astype(int)\n",
    "\n",
    "test_df_with_preds = pd.merge(eval_df, patient_predictions[['Patient ID', 'Patient_Prediction']], on='Patient ID', how='left')\n",
    "test_df_with_preds.dropna(subset=['Patient_Prediction'], inplace=True)\n"
   ]
  },
  {
   "cell_type": "markdown",
   "id": "GVIKo82W8aGe",
   "metadata": {
    "id": "GVIKo82W8aGe"
   },
   "source": [
    "Separate true labels and patient-level predictions by sex"
   ]
  },
  {
   "cell_type": "code",
   "execution_count": null,
   "id": "Sk78u_Mh8cP6",
   "metadata": {
    "id": "Sk78u_Mh8cP6"
   },
   "outputs": [],
   "source": [
    "test_df_F = test_df_with_preds.loc[test_df_with_preds['Patient Sex'] == 'F']\n",
    "test_df_M = test_df_with_preds.loc[test_df_with_preds['Patient Sex'] == 'M']\n",
    "\n",
    "binary_labels_F = test_df_F['Binary Label'].tolist()\n",
    "binary_preds_F = test_df_F['Patient_Prediction'].tolist()\n",
    "\n",
    "binary_labels_M = test_df_M['Binary Label'].tolist()\n",
    "binary_preds_M = test_df_M['Patient_Prediction'].tolist()"
   ]
  },
  {
   "cell_type": "markdown",
   "id": "KaG4RFOd8MB5",
   "metadata": {
    "id": "KaG4RFOd8MB5"
   },
   "source": [
    "Compute and print fairness metrics"
   ]
  },
  {
   "cell_type": "code",
   "execution_count": null,
   "id": "PsoGntzZ8KO2",
   "metadata": {
    "colab": {
     "base_uri": "https://localhost:8080/"
    },
    "id": "PsoGntzZ8KO2",
    "outputId": "51bb69fc-f5e6-459f-dd17-0a49959ae780"
   },
   "outputs": [
    {
     "data": {
      "text/plain": [
       "{'TPR_F': 0.8571428503401362,\n",
       " 'TPR_M': 0.8244274746226911,\n",
       " 'FPR_F': 0.1764705875432526,\n",
       " 'FPR_M': 0.11014492721697122,\n",
       " 'EOD': 0.032715375717445094,\n",
       " 'AOD': 0.04952051802186323}"
      ]
     },
     "execution_count": 157,
     "metadata": {},
     "output_type": "execute_result"
    }
   ],
   "source": [
    "fairness_metrics = compute_AOD_EOD_from_split(binary_labels_F, binary_preds_F, binary_labels_M, binary_preds_M)\n",
    "fairness_metrics"
   ]
  },
  {
   "cell_type": "markdown",
   "id": "fwbYya1V2nwY",
   "metadata": {
    "id": "fwbYya1V2nwY"
   },
   "source": [
    "### Fairness metrics (sex comparison)\n",
    "\n",
    "- True‑positive rate (TPR)\n",
    "  - Female: 0.857  \n",
    "  - Male:   0.824  \n",
    "  - Gap (F – M): +0.033\n",
    "\n",
    "- False‑positive rate (FPR)\n",
    "  - Female: 0.176  \n",
    "  - Male:   0.110  \n",
    "  - Gap (F – M): +0.066\n",
    "\n",
    "- Equal‑Opportunity Difference (EOD)  \n",
    "  |TPR_F − TPR_M| = 0.033\n",
    "\n",
    "- Average Odds Difference (AOD)  \n",
    "  0.5 × (|FPR_F − FPR_M| + EOD) = 0.050\n",
    "\n",
    "### How to read this\n",
    "\n",
    "- Sensitivity is about 3 % points higher for women; the model catches positives slightly more often in females.  \n",
    "- False positives are ~7 % points higher for women; more women without disease are flagged.  \n",
    "- AOD ≈ 0.05 is a modest disparity; many studies treat <0.10 as “reasonably fair,” but acceptability depends on clinical cost–benefit.\n",
    "\n",
    "### Suggested next steps\n",
    "\n",
    "- Compute confidence intervals or statistical tests for TPR/FPR gaps.  \n",
    "- Consider group‑specific thresholds if policy allows.  \n",
    "- Check calibration curves separately for men and women.  \n",
    "- Discuss with clinicians whether the higher FPR in women is acceptable.  \n",
    "- If needed, explore re‑weighting or fairness‑aware training to reduce gaps.\n"
   ]
  },
  {
   "cell_type": "markdown",
   "id": "XkEZZRp6964d",
   "metadata": {
    "id": "XkEZZRp6964d"
   },
   "source": [
    "## Pick your group"
   ]
  },
  {
   "cell_type": "code",
   "execution_count": null,
   "id": "73oRBhXf996U",
   "metadata": {
    "id": "73oRBhXf996U"
   },
   "outputs": [],
   "source": [
    "# pick your protected attribute column here\n",
    "PROTECTED_COL = 'Patient Sex'   # or Patient Age, etc.\n",
    "\n",
    "# Build a dict: case_number(int) -> group(str or int)\n",
    "case2group = (\n",
    "    eval_df\n",
    "    .set_index('Patient ID')[PROTECTED_COL]\n",
    "    .to_dict()\n",
    ")\n",
    "\n",
    "# Optionally encode groups as ints\n",
    "groups_unique = sorted(list(set(case2group.values())))\n",
    "group2id = {g:i for i,g in enumerate(groups_unique)}\n"
   ]
  },
  {
   "cell_type": "markdown",
   "id": "ibaXp1S79YeD",
   "metadata": {
    "id": "ibaXp1S79YeD"
   },
   "source": [
    "As the standard `ClassificationDataset` already constructs self.samples, we can just wrap it to capture and return group id:"
   ]
  },
  {
   "cell_type": "code",
   "execution_count": null,
   "id": "3c5c4282-1487-4958-8837-8ad32cedbe08",
   "metadata": {
    "id": "3c5c4282-1487-4958-8837-8ad32cedbe08"
   },
   "outputs": [],
   "source": [
    "#@title GroupedDataset\n",
    "class GroupedDataset(torch.utils.data.Dataset):\n",
    "    def __init__(self, base_dataset, case2group, group2id):\n",
    "        self.base = base_dataset\n",
    "        self.case2group = case2group\n",
    "        self.group2id = group2id\n",
    "\n",
    "    def __len__(self):\n",
    "        return len(self.base)\n",
    "\n",
    "    def __getitem__(self, idx):\n",
    "        img, mask, y = self.base[idx]          # (img_t, mask_t, label)\n",
    "        case_str, z, _ = self.base.samples[idx]\n",
    "        case_num = int(case_str)\n",
    "        g = self.case2group.get(case_num, None)\n",
    "        g_id = self.group2id[g] if g is not None else -1\n",
    "        return img, y, g_id"
   ]
  },
  {
   "cell_type": "code",
   "execution_count": null,
   "id": "zm1-T7l89rwV",
   "metadata": {
    "id": "zm1-T7l89rwV"
   },
   "outputs": [],
   "source": [
    "train_ds = ChestXrayDataset(train_df, img_dir, transform=train_transforms)\n",
    "val_ds   = ChestXrayDataset(val_df,   img_dir, transform=val_transforms)\n",
    "test_ds  = ChestXrayDataset(eval_df,  img_dir, transform=val_transforms)\n",
    "\n",
    "# wrap them\n",
    "grouped_train = GroupedDataset(train_ds, case2group, group2id)\n",
    "grouped_val   = GroupedDataset(val_ds,   case2group, group2id)\n",
    "grouped_test  = GroupedDataset(test_ds,  case2group, group2id)\n",
    "\n",
    "# loaders\n",
    "train_loader = DataLoader(grouped_train, batch_size=32, shuffle=True,  num_workers=8, pin_memory=True)\n",
    "val_loader   = DataLoader(grouped_val,   batch_size=32, shuffle=False, num_workers=4, pin_memory=True)\n",
    "test_loader  = DataLoader(grouped_test,  batch_size=32, shuffle=False, num_workers=4, pin_memory=True)\n"
   ]
  },
  {
   "cell_type": "code",
   "execution_count": null,
   "id": "njBDNyfB3xUe",
   "metadata": {
    "colab": {
     "base_uri": "https://localhost:8080/",
     "height": 161
    },
    "id": "njBDNyfB3xUe",
    "outputId": "ff447432-a305-43d0-c6a6-6293c0b7674d"
   },
   "outputs": [
    {
     "name": "stdout",
     "output_type": "stream",
     "text": [
      "Overall accuracy: 0.8192\n"
     ]
    },
    {
     "data": {
      "text/html": [
       "<div>\n",
       "<style scoped>\n",
       "    .dataframe tbody tr th:only-of-type {\n",
       "        vertical-align: middle;\n",
       "    }\n",
       "\n",
       "    .dataframe tbody tr th {\n",
       "        vertical-align: top;\n",
       "    }\n",
       "\n",
       "    .dataframe thead th {\n",
       "        text-align: right;\n",
       "    }\n",
       "</style>\n",
       "<table border=\"1\" class=\"dataframe\">\n",
       "  <thead>\n",
       "    <tr style=\"text-align: right;\">\n",
       "      <th></th>\n",
       "      <th>n</th>\n",
       "      <th>acc</th>\n",
       "      <th>tpr</th>\n",
       "      <th>fpr</th>\n",
       "      <th>ppv</th>\n",
       "      <th>ppos</th>\n",
       "    </tr>\n",
       "    <tr>\n",
       "      <th>group</th>\n",
       "      <th></th>\n",
       "      <th></th>\n",
       "      <th></th>\n",
       "      <th></th>\n",
       "      <th></th>\n",
       "      <th></th>\n",
       "    </tr>\n",
       "  </thead>\n",
       "  <tbody>\n",
       "    <tr>\n",
       "      <th>F</th>\n",
       "      <td>18.0</td>\n",
       "      <td>0.777778</td>\n",
       "      <td>0.909091</td>\n",
       "      <td>0.428571</td>\n",
       "      <td>0.769231</td>\n",
       "      <td>0.722222</td>\n",
       "    </tr>\n",
       "    <tr>\n",
       "      <th>M</th>\n",
       "      <td>17.0</td>\n",
       "      <td>0.764706</td>\n",
       "      <td>0.750000</td>\n",
       "      <td>0.200000</td>\n",
       "      <td>0.900000</td>\n",
       "      <td>0.588235</td>\n",
       "    </tr>\n",
       "  </tbody>\n",
       "</table>\n",
       "</div>"
      ],
      "text/plain": [
       "          n       acc       tpr       fpr       ppv      ppos\n",
       "group                                                        \n",
       "F      18.0  0.777778  0.909091  0.428571  0.769231  0.722222\n",
       "M      17.0  0.764706  0.750000  0.200000  0.900000  0.588235"
      ]
     },
     "execution_count": 170,
     "metadata": {},
     "output_type": "execute_result"
    }
   ],
   "source": [
    "import torch\n",
    "import numpy as np\n",
    "import pandas as pd\n",
    "from torch.utils.data import DataLoader\n",
    "from sklearn.metrics import confusion_matrix\n",
    "\n",
    "def eval_by_group(\n",
    "    model,\n",
    "    dataset,\n",
    "    case2group,\n",
    "    group2id,\n",
    "    device,\n",
    "    batch_size: int = 32,\n",
    "    threshold: float = 0.5\n",
    "):\n",
    "    \"\"\"\n",
    "    Evaluate a single‑logit binary model by patient‐group, tolerating missing mappings.\n",
    "\n",
    "    Returns:\n",
    "        y_true, y_pred, y_prob, g_all, results_dict\n",
    "    \"\"\"\n",
    "    pid_array = dataset.df['Patient ID'].to_numpy()\n",
    "    grp_array = []\n",
    "    for pid in pid_array:\n",
    "        grp_name = case2group.get(int(pid))\n",
    "        if grp_name is None or grp_name not in group2id:\n",
    "            grp_array.append(-1)\n",
    "        else:\n",
    "            grp_array.append(group2id[grp_name])\n",
    "    grp_array = np.array(grp_array, dtype=int)\n",
    "    num_groups = len(group2id)\n",
    "\n",
    "    loader = DataLoader(\n",
    "        dataset,\n",
    "        batch_size=batch_size,\n",
    "        shuffle=False,\n",
    "        num_workers=4,\n",
    "        pin_memory=True\n",
    "    )\n",
    "\n",
    "    model = model.to(device).eval()\n",
    "    y_true, y_pred, y_prob, g_all = [], [], [], []\n",
    "\n",
    "    with torch.no_grad():\n",
    "        offset = 0\n",
    "        for X, y in loader:\n",
    "            B = X.size(0)\n",
    "            X = X.to(device)\n",
    "\n",
    "            # forward→sigmoid\n",
    "            logits = model(X).view(-1)       # [B]\n",
    "            probs  = torch.sigmoid(logits)   # [B]\n",
    "            probs_np = probs.cpu().numpy()\n",
    "            pred_np  = (probs_np >= threshold).astype(int)\n",
    "\n",
    "            # collect\n",
    "            y_true.append(y.numpy())\n",
    "            y_pred.append(pred_np)\n",
    "            y_prob.append(probs_np)\n",
    "            g_all.append(grp_array[offset:offset+B])\n",
    "            offset += B\n",
    "\n",
    "    # concatenate\n",
    "    y_true = np.concatenate(y_true)\n",
    "    y_pred = np.concatenate(y_pred)\n",
    "    y_prob = np.concatenate(y_prob)\n",
    "    g_all  = np.concatenate(g_all)\n",
    "\n",
    "    # overall\n",
    "    overall_acc = (y_true == y_pred).mean()\n",
    "    print(f\"Overall accuracy: {overall_acc:.4f}\")\n",
    "\n",
    "    # per‑group (skip ID = -1)\n",
    "    results = {}\n",
    "    for gid in range(num_groups):\n",
    "        mask = (g_all == gid)\n",
    "        if not mask.any():\n",
    "            continue\n",
    "\n",
    "        yt = y_true[mask]\n",
    "        yp = y_pred[mask]\n",
    "        tn, fp, fn, tp = confusion_matrix(yt, yp, labels=[0,1]).ravel()\n",
    "\n",
    "        results[gid] = {\n",
    "            'n'   : int(mask.sum()),\n",
    "            'acc' : (tp+tn)/(tp+tn+fp+fn),\n",
    "            'tpr' : tp/(tp+fn+1e-9),\n",
    "            'fpr' : fp/(fp+tn+1e-9),\n",
    "            'ppv' : tp/(tp+fp+1e-9),\n",
    "            'ppos': yp.mean()\n",
    "        }\n",
    "\n",
    "    return y_true, y_pred, y_prob, g_all, results\n",
    "\n",
    "y_true, y_pred, y_prob, g_all, res = eval_by_group(\n",
    "    model,\n",
    "    val_ds,\n",
    "    case2group,\n",
    "    group2id,\n",
    "    device,\n",
    "    batch_size=32,\n",
    "    threshold=0.5\n",
    ")\n",
    "\n",
    "# Build DataFrame of results\n",
    "group_df = (\n",
    "    pd.DataFrame(res).T\n",
    "      .assign(group=[groups_unique[gid] for gid in res.keys()])\n",
    "      .set_index('group')\n",
    ")\n",
    "group_df"
   ]
  },
  {
   "cell_type": "code",
   "execution_count": null,
   "id": "sSMICLLS-O_V",
   "metadata": {
    "colab": {
     "base_uri": "https://localhost:8080/"
    },
    "id": "sSMICLLS-O_V",
    "outputId": "cc4e877d-2e4d-4a40-f576-a7c38d59603d"
   },
   "outputs": [
    {
     "name": "stdout",
     "output_type": "stream",
     "text": [
      "Equalized Odds gap (TPR+FPR span): 0.388\n",
      "Demographic Parity gap (rate span): 0.134\n"
     ]
    }
   ],
   "source": [
    "def fairness_gaps(results):\n",
    "    # results[gid] = {tpr, fpr, ppos, ...}\n",
    "    tprs = [v['tpr'] for v in results.values()]\n",
    "    fprs = [v['fpr'] for v in results.values()]\n",
    "    ppos = [v['ppos'] for v in results.values()]\n",
    "\n",
    "    eo_gap  = max(tprs) - min(tprs) + max(fprs) - min(fprs)  # Equalized Odds: sum TPR/FPR ranges\n",
    "    dp_gap  = max(ppos) - min(ppos)                          # DP: rate of positive predictions\n",
    "    return eo_gap, dp_gap\n",
    "\n",
    "eo_gap, dp_gap = fairness_gaps(res)\n",
    "print(f\"Equalized Odds gap (TPR+FPR span): {eo_gap:.3f}\")\n",
    "print(f\"Demographic Parity gap (rate span): {dp_gap:.3f}\")\n"
   ]
  },
  {
   "cell_type": "markdown",
   "id": "M2EPGWt74z7D",
   "metadata": {
    "id": "M2EPGWt74z7D"
   },
   "source": [
    "After you’ve computed per‑group TPRs, FPRs, and PPOS (positive prediction rates), those two “gaps” give you a single summary number for how much your model’s performance or decision rates differ across groups:\n",
    "\n",
    "- A smaller EO gap (ideally zero) means you’re satisfying “equalized odds” more closely: your model is equally likely to correctly flag positives and equally likely to false‑alarm negatives in each group.\n",
    "- A smaller DP gap (again, ideally zero) means you’re giving each group the same overall positive‑prediction rate, regardless of true labels."
   ]
  },
  {
   "cell_type": "markdown",
   "id": "QgoHjz73_sfO",
   "metadata": {
    "id": "QgoHjz73_sfO"
   },
   "source": [
    "## Post‑processing thresholds (no retraining)\n",
    "\n",
    "Fit per‑group thresholds to equalize TPR or FPR on the validation set. Then apply them to test."
   ]
  },
  {
   "cell_type": "code",
   "execution_count": null,
   "id": "oh1pRJd87TEs",
   "metadata": {
    "id": "oh1pRJd87TEs"
   },
   "outputs": [],
   "source": [
    "#@title Utils\n",
    "import numpy as np\n",
    "import torch\n",
    "import torch.nn.functional as F\n",
    "from sklearn.metrics import confusion_matrix\n",
    "\n",
    "def fit_group_thresholds(\n",
    "    y_true: np.ndarray,\n",
    "    y_prob: np.ndarray,\n",
    "    g_all:  np.ndarray,\n",
    "    target: str = 'tpr',          # 'tpr' or 'fpr'\n",
    "    desired: float = None         # if None → maximize Youden J; else match this value\n",
    "):\n",
    "    \"\"\"\n",
    "    y_true, y_prob, g_all: arrays of the SAME length\n",
    "    target: which metric to match (or maximize Youden if desired is None)\n",
    "    desired: global target for TPR/FPR, or None\n",
    "    \"\"\"\n",
    "    thresholds = {}\n",
    "    for gid in np.unique(g_all):\n",
    "        mask = (g_all == gid)\n",
    "        yt   = y_true[mask]\n",
    "        yp   = y_prob[mask]\n",
    "\n",
    "        # initialize\n",
    "        if desired is None:\n",
    "            # we want to maximize (TPR - FPR)\n",
    "            best_obj = -np.inf\n",
    "        else:\n",
    "            # we want to minimize distance to desired\n",
    "            best_obj =  np.inf\n",
    "\n",
    "        best_thr = 0.5\n",
    "\n",
    "        # search\n",
    "        for thr in np.linspace(0, 1, 201):\n",
    "            preds = (yp >= thr).astype(int)\n",
    "            tn, fp, fn, tp = confusion_matrix(yt, preds, labels=[0,1]).ravel()\n",
    "            tpr = tp / (tp + fn + 1e-9)\n",
    "            fpr = fp / (fp + tn + 1e-9)\n",
    "\n",
    "            if desired is None:\n",
    "                obj = tpr - fpr          # Youden J\n",
    "                if obj > best_obj:\n",
    "                    best_obj, best_thr = obj, thr\n",
    "            else:\n",
    "                metric = tpr if target=='tpr' else fpr\n",
    "                obj = abs(metric - desired)\n",
    "                if obj < best_obj:\n",
    "                    best_obj, best_thr = obj, thr\n",
    "\n",
    "        thresholds[gid] = best_thr\n",
    "\n",
    "    return thresholds\n",
    "\n",
    "def apply_group_thresholds(\n",
    "    model: torch.nn.Module,\n",
    "    loader,\n",
    "    device: torch.device,\n",
    "    thresholds: dict,\n",
    "    default: float = 0.5\n",
    "):\n",
    "    model = model.to(device).eval()\n",
    "    all_y, all_p, all_g = [], [], []\n",
    "\n",
    "    with torch.no_grad():\n",
    "        for X, y, g in loader:\n",
    "            X = X.to(device)\n",
    "            logits = model(X).view(-1)\n",
    "            probs  = torch.sigmoid(logits).cpu().numpy()\n",
    "            g_np   = g.numpy()\n",
    "\n",
    "            pred = np.zeros_like(probs, dtype=int)\n",
    "            for gid in np.unique(g_np):\n",
    "                thr  = thresholds.get(gid, default)\n",
    "                mask = (g_np == gid)\n",
    "                pred[mask] = (probs[mask] >= thr).astype(int)\n",
    "\n",
    "            all_y.append(y.numpy())\n",
    "            all_p.append(pred)\n",
    "            all_g.append(g_np)\n",
    "\n",
    "    y_true = np.concatenate(all_y)\n",
    "    y_pred = np.concatenate(all_p)\n",
    "    g_all  = np.concatenate(all_g)\n",
    "    return y_true, y_pred, g_all\n"
   ]
  },
  {
   "cell_type": "markdown",
   "id": "g2FGVEdeWVXJ",
   "metadata": {
    "id": "g2FGVEdeWVXJ"
   },
   "source": [
    "We define a `GroupedDataset` for easier manipulation and retrieval of the groups"
   ]
  },
  {
   "cell_type": "code",
   "execution_count": null,
   "id": "VEt2jfFY841q",
   "metadata": {
    "id": "VEt2jfFY841q"
   },
   "outputs": [],
   "source": [
    "from torch.utils.data import Dataset\n",
    "\n",
    "class GroupedDataset(Dataset):\n",
    "    def __init__(self, base_dataset, case2group, group2id):\n",
    "        \"\"\"\n",
    "        base_dataset:   ChestXrayDataset (returns img, label)\n",
    "        case2group:     dict patient_id -> group_name\n",
    "        group2id:       dict group_name -> integer ID\n",
    "        \"\"\"\n",
    "        self.base       = base_dataset\n",
    "        self.case2group = case2group\n",
    "        self.group2id   = group2id\n",
    "        # grab the DataFrame directly so we can read Patient ID\n",
    "        self.df         = base_dataset.df\n",
    "\n",
    "    def __len__(self):\n",
    "        return len(self.base)\n",
    "\n",
    "    def __getitem__(self, idx):\n",
    "        # 1) pull image & label from the base\n",
    "        img, label = self.base[idx]            # <-- two values only\n",
    "\n",
    "        # 2) get the patient ID for this slice\n",
    "        pid = int(self.df.iloc[idx]['Patient ID'])\n",
    "\n",
    "        # 3) map to group name & then to group ID (or -1 if missing)\n",
    "        gname = self.case2group.get(pid, None)\n",
    "        gid   = self.group2id.get(gname, -1)\n",
    "\n",
    "        # 4) return exactly 3 items\n",
    "        return img, label, gid\n",
    "\n",
    "\n",
    "grouped_test  = GroupedDataset(test_ds, case2group, group2id)\n",
    "test_loader   = DataLoader(grouped_test, batch_size=32, shuffle=False, num_workers=32, pin_memory=True)\n",
    "y_true_test, y_pred_test, g_test = apply_group_thresholds(\n",
    "    model,\n",
    "    test_loader,    # yields (X, y, g_id)\n",
    "    device,\n",
    "    thresholds=ths,\n",
    "    default=0.5\n",
    ")\n"
   ]
  },
  {
   "cell_type": "markdown",
   "id": "WP7Ah4Fe-3wP",
   "metadata": {
    "id": "WP7Ah4Fe-3wP"
   },
   "source": [
    "Now, we compute the usual global scores:"
   ]
  },
  {
   "cell_type": "code",
   "execution_count": null,
   "id": "GzZpI-BR-aID",
   "metadata": {
    "colab": {
     "base_uri": "https://localhost:8080/"
    },
    "id": "GzZpI-BR-aID",
    "outputId": "eb5bcd11-b721-4bea-b189-c38dd045b22f"
   },
   "outputs": [
    {
     "name": "stdout",
     "output_type": "stream",
     "text": [
      "Test Accuracy : 0.8285\n",
      "Test Precision: 0.6599\n",
      "Test Recall   : 0.8833\n",
      "Test F1-score : 0.7554\n"
     ]
    }
   ],
   "source": [
    "from sklearn.metrics import accuracy_score, precision_score, recall_score, f1_score, roc_auc_score\n",
    "\n",
    "acc    = accuracy_score (y_true_test, y_pred_test)\n",
    "prec   = precision_score(y_true_test, y_pred_test, zero_division=0)\n",
    "rec    = recall_score   (y_true_test, y_pred_test, zero_division=0)\n",
    "f1     = f1_score       (y_true_test, y_pred_test, zero_division=0)\n",
    "\n",
    "print(f\"Test Accuracy : {acc:.4f}\")\n",
    "print(f\"Test Precision: {prec:.4f}\")\n",
    "print(f\"Test Recall   : {rec:.4f}\")\n",
    "print(f\"Test F1-score : {f1:.4f}\")\n"
   ]
  },
  {
   "cell_type": "markdown",
   "id": "6cJ5-BFy-ige",
   "metadata": {
    "id": "6cJ5-BFy-ige"
   },
   "source": [
    "Build the same kind of group‐level table you did on validation"
   ]
  },
  {
   "cell_type": "code",
   "execution_count": null,
   "id": "Mh1VYc-Z-jDg",
   "metadata": {
    "colab": {
     "base_uri": "https://localhost:8080/"
    },
    "id": "Mh1VYc-Z-jDg",
    "outputId": "b8f2d55e-7734-4cc1-dbfe-f90f15b5c62b"
   },
   "outputs": [
    {
     "name": "stdout",
     "output_type": "stream",
     "text": [
      "           n       acc       tpr       fpr       ppv      ppos\n",
      "group                                                         \n",
      "F      381.0  0.824147  0.904762  0.215686  0.674556  0.443570\n",
      "M      476.0  0.831933  0.862595  0.179710  0.645714  0.367647\n"
     ]
    }
   ],
   "source": [
    "import numpy as np\n",
    "import pandas as pd\n",
    "from sklearn.metrics import confusion_matrix\n",
    "\n",
    "group_results = {}\n",
    "for gid in np.unique(g_test):\n",
    "    mask = (g_test == gid)\n",
    "    yt, yp = y_true_test[mask], y_pred_test[mask]\n",
    "    tn, fp, fn, tp = confusion_matrix(yt, yp, labels=[0,1]).ravel()\n",
    "\n",
    "    group_results[gid] = {\n",
    "        'n'   : int(mask.sum()),\n",
    "        'acc' : (tp + tn) / (tp+tn+fp+fn),\n",
    "        'tpr' : tp / (tp + fn + 1e-9),\n",
    "        'fpr' : fp / (fp + tn + 1e-9),\n",
    "        'ppv' : tp / (tp + fp + 1e-9),\n",
    "        'ppos': yp.mean()\n",
    "    }\n",
    "\n",
    "group_df_test = (\n",
    "    pd.DataFrame(group_results).T\n",
    "      .assign(group=[groups_unique[gid] for gid in group_results.keys()])\n",
    "      .set_index('group')\n",
    ")\n",
    "print(group_df_test)\n"
   ]
  },
  {
   "cell_type": "markdown",
   "id": "7Bw400NOWNZv",
   "metadata": {
    "id": "7Bw400NOWNZv"
   },
   "source": [
    "Verify the Equalized Odds and Demographic Parity gap"
   ]
  },
  {
   "cell_type": "code",
   "execution_count": null,
   "id": "mxuGNiA0-lzr",
   "metadata": {
    "colab": {
     "base_uri": "https://localhost:8080/"
    },
    "id": "mxuGNiA0-lzr",
    "outputId": "df2a7bad-7ad0-407d-9c49-a31a0facc22e"
   },
   "outputs": [
    {
     "name": "stdout",
     "output_type": "stream",
     "text": [
      "Test Equalized Odds gap:    0.078\n",
      "Test Demographic Parity gap: 0.076\n"
     ]
    }
   ],
   "source": [
    "eo_gap_test, dp_gap_test = fairness_gaps(group_results)\n",
    "print(f\"Test Equalized Odds gap:    {eo_gap_test:.3f}\")\n",
    "print(f\"Test Demographic Parity gap: {dp_gap_test:.3f}\")\n"
   ]
  },
  {
   "cell_type": "markdown",
   "id": "ag-SwYN2WM0m",
   "metadata": {
    "id": "ag-SwYN2WM0m"
   },
   "source": [
    "Plot the ROC curve for the `Sex`: `Female` and `Male`"
   ]
  },
  {
   "cell_type": "code",
   "execution_count": null,
   "id": "pgXanQg9_HFT",
   "metadata": {
    "colab": {
     "base_uri": "https://localhost:8080/",
     "height": 694
    },
    "id": "pgXanQg9_HFT",
    "outputId": "0776e9c3-7860-462b-b93d-da8b84009f2d"
   },
   "outputs": [
    {
     "name": "stdout",
     "output_type": "stream",
     "text": [
      "Global ROC AUC: 0.9101\n",
      "        roc_auc\n",
      "group          \n",
      "F      0.901276\n",
      "M      0.914437\n"
     ]
    },
    {
     "data": {
      "image/png": "[encoded data removed]",
      "text/plain": [
       "<Figure size 800x600 with 1 Axes>"
      ]
     },
     "metadata": {},
     "output_type": "display_data"
    }
   ],
   "source": [
    "import numpy as np\n",
    "import matplotlib.pyplot as plt\n",
    "from sklearn.metrics import roc_auc_score, RocCurveDisplay\n",
    "\n",
    "y_true_test, y_prob_test, g_test = [], [], []\n",
    "model.eval().to(device)\n",
    "with torch.no_grad():\n",
    "    for X, y, g in test_loader:\n",
    "        X = X.to(device)\n",
    "        logits = model(X).view(-1)\n",
    "        probs  = torch.sigmoid(logits).cpu().numpy()\n",
    "        y_true_test.append( y.numpy() )\n",
    "        y_prob_test.append( probs )\n",
    "        g_test.append(       g.numpy() )\n",
    "\n",
    "y_true_test = np.concatenate(y_true_test)\n",
    "y_prob_test = np.concatenate(y_prob_test)\n",
    "g_test      = np.concatenate(g_test)\n",
    "\n",
    "global_auc = roc_auc_score(y_true_test, y_prob_test)\n",
    "print(f\"Global ROC AUC: {global_auc:.4f}\")\n",
    "\n",
    "auc_per_group = {}\n",
    "for gid in np.unique(g_test):\n",
    "    mask = (g_test == gid)\n",
    "    if mask.sum() == 0:\n",
    "        continue\n",
    "    auc = roc_auc_score(y_true_test[mask], y_prob_test[mask])\n",
    "    auc_per_group[gid] = auc\n",
    "\n",
    "# map back to group names\n",
    "import pandas as pd\n",
    "group_auc_df = (\n",
    "    pd.DataFrame.from_dict(auc_per_group, orient='index', columns=['roc_auc'])\n",
    "      .assign(group=[groups_unique[gid] for gid in auc_per_group.keys()])\n",
    "      .set_index('group')\n",
    ")\n",
    "print(group_auc_df)\n",
    "\n",
    "plt.figure(figsize=(8,6))\n",
    "ax = plt.gca()\n",
    "for gid, auc in auc_per_group.items():\n",
    "    mask = (g_test == gid)\n",
    "    RocCurveDisplay.from_predictions(\n",
    "        y_true_test[mask],\n",
    "        y_prob_test[mask],\n",
    "        name=f\"{groups_unique[gid]} (AUC={auc:.2f})\",\n",
    "        ax=ax,\n",
    "        plot_chance_level=False\n",
    "    )\n",
    "plt.plot([0,1], [0,1], 'k--', label='Chance')\n",
    "plt.xlabel('False Positive Rate')\n",
    "plt.ylabel('True Positive Rate')\n",
    "plt.title('Per‑Group ROC Curves on Test Set')\n",
    "plt.legend(frameon=False)\n",
    "plt.tight_layout()\n",
    "plt.show()\n"
   ]
  },
  {
   "cell_type": "markdown",
   "id": "T5pGZGk9-YWv",
   "metadata": {
    "id": "T5pGZGk9-YWv"
   },
   "source": [
    "## Bonus: Mitigation strategy using RandomSampler\n",
    "\n",
    "Build a per-sample weight for the *train* split. Give each (group, y) a weight inversely proportional to its frequency. A `WeightedRandomSampler` for class balance can be extended to group×label:"
   ]
  },
  {
   "cell_type": "code",
   "execution_count": null,
   "id": "ygow2mzZ-ZAY",
   "metadata": {
    "colab": {
     "base_uri": "https://localhost:8080/"
    },
    "id": "ygow2mzZ-ZAY",
    "outputId": "3df0ad64-1b46-4932-b6a8-40caafcc051f"
   },
   "outputs": [
    {
     "name": "stdout",
     "output_type": "stream",
     "text": [
      "Warning: dropping 2433 slices with unmapped Patient IDs\n"
     ]
    }
   ],
   "source": [
    "from collections import Counter\n",
    "import numpy as np\n",
    "import torch\n",
    "from torch.utils.data import DataLoader, WeightedRandomSampler\n",
    "\n",
    "# 1) Find & drop any Patient IDs with no group mapping\n",
    "all_pids       = set(train_df['Patient ID'])\n",
    "mapped_pids    = set(case2group.keys())\n",
    "missing_pids   = all_pids - mapped_pids\n",
    "if missing_pids:\n",
    "    print(f\"Warning: dropping {len(missing_pids)} slices with unmapped Patient IDs\")\n",
    "    mask_valid = train_df['Patient ID'].isin(mapped_pids)\n",
    "    train_df_valid = train_df[mask_valid].reset_index(drop=True)\n",
    "else:\n",
    "    train_df_valid = train_df.copy().reset_index(drop=True)\n",
    "\n",
    "# 2) Rebuild your dataset on the filtered DataFrame\n",
    "train_ds = ChestXrayDataset(train_df_valid, DATA_PATH, transform=train_transforms)\n",
    "\n",
    "# 3) Compute group IDs & labels arrays (now guaranteed to align and be non‐empty)\n",
    "groups = (\n",
    "    train_df_valid['Patient ID']\n",
    "      .map(case2group)     # patient_id → group_name\n",
    "      .map(group2id)       # group_name → integer\n",
    "      .to_numpy(dtype=int)\n",
    ")\n",
    "labels = train_df_valid['Binary Label'].to_numpy(dtype=int)\n",
    "\n",
    "# 4) Count (group, label) frequencies and build inverse‐freq weights\n",
    "pair_counts = Counter(zip(groups, labels))\n",
    "weights = np.array([\n",
    "    1.0 / pair_counts[(g, l)]\n",
    "    for g, l in zip(groups, labels)\n",
    "], dtype=np.float32)\n",
    "\n",
    "# 5) Create the WeightedRandomSampler\n",
    "sampler = WeightedRandomSampler(\n",
    "    weights=weights,\n",
    "    num_samples=len(weights),\n",
    "    replacement=True\n",
    ")\n",
    "\n",
    "# 6) Build your DataLoader with sampler (no shuffle!)\n",
    "train_loader = DataLoader(\n",
    "    train_ds,\n",
    "    batch_size=32,\n",
    "    sampler=sampler,\n",
    "    num_workers=8,\n",
    "    pin_memory=True,\n",
    "    persistent_workers=True\n",
    ")\n"
   ]
  }
 ],
 "metadata": {
  "colab": {
   "collapsed_sections": [
    "T5pGZGk9-YWv"
   ],
   "provenance": []
  },
  "kernelspec": {
   "display_name": "Python 3 (ipykernel)",
   "language": "python",
   "name": "python3"
  },
  "language_info": {
   "codemirror_mode": {
    "name": "ipython",
    "version": 3
   },
   "file_extension": ".py",
   "mimetype": "text/x-python",
   "name": "python",
   "nbconvert_exporter": "python",
   "pygments_lexer": "ipython3",
   "version": "3.8.16"
  }
 },
 "nbformat": 4,
 "nbformat_minor": 5
}
